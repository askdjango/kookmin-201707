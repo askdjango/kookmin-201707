{
 "cells": [
  {
   "cell_type": "code",
   "execution_count": 1,
   "metadata": {
    "collapsed": true
   },
   "outputs": [],
   "source": [
    "name = \"Chinseok\""
   ]
  },
  {
   "cell_type": "code",
   "execution_count": 2,
   "metadata": {
    "collapsed": true
   },
   "outputs": [],
   "source": [
    "name = 'Chinseok'"
   ]
  },
  {
   "cell_type": "code",
   "execution_count": 4,
   "metadata": {
    "collapsed": true
   },
   "outputs": [],
   "source": [
    "name = \"\"\"Chinseok\"\"\""
   ]
  },
  {
   "cell_type": "code",
   "execution_count": 6,
   "metadata": {},
   "outputs": [
    {
     "data": {
      "text/plain": [
       "'abcd'"
      ]
     },
     "execution_count": 6,
     "metadata": {},
     "output_type": "execute_result"
    }
   ],
   "source": [
    "\"a\" + \"b\" + \"c\" + \"d\""
   ]
  },
  {
   "cell_type": "code",
   "execution_count": 8,
   "metadata": {},
   "outputs": [],
   "source": [
    "lyrics = (\"왜 내일을 오늘 골라야만 해\\n\" +\n",
    "    \"내일 일을 오늘 내가 어떻게 아는데\\n\" +\n",
    "    \"흐려져 가는 길과 나의 꿈들\")"
   ]
  },
  {
   "cell_type": "code",
   "execution_count": 10,
   "metadata": {},
   "outputs": [
    {
     "name": "stdout",
     "output_type": "stream",
     "text": [
      "왜 내일을 오늘 골라야만 해\n",
      "내일 일을 오늘 내가 어떻게 아는데\n",
      "흐려져 가는 길과 나의 꿈들\n"
     ]
    }
   ],
   "source": [
    "print(lyrics)"
   ]
  },
  {
   "cell_type": "code",
   "execution_count": 11,
   "metadata": {
    "collapsed": true
   },
   "outputs": [],
   "source": [
    "lyrics = \"\"\"왜 내일을 오늘 골라야만 해\n",
    "내일 일을 오늘 내가 어떻게 아는데\n",
    "흐려져 가는 길과 나의 꿈들\"\"\""
   ]
  },
  {
   "cell_type": "code",
   "execution_count": 14,
   "metadata": {},
   "outputs": [
    {
     "name": "stdout",
     "output_type": "stream",
     "text": [
      "\n",
      "철수야. 오랜만에 편지를 쓴다.\n",
      "보고싶다. 친구야.\n",
      "이번 주 일요일에 보자. - 너의 친구로부터.\n",
      "\n"
     ]
    }
   ],
   "source": [
    "message = \"\"\"\n",
    "{name}야. 오랜만에 편지를 쓴다.\n",
    "보고싶다. 친구야.\n",
    "{when}에 보자. - 너의 {friend}로부터.\n",
    "\"\"\".format(name=\"철수\", when='이번 주 일요일', friend='친구')\n",
    "print(message)"
   ]
  },
  {
   "cell_type": "code",
   "execution_count": null,
   "metadata": {
    "collapsed": true
   },
   "outputs": [],
   "source": []
  }
 ],
 "metadata": {
  "kernelspec": {
   "display_name": "Python 3",
   "language": "python",
   "name": "python3"
  },
  "language_info": {
   "codemirror_mode": {
    "name": "ipython",
    "version": 3
   },
   "file_extension": ".py",
   "mimetype": "text/x-python",
   "name": "python",
   "nbconvert_exporter": "python",
   "pygments_lexer": "ipython3",
   "version": "3.6.1"
  }
 },
 "nbformat": 4,
 "nbformat_minor": 2
}
