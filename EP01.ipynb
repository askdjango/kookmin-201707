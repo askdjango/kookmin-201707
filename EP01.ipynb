{
 "cells": [
  {
   "cell_type": "code",
   "execution_count": 1,
   "metadata": {
    "collapsed": true
   },
   "outputs": [],
   "source": [
    "name = \"Chinseok\""
   ]
  },
  {
   "cell_type": "code",
   "execution_count": 2,
   "metadata": {
    "collapsed": true
   },
   "outputs": [],
   "source": [
    "name = 'Chinseok'"
   ]
  },
  {
   "cell_type": "code",
   "execution_count": 4,
   "metadata": {
    "collapsed": true
   },
   "outputs": [],
   "source": [
    "name = \"\"\"Chinseok\"\"\""
   ]
  },
  {
   "cell_type": "code",
   "execution_count": 6,
   "metadata": {},
   "outputs": [
    {
     "data": {
      "text/plain": [
       "'abcd'"
      ]
     },
     "execution_count": 6,
     "metadata": {},
     "output_type": "execute_result"
    }
   ],
   "source": [
    "\"a\" + \"b\" + \"c\" + \"d\""
   ]
  },
  {
   "cell_type": "code",
   "execution_count": 8,
   "metadata": {},
   "outputs": [],
   "source": [
    "lyrics = (\"왜 내일을 오늘 골라야만 해\\n\" +\n",
    "    \"내일 일을 오늘 내가 어떻게 아는데\\n\" +\n",
    "    \"흐려져 가는 길과 나의 꿈들\")"
   ]
  },
  {
   "cell_type": "code",
   "execution_count": 10,
   "metadata": {},
   "outputs": [
    {
     "name": "stdout",
     "output_type": "stream",
     "text": [
      "왜 내일을 오늘 골라야만 해\n",
      "내일 일을 오늘 내가 어떻게 아는데\n",
      "흐려져 가는 길과 나의 꿈들\n"
     ]
    }
   ],
   "source": [
    "print(lyrics)"
   ]
  },
  {
   "cell_type": "code",
   "execution_count": 11,
   "metadata": {
    "collapsed": true
   },
   "outputs": [],
   "source": [
    "lyrics = \"\"\"왜 내일을 오늘 골라야만 해\n",
    "내일 일을 오늘 내가 어떻게 아는데\n",
    "흐려져 가는 길과 나의 꿈들\"\"\""
   ]
  },
  {
   "cell_type": "code",
   "execution_count": 14,
   "metadata": {},
   "outputs": [
    {
     "name": "stdout",
     "output_type": "stream",
     "text": [
      "\n",
      "철수야. 오랜만에 편지를 쓴다.\n",
      "보고싶다. 친구야.\n",
      "이번 주 일요일에 보자. - 너의 친구로부터.\n",
      "\n"
     ]
    }
   ],
   "source": [
    "message = \"\"\"\n",
    "{name}야. 오랜만에 편지를 쓴다.\n",
    "보고싶다. 친구야.\n",
    "{when}에 보자. - 너의 {friend}로부터.\n",
    "\"\"\".format(name=\"철수\", when='이번 주 일요일', friend='친구')\n",
    "print(message)"
   ]
  },
  {
   "cell_type": "markdown",
   "metadata": {},
   "source": [
    "## 문자열 형식 지정자"
   ]
  },
  {
   "cell_type": "code",
   "execution_count": 16,
   "metadata": {},
   "outputs": [
    {
     "data": {
      "text/plain": [
       "'이름 = 공유, 영화 = 도깨비, 음식 = 떡'"
      ]
     },
     "execution_count": 16,
     "metadata": {},
     "output_type": "execute_result"
    }
   ],
   "source": [
    "'이름 = {}, 영화 = {}, 음식 = {}'.format(\"공유\", \"도깨비\", \"떡\")"
   ]
  },
  {
   "cell_type": "code",
   "execution_count": 18,
   "metadata": {},
   "outputs": [
    {
     "ename": "IndexError",
     "evalue": "tuple index out of range",
     "output_type": "error",
     "traceback": [
      "\u001b[0;31m---------------------------------------------------------------------------\u001b[0m",
      "\u001b[0;31mIndexError\u001b[0m                                Traceback (most recent call last)",
      "\u001b[0;32m<ipython-input-18-8f306285f9e6>\u001b[0m in \u001b[0;36m<module>\u001b[0;34m()\u001b[0m\n\u001b[0;32m----> 1\u001b[0;31m \u001b[0;34m'이름 = {}, 영화 = {}, {}, {} '\u001b[0m\u001b[0;34m.\u001b[0m\u001b[0mformat\u001b[0m\u001b[0;34m(\u001b[0m\u001b[0;34m\"공유\"\u001b[0m\u001b[0;34m,\u001b[0m \u001b[0;34m\"도깨비\"\u001b[0m\u001b[0;34m,\u001b[0m \u001b[0;34m\"떡\"\u001b[0m\u001b[0;34m)\u001b[0m\u001b[0;34m\u001b[0m\u001b[0m\n\u001b[0m",
      "\u001b[0;31mIndexError\u001b[0m: tuple index out of range"
     ]
    }
   ],
   "source": [
    "'이름 = {}, 영화 = {}, {}, {} '.format(\"공유\", \"도깨비\", \"떡\")"
   ]
  },
  {
   "cell_type": "code",
   "execution_count": 19,
   "metadata": {},
   "outputs": [
    {
     "data": {
      "text/plain": [
       "'이름 = 공유, 영화 = 도깨비, 음식 = 떡'"
      ]
     },
     "execution_count": 19,
     "metadata": {},
     "output_type": "execute_result"
    }
   ],
   "source": [
    "'이름 = {0}, 영화 = {1}, 음식 = {2}'.format(\"공유\", \"도깨비\", \"떡\")"
   ]
  },
  {
   "cell_type": "code",
   "execution_count": 20,
   "metadata": {},
   "outputs": [
    {
     "data": {
      "text/plain": [
       "'이름 = 떡, 영화 = 도깨비, 음식 = 공유'"
      ]
     },
     "execution_count": 20,
     "metadata": {},
     "output_type": "execute_result"
    }
   ],
   "source": [
    "'이름 = {2}, 영화 = {1}, 음식 = {0}'.format(\"공유\", \"도깨비\", \"떡\")"
   ]
  },
  {
   "cell_type": "code",
   "execution_count": 21,
   "metadata": {},
   "outputs": [
    {
     "data": {
      "text/plain": [
       "'이름 = 떡, 영화 = 도깨비, 음식 = 떡'"
      ]
     },
     "execution_count": 21,
     "metadata": {},
     "output_type": "execute_result"
    }
   ],
   "source": [
    "'이름 = {2}, 영화 = {1}, 음식 = {2}'.format(\"공유\", \"도깨비\", \"떡\")"
   ]
  },
  {
   "cell_type": "code",
   "execution_count": 22,
   "metadata": {},
   "outputs": [
    {
     "data": {
      "text/plain": [
       "'이름 = 공유, 영화 = 도깨비, 음식 = 떡'"
      ]
     },
     "execution_count": 22,
     "metadata": {},
     "output_type": "execute_result"
    }
   ],
   "source": [
    "'이름 = {name}, 영화 = {movie}, 음식 = {food}'.format(name=\"공유\", movie=\"도깨비\", food=\"떡\")"
   ]
  },
  {
   "cell_type": "code",
   "execution_count": null,
   "metadata": {
    "collapsed": true
   },
   "outputs": [],
   "source": []
  }
 ],
 "metadata": {
  "kernelspec": {
   "display_name": "Python 3",
   "language": "python",
   "name": "python3"
  },
  "language_info": {
   "codemirror_mode": {
    "name": "ipython",
    "version": 3
   },
   "file_extension": ".py",
   "mimetype": "text/x-python",
   "name": "python",
   "nbconvert_exporter": "python",
   "pygments_lexer": "ipython3",
   "version": "3.6.1"
  }
 },
 "nbformat": 4,
 "nbformat_minor": 2
}
