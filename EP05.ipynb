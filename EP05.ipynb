{
 "cells": [
  {
   "cell_type": "markdown",
   "metadata": {},
   "source": [
    "## 정규 표현식"
   ]
  },
  {
   "cell_type": "code",
   "execution_count": 5,
   "metadata": {},
   "outputs": [
    {
     "data": {
      "text/plain": [
       "<_sre.SRE_Match object; span=(0, 19), match='1234-1234-1234-1234'>"
      ]
     },
     "execution_count": 5,
     "metadata": {},
     "output_type": "execute_result"
    }
   ],
   "source": [
    "# 퀴즈 #1 : 신용카드 번호 16자리 확인하는 정규표현식을 작성하세요.\n",
    "\n",
    "import re\n",
    "\n",
    "re.match(r'^\\d\\d\\d\\d-\\d\\d\\d\\d-\\d\\d\\d\\d-\\d\\d\\d\\d$', '1234-1234-1234-1234')"
   ]
  },
  {
   "cell_type": "code",
   "execution_count": 6,
   "metadata": {},
   "outputs": [
    {
     "data": {
      "text/plain": [
       "<_sre.SRE_Match object; span=(0, 19), match='1234-1234-1234-1234'>"
      ]
     },
     "execution_count": 6,
     "metadata": {},
     "output_type": "execute_result"
    }
   ],
   "source": [
    "re.match(r'^\\d{4}-\\d{4}-\\d{4}-\\d{4}$', '1234-1234-1234-1234')"
   ]
  },
  {
   "cell_type": "code",
   "execution_count": 14,
   "metadata": {},
   "outputs": [
    {
     "data": {
      "text/plain": [
       "<_sre.SRE_Match object; span=(0, 14), match='900618-1692244'>"
      ]
     },
     "execution_count": 14,
     "metadata": {},
     "output_type": "execute_result"
    }
   ],
   "source": [
    "# 퀴즈 #2 : 90년생, 남자의 주민번호를 확인하는 정규 표현식을 작성하세요.\n",
    "\n",
    "# 900618-1692244\n",
    "\n",
    "re.match(r\"^90[01]\\d[0123]\\d-1\\d{6}$\", \"900618-1692244\")"
   ]
  },
  {
   "cell_type": "code",
   "execution_count": 15,
   "metadata": {
    "collapsed": true
   },
   "outputs": [],
   "source": [
    "# 퀴즈 #3 : Hex color code를 모두 추출하는 정규 표현식\n",
    "\n",
    "html = \"\"\"\n",
    "<!doctype html>\n",
    "<html>\n",
    "    <head>\n",
    "        <meta charset=\"utf-8\" />\n",
    "        <title>RGB Colors</title>\n",
    "    </head>\n",
    "    <body>\n",
    "        <h1>RGB Colors</h1>\n",
    "        <ul>\n",
    "            <li>Red : #FF0000</li>\n",
    "            <li>Green : #00FF00</li>\n",
    "            <li>Blue : #0000FF</li>\n",
    "        </ul>\n",
    "    </body>\n",
    "</html>\n",
    "\"\"\""
   ]
  },
  {
   "cell_type": "code",
   "execution_count": 16,
   "metadata": {},
   "outputs": [
    {
     "data": {
      "text/plain": [
       "['#FF0000', '#00FF00', '#0000FF']"
      ]
     },
     "execution_count": 16,
     "metadata": {},
     "output_type": "execute_result"
    }
   ],
   "source": [
    "import re\n",
    "\n",
    "re.findall(r'#[0-9a-fA-F]{6}', html)"
   ]
  },
  {
   "cell_type": "markdown",
   "metadata": {},
   "source": [
    "## 로또 번호 생성"
   ]
  },
  {
   "cell_type": "code",
   "execution_count": 43,
   "metadata": {},
   "outputs": [
    {
     "name": "stdout",
     "output_type": "stream",
     "text": [
      "당첨번호 : [2, 6, 10, 22, 30, 45]\n",
      "보너스 : 15\n"
     ]
    }
   ],
   "source": [
    "import random\n",
    "\n",
    "numbers = random.sample(range(1, 46), 7)\n",
    "result, bonus = numbers[:6], numbers[-1]\n",
    "print('당첨번호 :', sorted(result))\n",
    "print('보너스 :', bonus)"
   ]
  },
  {
   "cell_type": "code",
   "execution_count": 42,
   "metadata": {},
   "outputs": [
    {
     "name": "stdout",
     "output_type": "stream",
     "text": [
      "당첨번호 : [4, 20, 26, 28, 32, 45]\n",
      "보너스 : 36\n"
     ]
    }
   ],
   "source": [
    "numbers = []\n",
    "while True:\n",
    "    number = random.randint(1, 45)\n",
    "    if number not in numbers:\n",
    "        numbers.append(number)\n",
    "        if len(numbers) == 7:\n",
    "            break\n",
    "\n",
    "result, bonus = numbers[:6], numbers[-1]\n",
    "print('당첨번호 :', sorted(result))\n",
    "print('보너스 :', bonus)"
   ]
  },
  {
   "cell_type": "code",
   "execution_count": 45,
   "metadata": {},
   "outputs": [
    {
     "name": "stdout",
     "output_type": "stream",
     "text": [
      "당첨번호 : [7, 9, 21, 28, 32, 42]\n",
      "보너스 : 22\n"
     ]
    }
   ],
   "source": [
    "numbers = list(range(1, 46))\n",
    "random.shuffle(numbers)\n",
    "result, bonus = numbers[:6], numbers[6]\n",
    "print('당첨번호 :', sorted(result))\n",
    "print('보너스 :', bonus)"
   ]
  },
  {
   "cell_type": "markdown",
   "metadata": {},
   "source": [
    "## 번호 맞추기 스무고개"
   ]
  },
  {
   "cell_type": "code",
   "execution_count": null,
   "metadata": {
    "collapsed": true
   },
   "outputs": [],
   "source": [
    "number = ???  # 프로그램이 1~100 범위의 수를 랜덤하게 지정해주면 !!!\n",
    "\n",
    "for i in range(20):  # 20번 안에 맞추기 !!!\n",
    "    ???"
   ]
  },
  {
   "cell_type": "markdown",
   "metadata": {},
   "source": [
    "## 지정 문자열 내 단어수를 세어주는 프로그램"
   ]
  },
  {
   "cell_type": "code",
   "execution_count": 46,
   "metadata": {
    "collapsed": true
   },
   "outputs": [],
   "source": [
    "mystring = \"\"\"\n",
    "Shimmie shimmie Ko Ko Bop\n",
    "I think I like it\n",
    "긴장은 down down\n",
    "부끄러 말고 \n",
    "어지러운 마음속에 내가 들어가\n",
    "익숙한 듯 부드럽게 네게 번져가\n",
    "Ah woo 고요한 밤이야 \n",
    "Ah woo 널 위한 밤이야\n",
    "참을 수가 없어 빠져가 Yeah yeah \n",
    "너의 몸짓에 난 취해가 Yeah yeah\n",
    "네가 알던 뻔한 모습의 나를 잊어 오늘\n",
    "숨겨둔 본능이 Shimmie up\n",
    "\"\"\""
   ]
  },
  {
   "cell_type": "markdown",
   "metadata": {},
   "source": [
    "# 실행 예\n",
    "\n",
    "+ Yeah : 2회\n",
    "+ yeah : 2회\n",
    "+ ...\n",
    "\n",
    "Hint : `문자열.split()`함수는 화이트스페이스를 구분자로 하여, 문자열을 쪼개어 리스트를 생성"
   ]
  },
  {
   "cell_type": "code",
   "execution_count": null,
   "metadata": {
    "collapsed": true
   },
   "outputs": [],
   "source": []
  }
 ],
 "metadata": {
  "kernelspec": {
   "display_name": "Python 3",
   "language": "python",
   "name": "python3"
  },
  "language_info": {
   "codemirror_mode": {
    "name": "ipython",
    "version": 3
   },
   "file_extension": ".py",
   "mimetype": "text/x-python",
   "name": "python",
   "nbconvert_exporter": "python",
   "pygments_lexer": "ipython3",
   "version": "3.6.1"
  }
 },
 "nbformat": 4,
 "nbformat_minor": 2
}
