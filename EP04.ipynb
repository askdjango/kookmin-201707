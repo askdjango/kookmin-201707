{
 "cells": [
  {
   "cell_type": "code",
   "execution_count": 2,
   "metadata": {},
   "outputs": [
    {
     "data": {
      "text/plain": [
       "11"
      ]
     },
     "execution_count": 2,
     "metadata": {},
     "output_type": "execute_result"
    }
   ],
   "source": [
    "len(\"안녕하세요. 세상아.\")  # 유니코드(str) 문자열"
   ]
  },
  {
   "cell_type": "code",
   "execution_count": 3,
   "metadata": {},
   "outputs": [
    {
     "name": "stdout",
     "output_type": "stream",
     "text": [
      "안녕하세\n"
     ]
    }
   ],
   "source": [
    "message = \"안녕하세요. 세상아.\"[:4]\n",
    "print(message)"
   ]
  },
  {
   "cell_type": "code",
   "execution_count": 5,
   "metadata": {},
   "outputs": [
    {
     "name": "stdout",
     "output_type": "stream",
     "text": [
      "27\n"
     ]
    }
   ],
   "source": [
    "message = \"안녕하세요. 세상아.\".encode(\"utf8\")  # UTF8 문자열 (bytes)\n",
    "print(len(message))  # 바이트 수"
   ]
  },
  {
   "cell_type": "code",
   "execution_count": 10,
   "metadata": {},
   "outputs": [
    {
     "name": "stdout",
     "output_type": "stream",
     "text": [
      "안-녕하세\n"
     ]
    }
   ],
   "source": [
    "message = \"안-녕하세요. 세상아.\".encode(\"utf8\")\n",
    "print(message[:13].decode(\"utf8\"))"
   ]
  },
  {
   "cell_type": "markdown",
   "metadata": {
    "collapsed": true
   },
   "source": [
    "## ascii"
   ]
  },
  {
   "cell_type": "code",
   "execution_count": 1,
   "metadata": {},
   "outputs": [
    {
     "data": {
      "text/plain": [
       "48"
      ]
     },
     "execution_count": 1,
     "metadata": {},
     "output_type": "execute_result"
    }
   ],
   "source": [
    "ord('0')  # ascii code"
   ]
  },
  {
   "cell_type": "code",
   "execution_count": 2,
   "metadata": {},
   "outputs": [
    {
     "data": {
      "text/plain": [
       "(97, 65)"
      ]
     },
     "execution_count": 2,
     "metadata": {},
     "output_type": "execute_result"
    }
   ],
   "source": [
    "ord('a'), ord('A')"
   ]
  },
  {
   "cell_type": "code",
   "execution_count": 3,
   "metadata": {},
   "outputs": [
    {
     "data": {
      "text/plain": [
       "('a', 'A')"
      ]
     },
     "execution_count": 3,
     "metadata": {},
     "output_type": "execute_result"
    }
   ],
   "source": [
    "chr(97), chr(65)"
   ]
  },
  {
   "cell_type": "code",
   "execution_count": 5,
   "metadata": {},
   "outputs": [
    {
     "name": "stdout",
     "output_type": "stream",
     "text": [
      "0 '\\x00'\n",
      "1 '\\x01'\n",
      "2 '\\x02'\n",
      "3 '\\x03'\n",
      "4 '\\x04'\n",
      "5 '\\x05'\n",
      "6 '\\x06'\n",
      "7 '\\x07'\n",
      "8 '\\x08'\n",
      "9 '\\t'\n",
      "10 '\\n'\n",
      "11 '\\x0b'\n",
      "12 '\\x0c'\n",
      "13 '\\r'\n",
      "14 '\\x0e'\n",
      "15 '\\x0f'\n",
      "16 '\\x10'\n",
      "17 '\\x11'\n",
      "18 '\\x12'\n",
      "19 '\\x13'\n",
      "20 '\\x14'\n",
      "21 '\\x15'\n",
      "22 '\\x16'\n",
      "23 '\\x17'\n",
      "24 '\\x18'\n",
      "25 '\\x19'\n",
      "26 '\\x1a'\n",
      "27 '\\x1b'\n",
      "28 '\\x1c'\n",
      "29 '\\x1d'\n",
      "30 '\\x1e'\n",
      "31 '\\x1f'\n",
      "32 ' '\n",
      "33 '!'\n",
      "34 '\"'\n",
      "35 '#'\n",
      "36 '$'\n",
      "37 '%'\n",
      "38 '&'\n",
      "39 \"'\"\n",
      "40 '('\n",
      "41 ')'\n",
      "42 '*'\n",
      "43 '+'\n",
      "44 ','\n",
      "45 '-'\n",
      "46 '.'\n",
      "47 '/'\n",
      "48 '0'\n",
      "49 '1'\n",
      "50 '2'\n",
      "51 '3'\n",
      "52 '4'\n",
      "53 '5'\n",
      "54 '6'\n",
      "55 '7'\n",
      "56 '8'\n",
      "57 '9'\n",
      "58 ':'\n",
      "59 ';'\n",
      "60 '<'\n",
      "61 '='\n",
      "62 '>'\n",
      "63 '?'\n",
      "64 '@'\n",
      "65 'A'\n",
      "66 'B'\n",
      "67 'C'\n",
      "68 'D'\n",
      "69 'E'\n",
      "70 'F'\n",
      "71 'G'\n",
      "72 'H'\n",
      "73 'I'\n",
      "74 'J'\n",
      "75 'K'\n",
      "76 'L'\n",
      "77 'M'\n",
      "78 'N'\n",
      "79 'O'\n",
      "80 'P'\n",
      "81 'Q'\n",
      "82 'R'\n",
      "83 'S'\n",
      "84 'T'\n",
      "85 'U'\n",
      "86 'V'\n",
      "87 'W'\n",
      "88 'X'\n",
      "89 'Y'\n",
      "90 'Z'\n",
      "91 '['\n",
      "92 '\\\\'\n",
      "93 ']'\n",
      "94 '^'\n",
      "95 '_'\n",
      "96 '`'\n",
      "97 'a'\n",
      "98 'b'\n",
      "99 'c'\n",
      "100 'd'\n",
      "101 'e'\n",
      "102 'f'\n",
      "103 'g'\n",
      "104 'h'\n",
      "105 'i'\n",
      "106 'j'\n",
      "107 'k'\n",
      "108 'l'\n",
      "109 'm'\n",
      "110 'n'\n",
      "111 'o'\n",
      "112 'p'\n",
      "113 'q'\n",
      "114 'r'\n",
      "115 's'\n",
      "116 't'\n",
      "117 'u'\n",
      "118 'v'\n",
      "119 'w'\n",
      "120 'x'\n",
      "121 'y'\n",
      "122 'z'\n",
      "123 '{'\n",
      "124 '|'\n",
      "125 '}'\n",
      "126 '~'\n",
      "127 '\\x7f'\n"
     ]
    }
   ],
   "source": [
    "for i in range(128):\n",
    "    print(i, repr(chr(i)))"
   ]
  },
  {
   "cell_type": "markdown",
   "metadata": {},
   "source": [
    "## unicode"
   ]
  },
  {
   "cell_type": "code",
   "execution_count": 6,
   "metadata": {
    "collapsed": true
   },
   "outputs": [],
   "source": [
    "unicode_ga =\"가\""
   ]
  },
  {
   "cell_type": "code",
   "execution_count": 7,
   "metadata": {
    "collapsed": true
   },
   "outputs": [],
   "source": [
    "utf8_ga = unicode_ga.encode(\"utf8\")\n",
    "cp949_ga = unicode_ga.encode(\"cp949\")"
   ]
  },
  {
   "cell_type": "code",
   "execution_count": 8,
   "metadata": {},
   "outputs": [
    {
     "data": {
      "text/plain": [
       "'가'"
      ]
     },
     "execution_count": 8,
     "metadata": {},
     "output_type": "execute_result"
    }
   ],
   "source": [
    "cp949_ga.decode(\"cp949\")"
   ]
  },
  {
   "cell_type": "code",
   "execution_count": 9,
   "metadata": {},
   "outputs": [
    {
     "ename": "UnicodeDecodeError",
     "evalue": "'utf-8' codec can't decode byte 0xb0 in position 0: invalid start byte",
     "output_type": "error",
     "traceback": [
      "\u001b[0;31m----------------------------------------------------\u001b[0m",
      "\u001b[0;31mUnicodeDecodeError\u001b[0m Traceback (most recent call last)",
      "\u001b[0;32m<ipython-input-9-604d8840a5b6>\u001b[0m in \u001b[0;36m<module>\u001b[0;34m()\u001b[0m\n\u001b[0;32m----> 1\u001b[0;31m \u001b[0mcp949_ga\u001b[0m\u001b[0;34m.\u001b[0m\u001b[0mdecode\u001b[0m\u001b[0;34m(\u001b[0m\u001b[0;34m\"utf8\"\u001b[0m\u001b[0;34m)\u001b[0m\u001b[0;34m\u001b[0m\u001b[0m\n\u001b[0m",
      "\u001b[0;31mUnicodeDecodeError\u001b[0m: 'utf-8' codec can't decode byte 0xb0 in position 0: invalid start byte"
     ]
    }
   ],
   "source": [
    "cp949_ga.decode(\"utf8\")"
   ]
  },
  {
   "cell_type": "code",
   "execution_count": 10,
   "metadata": {},
   "outputs": [
    {
     "data": {
      "text/plain": [
       "b'\\xb0\\xa1'"
      ]
     },
     "execution_count": 10,
     "metadata": {},
     "output_type": "execute_result"
    }
   ],
   "source": [
    "cp949_ga"
   ]
  },
  {
   "cell_type": "code",
   "execution_count": 11,
   "metadata": {},
   "outputs": [
    {
     "data": {
      "text/plain": [
       "'가'"
      ]
     },
     "execution_count": 11,
     "metadata": {},
     "output_type": "execute_result"
    }
   ],
   "source": [
    "b'\\xb0\\xa1'.decode('cp949')"
   ]
  },
  {
   "cell_type": "markdown",
   "metadata": {},
   "source": [
    "소스코드 최상단에 아래와 같이 써서, 파이썬 인터프리터에게 현 소스파일의 인코딩을 알려줍니다.\n",
    "\n",
    "```python\n",
    "# -*- coding: utf-8 -*-\n",
    "```\n",
    "\n",
    "그런데, 소스파일이 UTF8 인코딩으로 작성이 되었다면, 파이썬3에서는 디폴트로 UTF8로 처리하기 때문에, 구지 지정하지 않아도 됩니다."
   ]
  },
  {
   "cell_type": "markdown",
   "metadata": {},
   "source": [
    "## 파일 읽기"
   ]
  },
  {
   "cell_type": "code",
   "execution_count": 14,
   "metadata": {},
   "outputs": [
    {
     "name": "stdout",
     "output_type": "stream",
     "text": [
      "<class 'str'>\n",
      "Shimmie shimmie Ko Ko Bop\n",
      "I think I like it\n",
      "긴장은 down down\n",
      "부끄러 말고 \n",
      "어지러운 마음속에 내가 들어가\n",
      "익숙한 듯 부드럽게 네게 번져가\n",
      "Ah woo 고요한 밤이야 \n",
      "Ah woo 널 위한 밤이야\n",
      "참을 수가 없어 빠져가 Yeah yeah \n",
      "너의 몸짓에 난 취해가 Yeah yeah\n",
      "네가 알던 뻔한 모습의 나를 잊어 오늘\n",
      "숨겨둔 본능이 Shimmie up\n",
      "It goes down down baby \n"
     ]
    }
   ],
   "source": [
    "# f = open(\"c:\\\\work\\\\kokobop.txt\", \"rt\", encoding=\"utf8\")\n",
    "# f = open(r\"c:\\work\\kokobop.txt\", \"rt\", encoding=\"utf8\")\n",
    "# f = open(\"c:/work/kokobop.txt\", \"rt\", encoding=\"utf8\")\n",
    "\n",
    "f = open(\"/Users/nomadic/kokobop.txt\", \"rt\", encoding=\"utf8\")  # read + text mode \n",
    "readed_data = f.read()\n",
    "f.close()\n",
    "\n",
    "print(type(readed_data))\n",
    "print(readed_data)  # 유니코드 (str) 타입"
   ]
  },
  {
   "cell_type": "code",
   "execution_count": 23,
   "metadata": {},
   "outputs": [
    {
     "name": "stdout",
     "output_type": "stream",
     "text": [
      "<class 'bytes'>\n",
      "Shimmie shimmie Ko Ko Bop\n",
      "I think I like it\n",
      "긴장은 down down\n",
      "부끄러 말고 \n",
      "어지러운 마음속에 내가 들어가\n",
      "익숙한 듯 부드럽게 네게 번져가\n",
      "Ah woo 고요한 밤이야 \n",
      "Ah woo 널 위한 밤이야\n",
      "참을 수가 없어 빠져가 Yeah yeah \n",
      "너의 몸짓에 난 취해가 Yeah yeah\n",
      "네가 알던 뻔한 모습의 나를 잊어 오늘\n",
      "숨겨둔 본능이 Shimmie up\n",
      "It goes down down baby \n"
     ]
    }
   ],
   "source": [
    "f = open(\"/Users/nomadic/kokobop.txt\", \"rb\")\n",
    "readed_data = f.read()\n",
    "f.close()\n",
    "\n",
    "print(type(readed_data))\n",
    "print(readed_data.decode(\"utf8\"))  # bytes -> 유니코드 타입"
   ]
  },
  {
   "cell_type": "code",
   "execution_count": 17,
   "metadata": {},
   "outputs": [
    {
     "data": {
      "text/plain": [
       "' \\\\ '"
      ]
     },
     "execution_count": 17,
     "metadata": {},
     "output_type": "execute_result"
    }
   ],
   "source": [
    "r\" \\ \""
   ]
  },
  {
   "cell_type": "code",
   "execution_count": 24,
   "metadata": {},
   "outputs": [
    {
     "data": {
      "text/plain": [
       "' \\\\ '"
      ]
     },
     "execution_count": 24,
     "metadata": {},
     "output_type": "execute_result"
    }
   ],
   "source": [
    "\" \\\\ \""
   ]
  },
  {
   "cell_type": "code",
   "execution_count": 27,
   "metadata": {},
   "outputs": [
    {
     "ename": "FileNotFoundError",
     "evalue": "[Errno 2] No such file or directory: '/Users/allieus/hello/python.txt'",
     "output_type": "error",
     "traceback": [
      "\u001b[0;31m----------------------------------------------------\u001b[0m",
      "\u001b[0;31mFileNotFoundError\u001b[0m  Traceback (most recent call last)",
      "\u001b[0;32m<ipython-input-27-c94bb19d7405>\u001b[0m in \u001b[0;36m<module>\u001b[0;34m()\u001b[0m\n\u001b[1;32m      1\u001b[0m \u001b[0mfilepath\u001b[0m \u001b[0;34m=\u001b[0m \u001b[0;34m\"/Users/allieus/hello/python.txt\"\u001b[0m  \u001b[0;31m# hello 디렉토리가 존재하지 않을 경우\u001b[0m\u001b[0;34m\u001b[0m\u001b[0m\n\u001b[1;32m      2\u001b[0m \u001b[0;34m\u001b[0m\u001b[0m\n\u001b[0;32m----> 3\u001b[0;31m \u001b[0mf\u001b[0m \u001b[0;34m=\u001b[0m \u001b[0mopen\u001b[0m\u001b[0;34m(\u001b[0m\u001b[0mfilepath\u001b[0m\u001b[0;34m,\u001b[0m \u001b[0;34m'wt'\u001b[0m\u001b[0;34m)\u001b[0m\u001b[0;34m\u001b[0m\u001b[0m\n\u001b[0m\u001b[1;32m      4\u001b[0m \u001b[0mf\u001b[0m\u001b[0;34m.\u001b[0m\u001b[0mwrite\u001b[0m\u001b[0;34m(\u001b[0m\u001b[0;34m\"print('hello')\"\u001b[0m\u001b[0;34m)\u001b[0m\u001b[0;34m\u001b[0m\u001b[0m\n\u001b[1;32m      5\u001b[0m \u001b[0mf\u001b[0m\u001b[0;34m.\u001b[0m\u001b[0mclose\u001b[0m\u001b[0;34m(\u001b[0m\u001b[0;34m)\u001b[0m\u001b[0;34m\u001b[0m\u001b[0m\n",
      "\u001b[0;31mFileNotFoundError\u001b[0m: [Errno 2] No such file or directory: '/Users/allieus/hello/python.txt'"
     ]
    }
   ],
   "source": [
    "filepath = \"/Users/allieus/hello/python.txt\"  # hello 디렉토리가 존재하지 않을 경우\n",
    "\n",
    "f = open(filepath, 'wt')\n",
    "f.write(\"print('hello')\")\n",
    "f.close()"
   ]
  },
  {
   "cell_type": "code",
   "execution_count": 29,
   "metadata": {},
   "outputs": [],
   "source": [
    "import os\n",
    "\n",
    "filepath = \"/Users/nomadic/hello/python.txt\"  # hello 디렉토리가 존재하지 않을 경우\n",
    "\n",
    "dirpath = os.path.dirname(filepath)  # \"/Users/allieus/hello\"\n",
    "if not os.path.exists(dirpath):  # \"/Users/allieus/hello\" 가 없을 경우\n",
    "    os.makedirs(dirpath)         # \"/Users/allieus/hello\" 디렉토리 생성\n",
    "\n",
    "f = open(filepath, 'wt')\n",
    "f.write(\"print('hello')\")\n",
    "f.close()"
   ]
  },
  {
   "cell_type": "markdown",
   "metadata": {},
   "source": [
    "### 디폴트 인코딩 확인"
   ]
  },
  {
   "cell_type": "code",
   "execution_count": 19,
   "metadata": {},
   "outputs": [
    {
     "data": {
      "text/plain": [
       "'UTF-8'"
      ]
     },
     "execution_count": 19,
     "metadata": {},
     "output_type": "execute_result"
    }
   ],
   "source": [
    "import locale\n",
    "locale.getpreferredencoding(False)"
   ]
  },
  {
   "cell_type": "markdown",
   "metadata": {},
   "source": [
    "## 파일 객체를 획득해서 사용하는 3가지 방법"
   ]
  },
  {
   "cell_type": "markdown",
   "metadata": {},
   "source": [
    "### 1)"
   ]
  },
  {
   "cell_type": "code",
   "execution_count": 30,
   "metadata": {},
   "outputs": [
    {
     "name": "stdout",
     "output_type": "stream",
     "text": [
      "print('hello')\n"
     ]
    }
   ],
   "source": [
    "f = open(filepath, 'rt')\n",
    "print(f.read())\n",
    "f.close()"
   ]
  },
  {
   "cell_type": "markdown",
   "metadata": {},
   "source": [
    "### 2)"
   ]
  },
  {
   "cell_type": "code",
   "execution_count": 31,
   "metadata": {},
   "outputs": [
    {
     "name": "stdout",
     "output_type": "stream",
     "text": [
      "print('hello')\n"
     ]
    }
   ],
   "source": [
    "print(open(filepath, 'rt').read())"
   ]
  },
  {
   "cell_type": "markdown",
   "metadata": {},
   "source": [
    "### 3) 추천방식 : 명시적으로 파일도 닫습니다."
   ]
  },
  {
   "cell_type": "code",
   "execution_count": 32,
   "metadata": {},
   "outputs": [
    {
     "name": "stdout",
     "output_type": "stream",
     "text": [
      "print('hello')\n"
     ]
    }
   ],
   "source": [
    "with open(filepath, 'rt') as f:\n",
    "    print(f.read())"
   ]
  },
  {
   "cell_type": "markdown",
   "metadata": {},
   "source": [
    "## requests를 통한 Response 획득"
   ]
  },
  {
   "cell_type": "code",
   "execution_count": 36,
   "metadata": {},
   "outputs": [],
   "source": [
    "import requests\n",
    "\n",
    "photo_url = \"http://images.all-free-download.com/images/graphiclarge/butterfly_flower_01_hd_pictures_166973.jpg\"\n",
    "\n",
    "response = requests.get(photo_url)\n",
    "\n",
    "# 어떤 인코딩으로 디코딩이 되었을까?\n",
    "\n",
    "# print(response.encoding)  # None일 경우, \"iso-8859-1\" 인코딩으로 처리토록 requests내에 구현됨.\n",
    "\n",
    "# response.content   # Raw데이터, bytes타입\n",
    "# response.text      # 특정 인코딩으로 디코딩된, 유니코드 (str)\n",
    "\n",
    "with open(\"flower.jpg\", \"wb\") as f:\n",
    "    f.write(response.content)"
   ]
  },
  {
   "cell_type": "code",
   "execution_count": 37,
   "metadata": {},
   "outputs": [
    {
     "data": {
      "image/jpeg": "[encoded data removed]",
      "text/plain": [
       "<IPython.core.display.Image object>"
      ]
     },
     "execution_count": 37,
     "metadata": {},
     "output_type": "execute_result"
    }
   ],
   "source": [
    "from IPython.display import Image\n",
    "\n",
    "Image(filename=\"flower.jpg\")"
   ]
  },
  {
   "cell_type": "code",
   "execution_count": 46,
   "metadata": {},
   "outputs": [
    {
     "name": "stdout",
     "output_type": "stream",
     "text": [
      "jQuery19100837736816976673_1501733806852({\"STATUS\":\"0\",\"KEYWORD\":\"exo\",\"ARTISTCONTENTS\":[{\"ARTISTID\":\"724619\",\"ARTISTNAME\":\"EXO\",\"ARTISTNAMEDP\":\"EXO\",\"ARITSTIMG\":\"http://cdnimg.melon.co.kr/cm/artistcrop/images/007/24/619/724619_500.jpg/melon/resize/40/quality/80/optimize\",\"NATIONALITYNAME\":\"대한민국\",\"SEX\":\"남성\",\"ACTTYPENAMES\":\"그룹\"},{\"ARTISTID\":\"218774\",\"ARTISTNAME\":\"Exo\",\"ARTISTNAMEDP\":\"Exo\",\"ARITSTIMG\":\"\",\"NATIONALITYNAME\":\"\",\"SEX\":\"\",\"ACTTYPENAMES\":\"솔로\"},{\"ARTISTID\":\"1228017\",\"ARTISTNAME\":\"EXO-CBX (첸백시)\",\"ARTISTNAMEDP\":\"EXO-CBX (첸백시)\",\"ARITSTIMG\":\"http://cdnimg.melon.co.kr/cm/artistcrop/images/012/28/017/1228017_500.jpg/melon/resize/40/quality/80/optimize\",\"NATIONALITYNAME\":\"대한민국\",\"SEX\":\"남성\",\"ACTTYPENAMES\":\"그룹\"},{\"ARTISTID\":\"625511\",\"ARTISTNAME\":\"EXO-K\",\"ARTISTNAMEDP\":\"EXO-K\",\"ARITSTIMG\":\"http://cdnimg.melon.co.kr/cm/artistcrop/images/006/25/511/625511_500.jpg/melon/resize/40/quality/80/optimize\",\"NATIONALITYNAME\":\"대한민국\",\"SEX\":\"남성\",\"ACTTYPENAMES\":\"그룹\"},{\"ARTISTID\":\"625991\",\"ARTISTNAME\":\"EXO-M\",\"ARTISTNAMEDP\":\"EXO-M\",\"ARITSTIMG\":\"http://cdnimg.melon.co.kr/cm/artistcrop/images/006/25/991/625991_500.jpg/melon/resize/40/quality/80/optimize\",\"NATIONALITYNAME\":\"중국\",\"SEX\":\"남성\",\"ACTTYPENAMES\":\"그룹\"},{\"ARTISTID\":\"106751\",\"ARTISTNAME\":\"Exodus\",\"ARTISTNAMEDP\":\"Exodus\",\"ARITSTIMG\":\"http://cdnimg.melon.co.kr/cm/artistcrop/images/001/06/751/106751_500.jpg/melon/resize/40/quality/80/optimize\",\"NATIONALITYNAME\":\"미국\",\"SEX\":\"남성\",\"ACTTYPENAMES\":\"그룹\"},{\"ARTISTID\":\"237711\",\"ARTISTNAME\":\"엑소더스 (Exodus)\",\"ARTISTNAMEDP\":\"엑소더스 (Exodus)\",\"ARITSTIMG\":\"\",\"NATIONALITYNAME\":\"대한민국\",\"SEX\":\"혼성\",\"ACTTYPENAMES\":\"그룹\"}],\"SONGCONTENTS\":[{\"SONGID\":\"30529996\",\"SONGNAME\":\"Ko Ko Bop\",\"SONGNAMEDP\":\"Ko Ko Bop\",\"ALBUMIMG\":\"http://cdnimg.melon.co.kr/cm/album/images/100/80/589/10080589_500.jpg/melon/resize/40/quality/80/optimize\",\"ALBUMID\":\"10080589\",\"ALBUMNAME\":\"THE WAR - The 4th Album\",\"ARTISTNAME\":\"EXO\"},{\"SONGID\":\"30529995\",\"SONGNAME\":\"전야 (前夜) (The Eve)\",\"SONGNAMEDP\":\"전야 (前夜) (The Eve)\",\"ALBUMIMG\":\"http://cdnimg.melon.co.kr/cm/album/images/100/80/589/10080589_500.jpg/melon/resize/40/quality/80/optimize\",\"ALBUMID\":\"10080589\",\"ALBUMNAME\":\"THE WAR - The 4th Album\",\"ARTISTNAME\":\"EXO\"},{\"SONGID\":\"4193337\",\"SONGNAME\":\"으르렁 (Growl)\",\"SONGNAMEDP\":\"으르렁 (Growl)\",\"ALBUMIMG\":\"http://cdnimg.melon.co.kr/cm/album/images/021/95/303/2195303_500.jpg/melon/resize/40/quality/80/optimize\",\"ALBUMID\":\"2195303\",\"ALBUMNAME\":\"The 1st Album `XOXO` Repackage\",\"ARTISTNAME\":\"EXO\"},{\"SONGID\":\"8217164\",\"SONGNAME\":\"Monster\",\"SONGNAMEDP\":\"Monster\",\"ALBUMIMG\":\"http://cdnimg.melon.co.kr/cm/album/images/026/89/855/2689855_500.jpg/melon/resize/40/quality/80/optimize\",\"ALBUMID\":\"2689855\",\"ALBUMNAME\":\"EX`ACT - The 3rd Album\",\"ARTISTNAME\":\"EXO\"},{\"SONGID\":\"30530001\",\"SONGNAME\":\"소름 (Chill)\",\"SONGNAMEDP\":\"소름 (Chill)\",\"ALBUMIMG\":\"http://cdnimg.melon.co.kr/cm/album/images/100/80/589/10080589_500.jpg/melon/resize/40/quality/80/optimize\",\"ALBUMID\":\"10080589\",\"ALBUMNAME\":\"THE WAR - The 4th Album\",\"ARTISTNAME\":\"EXO\"},{\"SONGID\":\"5721440\",\"SONGNAME\":\"LOVE ME RIGHT\",\"SONGNAMEDP\":\"LOVE ME RIGHT\",\"ALBUMIMG\":\"http://cdnimg.melon.co.kr/cm/album/images/023/21/827/2321827_500.jpg/melon/resize/40/quality/80/optimize\",\"ALBUMID\":\"2321827\",\"ALBUMNAME\":\"LOVE ME RIGHT - The 2nd Album Repackage\",\"ARTISTNAME\":\"EXO\"},{\"SONGID\":\"5644620\",\"SONGNAME\":\"CALL ME BABY\",\"SONGNAMEDP\":\"CALL ME BABY\",\"ALBUMIMG\":\"http://cdnimg.melon.co.kr/cm/album/images/023/11/397/2311397_500.jpg/melon/resize/40/quality/80/optimize\",\"ALBUMID\":\"2311397\",\"ALBUMNAME\":\"The 2nd Album `EXODUS`\",\"ARTISTNAME\":\"EXO\"},{\"SONGID\":\"30529997\",\"SONGNAME\":\"What U do?\",\"SONGNAMEDP\":\"What U do?\",\"ALBUMIMG\":\"http://cdnimg.melon.co.kr/cm/album/images/100/80/589/10080589_500.jpg/melon/resize/40/quality/80/optimize\",\"ALBUMID\":\"10080589\",\"ALBUMNAME\":\"THE WAR - The 4th Album\",\"ARTISTNAME\":\"EXO\"},{\"SONGID\":\"30530002\",\"SONGNAME\":\"기억을 걷는 밤 (Walk On Memories)\",\"SONGNAMEDP\":\"기억을 걷는 밤 (Walk On Memories)\",\"ALBUMIMG\":\"http://cdnimg.melon.co.kr/cm/album/images/100/80/589/10080589_500.jpg/melon/resize/40/quality/80/optimize\",\"ALBUMID\":\"10080589\",\"ALBUMNAME\":\"THE WAR - The 4th Album\",\"ARTISTNAME\":\"EXO\"},{\"SONGID\":\"30529998\",\"SONGNAME\":\"Forever\",\"SONGNAMEDP\":\"Forever\",\"ALBUMIMG\":\"http://cdnimg.melon.co.kr/cm/album/images/100/80/589/10080589_500.jpg/melon/resize/40/quality/80/optimize\",\"ALBUMID\":\"10080589\",\"ALBUMNAME\":\"THE WAR - The 4th Album\",\"ARTISTNAME\":\"EXO\"},{\"SONGID\":\"5515381\",\"SONGNAME\":\"중독 (Overdose)\",\"SONGNAMEDP\":\"중독 (Overdose)\",\"ALBUMIMG\":\"http://cdnimg.melon.co.kr/cm/album/images/022/96/229/2296229_500.jpg/melon/resize/40/quality/80/optimize\",\"ALBUMID\":\"2296229\",\"ALBUMNAME\":\"EXOLOGY CHAPTER 1: THE LOST PLANET\",\"ARTISTNAME\":\"EXO\"},{\"SONGID\":\"30529999\",\"SONGNAME\":\"다이아몬드 (Diamond)\",\"SONGNAMEDP\":\"다이아몬드 (Diamond)\",\"ALBUMIMG\":\"http://cdnimg.melon.co.kr/cm/album/images/100/80/589/10080589_500.jpg/melon/resize/40/quality/80/optimize\",\"ALBUMID\":\"10080589\",\"ALBUMNAME\":\"THE WAR - The 4th Album\",\"ARTISTNAME\":\"EXO\"},{\"SONGID\":\"30530000\",\"SONGNAME\":\"너의 손짓 (Touch It)\",\"SONGNAMEDP\":\"너의 손짓 (Touch It)\",\"ALBUMIMG\":\"http://cdnimg.melon.co.kr/cm/album/images/100/80/589/10080589_500.jpg/melon/resize/40/quality/80/optimize\",\"ALBUMID\":\"10080589\",\"ALBUMNAME\":\"THE WAR - The 4th Album\",\"ARTISTNAME\":\"EXO\"},{\"SONGID\":\"9647324\",\"SONGNAME\":\"Dancing King\",\"SONGNAMEDP\":\"Dancing King\",\"ALBUMIMG\":\"http://cdnimg.melon.co.kr/cm/album/images/027/11/209/2711209_500.jpg/melon/resize/40/quality/80/optimize\",\"ALBUMID\":\"2711209\",\"ALBUMNAME\":\"Dancing King - SM STATION\",\"ARTISTNAME\":\"유재석, EXO\"},{\"SONGID\":\"9606657\",\"SONGNAME\":\"Lotto\",\"SONGNAMEDP\":\"Lotto\",\"ALBUMIMG\":\"http://cdnimg.melon.co.kr/cm/album/images/027/04/940/2704940_500.jpg/melon/resize/40/quality/80/optimize\",\"ALBUMID\":\"2704940\",\"ALBUMNAME\":\"LOTTO - The 3rd Album Repackage\",\"ARTISTNAME\":\"EXO\"}],\"ALBUMCONTENTS\":[{\"ALBUMID\":\"10080589\",\"ALBUMNAME\":\"THE WAR - The 4th Album\",\"ALBUMNAMEDP\":\"THE WAR - The 4th Album\",\"ALBUMIMG\":\"http://cdnimg.melon.co.kr/cm/album/images/100/80/589/10080589_500.jpg/melon/resize/40/quality/80/optimize\",\"ARTISTNAME\":\"EXO\"},{\"ALBUMID\":\"2689855\",\"ALBUMNAME\":\"EX`ACT - The 3rd Album\",\"ALBUMNAMEDP\":\"EX`ACT - The 3rd Album\",\"ALBUMIMG\":\"http://cdnimg.melon.co.kr/cm/album/images/026/89/855/2689855_500.jpg/melon/resize/40/quality/80/optimize\",\"ARTISTNAME\":\"EXO\"},{\"ALBUMID\":\"10024125\",\"ALBUMNAME\":\"For Life - 겨울 스페셜 앨범, 2016\",\"ALBUMNAMEDP\":\"For Life - 겨울 스페셜 앨범, 2016\",\"ALBUMIMG\":\"http://cdnimg.melon.co.kr/cm/album/images/100/24/125/10024125_500.jpg/melon/resize/40/quality/80/optimize\",\"ARTISTNAME\":\"EXO\"},{\"ALBUMID\":\"2704940\",\"ALBUMNAME\":\"LOTTO - The 3rd Album Repackage\",\"ALBUMNAMEDP\":\"LOTTO - The 3rd Album Repackage\",\"ALBUMIMG\":\"http://cdnimg.melon.co.kr/cm/album/images/027/04/940/2704940_500.jpg/melon/resize/40/quality/80/optimize\",\"ARTISTNAME\":\"EXO\"},{\"ALBUMID\":\"2311397\",\"ALBUMNAME\":\"The 2nd Album `EXODUS`\",\"ALBUMNAMEDP\":\"The 2nd Album `EXODUS`\",\"ALBUMIMG\":\"http://cdnimg.melon.co.kr/cm/album/images/023/11/397/2311397_500.jpg/melon/resize/40/quality/80/optimize\",\"ARTISTNAME\":\"EXO\"},{\"ALBUMID\":\"2195303\",\"ALBUMNAME\":\"The 1st Album `XOXO` Repackage\",\"ALBUMNAMEDP\":\"The 1st Album `XOXO` Repackage\",\"ALBUMIMG\":\"http://cdnimg.melon.co.kr/cm/album/images/021/95/303/2195303_500.jpg/melon/resize/40/quality/80/optimize\",\"ARTISTNAME\":\"EXO\"},{\"ALBUMID\":\"2321827\",\"ALBUMNAME\":\"LOVE ME RIGHT - The 2nd Album Repackage\",\"ALBUMNAMEDP\":\"LOVE ME RIGHT - The 2nd Album Repackage\",\"ALBUMIMG\":\"http://cdnimg.melon.co.kr/cm/album/images/023/21/827/2321827_500.jpg/melon/resize/40/quality/80/optimize\",\"ARTISTNAME\":\"EXO\"},{\"ALBUMID\":\"2187253\",\"ALBUMNAME\":\"The 1st Album XOXO (KISS＆HUG)\",\"ALBUMNAMEDP\":\"The 1st Album XOXO (KISS＆HUG)\",\"ALBUMIMG\":\"http://cdnimg.melon.co.kr/cm/album/images/021/87/253/2187253_500.jpg/melon/resize/40/quality/80/optimize\",\"ARTISTNAME\":\"EXO\"},{\"ALBUMID\":\"10028274\",\"ALBUMNAME\":\"Coming Over\",\"ALBUMNAMEDP\":\"Coming Over\",\"ALBUMIMG\":\"http://cdnimg.melon.co.kr/cm/album/images/100/28/274/10028274_500.jpg/melon/resize/40/quality/80/optimize\",\"ARTISTNAME\":\"EXO\"},{\"ALBUMID\":\"10070481\",\"ALBUMNAME\":\"GIRLS\",\"ALBUMNAMEDP\":\"GIRLS\",\"ALBUMIMG\":\"http://cdnimg.melon.co.kr/cm/album/images/100/70/481/10070481_500.jpg/melon/resize/40/quality/80/optimize\",\"ARTISTNAME\":\"EXO-CBX (첸백시)\"},{\"ALBUMID\":\"2219671\",\"ALBUMNAME\":\"겨울 스페셜 앨범 `12월의 기적 (Miracles In December)`\",\"ALBUMNAMEDP\":\"겨울 스페셜 앨범 `12월의 기적 (Miracles In December)`\",\"ALBUMIMG\":\"http://cdnimg.melon.co.kr/cm/album/images/022/19/671/2219671_500.jpg/melon/resize/40/quality/80/optimize\",\"ARTISTNAME\":\"EXO\"},{\"ALBUMID\":\"2655828\",\"ALBUMNAME\":\"SING FOR YOU - 겨울 스페셜 앨범, 2015\",\"ALBUMNAMEDP\":\"SING FOR YOU - 겨울 스페셜 앨범, 2015\",\"ALBUMIMG\":\"http://cdnimg.melon.co.kr/cm/album/images/026/55/828/2655828_500.jpg/melon/resize/40/quality/80/optimize\",\"ARTISTNAME\":\"EXO\"},{\"ALBUMID\":\"10083681\",\"ALBUMNAME\":\"It`s Running Time!\",\"ALBUMNAMEDP\":\"It`s Running Time!\",\"ALBUMIMG\":\"http://cdnimg.melon.co.kr/cm/album/images/100/83/681/10083681_500.jpg/melon/resize/40/quality/80/optimize\",\"ARTISTNAME\":\"EXO-CBX (첸백시)\"},{\"ALBUMID\":\"2296229\",\"ALBUMNAME\":\"EXOLOGY CHAPTER 1: THE LOST PLANET\",\"ALBUMNAMEDP\":\"EXOLOGY CHAPTER 1: THE LOST PLANET\",\"ALBUMIMG\":\"http://cdnimg.melon.co.kr/cm/album/images/022/96/229/2296229_500.jpg/melon/resize/40/quality/80/optimize\",\"ARTISTNAME\":\"EXO\"},{\"ALBUMID\":\"2108026\",\"ALBUMNAME\":\"`MAMA` EXO-K The 1st Mini Album\",\"ALBUMNAMEDP\":\"`MAMA` EXO-K The 1st Mini Album\",\"ALBUMIMG\":\"http://cdnimg.melon.co.kr/cm/album/images/021/08/026/2108026_2_500.jpg/melon/resize/40/quality/80/optimize\",\"ARTISTNAME\":\"EXO-K\"}],\"KEYWORDCONTENTS\":[{\"KEYWORDDP\":\"EXO\",\"KEYWORD\":\"EXO\"},{\"KEYWORDDP\":\"EXO Ko Ko Bop\",\"KEYWORD\":\"EXO Ko Ko Bop\"},{\"KEYWORDDP\":\"EXO-CBX 첸백시\",\"KEYWORD\":\"EXO-CBX 첸백시\"},{\"KEYWORDDP\":\"<b>exo</b> the war\",\"KEYWORD\":\"exo the war\"},{\"KEYWORDDP\":\"EXO-CBX\",\"KEYWORD\":\"EXO-CBX\"},{\"KEYWORDDP\":\"EXO-K\",\"KEYWORD\":\"EXO-K\"},{\"KEYWORDDP\":\"EXObaekhyun\",\"KEYWORD\":\"EXObaekhyun\"},{\"KEYWORDDP\":\"Exodus\",\"KEYWORD\":\"Exodus\"},{\"KEYWORDDP\":\"EXO chanyeol\",\"KEYWORD\":\"EXO chanyeol\"},{\"KEYWORDDP\":\"EXO Monster\",\"KEYWORD\":\"EXO Monster\"},{\"KEYWORDDP\":\"EXO For Life\",\"KEYWORD\":\"EXO For Life\"},{\"KEYWORDDP\":\"<b>exo</b> the eve\",\"KEYWORD\":\"exo the eve\"},{\"KEYWORDDP\":\"EXO 중독\",\"KEYWORD\":\"EXO 중독\"},{\"KEYWORDDP\":\"EXO-M\",\"KEYWORD\":\"EXO-M\"},{\"KEYWORDDP\":\"<b>exo</b> the war album\",\"KEYWORD\":\"exo the war album\"}],\"httpDomain\":\"http://www.melon.com\",\"httpsDomain\":\"https://www.melon.com\",\"staticDomain\":\"https://static.melon.co.kr\"});\n"
     ]
    }
   ],
   "source": [
    "import requests\n",
    "\n",
    "melon_search_url = \"http://www.melon.com/search/keyword/index.json?jscallback=jQuery19100837736816976673_1501733806852&query=exo&_=1501733806857\"\n",
    "\n",
    "'''\n",
    "response = requests.get(melon_search_url)\n",
    "print(response.encoding)\n",
    "# print(response.content.decode(response.encoding))  # 받은 원본, UTF8로 작성된 Plain Text\n",
    "print(response.text)  # response.content를 디코딩한 유니코드\n",
    "'''\n",
    "\n",
    "jsonp_string = requests.get(melon_search_url).text\n",
    "print(jsonp_string)  # jsonp 포맷의 유니코드 문자열"
   ]
  },
  {
   "cell_type": "markdown",
   "metadata": {},
   "source": [
    "### 엉뚱한 인코딩의 예 : 페리카나 사이트"
   ]
  },
  {
   "cell_type": "code",
   "execution_count": 56,
   "metadata": {},
   "outputs": [
    {
     "name": "stdout",
     "output_type": "stream",
     "text": [
      "<!DOCTYPE html> \n",
      "<html lang=\"ko\">\n",
      "<head>\n",
      "\t<meta charset=\"utf-8\">\n",
      "\t<title>페리카나</title>\n",
      "\t<meta http-equiv=\"X-UA-Compatible\" content=\"IE=edge,chrome=1\" />\n",
      "\t<meta name=\"viewport\" content=\"width=1000\" />\n",
      "\t<link rel=\"shortcut icon\" type=\"image/x-icon\" href=\"/resources/images/favicon.ico\" />\n",
      "\n",
      "\t<!-- style -->\n",
      "\t<link rel=\"stylesheet\" href=\"/resources/css/common.css\" media=\"all\" />\n",
      "\t<link rel=\"stylesheet\" href=\"/resources/css/contents.css\" media=\"all\" />\n",
      "\t<!--[if lte IE 8]>\n",
      "\t\t  <link rel=\"stylesheet\" href=\"/resources/css/ie.css\" />\n",
      "\t<![endif]-->\n",
      "\t<!-- //style -->\n",
      "\n",
      "\t<!-- javascript -->\n",
      "\t<script src=\"/resources/js/lib/jquery-1.11.1.min.js\"></script>\n",
      "\t<script src=\"/resources/js/lib/jquery-ui-1.10.3.custom.min.js\"></script>\n",
      "\t<script src=\"/resources/js/lib/modernizr-2.6.2.min.js\"></script>\n",
      "\n",
      "\t<script src=\"/resources/js/lib/json2.js\"></script>\n",
      "\t<!--[if lt IE 9]>\n",
      "\t\t<script src=\"http://html5shiv.googlecode.com/svn/trunk/html5.js\"></script>\n",
      "\t<![endif]-->\n",
      "\t<script src=\"/resources/js/plugins.js\"></script>\n",
      "\t<script src=\"/resources/js/ui_script.js\"></script>\n",
      "\t<script type=\"text/javascript\">\n",
      "\t\t$(function(){\n",
      "\t\t\t$('.best_view > ul').bxSlider({\n",
      "\t\t\t  pagerCustom: '.best_list',\n",
      "\t\t\t  controls:false\n",
      "\t\t\t});\n",
      "\t\t})\n",
      "\t</script>\n",
      "\t<!-- //javascript -->\n",
      "</head>\n",
      "\n",
      "<body>\n",
      "\t<!-- skipNavi -->\n",
      "\t<div id=\"skipNavi\">\n",
      "\t\t<a href=\"#contents\">본문 바로가기</a>\n",
      "\t\t<a href=\"#gnb\">주메뉴 바로가기</a>\n",
      "\t\t<a href=\"#footer\">사이트정보 바로가기</a>\n",
      "\t</div>\n",
      "\t<!-- //skipNavi -->\n",
      "\n",
      "\t<!-- wrap -->\n",
      "\t<div id=\"wrap\">\n",
      "\t\t<!-- header -->\n",
      "\t\t<header id=\"header\">\n",
      "\t\t\t<div class=\"ly_inner\">\n",
      "\t\t\t\t<h1 id=\"logo\"><a href=\"/main.html\"><img src=\"/resources/images/common/logo.png\" alt=\"\" /></a></h1>\n",
      "\t\t\t\t<ul class=\"head_util\">\n",
      "\t\t\t\t\t<li><a href=\"/member/login.html\">로그인</a></li>     \n",
      "\t\t\t\t\t<li><a href=\"/member/join_step1.html\">회원가입</a></li>\n",
      "\n",
      "\t\t\t\t\t<li><a href=\"/brand/company.html\">기업소개</a></li>\n",
      "\t\t\t\t\t<li><a href=\"/franchise/franchise_step.html\">가맹점 개설안내</a></li>\n",
      "\t\t\t\t</ul>\n",
      "\t\t\t\t<ul class=\"head_language\">\n",
      "\t\t\t\t\t<li><a href=\"/en/\" target=\"_blank\" title=\"새창열림\">ENGLISH</a></li>     \n",
      "\t\t\t\t\t<li><a href=\"/cn/\" target=\"_blank\" title=\"새창열림\">CHINESE</a></li>\n",
      "\t\t\t\t</ul>\n",
      "\t\t\t\t\n",
      "\t\t\t\t<nav id=\"gnb\">\n",
      "\t\t\t\t\t<ul>\n",
      "\t\t\t\t\t\t<li><a href=\"/menu/best_menu.html\" class=\"insub\">MENU</a>\n",
      "\t\t\t\t\t\t\t<ul>\n",
      "\t\t\t\t\t\t\t\t<li><a href=\"/menu/best_menu.html\">인기메뉴</a></li>\n",
      "\t\t\t\t\t\t\t\t<li><a href=\"/menu/new_menu.html\">신제품</a></li>\n",
      "\t\t\t\t\t\t\t\t<li><a href=\"/menu/menu_original.html\">치킨류</a></li>\n",
      "\t\t\t\t\t\t\t\t<li><a href=\"/menu/side_menu.html\">사이드</a></li>\n",
      "\t\t\t\t\t\t\t</ul>\n",
      "\t\t\t\t\t\t</li>\n",
      "\t\t\t\t\t\t<li><a href=\"/store/stroe_search.html\" class=\"insub\">STORE</a>\n",
      "\t\t\t\t\t\t\t<ul>\n",
      "\t\t\t\t\t\t\t\t<li><a href=\"/store/stroe_search.html\">매장찾기</a></li>\n",
      "\t\t\t\t\t\t\t\t<li><a href=\"/store/global.html\">해외매장</a></li>\n",
      "\t\t\t\t\t\t\t</ul>\n",
      "\t\t\t\t\t\t</li>\n",
      "\t\t\t\t\t\t<li><a href=\"/brand/ceo.html\" class=\"insub\">BRAND</a>\n",
      "\t\t\t\t\t\t\t<ul>\n",
      "\t\t\t\t\t\t\t\t<li><a href=\"/brand/ceo.html\">CEO인사말</a></li>\n",
      "\t\t\t\t\t\t\t\t<li><a href=\"/brand/history.html\">연혁</a></li>\n",
      "\t\t\t\t\t\t\t\t<li><a href=\"/brand/company.html\">기업개요</a></li>\n",
      "\t\t\t\t\t\t\t\t<li><a href=\"/brand/ci.html\">CI</a></li>\n",
      "\t\t\t\t\t\t\t\t<li class=\"dep2_center\"><a href=\"/brand/global.html\">글로벌 페리카나</a></li>\n",
      "\t\t\t\t\t\t\t\t<li><a href=\"/brand/map.html\">오시는길</a></li>\n",
      "\t\t\t\t\t\t\t</ul>\n",
      "\t\t\t\t\t\t</li>\n",
      "\t\t\t\t\t\t<li class=\"gnb_center\"><a href=\"/e_coupon/e_coupon.html\" class=\"insub\">E-쿠폰</a>\n",
      "\t\t\t\t\t\t\t<ul>\n",
      "\t\t\t\t\t\t\t\t<li><a href=\"/e_coupon/e_coupon.html\">E-쿠폰</a></li>\n",
      "\t\t\t\t\t\t\t\t<li><a href=\"/e_coupon/e_coupon_menu.html\">E-쿠폰 메뉴</a></li>\n",
      "\t\t\t\t\t\t\t\t<li><a href=\"/e_coupon/e_coupon_inquiry.html\">E-쿠폰 문의</a></li>\n",
      "\t\t\t\t\t\t\t</ul>\n",
      "\t\t\t\t\t\t</li>\n",
      "\t\t\t\t\t\t<li class=\"last\"><a href=\"/community/notice_list.html\" class=\"insub\">COMMUNITY</a>\n",
      "\t\t\t\t\t\t\t<ul>\n",
      "\t\t\t\t\t\t\t\t<li><a href=\"/community/notice_list.html\">공지사항</a></li>\n",
      "\t\t\t\t\t\t\t\t<li><a href=\"/community/press_list.html\">보도자료</a></li>\n",
      "\t\t\t\t\t\t\t\t<li><a href=\"/community/cf.html\">광고</a></li>\n",
      "\t\t\t\t\t\t\t\t<li><a href=\"/community/event_list.html\">이벤트</a></li>\n",
      "\t\t\t\t\t\t\t\t<li class=\"dep2_center\"><a href=\"/community/giftcard.html\">상품권</a></li>\n",
      "\t\t\t\t\t\t\t</ul>\n",
      "\t\t\t\t\t\t</li>\n",
      "\t\t\t\t\t\t<li class=\"head_order\"><a href=\"/order/order_address.html\">ORDER</a></li>\n",
      "\t\t\t\t\t</ul>\n",
      "\t\t\t\t</nav>\n",
      "\t\t\t</div>\n",
      "\t\t\t<div class=\"bg_gnb\"></div>\n",
      "\t\t</header>\n",
      "\t\t<!-- //header -->\n",
      "\n",
      "\r\n",
      "\t\t<script type=\"text/javascript\">\r\n",
      "\t\t\t$(function(){\r\n",
      "\t\t\t\t$('.store_slider > ul').bxSlider({\r\n",
      "\t\t\t\t\tpager:false,\r\n",
      "\t\t\t\t\tslideWidth: 180,\r\n",
      "\t\t\t\t\tslideMargin: 20,\r\n",
      "\t\t\t\t\tminSlides: 1,\r\n",
      "\t\t\t\t\tmaxSlides: 3,\r\n",
      "\t\t\t\t\tprevText:'이전',\r\n",
      "\t\t\t\t\tnextText:'다음'\r\n",
      "\t\t\t\t});\r\n",
      "\t\t\t})\r\n",
      "\t\t</script>\r\n",
      "\r\n",
      "<script type=\"text/javascript\" src=\"http://openapi.map.naver.com/openapi/v2/maps.js?clientId=18IZPGVjz4_xa3pKrvWz\"></script>\r\n",
      "<script type=\"text/javascript\">\r\n",
      "\r\n",
      "function siChange(si, gu){\r\n",
      "\t\t$.ajax({\r\n",
      "\t\ttype:\"POST\"\r\n",
      "\t\t,url:'/ajax/gu.html?si_val='+encodeURI(si)+'&gu_val='+encodeURI(gu)+''\r\n",
      "\t\t,cache: false\r\n",
      "\t\t,success:function(html){\r\n",
      "\t\t\t$(\"#gu\").html(\"\");\r\n",
      "\t\t\t$(\"#gu\").html(html);\r\n",
      "\t\t}\r\n",
      "\t\t,error:function(event, request, settings){ alert( event.responseText ); }\r\n",
      "\t\t} );\r\n",
      "}\r\n",
      "\r\n",
      "function store_view(x, y, branch_name, branch_phone, branch_address ){\r\n",
      "\r\n",
      "\t\t$(\"#map\").html(\"\");\r\n",
      "\r\n",
      "\t\tvar maps_y = y;\r\n",
      "\t\tvar maps_x = x;\r\n",
      "\r\n",
      "\t\t   var oPoint = new nhn.api.map.LatLng(maps_y, maps_x ); \r\n",
      "\t\t   nhn.api.map.setDefaultPoint('LatLng');\r\n",
      "\t\t   oMap = new nhn.api.map.Map('map', {\r\n",
      "\t\t\t  center : oPoint,\r\n",
      "\t\t\t  level : 11, // - 초기 줌 레벨은 10이다.\r\n",
      "\t\t\t  enableWheelZoom : true,\r\n",
      "\t\t\t  enableDragPan : true,\r\n",
      "\t\t\t  enableDblClickZoom : false,\r\n",
      "\t\t\t  mapMode : 0,\r\n",
      "\t\t\t  activateTrafficMap : false,\r\n",
      "\t\t\t  activateBicycleMap : false,\r\n",
      "\t\t\t  activateRealtyMap : true,\r\n",
      "\t\t\t  minMaxLevel : [ 1, 14 ],\r\n",
      "\t\t\t  size : new nhn.api.map.Size(450, 338)\r\n",
      "\t\t   });\r\n",
      "\t\t   var mapZoom = new nhn.api.map.ZoomControl(); // - 줌 컨트롤 선언\r\n",
      "\t\t   mapZoom.setPosition({left:20, bottom:20}); // - 줌 컨트롤 위치 지정.\r\n",
      "\t\t   oMap.addControl(mapZoom); // - 줌 컨트롤 추가.\r\n",
      "\r\n",
      "\t\t   var oSize = new nhn.api.map.Size(28, 37);\r\n",
      "\t\t   var oOffset = new nhn.api.map.Size(14, 37);\r\n",
      "\t\t   var oIcon = new nhn.api.map.Icon('http://static.naver.com/maps2/icons/pin_spot2.png', oSize, oOffset);\r\n",
      "\t\t   // - Draggable Marker 의 경우 Icon 인자는 Sprite Icon이 된다.\r\n",
      "\t\t   // - 따라서 Sprite Icon 을 사용하기 위해 기본적으로 사용되는 값을 지정한다.\r\n",
      "\t\t   // - Sprite Icon 을 사용하기 위해서 상세한 내용은 레퍼런스 페이지의 nhn.api.map.SpriteIcon 객체를 참조하면 된다.\r\n",
      "\r\n",
      "\t\tvar oMarker1 = new nhn.api.map.Marker(oIcon, { title : branch_name });  //마커 생성 \r\n",
      "\t\toMarker1.setPoint(oPoint); //마커 표시할 좌표 선택\r\n",
      "\t\toMap.addOverlay(oMarker1); //마커를 지도위에 표현 \r\n",
      "\t\tvar oLabel1 = new nhn.api.map.MarkerLabel(); // - 마커 라벨 선언. \r\n",
      "\t\toMap.addOverlay(oLabel1); // - 마커 라벨 지도에 추가. 기본은 라벨이 보이지 않는 상태로 추가됨. \r\n",
      "\t\toLabel1.setVisible(true, oMarker1); // 마커 라벨 보이기 \r\n",
      "\r\n",
      "\t\t$(\"#branch_name\").html(branch_name);\r\n",
      "\t\t$(\"#branch_phone\").html(branch_phone);\r\n",
      "\t\t$(\"#branch_address\").html(branch_address);\r\n",
      "\t\tlayerShow('#popStore')\r\n",
      "\t}\r\n",
      "\r\n",
      "\tfunction store_search(){\r\n",
      "\t\tvar frm = document.frm;\r\n",
      "\t\tfrm.submit();\r\n",
      "\t}\r\n",
      "\r\n",
      "\r\n",
      "\t$(document).ready(function(){\r\n",
      "\t\t\t});\r\n",
      "</script>\r\n",
      "\t\t<!-- container -->\r\n",
      "\t\t<div id=\"container\">\r\n",
      "\t\t\t<!-- location -->\r\n",
      "\t\t\t<section id=\"location\">\r\n",
      "\t\t\t\t<div>\r\n",
      "\t\t\t\t\t<ul>\r\n",
      "\t\t\t\t\t\t<li><a href=\"#\">홈</a></li>\r\n",
      "\t\t\t\t\t\t<li><span>STORE</span></li>\r\n",
      "\t\t\t\t\t\t<li><strong>매장찾기</strong></li>\r\n",
      "\t\t\t\t\t</ul>\r\n",
      "\t\t\t\t</div>\r\n",
      "\t\t\t</section>\r\n",
      "\t\t\t<!-- //location -->\r\n",
      "\r\n",
      "\t\t\t<div class=\"ly_inner\">\r\n",
      "\t\t\t\t<!-- lnb -->\r\n",
      "\t\t\t\t<section id=\"lnb\">\r\n",
      "\t<h1>STORE</h1>\r\n",
      "\t<ul>\r\n",
      "\t\t<li><a href=\"/store/stroe_search.html\">매장찾기</a></li>\r\n",
      "\t\t<li><a href=\"/store/global.html\">해외매장</a></li>\r\n",
      "\t</ul>\r\n",
      "</section>\t\t\t\t<!-- //lnb -->\r\n",
      "\t\t\t\t<!-- contents -->\r\n",
      "\t\t\t\t<section id=\"contents\">\r\n",
      "\t\t\t\t\t<h1 id=\"page_tit\">매장찾기</h1>\r\n",
      "\r\n",
      "\t\t\t\t\t<h2 class=\"cont_tit f14\">신규오픈매장</h2>\r\n",
      "\t\t\t\t\t<div class=\"new_store\">\r\n",
      "\t\t\t\t\t\t<div class=\"store_slider\">\r\n",
      "\t\t\t\t\t\t\t<ul>\r\n",
      "\t\t\t\t\t\t\t\t\t\t\t\t\t\t\t\t<li>\r\n",
      "\t\t\t\t\t\t\t\t\t<a href=\"#none\"  onclick=\"store_view(' ',' ','오크밸리점','033-744-8959','강원도 원주시    ' );\">\r\n",
      "\t\t\t\t\t\t\t\t\t\t<figure>\r\n",
      "\t\t\t\t\t\t\t\t\t\t\t\t\t\t\t\t\t\t\t\t\t\t\t<img src=\"/resources/images/store/@store.jpg\" alt=\"\" />\r\n",
      "\t\t\t\t\t\t\t\t\t\t\t\t\t\t\t\t\t\t\t\t\t\t<figcaption><span class=\"ic_txt\">NEW</span> 오크밸리점</figcaption>\r\n",
      "\t\t\t\t\t\t\t\t\t\t</figure>\r\n",
      "\t\t\t\t\t\t\t\t\t</a>\r\n",
      "\t\t\t\t\t\t\t\t\t</li>\r\n",
      "\t\t\t\t\t\t\t\t\t\t\t\t\t\t\t\t\t<li>\r\n",
      "\t\t\t\t\t\t\t\t\t<a href=\"#none\"  onclick=\"store_view('126.7200442103','33.279526345','남원점','064-764-8292','제주특별자치도 서귀포시 남원읍 남원리 100-1' );\">\r\n",
      "\t\t\t\t\t\t\t\t\t\t<figure>\r\n",
      "\t\t\t\t\t\t\t\t\t\t\t\t\t\t\t\t\t\t\t\t\t\t\t<img src=\"/resources/images/store/@store.jpg\" alt=\"\" />\r\n",
      "\t\t\t\t\t\t\t\t\t\t\t\t\t\t\t\t\t\t\t\t\t\t<figcaption><span class=\"ic_txt\">NEW</span> 남원점</figcaption>\r\n",
      "\t\t\t\t\t\t\t\t\t\t</figure>\r\n",
      "\t\t\t\t\t\t\t\t\t</a>\r\n",
      "\t\t\t\t\t\t\t\t\t</li>\r\n",
      "\t\t\t\t\t\t\t\t\t\t\t\t\t\t\t\t\t<li>\r\n",
      "\t\t\t\t\t\t\t\t\t<a href=\"#none\"  onclick=\"store_view('127.1561087507','35.8745766325','호성점','063-245-9282','전라북도 전주시덕진구 호성동 2길 9' );\">\r\n",
      "\t\t\t\t\t\t\t\t\t\t<figure>\r\n",
      "\t\t\t\t\t\t\t\t\t\t\t\t\t\t\t\t\t\t\t\t\t\t\t<img src=\"/resources/images/store/@store.jpg\" alt=\"\" />\r\n",
      "\t\t\t\t\t\t\t\t\t\t\t\t\t\t\t\t\t\t\t\t\t\t<figcaption><span class=\"ic_txt\">NEW</span> 호성점</figcaption>\r\n",
      "\t\t\t\t\t\t\t\t\t\t</figure>\r\n",
      "\t\t\t\t\t\t\t\t\t</a>\r\n",
      "\t\t\t\t\t\t\t\t\t</li>\r\n",
      "\t\t\t\t\t\t\t\t\t\t\t\t\t\t\t\t\t<li>\r\n",
      "\t\t\t\t\t\t\t\t\t<a href=\"#none\"  onclick=\"store_view('126.8708164426','35.55743165','상동점','063-535-9889','전라북도 정읍시 상동 265-1(충정로 37)' );\">\r\n",
      "\t\t\t\t\t\t\t\t\t\t<figure>\r\n",
      "\t\t\t\t\t\t\t\t\t\t\t\t\t\t\t\t\t\t\t\t\t\t\t<img src=\"/resources/images/store/@store.jpg\" alt=\"\" />\r\n",
      "\t\t\t\t\t\t\t\t\t\t\t\t\t\t\t\t\t\t\t\t\t\t<figcaption><span class=\"ic_txt\">NEW</span> 상동점</figcaption>\r\n",
      "\t\t\t\t\t\t\t\t\t\t</figure>\r\n",
      "\t\t\t\t\t\t\t\t\t</a>\r\n",
      "\t\t\t\t\t\t\t\t\t</li>\r\n",
      "\t\t\t\t\t\t\t\t\t\t\t\t\t\t\t\t\t<li>\r\n",
      "\t\t\t\t\t\t\t\t\t<a href=\"#none\"  onclick=\"store_view(' ',' ','강상점','031-775-8259','경기도 양평군 강상면 병산리69-12' );\">\r\n",
      "\t\t\t\t\t\t\t\t\t\t<figure>\r\n",
      "\t\t\t\t\t\t\t\t\t\t\t\t\t\t\t\t\t\t\t\t\t\t\t<img src=\"/resources/images/store/@store.jpg\" alt=\"\" />\r\n",
      "\t\t\t\t\t\t\t\t\t\t\t\t\t\t\t\t\t\t\t\t\t\t<figcaption><span class=\"ic_txt\">NEW</span> 강상점</figcaption>\r\n",
      "\t\t\t\t\t\t\t\t\t\t</figure>\r\n",
      "\t\t\t\t\t\t\t\t\t</a>\r\n",
      "\t\t\t\t\t\t\t\t\t</li>\r\n",
      "\t\t\t\t\t\t\t\t\t\t\t\t\t\t\t\t\t<li>\r\n",
      "\t\t\t\t\t\t\t\t\t<a href=\"#none\"  onclick=\"store_view('127.1166740686','36.9893805663','참이슬점','031-654-9923','경기도 평택시 합정동 876-13' );\">\r\n",
      "\t\t\t\t\t\t\t\t\t\t<figure>\r\n",
      "\t\t\t\t\t\t\t\t\t\t\t\t\t\t\t\t\t\t\t\t\t\t\t<img src=\"/resources/images/store/@store.jpg\" alt=\"\" />\r\n",
      "\t\t\t\t\t\t\t\t\t\t\t\t\t\t\t\t\t\t\t\t\t\t<figcaption><span class=\"ic_txt\">NEW</span> 참이슬점</figcaption>\r\n",
      "\t\t\t\t\t\t\t\t\t\t</figure>\r\n",
      "\t\t\t\t\t\t\t\t\t</a>\r\n",
      "\t\t\t\t\t\t\t\t\t</li>\r\n",
      "\t\t\t\t\t\t\t\t\t\t\t\t\t\t\t</ul>\r\n",
      "\t\t\t\t\t\t</div>\r\n",
      "\t\t\t\t\t</div>\r\n",
      "\r\n",
      "\t\t\t\t\t<h2 class=\"cont_tit f14 mt40\">매장찾기</h2>\r\n",
      "\t\t\t\t\t<form action=\"/store/stroe_search.html\" method=\"post\" name=\"frm\">\r\n",
      "\t\t\t\t\t<input type=\"hidden\" name=\"page\" value=\"1\" />\r\n",
      "\t\t\t\t\t<div class=\"box_style bg_gray mt20\">\r\n",
      "\t\t\t\t\t\t<ul class=\"f_list\">\r\n",
      "\t\t\t\t\t\t\t<li>\r\n",
      "\t\t\t\t\t\t\t\t<strong><label for=\"storeArea1\">지역별</label></strong>\r\n",
      "\t\t\t\t\t\t\t\t<select id=\"storeArea1\" title=\"시/도 선택\" name=\"si\" onchange=\"siChange(this.value);\" id=\"si\">\r\n",
      "\t\t\t\t\t\t\t\t\t\t<option value=\"\">시/도</option>\r\n",
      "\t\t\t\t\t\t\t\tselect a_si from tb_add_tab where a_si != '' and a_si !='/' and a_si != '/ ' group by a_si\t\t\t\t\t\t\t\t\t\t\t<option value=\"강원도\"  >강원도</option>\r\n",
      "\t\t\t\t\t\t\t\t\t\t\t\t\t\t\t\t\t\t\t<option value=\"경기도\"  >경기도</option>\r\n",
      "\t\t\t\t\t\t\t\t\t\t\t\t\t\t\t\t\t\t\t<option value=\"경상남도\"  >경상남도</option>\r\n",
      "\t\t\t\t\t\t\t\t\t\t\t\t\t\t\t\t\t\t\t<option value=\"경상북도\"  >경상북도</option>\r\n",
      "\t\t\t\t\t\t\t\t\t\t\t\t\t\t\t\t\t\t\t<option value=\"광주광역시\"  >광주광역시</option>\r\n",
      "\t\t\t\t\t\t\t\t\t\t\t\t\t\t\t\t\t\t\t<option value=\"대구광역시\"  >대구광역시</option>\r\n",
      "\t\t\t\t\t\t\t\t\t\t\t\t\t\t\t\t\t\t\t<option value=\"대전광역시\"  >대전광역시</option>\r\n",
      "\t\t\t\t\t\t\t\t\t\t\t\t\t\t\t\t\t\t\t<option value=\"부산광역시\"  >부산광역시</option>\r\n",
      "\t\t\t\t\t\t\t\t\t\t\t\t\t\t\t\t\t\t\t<option value=\"서울특별시\"  >서울특별시</option>\r\n",
      "\t\t\t\t\t\t\t\t\t\t\t\t\t\t\t\t\t\t\t<option value=\"세종특별자치시\"  >세종특별자치시</option>\r\n",
      "\t\t\t\t\t\t\t\t\t\t\t\t\t\t\t\t\t\t\t<option value=\"울산광역시\"  >울산광역시</option>\r\n",
      "\t\t\t\t\t\t\t\t\t\t\t\t\t\t\t\t\t\t\t<option value=\"인천광역시\"  >인천광역시</option>\r\n",
      "\t\t\t\t\t\t\t\t\t\t\t\t\t\t\t\t\t\t\t<option value=\"전라남도\"  >전라남도</option>\r\n",
      "\t\t\t\t\t\t\t\t\t\t\t\t\t\t\t\t\t\t\t<option value=\"전라북도\"  >전라북도</option>\r\n",
      "\t\t\t\t\t\t\t\t\t\t\t\t\t\t\t\t\t\t\t<option value=\"제주도\"  >제주특별자치도</option>\r\n",
      "\t\t\t\t\t\t\t\t\t\t\t\t\t\t\t\t\t\t\t<option value=\"충청남도\"  >충청남도</option>\r\n",
      "\t\t\t\t\t\t\t\t\t\t\t\t\t\t\t\t\t\t\t<option value=\"충청북도\"  >충청북도</option>\r\n",
      "\t\t\t\t\t\t\t\t\t\t\t\t\t\t\t\t</select>\r\n",
      "\t\t\t\t\t\t\t\t<select  title=\"구/군 선택\" name=\"gu\" id=\"gu\">\r\n",
      "\t\t\t\t\t\t\t\t\t<option value=\"\">구/군 선택</option>\r\n",
      "\t\t\t\t\t\t\t\t</select>\r\n",
      "\t\t\t\t\t\t\t</li>\r\n",
      "\t\t\t\t\t\t\t<li>\r\n",
      "\t\t\t\t\t\t\t\t<strong><label for=\"storeName\">매장명</label></strong>\r\n",
      "\t\t\t\t\t\t\t\t<input id=\"storeName\" name=\"branch_name\" style=\"width:315px\" type=\"text\" title=\"매장명입력\" value=\"\" />\r\n",
      "\t\t\t\t\t\t\t</li>\r\n",
      "\t\t\t\t\t\t</ul>\r\n",
      "\t\t\t\t\t</div>\r\n",
      "\t\t\t\t\t<p class=\"t_center mt10\">\r\n",
      "\t\t\t\t\t\t<a href=\"javascript:store_search();\" class=\"button\">검색</a>\r\n",
      "\t\t\t\t\t</p>\r\n",
      "\t\t\t\t\t</form>\r\n",
      "\t\t\t\t\t\r\n",
      "\t\t\t\t\t<h2 class=\"cont_tit f14 mt40\">매장리스트</h2>\r\n",
      "\t\t\t\t\t<table class=\"table mt20\">\r\n",
      "\t\t\t\t\t\t<caption>매장리스트</caption>\r\n",
      "\t\t\t\t\t\t<colgroup>\r\n",
      "\t\t\t\t\t\t\t<col style=\"width:120px;\" />\r\n",
      "\t\t\t\t\t\t\t<col />\r\n",
      "\t\t\t\t\t\t\t<col style=\"width:120px;\" />\r\n",
      "\t\t\t\t\t\t\t<col style=\"width:90px;\" />\r\n",
      "\t\t\t\t\t\t</colgroup>\r\n",
      "\t\t\t\t\t\t<thead>\r\n",
      "\t\t\t\t\t\t\t<tr>\r\n",
      "\t\t\t\t\t\t\t\t<th scope=\"col\">매장명</th>\r\n",
      "\t\t\t\t\t\t\t\t<th scope=\"col\">주소</th>\r\n",
      "\t\t\t\t\t\t\t\t<th scope=\"col\">전화번호</th>\r\n",
      "\t\t\t\t\t\t\t\t<th scope=\"col\">상세정보</th>\r\n",
      "\t\t\t\t\t\t\t</tr>\r\n",
      "\t\t\t\t\t\t</thead>\r\n",
      "\t\t\t\t\t\t<tbody>\r\n",
      "\t\t\t\t\t\t\t\t\t\t\t\t<tr>\r\n",
      "\t\t\t\t\t\t\t\t<td class=\"t_center\">가경동점</td>\r\n",
      "\t\t\t\t\t\t\t\t<td>충청북도 청주시흥덕구 풍산로 103(복대동)</td>\r\n",
      "\t\t\t\t\t\t\t\t<td class=\"t_center\">\r\n",
      "\t\t\t\t\t\t\t\t043-233-4091</td>\r\n",
      "\t\t\t\t\t\t\t\t<td class=\"t_center\"><a href=\"#none\" class=\"button h22 btn_gray\" onclick=\"store_view('127.44140029824106','36.62931400875793','가경동점','043-233-4091','충청북도 청주시흥덕구 풍산로 103(복대동)' );\">상세정보</a></td>\r\n",
      "\t\t\t\t\t\t\t</tr>\r\n",
      "\t\t\t\t\t\t\t\t\t\t\t\t\t\t<tr>\r\n",
      "\t\t\t\t\t\t\t\t<td class=\"t_center\">가남점</td>\r\n",
      "\t\t\t\t\t\t\t\t<td>경기도 여주군 가남면 태평중앙1길 8-6</td>\r\n",
      "\t\t\t\t\t\t\t\t<td class=\"t_center\">\r\n",
      "\t\t\t\t\t\t\t\t031-883-5746</td>\r\n",
      "\t\t\t\t\t\t\t\t<td class=\"t_center\"><a href=\"#none\" class=\"button h22 btn_gray\" onclick=\"store_view('127.54592677229567','37.202778242276715','가남점','031-883-5746','경기도 여주군 가남면 태평중앙1길 8-6' );\">상세정보</a></td>\r\n",
      "\t\t\t\t\t\t\t</tr>\r\n",
      "\t\t\t\t\t\t\t\t\t\t\t\t\t\t<tr>\r\n",
      "\t\t\t\t\t\t\t\t<td class=\"t_center\">가래비점</td>\r\n",
      "\t\t\t\t\t\t\t\t<td>경기도 양주시 광적면 가납리 가래비길 24</td>\r\n",
      "\t\t\t\t\t\t\t\t<td class=\"t_center\">\r\n",
      "\t\t\t\t\t\t\t\t031-855-6126</td>\r\n",
      "\t\t\t\t\t\t\t\t<td class=\"t_center\"><a href=\"#none\" class=\"button h22 btn_gray\" onclick=\"store_view('126.98731058734412','37.82258423416118','가래비점','031-855-6126','경기도 양주시 광적면 가납리 가래비길 24' );\">상세정보</a></td>\r\n",
      "\t\t\t\t\t\t\t</tr>\r\n",
      "\t\t\t\t\t\t\t\t\t\t\t\t\t\t<tr>\r\n",
      "\t\t\t\t\t\t\t\t<td class=\"t_center\">가마점</td>\r\n",
      "\t\t\t\t\t\t\t\t<td>충청북도 청주시서원구 남이면 가마리 397</td>\r\n",
      "\t\t\t\t\t\t\t\t<td class=\"t_center\">\r\n",
      "\t\t\t\t\t\t\t\t043-287-2003</td>\r\n",
      "\t\t\t\t\t\t\t\t<td class=\"t_center\"><a href=\"#none\" class=\"button h22 btn_gray\" onclick=\"store_view('127.4709615037','36.5988550357','가마점','043-287-2003','충청북도 청주시서원구 남이면 가마리 397' );\">상세정보</a></td>\r\n",
      "\t\t\t\t\t\t\t</tr>\r\n",
      "\t\t\t\t\t\t\t\t\t\t\t\t\t\t<tr>\r\n",
      "\t\t\t\t\t\t\t\t<td class=\"t_center\">가산점</td>\r\n",
      "\t\t\t\t\t\t\t\t<td>경기도 포천시 가산면 가산로 369(1층, 서편 2번째칸)</td>\r\n",
      "\t\t\t\t\t\t\t\t<td class=\"t_center\">\r\n",
      "\t\t\t\t\t\t\t\t031-544-0486</td>\r\n",
      "\t\t\t\t\t\t\t\t<td class=\"t_center\"><a href=\"#none\" class=\"button h22 btn_gray\" onclick=\"store_view('127.18622512381094','37.84679107082076','가산점','031-544-0486','경기도 포천시 가산면 가산로 369(1층, 서편 2번째칸)' );\">상세정보</a></td>\r\n",
      "\t\t\t\t\t\t\t</tr>\r\n",
      "\t\t\t\t\t\t\t\t\t\t\t\t\t\t<tr>\r\n",
      "\t\t\t\t\t\t\t\t<td class=\"t_center\">가수원점</td>\r\n",
      "\t\t\t\t\t\t\t\t<td>대전광역시 서구 가수원동 774-18</td>\r\n",
      "\t\t\t\t\t\t\t\t<td class=\"t_center\">\r\n",
      "\t\t\t\t\t\t\t\t042-541-1350</td>\r\n",
      "\t\t\t\t\t\t\t\t<td class=\"t_center\"><a href=\"#none\" class=\"button h22 btn_gray\" onclick=\"store_view('127.35156450189976','36.30074531871465','가수원점','042-541-1350','대전광역시 서구 가수원동 774-18' );\">상세정보</a></td>\r\n",
      "\t\t\t\t\t\t\t</tr>\r\n",
      "\t\t\t\t\t\t\t\t\t\t\t\t\t\t<tr>\r\n",
      "\t\t\t\t\t\t\t\t<td class=\"t_center\">가양동점</td>\r\n",
      "\t\t\t\t\t\t\t\t<td>서울특별시 강서구 강서로74길 12 (가양동)</td>\r\n",
      "\t\t\t\t\t\t\t\t<td class=\"t_center\">\r\n",
      "\t\t\t\t\t\t\t\t </td>\r\n",
      "\t\t\t\t\t\t\t\t<td class=\"t_center\"><a href=\"#none\" class=\"button h22 btn_gray\" onclick=\"store_view('126.84170552834682','37.56748111916124','가양동점',' ','서울특별시 강서구 강서로74길 12 (가양동)' );\">상세정보</a></td>\r\n",
      "\t\t\t\t\t\t\t</tr>\r\n",
      "\t\t\t\t\t\t\t\t\t\t\t\t\t\t<tr>\r\n",
      "\t\t\t\t\t\t\t\t<td class=\"t_center\">가오점</td>\r\n",
      "\t\t\t\t\t\t\t\t<td>대전광역시 동구 가오동 533</td>\r\n",
      "\t\t\t\t\t\t\t\t<td class=\"t_center\">\r\n",
      "\t\t\t\t\t\t\t\t042-284-0399</td>\r\n",
      "\t\t\t\t\t\t\t\t<td class=\"t_center\"><a href=\"#none\" class=\"button h22 btn_gray\" onclick=\"store_view('127.45654872024292','36.3079744337336','가오점','042-284-0399','대전광역시 동구 가오동 533' );\">상세정보</a></td>\r\n",
      "\t\t\t\t\t\t\t</tr>\r\n",
      "\t\t\t\t\t\t\t\t\t\t\t\t\t\t<tr>\r\n",
      "\t\t\t\t\t\t\t\t<td class=\"t_center\">가운점</td>\r\n",
      "\t\t\t\t\t\t\t\t<td>경기도 남양주시 가운로2길 63 가운동삼원프라자 105호</td>\r\n",
      "\t\t\t\t\t\t\t\t<td class=\"t_center\">\r\n",
      "\t\t\t\t\t\t\t\t031-557-9222</td>\r\n",
      "\t\t\t\t\t\t\t\t<td class=\"t_center\"><a href=\"#none\" class=\"button h22 btn_gray\" onclick=\"store_view('127.17888080374541','37.599332911236566','가운점','031-557-9222','경기도 남양주시 가운로2길 63 가운동삼원프라자 105호' );\">상세정보</a></td>\r\n",
      "\t\t\t\t\t\t\t</tr>\r\n",
      "\t\t\t\t\t\t\t\t\t\t\t\t\t\t<tr>\r\n",
      "\t\t\t\t\t\t\t\t<td class=\"t_center\">가장점</td>\r\n",
      "\t\t\t\t\t\t\t\t<td>대전광역시 서구 가장동 40-40</td>\r\n",
      "\t\t\t\t\t\t\t\t<td class=\"t_center\">\r\n",
      "\t\t\t\t\t\t\t\t042-532-1140</td>\r\n",
      "\t\t\t\t\t\t\t\t<td class=\"t_center\"><a href=\"#none\" class=\"button h22 btn_gray\" onclick=\"store_view('127.3850118224928','36.330482380250686','가장점','042-532-1140','대전광역시 서구 가장동 40-40' );\">상세정보</a></td>\r\n",
      "\t\t\t\t\t\t\t</tr>\r\n",
      "\t\t\t\t\t\t\t\t\t\t\t\t\t</tbody>\r\n",
      "\t\t\t\t\t</table>\r\n",
      "\r\n",
      "\t\t\t\t\t<p class=\"list_paging\">\r\n",
      "\t\t\t\t\t\t<img src='../resources/images/common/paging_first.gif' alt='첫페이지로 이동' /><img src='../resources/images/common/paging_prev.gif' alt='이전페이지로 이동' /><span><strong>1</strong><a href='/store/stroe_search.html?page=2&branch_name=&gu=&si='>2</a><a href='/store/stroe_search.html?page=3&branch_name=&gu=&si='>3</a><a href='/store/stroe_search.html?page=4&branch_name=&gu=&si='>4</a><a href='/store/stroe_search.html?page=5&branch_name=&gu=&si='>5</a><a href='/store/stroe_search.html?page=6&branch_name=&gu=&si='>6</a><a href='/store/stroe_search.html?page=7&branch_name=&gu=&si='>7</a><a href='/store/stroe_search.html?page=8&branch_name=&gu=&si='>8</a><a href='/store/stroe_search.html?page=9&branch_name=&gu=&si='>9</a><a href='/store/stroe_search.html?page=10&branch_name=&gu=&si='>10</a> </span><a href='/store/stroe_search.html?page=2&branch_name=&gu=&si='><img src='../resources/images/common/paging_next.gif' alt='다음페이지로 이동' /></a><a href=\"/store/stroe_search.html?page=11&branch_name=&gu=&si=\"><img src='../resources/images/common/paging_end.gif' alt='마지막페이지로 이동' /></a>\t\t\t\t\t</p>\r\n",
      "\r\n",
      "\t\t\t\t</section>\r\n",
      "\t\t\t\t<!-- //contents -->\r\n",
      "\t\t\t</div>\r\n",
      "\t\t\t<div class=\"bgLayer\"></div>\r\n",
      "\r\n",
      "\r\n",
      "\r\n",
      "\t\t\t<!-- pop_layer -->\r\n",
      "\t\t\t<article id=\"popStore\" class=\"pop_wrap pop_layer hide\">\r\n",
      "\t\t\t\t<h1>매장상세정보</h1>\r\n",
      "\t\t\t\t<div class=\"pop_cont\">\r\n",
      "\t\t\t\t\t<div class=\"store_map\" id=\"map\">\r\n",
      "\t\t\t\t\t</div>\r\n",
      "\t\t\t\t\t<table class=\"table left_tbl mt20\">\r\n",
      "\t\t\t\t\t\t<caption>매장리스트</caption>\r\n",
      "\t\t\t\t\t\t<colgroup>\r\n",
      "\t\t\t\t\t\t\t<col style=\"width:100px;\" />\r\n",
      "\t\t\t\t\t\t\t<col />\r\n",
      "\t\t\t\t\t\t</colgroup>\r\n",
      "\t\t\t\t\t\t<tbody>\r\n",
      "\t\t\t\t\t\t\t<tr>\r\n",
      "\t\t\t\t\t\t\t\t<th scope=\"row\">매장명</th>\r\n",
      "\t\t\t\t\t\t\t\t<td><strong id=\"branch_name\">진보점</strong></td>\r\n",
      "\t\t\t\t\t\t\t</tr>\r\n",
      "\t\t\t\t\t\t\t<tr>\r\n",
      "\t\t\t\t\t\t\t\t<th scope=\"row\">주소</th>\r\n",
      "\t\t\t\t\t\t\t\t<td id=\"branch_address\" >서울특별시 서대문구 북가좌1동 326-17 씨엔티테크빌딩</td>\r\n",
      "\t\t\t\t\t\t\t</tr>\r\n",
      "\t\t\t\t\t\t\t<tr>\r\n",
      "\t\t\t\t\t\t\t\t<th scope=\"row\">전화번호</th>\r\n",
      "\t\t\t\t\t\t\t\t<td id=\"branch_phone\" >02-1234-1234</td>\r\n",
      "\t\t\t\t\t\t\t</tr>\r\n",
      "\t\t\t\t\t\t</tbody>\r\n",
      "\t\t\t\t\t</table>\t\t\t\t\t\r\n",
      "\r\n",
      "\t\t\t\t\t<p class=\"t_center mt10\">\r\n",
      "\t\t\t\t\t\t<a href=\"#\" class=\"button w100 pop_close\">닫기</a>\r\n",
      "\t\t\t\t\t</p>\r\n",
      "\t\t\t\t</div>\r\n",
      "\t\t\t\t<a href=\"#\" class=\"btn_close pop_close\">닫기</a>\r\n",
      "\t\t\t</article>\r\n",
      "\t\t\t<!-- //pop_layer -->\r\n",
      "\t\t</div>\r\n",
      "\t\t<!-- //container -->\r\n",
      "\t\t\r\n",
      "\n",
      "\t\t<!-- footer -->\n",
      "\t\t<footer id=\"footer\">\n",
      "\t\t\t<div>\n",
      "\t\t\t\t<ul class=\"foot_menu\">\n",
      "\t\t\t\t\t<li><a href=\"/etc/terms.html\">이용약관</a></li>\n",
      "\t\t\t\t\t<li><a class=\"policy\" href=\"/etc/privacy.html\">개인정보취급방침</a></li>\n",
      "\t\t\t\t\t<li><a href=\"/etc/email.html\">이메일무단수집거부</a></li>\n",
      "\t\t\t\t\t<li><a href=\"/cscenter/faq.html\">고객센터</a></li>\n",
      "\t\t\t\t\t<li><a href=\"/etc/sitemap.html\">사이트맵</a></li>\n",
      "\t\t\t\t</ul>\n",
      "\t\t\t\t<ul class=\"foot_sns\">\n",
      "\t\t\t\t\t<li><a href=\"http://www.pelicana.net/\" class=\"btn_blog\" target=\"_blank\" title=\"새창열림\">블로그</a></li>\t\t\t\t\t\n",
      "\t\t\t\t\t<li><a href=\"http://facebook.com/pelicana1982\" class=\"btn_fb\" target=\"_blank\" title=\"새창열림\">페이스북</a></li>\n",
      "\t\t\t\t\t<li><a href=\"https://twitter.com/pelicana1982\" class=\"btn_twt\" target=\"_blank\" title=\"새창열림\">트위터</a></li>\n",
      "\t\t\t\t\t<li><a href=\"http://pelimall.co.kr/skin_default/index_login.php\" class=\"btn_skin\" target=\"_blank\" title=\"새창열림\">페리몰</a></li>\n",
      "\t\t\t\t</ul>\n",
      "\t\t\t\t<ul class=\"foot_info\">\n",
      "\t\t\t\t\t<li>충청남도 계룡시 두마면 왕대로 79  대표이사:양희권  사업자번호: 314-81-03278</li>\n",
      "\t\t\t\t\t<li>Tel:042-551-2211</li>\n",
      "\t\t\t\t\t<li>Fax:042-551-4600</li>\n",
      "\t\t\t\t</ul>\n",
      "\t\t\t\t<p>COPYRIGHT &copy;  2017 PELICANA.ALL RIGHTS RESERVED</p>\n",
      "\t\t\t</div>\n",
      "\t\t\t<p>주문전화:1588.9292</p>\n",
      "\t\t</footer>\n",
      "\t\t<!-- //footer -->\n",
      "\t</div>\n",
      "\t<!-- //wrap -->\n",
      "</body>\n",
      "\n",
      "<script>\n",
      "  (function(i,s,o,g,r,a,m){i['GoogleAnalyticsObject']=r;i[r]=i[r]||function(){\n",
      "  (i[r].q=i[r].q||[]).push(arguments)},i[r].l=1*new Date();a=s.createElement(o),\n",
      "  m=s.getElementsByTagName(o)[0];a.async=1;a.src=g;m.parentNode.insertBefore(a,m)\n",
      "  })(window,document,'script','https://www.google-analytics.com/analytics.js','ga');\n",
      "\n",
      "  ga('create', 'UA-100139361-1', 'auto');\n",
      "  ga('send', 'pageview');\n",
      "\n",
      "</script>\n",
      "\n",
      "</html>\n",
      "\n",
      "\n"
     ]
    }
   ],
   "source": [
    "# 엉뚱한 encoding의 예 : 페리카나 사이트\n",
    "\n",
    "import requests\n",
    "\n",
    "url = \"http://www.pelicana.co.kr/store/stroe_search.html?page=1&branch_name=&gu=&si=\"\n",
    "response = requests.get(url)\n",
    "# print(response.encoding)\n",
    "# print(response.text)\n",
    "\n",
    "print(response.content.decode(\"utf8\", \"ignore\"))  # utf8 룰에 맞지 않는 문자들은 무시 !!!"
   ]
  },
  {
   "cell_type": "code",
   "execution_count": 57,
   "metadata": {},
   "outputs": [
    {
     "name": "stdout",
     "output_type": "stream",
     "text": [
      "<!DOCTYPE html> \n",
      "<html lang=\"ko\">\n",
      "<head>\n",
      "\t<meta charset=\"utf-8\">\n",
      "\t<title>페리카나</title>\n",
      "\t<meta http-equiv=\"X-UA-Compatible\" content=\"IE=edge,chrome=1\" />\n",
      "\t<meta name=\"viewport\" content=\"width=1000\" />\n",
      "\t<link rel=\"shortcut icon\" type=\"image/x-icon\" href=\"/resources/images/favicon.ico\" />\n",
      "\n",
      "\t<!-- style -->\n",
      "\t<link rel=\"stylesheet\" href=\"/resources/css/common.css\" media=\"all\" />\n",
      "\t<link rel=\"stylesheet\" href=\"/resources/css/contents.css\" media=\"all\" />\n",
      "\t<!--[if lte IE 8]>\n",
      "\t\t  <link rel=\"stylesheet\" href=\"/resources/css/ie.css\" />\n",
      "\t<![endif]-->\n",
      "\t<!-- //style -->\n",
      "\n",
      "\t<!-- javascript -->\n",
      "\t<script src=\"/resources/js/lib/jquery-1.11.1.min.js\"></script>\n",
      "\t<script src=\"/resources/js/lib/jquery-ui-1.10.3.custom.min.js\"></script>\n",
      "\t<script src=\"/resources/js/lib/modernizr-2.6.2.min.js\"></script>\n",
      "\n",
      "\t<script src=\"/resources/js/lib/json2.js\"></script>\n",
      "\t<!--[if lt IE 9]>\n",
      "\t\t<script src=\"http://html5shiv.googlecode.com/svn/trunk/html5.js\"></script>\n",
      "\t<![endif]-->\n",
      "\t<script src=\"/resources/js/plugins.js\"></script>\n",
      "\t<script src=\"/resources/js/ui_script.js\"></script>\n",
      "\t<script type=\"text/javascript\">\n",
      "\t\t$(function(){\n",
      "\t\t\t$('.best_view > ul').bxSlider({\n",
      "\t\t\t  pagerCustom: '.best_list',\n",
      "\t\t\t  controls:false\n",
      "\t\t\t});\n",
      "\t\t})\n",
      "\t</script>\n",
      "\t<!-- //javascript -->\n",
      "</head>\n",
      "\n",
      "<body>\n",
      "\t<!-- skipNavi -->\n",
      "\t<div id=\"skipNavi\">\n",
      "\t\t<a href=\"#contents\">본문 바로가기</a>\n",
      "\t\t<a href=\"#gnb\">주메뉴 바로가기</a>\n",
      "\t\t<a href=\"#footer\">사이트정보 바로가기</a>\n",
      "\t</div>\n",
      "\t<!-- //skipNavi -->\n",
      "\n",
      "\t<!-- wrap -->\n",
      "\t<div id=\"wrap\">\n",
      "\t\t<!-- header -->\n",
      "\t\t<header id=\"header\">\n",
      "\t\t\t<div class=\"ly_inner\">\n",
      "\t\t\t\t<h1 id=\"logo\"><a href=\"/main.html\"><img src=\"/resources/images/common/logo.png\" alt=\"\" /></a></h1>\n",
      "\t\t\t\t<ul class=\"head_util\">\n",
      "\t\t\t\t\t<li><a href=\"/member/login.html\">로그인</a></li>     \n",
      "\t\t\t\t\t<li><a href=\"/member/join_step1.html\">회원가입</a></li>\n",
      "\n",
      "\t\t\t\t\t<li><a href=\"/brand/company.html\">기업소개</a></li>\n",
      "\t\t\t\t\t<li><a href=\"/franchise/franchise_step.html\">가맹점 개설안내</a></li>\n",
      "\t\t\t\t</ul>\n",
      "\t\t\t\t<ul class=\"head_language\">\n",
      "\t\t\t\t\t<li><a href=\"/en/\" target=\"_blank\" title=\"새창열림\">ENGLISH</a></li>     \n",
      "\t\t\t\t\t<li><a href=\"/cn/\" target=\"_blank\" title=\"새창열림\">CHINESE</a></li>\n",
      "\t\t\t\t</ul>\n",
      "\t\t\t\t\n",
      "\t\t\t\t<nav id=\"gnb\">\n",
      "\t\t\t\t\t<ul>\n",
      "\t\t\t\t\t\t<li><a href=\"/menu/best_menu.html\" class=\"insub\">MENU</a>\n",
      "\t\t\t\t\t\t\t<ul>\n",
      "\t\t\t\t\t\t\t\t<li><a href=\"/menu/best_menu.html\">인기메뉴</a></li>\n",
      "\t\t\t\t\t\t\t\t<li><a href=\"/menu/new_menu.html\">신제품</a></li>\n",
      "\t\t\t\t\t\t\t\t<li><a href=\"/menu/menu_original.html\">치킨류</a></li>\n",
      "\t\t\t\t\t\t\t\t<li><a href=\"/menu/side_menu.html\">사이드</a></li>\n",
      "\t\t\t\t\t\t\t</ul>\n",
      "\t\t\t\t\t\t</li>\n",
      "\t\t\t\t\t\t<li><a href=\"/store/stroe_search.html\" class=\"insub\">STORE</a>\n",
      "\t\t\t\t\t\t\t<ul>\n",
      "\t\t\t\t\t\t\t\t<li><a href=\"/store/stroe_search.html\">매장찾기</a></li>\n",
      "\t\t\t\t\t\t\t\t<li><a href=\"/store/global.html\">해외매장</a></li>\n",
      "\t\t\t\t\t\t\t</ul>\n",
      "\t\t\t\t\t\t</li>\n",
      "\t\t\t\t\t\t<li><a href=\"/brand/ceo.html\" class=\"insub\">BRAND</a>\n",
      "\t\t\t\t\t\t\t<ul>\n",
      "\t\t\t\t\t\t\t\t<li><a href=\"/brand/ceo.html\">CEO인사말</a></li>\n",
      "\t\t\t\t\t\t\t\t<li><a href=\"/brand/history.html\">연혁</a></li>\n",
      "\t\t\t\t\t\t\t\t<li><a href=\"/brand/company.html\">기업개요</a></li>\n",
      "\t\t\t\t\t\t\t\t<li><a href=\"/brand/ci.html\">CI</a></li>\n",
      "\t\t\t\t\t\t\t\t<li class=\"dep2_center\"><a href=\"/brand/global.html\">글로벌 페리카나</a></li>\n",
      "\t\t\t\t\t\t\t\t<li><a href=\"/brand/map.html\">오시는길</a></li>\n",
      "\t\t\t\t\t\t\t</ul>\n",
      "\t\t\t\t\t\t</li>\n",
      "\t\t\t\t\t\t<li class=\"gnb_center\"><a href=\"/e_coupon/e_coupon.html\" class=\"insub\">E-쿠폰</a>\n",
      "\t\t\t\t\t\t\t<ul>\n",
      "\t\t\t\t\t\t\t\t<li><a href=\"/e_coupon/e_coupon.html\">E-쿠폰</a></li>\n",
      "\t\t\t\t\t\t\t\t<li><a href=\"/e_coupon/e_coupon_menu.html\">E-쿠폰 메뉴</a></li>\n",
      "\t\t\t\t\t\t\t\t<li><a href=\"/e_coupon/e_coupon_inquiry.html\">E-쿠폰 문의</a></li>\n",
      "\t\t\t\t\t\t\t</ul>\n",
      "\t\t\t\t\t\t</li>\n",
      "\t\t\t\t\t\t<li class=\"last\"><a href=\"/community/notice_list.html\" class=\"insub\">COMMUNITY</a>\n",
      "\t\t\t\t\t\t\t<ul>\n",
      "\t\t\t\t\t\t\t\t<li><a href=\"/community/notice_list.html\">공지사항</a></li>\n",
      "\t\t\t\t\t\t\t\t<li><a href=\"/community/press_list.html\">보도자료</a></li>\n",
      "\t\t\t\t\t\t\t\t<li><a href=\"/community/cf.html\">광고</a></li>\n",
      "\t\t\t\t\t\t\t\t<li><a href=\"/community/event_list.html\">이벤트</a></li>\n",
      "\t\t\t\t\t\t\t\t<li class=\"dep2_center\"><a href=\"/community/giftcard.html\">상품권</a></li>\n",
      "\t\t\t\t\t\t\t</ul>\n",
      "\t\t\t\t\t\t</li>\n",
      "\t\t\t\t\t\t<li class=\"head_order\"><a href=\"/order/order_address.html\">ORDER</a></li>\n",
      "\t\t\t\t\t</ul>\n",
      "\t\t\t\t</nav>\n",
      "\t\t\t</div>\n",
      "\t\t\t<div class=\"bg_gnb\"></div>\n",
      "\t\t</header>\n",
      "\t\t<!-- //header -->\n",
      "\n",
      "\r\n",
      "\t\t<script type=\"text/javascript\">\r\n",
      "\t\t\t$(function(){\r\n",
      "\t\t\t\t$('.store_slider > ul').bxSlider({\r\n",
      "\t\t\t\t\tpager:false,\r\n",
      "\t\t\t\t\tslideWidth: 180,\r\n",
      "\t\t\t\t\tslideMargin: 20,\r\n",
      "\t\t\t\t\tminSlides: 1,\r\n",
      "\t\t\t\t\tmaxSlides: 3,\r\n",
      "\t\t\t\t\tprevText:'이전',\r\n",
      "\t\t\t\t\tnextText:'다음'\r\n",
      "\t\t\t\t});\r\n",
      "\t\t\t})\r\n",
      "\t\t</script>\r\n",
      "\r\n",
      "<script type=\"text/javascript\" src=\"http://openapi.map.naver.com/openapi/v2/maps.js?clientId=18IZPGVjz4_xa3pKrvWz\"></script>\r\n",
      "<script type=\"text/javascript\">\r\n",
      "\r\n",
      "function siChange(si, gu){\r\n",
      "\t\t$.ajax({\r\n",
      "\t\ttype:\"POST\"\r\n",
      "\t\t,url:'/ajax/gu.html?si_val='+encodeURI(si)+'&gu_val='+encodeURI(gu)+''\r\n",
      "\t\t,cache: false\r\n",
      "\t\t,success:function(html){\r\n",
      "\t\t\t$(\"#gu\").html(\"\");\r\n",
      "\t\t\t$(\"#gu\").html(html);\r\n",
      "\t\t}\r\n",
      "\t\t,error:function(event, request, settings){ alert( event.responseText ); }\r\n",
      "\t\t} );\r\n",
      "}\r\n",
      "\r\n",
      "function store_view(x, y, branch_name, branch_phone, branch_address ){\r\n",
      "\r\n",
      "\t\t$(\"#map\").html(\"\");\r\n",
      "\r\n",
      "\t\tvar maps_y = y;\r\n",
      "\t\tvar maps_x = x;\r\n",
      "\r\n",
      "\t\t   var oPoint = new nhn.api.map.LatLng(maps_y, maps_x ); \r\n",
      "\t\t   nhn.api.map.setDefaultPoint('LatLng');\r\n",
      "\t\t   oMap = new nhn.api.map.Map('map', {\r\n",
      "\t\t\t  center : oPoint,\r\n",
      "\t\t\t  level : 11, // - 초기 줌 레벨은 10이다.\r\n",
      "\t\t\t  enableWheelZoom : true,\r\n",
      "\t\t\t  enableDragPan : true,\r\n",
      "\t\t\t  enableDblClickZoom : false,\r\n",
      "\t\t\t  mapMode : 0,\r\n",
      "\t\t\t  activateTrafficMap : false,\r\n",
      "\t\t\t  activateBicycleMap : false,\r\n",
      "\t\t\t  activateRealtyMap : true,\r\n",
      "\t\t\t  minMaxLevel : [ 1, 14 ],\r\n",
      "\t\t\t  size : new nhn.api.map.Size(450, 338)\r\n",
      "\t\t   });\r\n",
      "\t\t   var mapZoom = new nhn.api.map.ZoomControl(); // - 줌 컨트롤 선언\r\n",
      "\t\t   mapZoom.setPosition({left:20, bottom:20}); // - 줌 컨트롤 위치 지정.\r\n",
      "\t\t   oMap.addControl(mapZoom); // - 줌 컨트롤 추가.\r\n",
      "\r\n",
      "\t\t   var oSize = new nhn.api.map.Size(28, 37);\r\n",
      "\t\t   var oOffset = new nhn.api.map.Size(14, 37);\r\n",
      "\t\t   var oIcon = new nhn.api.map.Icon('http://static.naver.com/maps2/icons/pin_spot2.png', oSize, oOffset);\r\n",
      "\t\t   // - Draggable Marker 의 경우 Icon 인자는 Sprite Icon이 된다.\r\n",
      "\t\t   // - 따라서 Sprite Icon 을 사용하기 위해 기본적으로 사용되는 값을 지정한다.\r\n",
      "\t\t   // - Sprite Icon 을 사용하기 위해서 상세한 내용은 레퍼런스 페이지의 nhn.api.map.SpriteIcon 객체를 참조하면 된다.\r\n",
      "\r\n",
      "\t\tvar oMarker1 = new nhn.api.map.Marker(oIcon, { title : branch_name });  //마커 생성 \r\n",
      "\t\toMarker1.setPoint(oPoint); //마커 표시할 좌표 선택\r\n",
      "\t\toMap.addOverlay(oMarker1); //마커를 지도위에 표현 \r\n",
      "\t\tvar oLabel1 = new nhn.api.map.MarkerLabel(); // - 마커 라벨 선언. \r\n",
      "\t\toMap.addOverlay(oLabel1); // - 마커 라벨 지도에 추가. 기본은 라벨이 보이지 않는 상태로 추가됨. \r\n",
      "\t\toLabel1.setVisible(true, oMarker1); // 마커 라벨 보이기 \r\n",
      "\r\n",
      "\t\t$(\"#branch_name\").html(branch_name);\r\n",
      "\t\t$(\"#branch_phone\").html(branch_phone);\r\n",
      "\t\t$(\"#branch_address\").html(branch_address);\r\n",
      "\t\tlayerShow('#popStore')\r\n",
      "\t}\r\n",
      "\r\n",
      "\tfunction store_search(){\r\n",
      "\t\tvar frm = document.frm;\r\n",
      "\t\tfrm.submit();\r\n",
      "\t}\r\n",
      "\r\n",
      "\r\n",
      "\t$(document).ready(function(){\r\n",
      "\t\t\t});\r\n",
      "</script>\r\n",
      "\t\t<!-- container -->\r\n",
      "\t\t<div id=\"container\">\r\n",
      "\t\t\t<!-- location -->\r\n",
      "\t\t\t<section id=\"location\">\r\n",
      "\t\t\t\t<div>\r\n",
      "\t\t\t\t\t<ul>\r\n",
      "\t\t\t\t\t\t<li><a href=\"#\">홈</a></li>\r\n",
      "\t\t\t\t\t\t<li><span>STORE</span></li>\r\n",
      "\t\t\t\t\t\t<li><strong>매장찾기</strong></li>\r\n",
      "\t\t\t\t\t</ul>\r\n",
      "\t\t\t\t</div>\r\n",
      "\t\t\t</section>\r\n",
      "\t\t\t<!-- //location -->\r\n",
      "\r\n",
      "\t\t\t<div class=\"ly_inner\">\r\n",
      "\t\t\t\t<!-- lnb -->\r\n",
      "\t\t\t\t<section id=\"lnb\">\r\n",
      "\t<h1>STORE</h1>\r\n",
      "\t<ul>\r\n",
      "\t\t<li><a href=\"/store/stroe_search.html\">매장찾기</a></li>\r\n",
      "\t\t<li><a href=\"/store/global.html\">해외매장</a></li>\r\n",
      "\t</ul>\r\n",
      "</section>\t\t\t\t<!-- //lnb -->\r\n",
      "\t\t\t\t<!-- contents -->\r\n",
      "\t\t\t\t<section id=\"contents\">\r\n",
      "\t\t\t\t\t<h1 id=\"page_tit\">매장찾기</h1>\r\n",
      "\r\n",
      "\t\t\t\t\t<h2 class=\"cont_tit f14\">신규오픈매장</h2>\r\n",
      "\t\t\t\t\t<div class=\"new_store\">\r\n",
      "\t\t\t\t\t\t<div class=\"store_slider\">\r\n",
      "\t\t\t\t\t\t\t<ul>\r\n",
      "\t\t\t\t\t\t\t\t\t\t\t\t\t\t\t\t<li>\r\n",
      "\t\t\t\t\t\t\t\t\t<a href=\"#none\"  onclick=\"store_view(' ',' ','오크밸리점','033-744-8959','강원도 원주시    ' );\">\r\n",
      "\t\t\t\t\t\t\t\t\t\t<figure>\r\n",
      "\t\t\t\t\t\t\t\t\t\t\t\t\t\t\t\t\t\t\t\t\t\t\t<img src=\"/resources/images/store/@store.jpg\" alt=\"\" />\r\n",
      "\t\t\t\t\t\t\t\t\t\t\t\t\t\t\t\t\t\t\t\t\t\t<figcaption><span class=\"ic_txt\">NEW</span> 오크밸리점</figcaption>\r\n",
      "\t\t\t\t\t\t\t\t\t\t</figure>\r\n",
      "\t\t\t\t\t\t\t\t\t</a>\r\n",
      "\t\t\t\t\t\t\t\t\t</li>\r\n",
      "\t\t\t\t\t\t\t\t\t\t\t\t\t\t\t\t\t<li>\r\n",
      "\t\t\t\t\t\t\t\t\t<a href=\"#none\"  onclick=\"store_view('126.7200442103','33.279526345','남원점','064-764-8292','제주특별자치도 서귀포시 남원읍 남원리 100-1' );\">\r\n",
      "\t\t\t\t\t\t\t\t\t\t<figure>\r\n",
      "\t\t\t\t\t\t\t\t\t\t\t\t\t\t\t\t\t\t\t\t\t\t\t<img src=\"/resources/images/store/@store.jpg\" alt=\"\" />\r\n",
      "\t\t\t\t\t\t\t\t\t\t\t\t\t\t\t\t\t\t\t\t\t\t<figcaption><span class=\"ic_txt\">NEW</span> 남원점</figcaption>\r\n",
      "\t\t\t\t\t\t\t\t\t\t</figure>\r\n",
      "\t\t\t\t\t\t\t\t\t</a>\r\n",
      "\t\t\t\t\t\t\t\t\t</li>\r\n",
      "\t\t\t\t\t\t\t\t\t\t\t\t\t\t\t\t\t<li>\r\n",
      "\t\t\t\t\t\t\t\t\t<a href=\"#none\"  onclick=\"store_view('127.1561087507','35.8745766325','호성점','063-245-9282','전라북도 전주시덕진구 호성동 2길 9' );\">\r\n",
      "\t\t\t\t\t\t\t\t\t\t<figure>\r\n",
      "\t\t\t\t\t\t\t\t\t\t\t\t\t\t\t\t\t\t\t\t\t\t\t<img src=\"/resources/images/store/@store.jpg\" alt=\"\" />\r\n",
      "\t\t\t\t\t\t\t\t\t\t\t\t\t\t\t\t\t\t\t\t\t\t<figcaption><span class=\"ic_txt\">NEW</span> 호성점</figcaption>\r\n",
      "\t\t\t\t\t\t\t\t\t\t</figure>\r\n",
      "\t\t\t\t\t\t\t\t\t</a>\r\n",
      "\t\t\t\t\t\t\t\t\t</li>\r\n",
      "\t\t\t\t\t\t\t\t\t\t\t\t\t\t\t\t\t<li>\r\n",
      "\t\t\t\t\t\t\t\t\t<a href=\"#none\"  onclick=\"store_view('126.8708164426','35.55743165','상동점','063-535-9889','전라북도 정읍시 상동 265-1(충정로 37)' );\">\r\n",
      "\t\t\t\t\t\t\t\t\t\t<figure>\r\n",
      "\t\t\t\t\t\t\t\t\t\t\t\t\t\t\t\t\t\t\t\t\t\t\t<img src=\"/resources/images/store/@store.jpg\" alt=\"\" />\r\n",
      "\t\t\t\t\t\t\t\t\t\t\t\t\t\t\t\t\t\t\t\t\t\t<figcaption><span class=\"ic_txt\">NEW</span> 상동점</figcaption>\r\n",
      "\t\t\t\t\t\t\t\t\t\t</figure>\r\n",
      "\t\t\t\t\t\t\t\t\t</a>\r\n",
      "\t\t\t\t\t\t\t\t\t</li>\r\n",
      "\t\t\t\t\t\t\t\t\t\t\t\t\t\t\t\t\t<li>\r\n",
      "\t\t\t\t\t\t\t\t\t<a href=\"#none\"  onclick=\"store_view(' ',' ','강상점','031-775-8259','경기도 양평군 강상면 병산리69-12' );\">\r\n",
      "\t\t\t\t\t\t\t\t\t\t<figure>\r\n",
      "\t\t\t\t\t\t\t\t\t\t\t\t\t\t\t\t\t\t\t\t\t\t\t<img src=\"/resources/images/store/@store.jpg\" alt=\"\" />\r\n",
      "\t\t\t\t\t\t\t\t\t\t\t\t\t\t\t\t\t\t\t\t\t\t<figcaption><span class=\"ic_txt\">NEW</span> 강상점</figcaption>\r\n",
      "\t\t\t\t\t\t\t\t\t\t</figure>\r\n",
      "\t\t\t\t\t\t\t\t\t</a>\r\n",
      "\t\t\t\t\t\t\t\t\t</li>\r\n",
      "\t\t\t\t\t\t\t\t\t\t\t\t\t\t\t\t\t<li>\r\n",
      "\t\t\t\t\t\t\t\t\t<a href=\"#none\"  onclick=\"store_view('127.1166740686','36.9893805663','참이슬점','031-654-9923','경기도 평택시 합정동 876-13' );\">\r\n",
      "\t\t\t\t\t\t\t\t\t\t<figure>\r\n",
      "\t\t\t\t\t\t\t\t\t\t\t\t\t\t\t\t\t\t\t\t\t\t\t<img src=\"/resources/images/store/@store.jpg\" alt=\"\" />\r\n",
      "\t\t\t\t\t\t\t\t\t\t\t\t\t\t\t\t\t\t\t\t\t\t<figcaption><span class=\"ic_txt\">NEW</span> 참이슬점</figcaption>\r\n",
      "\t\t\t\t\t\t\t\t\t\t</figure>\r\n",
      "\t\t\t\t\t\t\t\t\t</a>\r\n",
      "\t\t\t\t\t\t\t\t\t</li>\r\n",
      "\t\t\t\t\t\t\t\t\t\t\t\t\t\t\t</ul>\r\n",
      "\t\t\t\t\t\t</div>\r\n",
      "\t\t\t\t\t</div>\r\n",
      "\r\n",
      "\t\t\t\t\t<h2 class=\"cont_tit f14 mt40\">매장찾기</h2>\r\n",
      "\t\t\t\t\t<form action=\"/store/stroe_search.html\" method=\"post\" name=\"frm\">\r\n",
      "\t\t\t\t\t<input type=\"hidden\" name=\"page\" value=\"1\" />\r\n",
      "\t\t\t\t\t<div class=\"box_style bg_gray mt20\">\r\n",
      "\t\t\t\t\t\t<ul class=\"f_list\">\r\n",
      "\t\t\t\t\t\t\t<li>\r\n",
      "\t\t\t\t\t\t\t\t<strong><label for=\"storeArea1\">지역별</label></strong>\r\n",
      "\t\t\t\t\t\t\t\t<select id=\"storeArea1\" title=\"시/도 선택\" name=\"si\" onchange=\"siChange(this.value);\" id=\"si\">\r\n",
      "\t\t\t\t\t\t\t\t\t\t<option value=\"\">시/도</option>\r\n",
      "\t\t\t\t\t\t\t\tselect a_si from tb_add_tab where a_si != '' and a_si !='��/��' and a_si != '��/�� ����' group by a_si\t\t\t\t\t\t\t\t\t\t\t<option value=\"강원도\"  >강원도</option>\r\n",
      "\t\t\t\t\t\t\t\t\t\t\t\t\t\t\t\t\t\t\t<option value=\"경기도\"  >경기도</option>\r\n",
      "\t\t\t\t\t\t\t\t\t\t\t\t\t\t\t\t\t\t\t<option value=\"경상남도\"  >경상남도</option>\r\n",
      "\t\t\t\t\t\t\t\t\t\t\t\t\t\t\t\t\t\t\t<option value=\"경상북도\"  >경상북도</option>\r\n",
      "\t\t\t\t\t\t\t\t\t\t\t\t\t\t\t\t\t\t\t<option value=\"광주광역시\"  >광주광역시</option>\r\n",
      "\t\t\t\t\t\t\t\t\t\t\t\t\t\t\t\t\t\t\t<option value=\"대구광역시\"  >대구광역시</option>\r\n",
      "\t\t\t\t\t\t\t\t\t\t\t\t\t\t\t\t\t\t\t<option value=\"대전광역시\"  >대전광역시</option>\r\n",
      "\t\t\t\t\t\t\t\t\t\t\t\t\t\t\t\t\t\t\t<option value=\"부산광역시\"  >부산광역시</option>\r\n",
      "\t\t\t\t\t\t\t\t\t\t\t\t\t\t\t\t\t\t\t<option value=\"서울특별시\"  >서울특별시</option>\r\n",
      "\t\t\t\t\t\t\t\t\t\t\t\t\t\t\t\t\t\t\t<option value=\"세종특별자치시\"  >세종특별자치시</option>\r\n",
      "\t\t\t\t\t\t\t\t\t\t\t\t\t\t\t\t\t\t\t<option value=\"울산광역시\"  >울산광역시</option>\r\n",
      "\t\t\t\t\t\t\t\t\t\t\t\t\t\t\t\t\t\t\t<option value=\"인천광역시\"  >인천광역시</option>\r\n",
      "\t\t\t\t\t\t\t\t\t\t\t\t\t\t\t\t\t\t\t<option value=\"전라남도\"  >전라남도</option>\r\n",
      "\t\t\t\t\t\t\t\t\t\t\t\t\t\t\t\t\t\t\t<option value=\"전라북도\"  >전라북도</option>\r\n",
      "\t\t\t\t\t\t\t\t\t\t\t\t\t\t\t\t\t\t\t<option value=\"제주도\"  >제주특별자치도</option>\r\n",
      "\t\t\t\t\t\t\t\t\t\t\t\t\t\t\t\t\t\t\t<option value=\"충청남도\"  >충청남도</option>\r\n",
      "\t\t\t\t\t\t\t\t\t\t\t\t\t\t\t\t\t\t\t<option value=\"충청북도\"  >충청북도</option>\r\n",
      "\t\t\t\t\t\t\t\t\t\t\t\t\t\t\t\t</select>\r\n",
      "\t\t\t\t\t\t\t\t<select  title=\"구/군 선택\" name=\"gu\" id=\"gu\">\r\n",
      "\t\t\t\t\t\t\t\t\t<option value=\"\">구/군 선택</option>\r\n",
      "\t\t\t\t\t\t\t\t</select>\r\n",
      "\t\t\t\t\t\t\t</li>\r\n",
      "\t\t\t\t\t\t\t<li>\r\n",
      "\t\t\t\t\t\t\t\t<strong><label for=\"storeName\">매장명</label></strong>\r\n",
      "\t\t\t\t\t\t\t\t<input id=\"storeName\" name=\"branch_name\" style=\"width:315px\" type=\"text\" title=\"매장명입력\" value=\"\" />\r\n",
      "\t\t\t\t\t\t\t</li>\r\n",
      "\t\t\t\t\t\t</ul>\r\n",
      "\t\t\t\t\t</div>\r\n",
      "\t\t\t\t\t<p class=\"t_center mt10\">\r\n",
      "\t\t\t\t\t\t<a href=\"javascript:store_search();\" class=\"button\">검색</a>\r\n",
      "\t\t\t\t\t</p>\r\n",
      "\t\t\t\t\t</form>\r\n",
      "\t\t\t\t\t\r\n",
      "\t\t\t\t\t<h2 class=\"cont_tit f14 mt40\">매장리스트</h2>\r\n",
      "\t\t\t\t\t<table class=\"table mt20\">\r\n",
      "\t\t\t\t\t\t<caption>매장리스트</caption>\r\n",
      "\t\t\t\t\t\t<colgroup>\r\n",
      "\t\t\t\t\t\t\t<col style=\"width:120px;\" />\r\n",
      "\t\t\t\t\t\t\t<col />\r\n",
      "\t\t\t\t\t\t\t<col style=\"width:120px;\" />\r\n",
      "\t\t\t\t\t\t\t<col style=\"width:90px;\" />\r\n",
      "\t\t\t\t\t\t</colgroup>\r\n",
      "\t\t\t\t\t\t<thead>\r\n",
      "\t\t\t\t\t\t\t<tr>\r\n",
      "\t\t\t\t\t\t\t\t<th scope=\"col\">매장명</th>\r\n",
      "\t\t\t\t\t\t\t\t<th scope=\"col\">주소</th>\r\n",
      "\t\t\t\t\t\t\t\t<th scope=\"col\">전화번호</th>\r\n",
      "\t\t\t\t\t\t\t\t<th scope=\"col\">상세정보</th>\r\n",
      "\t\t\t\t\t\t\t</tr>\r\n",
      "\t\t\t\t\t\t</thead>\r\n",
      "\t\t\t\t\t\t<tbody>\r\n",
      "\t\t\t\t\t\t\t\t\t\t\t\t<tr>\r\n",
      "\t\t\t\t\t\t\t\t<td class=\"t_center\">가경동점</td>\r\n",
      "\t\t\t\t\t\t\t\t<td>충청북도 청주시흥덕구 풍산로 103(복대동)</td>\r\n",
      "\t\t\t\t\t\t\t\t<td class=\"t_center\">\r\n",
      "\t\t\t\t\t\t\t\t043-233-4091</td>\r\n",
      "\t\t\t\t\t\t\t\t<td class=\"t_center\"><a href=\"#none\" class=\"button h22 btn_gray\" onclick=\"store_view('127.44140029824106','36.62931400875793','가경동점','043-233-4091','충청북도 청주시흥덕구 풍산로 103(복대동)' );\">상세정보</a></td>\r\n",
      "\t\t\t\t\t\t\t</tr>\r\n",
      "\t\t\t\t\t\t\t\t\t\t\t\t\t\t<tr>\r\n",
      "\t\t\t\t\t\t\t\t<td class=\"t_center\">가남점</td>\r\n",
      "\t\t\t\t\t\t\t\t<td>경기도 여주군 가남면 태평중앙1길 8-6</td>\r\n",
      "\t\t\t\t\t\t\t\t<td class=\"t_center\">\r\n",
      "\t\t\t\t\t\t\t\t031-883-5746</td>\r\n",
      "\t\t\t\t\t\t\t\t<td class=\"t_center\"><a href=\"#none\" class=\"button h22 btn_gray\" onclick=\"store_view('127.54592677229567','37.202778242276715','가남점','031-883-5746','경기도 여주군 가남면 태평중앙1길 8-6' );\">상세정보</a></td>\r\n",
      "\t\t\t\t\t\t\t</tr>\r\n",
      "\t\t\t\t\t\t\t\t\t\t\t\t\t\t<tr>\r\n",
      "\t\t\t\t\t\t\t\t<td class=\"t_center\">가래비점</td>\r\n",
      "\t\t\t\t\t\t\t\t<td>경기도 양주시 광적면 가납리 가래비길 24</td>\r\n",
      "\t\t\t\t\t\t\t\t<td class=\"t_center\">\r\n",
      "\t\t\t\t\t\t\t\t031-855-6126</td>\r\n",
      "\t\t\t\t\t\t\t\t<td class=\"t_center\"><a href=\"#none\" class=\"button h22 btn_gray\" onclick=\"store_view('126.98731058734412','37.82258423416118','가래비점','031-855-6126','경기도 양주시 광적면 가납리 가래비길 24' );\">상세정보</a></td>\r\n",
      "\t\t\t\t\t\t\t</tr>\r\n",
      "\t\t\t\t\t\t\t\t\t\t\t\t\t\t<tr>\r\n",
      "\t\t\t\t\t\t\t\t<td class=\"t_center\">가마점</td>\r\n",
      "\t\t\t\t\t\t\t\t<td>충청북도 청주시서원구 남이면 가마리 397</td>\r\n",
      "\t\t\t\t\t\t\t\t<td class=\"t_center\">\r\n",
      "\t\t\t\t\t\t\t\t043-287-2003</td>\r\n",
      "\t\t\t\t\t\t\t\t<td class=\"t_center\"><a href=\"#none\" class=\"button h22 btn_gray\" onclick=\"store_view('127.4709615037','36.5988550357','가마점','043-287-2003','충청북도 청주시서원구 남이면 가마리 397' );\">상세정보</a></td>\r\n",
      "\t\t\t\t\t\t\t</tr>\r\n",
      "\t\t\t\t\t\t\t\t\t\t\t\t\t\t<tr>\r\n",
      "\t\t\t\t\t\t\t\t<td class=\"t_center\">가산점</td>\r\n",
      "\t\t\t\t\t\t\t\t<td>경기도 포천시 가산면 가산로 369(1층, 서편 2번째칸)</td>\r\n",
      "\t\t\t\t\t\t\t\t<td class=\"t_center\">\r\n",
      "\t\t\t\t\t\t\t\t031-544-0486</td>\r\n",
      "\t\t\t\t\t\t\t\t<td class=\"t_center\"><a href=\"#none\" class=\"button h22 btn_gray\" onclick=\"store_view('127.18622512381094','37.84679107082076','가산점','031-544-0486','경기도 포천시 가산면 가산로 369(1층, 서편 2번째칸)' );\">상세정보</a></td>\r\n",
      "\t\t\t\t\t\t\t</tr>\r\n",
      "\t\t\t\t\t\t\t\t\t\t\t\t\t\t<tr>\r\n",
      "\t\t\t\t\t\t\t\t<td class=\"t_center\">가수원점</td>\r\n",
      "\t\t\t\t\t\t\t\t<td>대전광역시 서구 가수원동 774-18</td>\r\n",
      "\t\t\t\t\t\t\t\t<td class=\"t_center\">\r\n",
      "\t\t\t\t\t\t\t\t042-541-1350</td>\r\n",
      "\t\t\t\t\t\t\t\t<td class=\"t_center\"><a href=\"#none\" class=\"button h22 btn_gray\" onclick=\"store_view('127.35156450189976','36.30074531871465','가수원점','042-541-1350','대전광역시 서구 가수원동 774-18' );\">상세정보</a></td>\r\n",
      "\t\t\t\t\t\t\t</tr>\r\n",
      "\t\t\t\t\t\t\t\t\t\t\t\t\t\t<tr>\r\n",
      "\t\t\t\t\t\t\t\t<td class=\"t_center\">가양동점</td>\r\n",
      "\t\t\t\t\t\t\t\t<td>서울특별시 강서구 강서로74길 12 (가양동)</td>\r\n",
      "\t\t\t\t\t\t\t\t<td class=\"t_center\">\r\n",
      "\t\t\t\t\t\t\t\t </td>\r\n",
      "\t\t\t\t\t\t\t\t<td class=\"t_center\"><a href=\"#none\" class=\"button h22 btn_gray\" onclick=\"store_view('126.84170552834682','37.56748111916124','가양동점',' ','서울특별시 강서구 강서로74길 12 (가양동)' );\">상세정보</a></td>\r\n",
      "\t\t\t\t\t\t\t</tr>\r\n",
      "\t\t\t\t\t\t\t\t\t\t\t\t\t\t<tr>\r\n",
      "\t\t\t\t\t\t\t\t<td class=\"t_center\">가오점</td>\r\n",
      "\t\t\t\t\t\t\t\t<td>대전광역시 동구 가오동 533</td>\r\n",
      "\t\t\t\t\t\t\t\t<td class=\"t_center\">\r\n",
      "\t\t\t\t\t\t\t\t042-284-0399</td>\r\n",
      "\t\t\t\t\t\t\t\t<td class=\"t_center\"><a href=\"#none\" class=\"button h22 btn_gray\" onclick=\"store_view('127.45654872024292','36.3079744337336','가오점','042-284-0399','대전광역시 동구 가오동 533' );\">상세정보</a></td>\r\n",
      "\t\t\t\t\t\t\t</tr>\r\n",
      "\t\t\t\t\t\t\t\t\t\t\t\t\t\t<tr>\r\n",
      "\t\t\t\t\t\t\t\t<td class=\"t_center\">가운점</td>\r\n",
      "\t\t\t\t\t\t\t\t<td>경기도 남양주시 가운로2길 63 가운동삼원프라자 105호</td>\r\n",
      "\t\t\t\t\t\t\t\t<td class=\"t_center\">\r\n",
      "\t\t\t\t\t\t\t\t031-557-9222</td>\r\n",
      "\t\t\t\t\t\t\t\t<td class=\"t_center\"><a href=\"#none\" class=\"button h22 btn_gray\" onclick=\"store_view('127.17888080374541','37.599332911236566','가운점','031-557-9222','경기도 남양주시 가운로2길 63 가운동삼원프라자 105호' );\">상세정보</a></td>\r\n",
      "\t\t\t\t\t\t\t</tr>\r\n",
      "\t\t\t\t\t\t\t\t\t\t\t\t\t\t<tr>\r\n",
      "\t\t\t\t\t\t\t\t<td class=\"t_center\">가장점</td>\r\n",
      "\t\t\t\t\t\t\t\t<td>대전광역시 서구 가장동 40-40</td>\r\n",
      "\t\t\t\t\t\t\t\t<td class=\"t_center\">\r\n",
      "\t\t\t\t\t\t\t\t042-532-1140</td>\r\n",
      "\t\t\t\t\t\t\t\t<td class=\"t_center\"><a href=\"#none\" class=\"button h22 btn_gray\" onclick=\"store_view('127.3850118224928','36.330482380250686','가장점','042-532-1140','대전광역시 서구 가장동 40-40' );\">상세정보</a></td>\r\n",
      "\t\t\t\t\t\t\t</tr>\r\n",
      "\t\t\t\t\t\t\t\t\t\t\t\t\t</tbody>\r\n",
      "\t\t\t\t\t</table>\r\n",
      "\r\n",
      "\t\t\t\t\t<p class=\"list_paging\">\r\n",
      "\t\t\t\t\t\t<img src='../resources/images/common/paging_first.gif' alt='첫페이지로 이동' /><img src='../resources/images/common/paging_prev.gif' alt='이전페이지로 이동' /><span><strong>1</strong><a href='/store/stroe_search.html?page=2&branch_name=&gu=&si='>2</a><a href='/store/stroe_search.html?page=3&branch_name=&gu=&si='>3</a><a href='/store/stroe_search.html?page=4&branch_name=&gu=&si='>4</a><a href='/store/stroe_search.html?page=5&branch_name=&gu=&si='>5</a><a href='/store/stroe_search.html?page=6&branch_name=&gu=&si='>6</a><a href='/store/stroe_search.html?page=7&branch_name=&gu=&si='>7</a><a href='/store/stroe_search.html?page=8&branch_name=&gu=&si='>8</a><a href='/store/stroe_search.html?page=9&branch_name=&gu=&si='>9</a><a href='/store/stroe_search.html?page=10&branch_name=&gu=&si='>10</a> </span><a href='/store/stroe_search.html?page=2&branch_name=&gu=&si='><img src='../resources/images/common/paging_next.gif' alt='다음페이지로 이동' /></a><a href=\"/store/stroe_search.html?page=11&branch_name=&gu=&si=\"><img src='../resources/images/common/paging_end.gif' alt='마지막페이지로 이동' /></a>\t\t\t\t\t</p>\r\n",
      "\r\n",
      "\t\t\t\t</section>\r\n",
      "\t\t\t\t<!-- //contents -->\r\n",
      "\t\t\t</div>\r\n",
      "\t\t\t<div class=\"bgLayer\"></div>\r\n",
      "\r\n",
      "\r\n",
      "\r\n",
      "\t\t\t<!-- pop_layer -->\r\n",
      "\t\t\t<article id=\"popStore\" class=\"pop_wrap pop_layer hide\">\r\n",
      "\t\t\t\t<h1>매장상세정보</h1>\r\n",
      "\t\t\t\t<div class=\"pop_cont\">\r\n",
      "\t\t\t\t\t<div class=\"store_map\" id=\"map\">\r\n",
      "\t\t\t\t\t</div>\r\n",
      "\t\t\t\t\t<table class=\"table left_tbl mt20\">\r\n",
      "\t\t\t\t\t\t<caption>매장리스트</caption>\r\n",
      "\t\t\t\t\t\t<colgroup>\r\n",
      "\t\t\t\t\t\t\t<col style=\"width:100px;\" />\r\n",
      "\t\t\t\t\t\t\t<col />\r\n",
      "\t\t\t\t\t\t</colgroup>\r\n",
      "\t\t\t\t\t\t<tbody>\r\n",
      "\t\t\t\t\t\t\t<tr>\r\n",
      "\t\t\t\t\t\t\t\t<th scope=\"row\">매장명</th>\r\n",
      "\t\t\t\t\t\t\t\t<td><strong id=\"branch_name\">진보점</strong></td>\r\n",
      "\t\t\t\t\t\t\t</tr>\r\n",
      "\t\t\t\t\t\t\t<tr>\r\n",
      "\t\t\t\t\t\t\t\t<th scope=\"row\">주소</th>\r\n",
      "\t\t\t\t\t\t\t\t<td id=\"branch_address\" >서울특별시 서대문구 북가좌1동 326-17 씨엔티테크빌딩</td>\r\n",
      "\t\t\t\t\t\t\t</tr>\r\n",
      "\t\t\t\t\t\t\t<tr>\r\n",
      "\t\t\t\t\t\t\t\t<th scope=\"row\">전화번호</th>\r\n",
      "\t\t\t\t\t\t\t\t<td id=\"branch_phone\" >02-1234-1234</td>\r\n",
      "\t\t\t\t\t\t\t</tr>\r\n",
      "\t\t\t\t\t\t</tbody>\r\n",
      "\t\t\t\t\t</table>\t\t\t\t\t\r\n",
      "\r\n",
      "\t\t\t\t\t<p class=\"t_center mt10\">\r\n",
      "\t\t\t\t\t\t<a href=\"#\" class=\"button w100 pop_close\">닫기</a>\r\n",
      "\t\t\t\t\t</p>\r\n",
      "\t\t\t\t</div>\r\n",
      "\t\t\t\t<a href=\"#\" class=\"btn_close pop_close\">닫기</a>\r\n",
      "\t\t\t</article>\r\n",
      "\t\t\t<!-- //pop_layer -->\r\n",
      "\t\t</div>\r\n",
      "\t\t<!-- //container -->\r\n",
      "\t\t\r\n",
      "\n",
      "\t\t<!-- footer -->\n",
      "\t\t<footer id=\"footer\">\n",
      "\t\t\t<div>\n",
      "\t\t\t\t<ul class=\"foot_menu\">\n",
      "\t\t\t\t\t<li><a href=\"/etc/terms.html\">이용약관</a></li>\n",
      "\t\t\t\t\t<li><a class=\"policy\" href=\"/etc/privacy.html\">개인정보취급방침</a></li>\n",
      "\t\t\t\t\t<li><a href=\"/etc/email.html\">이메일무단수집거부</a></li>\n",
      "\t\t\t\t\t<li><a href=\"/cscenter/faq.html\">고객센터</a></li>\n",
      "\t\t\t\t\t<li><a href=\"/etc/sitemap.html\">사이트맵</a></li>\n",
      "\t\t\t\t</ul>\n",
      "\t\t\t\t<ul class=\"foot_sns\">\n",
      "\t\t\t\t\t<li><a href=\"http://www.pelicana.net/\" class=\"btn_blog\" target=\"_blank\" title=\"새창열림\">블로그</a></li>\t\t\t\t\t\n",
      "\t\t\t\t\t<li><a href=\"http://facebook.com/pelicana1982\" class=\"btn_fb\" target=\"_blank\" title=\"새창열림\">페이스북</a></li>\n",
      "\t\t\t\t\t<li><a href=\"https://twitter.com/pelicana1982\" class=\"btn_twt\" target=\"_blank\" title=\"새창열림\">트위터</a></li>\n",
      "\t\t\t\t\t<li><a href=\"http://pelimall.co.kr/skin_default/index_login.php\" class=\"btn_skin\" target=\"_blank\" title=\"새창열림\">페리몰</a></li>\n",
      "\t\t\t\t</ul>\n",
      "\t\t\t\t<ul class=\"foot_info\">\n",
      "\t\t\t\t\t<li>충청남도 계룡시 두마면 왕대로 79  대표이사:양희권  사업자번호: 314-81-03278</li>\n",
      "\t\t\t\t\t<li>Tel:042-551-2211</li>\n",
      "\t\t\t\t\t<li>Fax:042-551-4600</li>\n",
      "\t\t\t\t</ul>\n",
      "\t\t\t\t<p>COPYRIGHT &copy;  2017 PELICANA.ALL RIGHTS RESERVED</p>\n",
      "\t\t\t</div>\n",
      "\t\t\t<p>주문전화:1588.9292</p>\n",
      "\t\t</footer>\n",
      "\t\t<!-- //footer -->\n",
      "\t</div>\n",
      "\t<!-- //wrap -->\n",
      "</body>\n",
      "\n",
      "<script>\n",
      "  (function(i,s,o,g,r,a,m){i['GoogleAnalyticsObject']=r;i[r]=i[r]||function(){\n",
      "  (i[r].q=i[r].q||[]).push(arguments)},i[r].l=1*new Date();a=s.createElement(o),\n",
      "  m=s.getElementsByTagName(o)[0];a.async=1;a.src=g;m.parentNode.insertBefore(a,m)\n",
      "  })(window,document,'script','https://www.google-analytics.com/analytics.js','ga');\n",
      "\n",
      "  ga('create', 'UA-100139361-1', 'auto');\n",
      "  ga('send', 'pageview');\n",
      "\n",
      "</script>\n",
      "\n",
      "</html>\n",
      "\n",
      "\n"
     ]
    }
   ],
   "source": [
    "# 엉뚱한 encoding의 예 : 페리카나 사이트\n",
    "\n",
    "import requests\n",
    "\n",
    "url = \"http://www.pelicana.co.kr/store/stroe_search.html?page=1&branch_name=&gu=&si=\"\n",
    "response = requests.get(url)\n",
    "response.encoding = \"utf8\"  # 아니야. 지금 페이지 인코딩은 UTF8이야 !!!\n",
    "print(response.text)"
   ]
  },
  {
   "cell_type": "markdown",
   "metadata": {},
   "source": [
    "## print를 통한 파일 쓰기"
   ]
  },
  {
   "cell_type": "code",
   "execution_count": 58,
   "metadata": {
    "collapsed": true
   },
   "outputs": [],
   "source": [
    "with open(\"python.txt\", \"wt\", encoding=\"utf8\") as f:\n",
    "    f.write(\"hello\")\n",
    "    print(\"world\", file=f)\n",
    "    f.write(\"python\")"
   ]
  },
  {
   "cell_type": "code",
   "execution_count": 59,
   "metadata": {},
   "outputs": [
    {
     "data": {
      "text/plain": [
       "'helloworld\\npython'"
      ]
     },
     "execution_count": 59,
     "metadata": {},
     "output_type": "execute_result"
    }
   ],
   "source": [
    "open(\"python.txt\", \"rt\", encoding=\"utf8\").read()"
   ]
  },
  {
   "cell_type": "markdown",
   "metadata": {},
   "source": [
    "## 파일은 순회가능한 객체"
   ]
  },
  {
   "cell_type": "code",
   "execution_count": 63,
   "metadata": {},
   "outputs": [
    {
     "name": "stdout",
     "output_type": "stream",
     "text": [
      "'helloworld\\n'\n",
      "'python'\n"
     ]
    }
   ],
   "source": [
    "# 추천 방식\n",
    "with open(\"python.txt\", \"rt\", encoding=\"utf8\") as f:\n",
    "    for line in f:  # 한 줄 씩 읽어오면서, 루프를 순회\n",
    "        print(repr(line))"
   ]
  },
  {
   "cell_type": "code",
   "execution_count": 64,
   "metadata": {},
   "outputs": [
    {
     "name": "stdout",
     "output_type": "stream",
     "text": [
      "'helloworld'\n",
      "'python'\n"
     ]
    }
   ],
   "source": [
    "# 비추 방식\n",
    "with open(\"python.txt\", \"rt\", encoding=\"utf8\") as f:\n",
    "    text = f.read()\n",
    "    for line in text.splitlines():\n",
    "        print(repr(line))"
   ]
  },
  {
   "cell_type": "markdown",
   "metadata": {},
   "source": [
    "## range"
   ]
  },
  {
   "cell_type": "code",
   "execution_count": 66,
   "metadata": {},
   "outputs": [
    {
     "data": {
      "text/plain": [
       "range(0, 1000000000000)"
      ]
     },
     "execution_count": 66,
     "metadata": {},
     "output_type": "execute_result"
    }
   ],
   "source": [
    "range(1000000000000)  # 0이상 1조 미만의 수를 만들어낼 준비"
   ]
  },
  {
   "cell_type": "code",
   "execution_count": 67,
   "metadata": {},
   "outputs": [
    {
     "ename": "NameError",
     "evalue": "name 'xrange' is not defined",
     "output_type": "error",
     "traceback": [
      "\u001b[0;31m---------------------------------------------------------------------------\u001b[0m",
      "\u001b[0;31mNameError\u001b[0m                                 Traceback (most recent call last)",
      "\u001b[0;32m<ipython-input-67-a3d34bb69eef>\u001b[0m in \u001b[0;36m<module>\u001b[0;34m()\u001b[0m\n\u001b[0;32m----> 1\u001b[0;31m \u001b[0mxrange\u001b[0m\u001b[0;34m\u001b[0m\u001b[0m\n\u001b[0m",
      "\u001b[0;31mNameError\u001b[0m: name 'xrange' is not defined"
     ]
    }
   ],
   "source": [
    "xrange"
   ]
  },
  {
   "cell_type": "markdown",
   "metadata": {},
   "source": [
    "# 정렬"
   ]
  },
  {
   "cell_type": "code",
   "execution_count": 68,
   "metadata": {
    "collapsed": true
   },
   "outputs": [],
   "source": [
    "numbers = [1, 2, 4, 5, 3, 6, 29, -10, -20]"
   ]
  },
  {
   "cell_type": "code",
   "execution_count": 69,
   "metadata": {},
   "outputs": [
    {
     "name": "stdout",
     "output_type": "stream",
     "text": [
      "None\n"
     ]
    }
   ],
   "source": [
    "print(numbers.sort())  # 오름차순 정렬"
   ]
  },
  {
   "cell_type": "code",
   "execution_count": 70,
   "metadata": {},
   "outputs": [
    {
     "data": {
      "text/plain": [
       "[-20, -10, 1, 2, 3, 4, 5, 6, 29]"
      ]
     },
     "execution_count": 70,
     "metadata": {},
     "output_type": "execute_result"
    }
   ],
   "source": [
    "numbers"
   ]
  },
  {
   "cell_type": "code",
   "execution_count": 71,
   "metadata": {
    "collapsed": true
   },
   "outputs": [],
   "source": [
    "numbers.sort(reverse=True)  # 내림차순 정렬"
   ]
  },
  {
   "cell_type": "code",
   "execution_count": 72,
   "metadata": {},
   "outputs": [
    {
     "data": {
      "text/plain": [
       "[29, 6, 5, 4, 3, 2, 1, -10, -20]"
      ]
     },
     "execution_count": 72,
     "metadata": {},
     "output_type": "execute_result"
    }
   ],
   "source": [
    "numbers"
   ]
  },
  {
   "cell_type": "code",
   "execution_count": 73,
   "metadata": {},
   "outputs": [
    {
     "data": {
      "text/plain": [
       "['John', 'Steve', 'Tom']"
      ]
     },
     "execution_count": 73,
     "metadata": {},
     "output_type": "execute_result"
    }
   ],
   "source": [
    "names = [\"Tom\", \"John\", \"Steve\"]\n",
    "names.sort()\n",
    "names"
   ]
  },
  {
   "cell_type": "markdown",
   "metadata": {},
   "source": [
    "## 튜플에는 sort() 가 없어요 !!!"
   ]
  },
  {
   "cell_type": "code",
   "execution_count": 74,
   "metadata": {},
   "outputs": [
    {
     "ename": "AttributeError",
     "evalue": "'tuple' object has no attribute 'sort'",
     "output_type": "error",
     "traceback": [
      "\u001b[0;31m---------------------------------------------------------------------------\u001b[0m",
      "\u001b[0;31mAttributeError\u001b[0m                            Traceback (most recent call last)",
      "\u001b[0;32m<ipython-input-74-851f77466153>\u001b[0m in \u001b[0;36m<module>\u001b[0;34m()\u001b[0m\n\u001b[1;32m      1\u001b[0m \u001b[0mnumbers\u001b[0m \u001b[0;34m=\u001b[0m \u001b[0;34m(\u001b[0m\u001b[0;36m1\u001b[0m\u001b[0;34m,\u001b[0m \u001b[0;36m2\u001b[0m\u001b[0;34m,\u001b[0m \u001b[0;36m4\u001b[0m\u001b[0;34m,\u001b[0m \u001b[0;36m5\u001b[0m\u001b[0;34m,\u001b[0m \u001b[0;36m3\u001b[0m\u001b[0;34m,\u001b[0m \u001b[0;36m6\u001b[0m\u001b[0;34m,\u001b[0m \u001b[0;36m29\u001b[0m\u001b[0;34m,\u001b[0m \u001b[0;34m-\u001b[0m\u001b[0;36m10\u001b[0m\u001b[0;34m,\u001b[0m \u001b[0;34m-\u001b[0m\u001b[0;36m20\u001b[0m\u001b[0;34m)\u001b[0m\u001b[0;34m\u001b[0m\u001b[0m\n\u001b[0;32m----> 2\u001b[0;31m \u001b[0mnumbers\u001b[0m\u001b[0;34m.\u001b[0m\u001b[0msort\u001b[0m\u001b[0;34m(\u001b[0m\u001b[0;34m)\u001b[0m\u001b[0;34m\u001b[0m\u001b[0m\n\u001b[0m",
      "\u001b[0;31mAttributeError\u001b[0m: 'tuple' object has no attribute 'sort'"
     ]
    }
   ],
   "source": [
    "numbers = (1, 2, 4, 5, 3, 6, 29, -10, -20)\n",
    "numbers.sort()"
   ]
  },
  {
   "cell_type": "code",
   "execution_count": 76,
   "metadata": {},
   "outputs": [
    {
     "data": {
      "text/plain": [
       "[-20, -10, 1, 2, 3, 4, 5, 6, 29]"
      ]
     },
     "execution_count": 76,
     "metadata": {},
     "output_type": "execute_result"
    }
   ],
   "source": [
    "sorted(numbers)  # 원본 변수값은 그대로 두고, 정렬된 새로운 리스트를 반환"
   ]
  },
  {
   "cell_type": "code",
   "execution_count": 77,
   "metadata": {},
   "outputs": [
    {
     "data": {
      "text/plain": [
       "[' ', 'd', 'e', 'h', 'l', 'l', 'l', 'o', 'o', 'r', 'w']"
      ]
     },
     "execution_count": 77,
     "metadata": {},
     "output_type": "execute_result"
    }
   ],
   "source": [
    "sorted(\"hello world\")"
   ]
  },
  {
   "cell_type": "code",
   "execution_count": 79,
   "metadata": {},
   "outputs": [
    {
     "data": {
      "text/plain": [
       "[32, 25, 45, 19]"
      ]
     },
     "execution_count": 79,
     "metadata": {},
     "output_type": "execute_result"
    }
   ],
   "source": [
    "def sort_fn(value):\n",
    "    return value % 10\n",
    "\n",
    "sorted([19, 25, 32, 45], key=sort_fn)"
   ]
  },
  {
   "cell_type": "markdown",
   "metadata": {},
   "source": [
    "### Quiz\n",
    "\n",
    "나이 오름차순으로 정렬 및 \"이름 길이\" 순으로 정렬"
   ]
  },
  {
   "cell_type": "code",
   "execution_count": 86,
   "metadata": {},
   "outputs": [
    {
     "name": "stdout",
     "output_type": "stream",
     "text": [
      "John 8\n",
      "Tom 10\n",
      "Steve 13\n",
      "----\n",
      "Tom 10\n",
      "John 8\n",
      "Steve 13\n"
     ]
    }
   ],
   "source": [
    "people = [\n",
    "    {'name': 'Tom', 'age': 10},\n",
    "    {'name': 'Steve', 'age': 13},\n",
    "    {'name': 'John', 'age': 8},\n",
    "]\n",
    "\n",
    "# def sort_fn(person):\n",
    "#     return person['age']\n",
    "\n",
    "# people.sort(key=sort_fn)\n",
    "\n",
    "sort_fn = lambda person: person['age']\n",
    "people.sort(key=sort_fn)\n",
    "\n",
    "for person in people:\n",
    "    print(person['name'], person['age'])\n",
    "\n",
    "print('----')\n",
    "\n",
    "sort_fn = lambda person: len(person['name'])\n",
    "people.sort(key=sort_fn)\n",
    "\n",
    "for person in people:\n",
    "    print(person['name'], person['age'])"
   ]
  },
  {
   "cell_type": "markdown",
   "metadata": {},
   "source": [
    "## filter 함수"
   ]
  },
  {
   "cell_type": "code",
   "execution_count": 88,
   "metadata": {},
   "outputs": [
    {
     "name": "stdout",
     "output_type": "stream",
     "text": [
      "2\n",
      "4\n",
      "6\n",
      "8\n",
      "10\n"
     ]
    }
   ],
   "source": [
    "numbers = [1, 2, 3, 4, 5, 6, 7, 8, 9, 10]\n",
    "\n",
    "def filter_fn(value):\n",
    "    return value % 2 == 0\n",
    "\n",
    "for i in filter(filter_fn, numbers):\n",
    "    print(i)"
   ]
  },
  {
   "cell_type": "code",
   "execution_count": 90,
   "metadata": {},
   "outputs": [
    {
     "name": "stdout",
     "output_type": "stream",
     "text": [
      "1\n",
      "3\n",
      "3\n",
      "5\n",
      "5\n",
      "7\n",
      "23\n"
     ]
    }
   ],
   "source": [
    "numbers = [3, 5, 6, 7, 1, 2, 3, 4, 5, 2, 23, 4, 6, 86, 84]\n",
    "\n",
    "# 홀수만 필터링하고, 이를 정렬한 결과를 for를 통해 출력하기.\n",
    "\n",
    "def filter_fn(value):\n",
    "    return value % 2 != 0\n",
    "\n",
    "for i in sorted(filter(filter_fn, numbers)):\n",
    "    print(i)"
   ]
  },
  {
   "cell_type": "markdown",
   "metadata": {},
   "source": [
    "## map"
   ]
  },
  {
   "cell_type": "code",
   "execution_count": 92,
   "metadata": {},
   "outputs": [
    {
     "name": "stdout",
     "output_type": "stream",
     "text": [
      "1\n",
      "4\n",
      "9\n",
      "16\n",
      "25\n",
      "36\n",
      "49\n",
      "64\n",
      "81\n",
      "100\n",
      "121\n",
      "144\n",
      "169\n",
      "196\n",
      "225\n",
      "256\n",
      "289\n",
      "324\n",
      "361\n",
      "400\n",
      "441\n",
      "484\n",
      "529\n",
      "576\n",
      "625\n",
      "676\n",
      "729\n",
      "784\n",
      "841\n",
      "900\n",
      "961\n",
      "1024\n",
      "1089\n",
      "1156\n",
      "1225\n",
      "1296\n",
      "1369\n",
      "1444\n",
      "1521\n",
      "1600\n",
      "1681\n",
      "1764\n",
      "1849\n",
      "1936\n",
      "2025\n",
      "2116\n",
      "2209\n",
      "2304\n",
      "2401\n",
      "2500\n",
      "2601\n",
      "2704\n",
      "2809\n",
      "2916\n",
      "3025\n",
      "3136\n",
      "3249\n",
      "3364\n",
      "3481\n",
      "3600\n",
      "3721\n",
      "3844\n",
      "3969\n",
      "4096\n",
      "4225\n",
      "4356\n",
      "4489\n",
      "4624\n",
      "4761\n",
      "4900\n",
      "5041\n",
      "5184\n",
      "5329\n",
      "5476\n",
      "5625\n",
      "5776\n",
      "5929\n",
      "6084\n",
      "6241\n",
      "6400\n",
      "6561\n",
      "6724\n",
      "6889\n",
      "7056\n",
      "7225\n",
      "7396\n",
      "7569\n",
      "7744\n",
      "7921\n",
      "8100\n",
      "8281\n",
      "8464\n",
      "8649\n",
      "8836\n",
      "9025\n",
      "9216\n",
      "9409\n",
      "9604\n",
      "9801\n",
      "10000\n",
      "10201\n",
      "10404\n",
      "10609\n",
      "10816\n",
      "11025\n",
      "11236\n",
      "11449\n",
      "11664\n",
      "11881\n",
      "12100\n",
      "12321\n",
      "12544\n",
      "12769\n",
      "12996\n",
      "13225\n",
      "13456\n",
      "13689\n",
      "13924\n",
      "14161\n",
      "14400\n",
      "14641\n",
      "14884\n",
      "15129\n",
      "15376\n",
      "15625\n",
      "15876\n",
      "16129\n",
      "16384\n",
      "16641\n",
      "16900\n",
      "17161\n",
      "17424\n",
      "17689\n",
      "17956\n",
      "18225\n",
      "18496\n",
      "18769\n",
      "19044\n",
      "19321\n",
      "19600\n",
      "19881\n",
      "20164\n",
      "20449\n",
      "20736\n",
      "21025\n",
      "21316\n",
      "21609\n",
      "21904\n",
      "22201\n",
      "22500\n",
      "22801\n",
      "23104\n",
      "23409\n",
      "23716\n",
      "24025\n",
      "24336\n",
      "24649\n",
      "24964\n",
      "25281\n",
      "25600\n",
      "25921\n",
      "26244\n",
      "26569\n",
      "26896\n",
      "27225\n",
      "27556\n",
      "27889\n",
      "28224\n",
      "28561\n",
      "28900\n",
      "29241\n",
      "29584\n",
      "29929\n",
      "30276\n",
      "30625\n",
      "30976\n",
      "31329\n",
      "31684\n",
      "32041\n",
      "32400\n",
      "32761\n",
      "33124\n",
      "33489\n",
      "33856\n",
      "34225\n",
      "34596\n",
      "34969\n",
      "35344\n",
      "35721\n",
      "36100\n",
      "36481\n",
      "36864\n",
      "37249\n",
      "37636\n",
      "38025\n",
      "38416\n",
      "38809\n",
      "39204\n",
      "39601\n"
     ]
    }
   ],
   "source": [
    "# numbers = [1, 2, 3, 4, 5, 6, 7, 8, 9, 10]\n",
    "numbers = range(1, 200)\n",
    "\n",
    "def map_fn(value):\n",
    "    return value ** 2\n",
    "\n",
    "for i in map(map_fn, numbers):\n",
    "    print(i)"
   ]
  },
  {
   "cell_type": "code",
   "execution_count": 93,
   "metadata": {},
   "outputs": [
    {
     "name": "stdout",
     "output_type": "stream",
     "text": [
      "1\n",
      "81\n",
      "121\n",
      "361\n",
      "441\n",
      "841\n",
      "961\n",
      "1521\n",
      "1681\n",
      "2401\n",
      "2601\n",
      "3481\n",
      "3721\n",
      "4761\n",
      "5041\n",
      "6241\n",
      "6561\n",
      "7921\n",
      "8281\n",
      "9801\n",
      "10201\n",
      "11881\n",
      "12321\n",
      "14161\n",
      "14641\n",
      "16641\n",
      "17161\n",
      "19321\n",
      "19881\n",
      "22201\n",
      "22801\n",
      "25281\n",
      "25921\n",
      "28561\n",
      "29241\n",
      "32041\n",
      "32761\n",
      "35721\n",
      "36481\n",
      "39601\n"
     ]
    }
   ],
   "source": [
    "# 제곱으로 구성된 목록에서, 1의 자리수가 1인 값들만 필터링 !!!\n",
    "\n",
    "numbers = range(1, 200)\n",
    "\n",
    "def map_fn(value):\n",
    "    return value ** 2\n",
    "\n",
    "def filter_fn(value):\n",
    "    return value % 10 == 1\n",
    "\n",
    "for i in filter(filter_fn, map(map_fn, numbers)):\n",
    "    print(i)"
   ]
  },
  {
   "cell_type": "markdown",
   "metadata": {},
   "source": [
    "## min/max"
   ]
  },
  {
   "cell_type": "code",
   "execution_count": 95,
   "metadata": {},
   "outputs": [],
   "source": [
    "import random\n",
    "\n",
    "numbers = []\n",
    "for i in range(1000):\n",
    "    number = random.randint(1, 10000)  # 1이상, 10000이하 범위의 랜덤수\n",
    "    numbers.append(number)\n",
    "\n",
    "# numbers"
   ]
  },
  {
   "cell_type": "code",
   "execution_count": 96,
   "metadata": {},
   "outputs": [
    {
     "data": {
      "text/plain": [
       "9999"
      ]
     },
     "execution_count": 96,
     "metadata": {},
     "output_type": "execute_result"
    }
   ],
   "source": [
    "max(numbers)"
   ]
  },
  {
   "cell_type": "code",
   "execution_count": 97,
   "metadata": {},
   "outputs": [
    {
     "data": {
      "text/plain": [
       "6"
      ]
     },
     "execution_count": 97,
     "metadata": {},
     "output_type": "execute_result"
    }
   ],
   "source": [
    "min(numbers)"
   ]
  },
  {
   "cell_type": "code",
   "execution_count": null,
   "metadata": {
    "collapsed": true
   },
   "outputs": [],
   "source": []
  }
 ],
 "metadata": {
  "kernelspec": {
   "display_name": "Python 3",
   "language": "python",
   "name": "python3"
  },
  "language_info": {
   "codemirror_mode": {
    "name": "ipython",
    "version": 3
   },
   "file_extension": ".py",
   "mimetype": "text/x-python",
   "name": "python",
   "nbconvert_exporter": "python",
   "pygments_lexer": "ipython3",
   "version": "3.6.1"
  }
 },
 "nbformat": 4,
 "nbformat_minor": 2
}
