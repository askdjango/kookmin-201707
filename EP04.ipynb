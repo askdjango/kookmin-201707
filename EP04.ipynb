{
 "cells": [
  {
   "cell_type": "code",
   "execution_count": 2,
   "metadata": {},
   "outputs": [
    {
     "data": {
      "text/plain": [
       "11"
      ]
     },
     "execution_count": 2,
     "metadata": {},
     "output_type": "execute_result"
    }
   ],
   "source": [
    "len(\"안녕하세요. 세상아.\")  # 유니코드(str) 문자열"
   ]
  },
  {
   "cell_type": "code",
   "execution_count": 3,
   "metadata": {},
   "outputs": [
    {
     "name": "stdout",
     "output_type": "stream",
     "text": [
      "안녕하세\n"
     ]
    }
   ],
   "source": [
    "message = \"안녕하세요. 세상아.\"[:4]\n",
    "print(message)"
   ]
  },
  {
   "cell_type": "code",
   "execution_count": 5,
   "metadata": {},
   "outputs": [
    {
     "name": "stdout",
     "output_type": "stream",
     "text": [
      "27\n"
     ]
    }
   ],
   "source": [
    "message = \"안녕하세요. 세상아.\".encode(\"utf8\")  # UTF8 문자열 (bytes)\n",
    "print(len(message))  # 바이트 수"
   ]
  },
  {
   "cell_type": "code",
   "execution_count": 10,
   "metadata": {},
   "outputs": [
    {
     "name": "stdout",
     "output_type": "stream",
     "text": [
      "안-녕하세\n"
     ]
    }
   ],
   "source": [
    "message = \"안-녕하세요. 세상아.\".encode(\"utf8\")\n",
    "print(message[:13].decode(\"utf8\"))"
   ]
  },
  {
   "cell_type": "markdown",
   "metadata": {
    "collapsed": true
   },
   "source": [
    "## ascii"
   ]
  },
  {
   "cell_type": "code",
   "execution_count": 1,
   "metadata": {},
   "outputs": [
    {
     "data": {
      "text/plain": [
       "48"
      ]
     },
     "execution_count": 1,
     "metadata": {},
     "output_type": "execute_result"
    }
   ],
   "source": [
    "ord('0')  # ascii code"
   ]
  },
  {
   "cell_type": "code",
   "execution_count": 2,
   "metadata": {},
   "outputs": [
    {
     "data": {
      "text/plain": [
       "(97, 65)"
      ]
     },
     "execution_count": 2,
     "metadata": {},
     "output_type": "execute_result"
    }
   ],
   "source": [
    "ord('a'), ord('A')"
   ]
  },
  {
   "cell_type": "code",
   "execution_count": 3,
   "metadata": {},
   "outputs": [
    {
     "data": {
      "text/plain": [
       "('a', 'A')"
      ]
     },
     "execution_count": 3,
     "metadata": {},
     "output_type": "execute_result"
    }
   ],
   "source": [
    "chr(97), chr(65)"
   ]
  },
  {
   "cell_type": "code",
   "execution_count": 5,
   "metadata": {},
   "outputs": [
    {
     "name": "stdout",
     "output_type": "stream",
     "text": [
      "0 '\\x00'\n",
      "1 '\\x01'\n",
      "2 '\\x02'\n",
      "3 '\\x03'\n",
      "4 '\\x04'\n",
      "5 '\\x05'\n",
      "6 '\\x06'\n",
      "7 '\\x07'\n",
      "8 '\\x08'\n",
      "9 '\\t'\n",
      "10 '\\n'\n",
      "11 '\\x0b'\n",
      "12 '\\x0c'\n",
      "13 '\\r'\n",
      "14 '\\x0e'\n",
      "15 '\\x0f'\n",
      "16 '\\x10'\n",
      "17 '\\x11'\n",
      "18 '\\x12'\n",
      "19 '\\x13'\n",
      "20 '\\x14'\n",
      "21 '\\x15'\n",
      "22 '\\x16'\n",
      "23 '\\x17'\n",
      "24 '\\x18'\n",
      "25 '\\x19'\n",
      "26 '\\x1a'\n",
      "27 '\\x1b'\n",
      "28 '\\x1c'\n",
      "29 '\\x1d'\n",
      "30 '\\x1e'\n",
      "31 '\\x1f'\n",
      "32 ' '\n",
      "33 '!'\n",
      "34 '\"'\n",
      "35 '#'\n",
      "36 '$'\n",
      "37 '%'\n",
      "38 '&'\n",
      "39 \"'\"\n",
      "40 '('\n",
      "41 ')'\n",
      "42 '*'\n",
      "43 '+'\n",
      "44 ','\n",
      "45 '-'\n",
      "46 '.'\n",
      "47 '/'\n",
      "48 '0'\n",
      "49 '1'\n",
      "50 '2'\n",
      "51 '3'\n",
      "52 '4'\n",
      "53 '5'\n",
      "54 '6'\n",
      "55 '7'\n",
      "56 '8'\n",
      "57 '9'\n",
      "58 ':'\n",
      "59 ';'\n",
      "60 '<'\n",
      "61 '='\n",
      "62 '>'\n",
      "63 '?'\n",
      "64 '@'\n",
      "65 'A'\n",
      "66 'B'\n",
      "67 'C'\n",
      "68 'D'\n",
      "69 'E'\n",
      "70 'F'\n",
      "71 'G'\n",
      "72 'H'\n",
      "73 'I'\n",
      "74 'J'\n",
      "75 'K'\n",
      "76 'L'\n",
      "77 'M'\n",
      "78 'N'\n",
      "79 'O'\n",
      "80 'P'\n",
      "81 'Q'\n",
      "82 'R'\n",
      "83 'S'\n",
      "84 'T'\n",
      "85 'U'\n",
      "86 'V'\n",
      "87 'W'\n",
      "88 'X'\n",
      "89 'Y'\n",
      "90 'Z'\n",
      "91 '['\n",
      "92 '\\\\'\n",
      "93 ']'\n",
      "94 '^'\n",
      "95 '_'\n",
      "96 '`'\n",
      "97 'a'\n",
      "98 'b'\n",
      "99 'c'\n",
      "100 'd'\n",
      "101 'e'\n",
      "102 'f'\n",
      "103 'g'\n",
      "104 'h'\n",
      "105 'i'\n",
      "106 'j'\n",
      "107 'k'\n",
      "108 'l'\n",
      "109 'm'\n",
      "110 'n'\n",
      "111 'o'\n",
      "112 'p'\n",
      "113 'q'\n",
      "114 'r'\n",
      "115 's'\n",
      "116 't'\n",
      "117 'u'\n",
      "118 'v'\n",
      "119 'w'\n",
      "120 'x'\n",
      "121 'y'\n",
      "122 'z'\n",
      "123 '{'\n",
      "124 '|'\n",
      "125 '}'\n",
      "126 '~'\n",
      "127 '\\x7f'\n"
     ]
    }
   ],
   "source": [
    "for i in range(128):\n",
    "    print(i, repr(chr(i)))"
   ]
  },
  {
   "cell_type": "markdown",
   "metadata": {},
   "source": [
    "## unicode"
   ]
  },
  {
   "cell_type": "code",
   "execution_count": 6,
   "metadata": {
    "collapsed": true
   },
   "outputs": [],
   "source": [
    "unicode_ga =\"가\""
   ]
  },
  {
   "cell_type": "code",
   "execution_count": 7,
   "metadata": {
    "collapsed": true
   },
   "outputs": [],
   "source": [
    "utf8_ga = unicode_ga.encode(\"utf8\")\n",
    "cp949_ga = unicode_ga.encode(\"cp949\")"
   ]
  },
  {
   "cell_type": "code",
   "execution_count": 8,
   "metadata": {},
   "outputs": [
    {
     "data": {
      "text/plain": [
       "'가'"
      ]
     },
     "execution_count": 8,
     "metadata": {},
     "output_type": "execute_result"
    }
   ],
   "source": [
    "cp949_ga.decode(\"cp949\")"
   ]
  },
  {
   "cell_type": "code",
   "execution_count": 9,
   "metadata": {},
   "outputs": [
    {
     "ename": "UnicodeDecodeError",
     "evalue": "'utf-8' codec can't decode byte 0xb0 in position 0: invalid start byte",
     "output_type": "error",
     "traceback": [
      "\u001b[0;31m----------------------------------------------------\u001b[0m",
      "\u001b[0;31mUnicodeDecodeError\u001b[0m Traceback (most recent call last)",
      "\u001b[0;32m<ipython-input-9-604d8840a5b6>\u001b[0m in \u001b[0;36m<module>\u001b[0;34m()\u001b[0m\n\u001b[0;32m----> 1\u001b[0;31m \u001b[0mcp949_ga\u001b[0m\u001b[0;34m.\u001b[0m\u001b[0mdecode\u001b[0m\u001b[0;34m(\u001b[0m\u001b[0;34m\"utf8\"\u001b[0m\u001b[0;34m)\u001b[0m\u001b[0;34m\u001b[0m\u001b[0m\n\u001b[0m",
      "\u001b[0;31mUnicodeDecodeError\u001b[0m: 'utf-8' codec can't decode byte 0xb0 in position 0: invalid start byte"
     ]
    }
   ],
   "source": [
    "cp949_ga.decode(\"utf8\")"
   ]
  },
  {
   "cell_type": "code",
   "execution_count": 10,
   "metadata": {},
   "outputs": [
    {
     "data": {
      "text/plain": [
       "b'\\xb0\\xa1'"
      ]
     },
     "execution_count": 10,
     "metadata": {},
     "output_type": "execute_result"
    }
   ],
   "source": [
    "cp949_ga"
   ]
  },
  {
   "cell_type": "code",
   "execution_count": 11,
   "metadata": {},
   "outputs": [
    {
     "data": {
      "text/plain": [
       "'가'"
      ]
     },
     "execution_count": 11,
     "metadata": {},
     "output_type": "execute_result"
    }
   ],
   "source": [
    "b'\\xb0\\xa1'.decode('cp949')"
   ]
  },
  {
   "cell_type": "markdown",
   "metadata": {},
   "source": [
    "소스코드 최상단에 아래와 같이 써서, 파이썬 인터프리터에게 현 소스파일의 인코딩을 알려줍니다.\n",
    "\n",
    "```python\n",
    "# -*- coding: utf-8 -*-\n",
    "```\n",
    "\n",
    "그런데, 소스파일이 UTF8 인코딩으로 작성이 되었다면, 파이썬3에서는 디폴트로 UTF8로 처리하기 때문에, 구지 지정하지 않아도 됩니다."
   ]
  },
  {
   "cell_type": "markdown",
   "metadata": {},
   "source": [
    "## 파일 읽기"
   ]
  },
  {
   "cell_type": "code",
   "execution_count": 14,
   "metadata": {},
   "outputs": [
    {
     "name": "stdout",
     "output_type": "stream",
     "text": [
      "<class 'str'>\n",
      "Shimmie shimmie Ko Ko Bop\n",
      "I think I like it\n",
      "긴장은 down down\n",
      "부끄러 말고 \n",
      "어지러운 마음속에 내가 들어가\n",
      "익숙한 듯 부드럽게 네게 번져가\n",
      "Ah woo 고요한 밤이야 \n",
      "Ah woo 널 위한 밤이야\n",
      "참을 수가 없어 빠져가 Yeah yeah \n",
      "너의 몸짓에 난 취해가 Yeah yeah\n",
      "네가 알던 뻔한 모습의 나를 잊어 오늘\n",
      "숨겨둔 본능이 Shimmie up\n",
      "It goes down down baby \n"
     ]
    }
   ],
   "source": [
    "# f = open(\"c:\\\\work\\\\kokobop.txt\", \"rt\", encoding=\"utf8\")\n",
    "# f = open(r\"c:\\work\\kokobop.txt\", \"rt\", encoding=\"utf8\")\n",
    "# f = open(\"c:/work/kokobop.txt\", \"rt\", encoding=\"utf8\")\n",
    "\n",
    "f = open(\"/Users/nomadic/kokobop.txt\", \"rt\", encoding=\"utf8\")\n",
    "readed_data = f.read()\n",
    "f.close()\n",
    "\n",
    "print(type(readed_data))\n",
    "print(readed_data)  # 유니코드 (str) 타입"
   ]
  },
  {
   "cell_type": "code",
   "execution_count": 17,
   "metadata": {},
   "outputs": [
    {
     "data": {
      "text/plain": [
       "' \\\\ '"
      ]
     },
     "execution_count": 17,
     "metadata": {},
     "output_type": "execute_result"
    }
   ],
   "source": [
    "r\" \\ \""
   ]
  },
  {
   "cell_type": "code",
   "execution_count": 18,
   "metadata": {},
   "outputs": [
    {
     "data": {
      "text/plain": [
       "' \\\\ '"
      ]
     },
     "execution_count": 18,
     "metadata": {},
     "output_type": "execute_result"
    }
   ],
   "source": [
    "\" \\\\ \""
   ]
  },
  {
   "cell_type": "code",
   "execution_count": null,
   "metadata": {
    "collapsed": true
   },
   "outputs": [],
   "source": []
  }
 ],
 "metadata": {
  "kernelspec": {
   "display_name": "Python 3",
   "language": "python",
   "name": "python3"
  },
  "language_info": {
   "codemirror_mode": {
    "name": "ipython",
    "version": 3
   },
   "file_extension": ".py",
   "mimetype": "text/x-python",
   "name": "python",
   "nbconvert_exporter": "python",
   "pygments_lexer": "ipython3",
   "version": "3.6.1"
  }
 },
 "nbformat": 4,
 "nbformat_minor": 2
}
