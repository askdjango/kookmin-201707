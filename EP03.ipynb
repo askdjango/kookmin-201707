{
 "cells": [
  {
   "cell_type": "markdown",
   "metadata": {},
   "source": [
    "## CSV"
   ]
  },
  {
   "cell_type": "markdown",
   "metadata": {},
   "source": [
    "윈도우에서 CSV를 생성할 때에는 newline이 `\"\\r\\n\"`으로 지정되므로, 이때 엑셀에서 빈 줄이 추가될 수 있습니다. 이때 newline 옵션에 `\"\\n\"`을 지정하여 생성해주세요."
   ]
  },
  {
   "cell_type": "code",
   "execution_count": 1,
   "metadata": {
    "collapsed": true
   },
   "outputs": [],
   "source": [
    "import csv\n",
    "\n",
    "csv_filename = 'output.csv'\n",
    "\n",
    "with open(csv_filename, 'wt', encoding='utf8', newline='\\n') as f:\n",
    "    writer = csv.writer(f)\n",
    "    writer.writerow(['col1', 'col2', 'col3', 'col4', 'col5'])"
   ]
  },
  {
   "cell_type": "markdown",
   "metadata": {},
   "source": [
    "## 1급 객체 (First Class Object)\n",
    "### 1급 함수, 1급 클래스"
   ]
  },
  {
   "cell_type": "code",
   "execution_count": 2,
   "metadata": {
    "collapsed": true
   },
   "outputs": [],
   "source": [
    "def mysum(x, y):\n",
    "    return x + y"
   ]
  },
  {
   "cell_type": "code",
   "execution_count": 3,
   "metadata": {
    "collapsed": true
   },
   "outputs": [],
   "source": [
    "other_fn = mysum"
   ]
  },
  {
   "cell_type": "code",
   "execution_count": 4,
   "metadata": {},
   "outputs": [
    {
     "data": {
      "text/plain": [
       "3"
      ]
     },
     "execution_count": 4,
     "metadata": {},
     "output_type": "execute_result"
    }
   ],
   "source": [
    "other_fn(1, 2)"
   ]
  },
  {
   "cell_type": "code",
   "execution_count": 5,
   "metadata": {
    "collapsed": true
   },
   "outputs": [],
   "source": [
    "def myfn(fn, x, y):\n",
    "    return fn(x, y)"
   ]
  },
  {
   "cell_type": "code",
   "execution_count": 6,
   "metadata": {},
   "outputs": [
    {
     "data": {
      "text/plain": [
       "3"
      ]
     },
     "execution_count": 6,
     "metadata": {},
     "output_type": "execute_result"
    }
   ],
   "source": [
    "myfn(mysum, 1, 2)"
   ]
  },
  {
   "cell_type": "code",
   "execution_count": 7,
   "metadata": {
    "collapsed": true
   },
   "outputs": [],
   "source": [
    "i = 10"
   ]
  },
  {
   "cell_type": "code",
   "execution_count": 8,
   "metadata": {
    "collapsed": true
   },
   "outputs": [],
   "source": [
    "def mysum2(x, y):\n",
    "    return x + y"
   ]
  },
  {
   "cell_type": "code",
   "execution_count": 9,
   "metadata": {
    "collapsed": true
   },
   "outputs": [],
   "source": [
    "myfn = mysum2"
   ]
  },
  {
   "cell_type": "code",
   "execution_count": 12,
   "metadata": {},
   "outputs": [
    {
     "data": {
      "text/plain": [
       "3"
      ]
     },
     "execution_count": 12,
     "metadata": {},
     "output_type": "execute_result"
    }
   ],
   "source": [
    "(lambda x, y: x + y)(1, 2)  # 익명 함수, Anonymous Function"
   ]
  },
  {
   "cell_type": "code",
   "execution_count": 15,
   "metadata": {
    "collapsed": true
   },
   "outputs": [],
   "source": [
    "mysum3 = lambda x, y: 2*x + y  # 익명함수에 mysum2 이름이 생겼다."
   ]
  },
  {
   "cell_type": "code",
   "execution_count": 16,
   "metadata": {},
   "outputs": [
    {
     "data": {
      "text/plain": [
       "3"
      ]
     },
     "execution_count": 16,
     "metadata": {},
     "output_type": "execute_result"
    }
   ],
   "source": [
    "mysum3(1, 2)"
   ]
  },
  {
   "cell_type": "code",
   "execution_count": 17,
   "metadata": {
    "collapsed": true
   },
   "outputs": [],
   "source": [
    "def base_calc(base_number):\n",
    "    fn = lambda x, y: x + y + base_number\n",
    "    return fn"
   ]
  },
  {
   "cell_type": "code",
   "execution_count": 19,
   "metadata": {},
   "outputs": [
    {
     "data": {
      "text/plain": [
       "13"
      ]
     },
     "execution_count": 19,
     "metadata": {},
     "output_type": "execute_result"
    }
   ],
   "source": [
    "base_10 = base_calc(10)\n",
    "base_10(1, 2)"
   ]
  },
  {
   "cell_type": "code",
   "execution_count": 20,
   "metadata": {},
   "outputs": [
    {
     "data": {
      "text/plain": [
       "23"
      ]
     },
     "execution_count": 20,
     "metadata": {},
     "output_type": "execute_result"
    }
   ],
   "source": [
    "base_20 = base_calc(20)\n",
    "base_20(1, 2)"
   ]
  },
  {
   "cell_type": "code",
   "execution_count": 21,
   "metadata": {
    "collapsed": true
   },
   "outputs": [],
   "source": [
    "def base_calc_other(base_number):\n",
    "    # fn = lambda x, y: x + y + base_number\n",
    "    def fn(x, y):\n",
    "        return x + y + base_number\n",
    "    return fn"
   ]
  },
  {
   "cell_type": "code",
   "execution_count": 22,
   "metadata": {},
   "outputs": [
    {
     "data": {
      "text/plain": [
       "13"
      ]
     },
     "execution_count": 22,
     "metadata": {},
     "output_type": "execute_result"
    }
   ],
   "source": [
    "base_10 = base_calc_other(10)\n",
    "base_10(1, 2)"
   ]
  },
  {
   "cell_type": "markdown",
   "metadata": {},
   "source": [
    "## 클래스"
   ]
  },
  {
   "cell_type": "markdown",
   "metadata": {},
   "source": [
    "```java\n",
    "/* java */\n",
    "Person person = new Person(\"Tom\", 10);\n",
    "```"
   ]
  },
  {
   "cell_type": "markdown",
   "metadata": {},
   "source": [
    "```ruby\n",
    "# ruby\n",
    "person = Person.new(\"Tom\", 10)\n",
    "```"
   ]
  },
  {
   "cell_type": "markdown",
   "metadata": {},
   "source": [
    "```python\n",
    "# python\n",
    "person = Person(\"Tom\", 10)\n",
    "```"
   ]
  },
  {
   "cell_type": "code",
   "execution_count": 40,
   "metadata": {
    "collapsed": true
   },
   "outputs": [],
   "source": [
    "class Person:\n",
    "    def __init__(self, name, age, region):\n",
    "        self.name = name\n",
    "        self.age = age\n",
    "        self.region = region\n",
    "    \n",
    "    def say_hello(self):\n",
    "        print(\"안녕. 나는 {}야. {}살이지. {}에서 왔어.\".format(self.name, self.age, self.region))\n",
    "    \n",
    "    def move_to(self, new_region):\n",
    "        print(\"{}은 {}에서 {}로 이사를 합니다.\".format(self.name, self.region, new_region))\n",
    "        self.region = new_region  # 이사한 곳의 위치를 저장"
   ]
  },
  {
   "cell_type": "markdown",
   "metadata": {},
   "source": [
    "```java\n",
    "class Person {\n",
    "    String name;\n",
    "    int age;\n",
    "    String region;\n",
    "\n",
    "    public Person(String name, int age, String region) {\n",
    "        this.name = name;\n",
    "        this.age = age;\n",
    "        this.region = region;\n",
    "    }\n",
    "    \n",
    "    public void say_hello() {\n",
    "        String message = String.format(\"안녕. 나는 %s야. %d이지.\", this.name, this.age);\n",
    "        System.out.println(message);\n",
    "    }\n",
    "    \n",
    "    public void move_to(String new_region) {\n",
    "        // FIXME: ~~~\n",
    "        this.region = new_region;\n",
    "    }\n",
    "}\n",
    "```"
   ]
  },
  {
   "cell_type": "code",
   "execution_count": 41,
   "metadata": {
    "collapsed": true
   },
   "outputs": [],
   "source": [
    "tom = Person(\"Tom\", 10, \"서울\")"
   ]
  },
  {
   "cell_type": "code",
   "execution_count": 42,
   "metadata": {},
   "outputs": [
    {
     "data": {
      "text/plain": [
       "('Tom', 10, '서울')"
      ]
     },
     "execution_count": 42,
     "metadata": {},
     "output_type": "execute_result"
    }
   ],
   "source": [
    "tom.name, tom.age, tom.region"
   ]
  },
  {
   "cell_type": "code",
   "execution_count": 43,
   "metadata": {},
   "outputs": [
    {
     "name": "stdout",
     "output_type": "stream",
     "text": [
      "안녕. 나는 Tom야. 10살이지. 서울에서 왔어.\n"
     ]
    }
   ],
   "source": [
    "tom.say_hello()"
   ]
  },
  {
   "cell_type": "code",
   "execution_count": 44,
   "metadata": {},
   "outputs": [
    {
     "name": "stdout",
     "output_type": "stream",
     "text": [
      "Tom은 서울에서 부산로 이사를 합니다.\n"
     ]
    }
   ],
   "source": [
    "tom.move_to(\"부산\")"
   ]
  },
  {
   "cell_type": "code",
   "execution_count": 45,
   "metadata": {},
   "outputs": [
    {
     "name": "stdout",
     "output_type": "stream",
     "text": [
      "안녕. 나는 Tom야. 10살이지. 부산에서 왔어.\n"
     ]
    }
   ],
   "source": [
    "tom.say_hello()"
   ]
  },
  {
   "cell_type": "markdown",
   "metadata": {},
   "source": [
    "## 호출가능한 객체"
   ]
  },
  {
   "cell_type": "code",
   "execution_count": 60,
   "metadata": {
    "collapsed": true
   },
   "outputs": [],
   "source": [
    "class Calculator:\n",
    "    def __init__(self, base):\n",
    "        self.base = base\n",
    "    \n",
    "    def sum(self, x, y):\n",
    "        return x + y + self.base\n",
    "    \n",
    "    def __call__(self, x, y):\n",
    "        return x + y + self.base"
   ]
  },
  {
   "cell_type": "code",
   "execution_count": 61,
   "metadata": {},
   "outputs": [
    {
     "data": {
      "text/plain": [
       "10"
      ]
     },
     "execution_count": 61,
     "metadata": {},
     "output_type": "execute_result"
    }
   ],
   "source": [
    "calc = Calculator(10)\n",
    "calc.base"
   ]
  },
  {
   "cell_type": "code",
   "execution_count": 62,
   "metadata": {},
   "outputs": [
    {
     "name": "stdout",
     "output_type": "stream",
     "text": [
      "13\n",
      "13\n"
     ]
    }
   ],
   "source": [
    "print(calc.sum(1, 2))\n",
    "print(calc.__call__(1, 2))"
   ]
  },
  {
   "cell_type": "code",
   "execution_count": 63,
   "metadata": {},
   "outputs": [
    {
     "data": {
      "text/plain": [
       "13"
      ]
     },
     "execution_count": 63,
     "metadata": {},
     "output_type": "execute_result"
    }
   ],
   "source": [
    "calc(1, 2)  # 실제로 __call__ 인스턴스 함수를 파이썬이 호출해준 것"
   ]
  },
  {
   "cell_type": "code",
   "execution_count": 64,
   "metadata": {
    "collapsed": true
   },
   "outputs": [],
   "source": [
    "def myfn(fn, x, y):\n",
    "    return fn(x, y)"
   ]
  },
  {
   "cell_type": "code",
   "execution_count": 65,
   "metadata": {},
   "outputs": [
    {
     "data": {
      "text/plain": [
       "3"
      ]
     },
     "execution_count": 65,
     "metadata": {},
     "output_type": "execute_result"
    }
   ],
   "source": [
    "def mysum(x, y):\n",
    "    return x + y\n",
    "\n",
    "myfn(mysum, 1, 2)"
   ]
  },
  {
   "cell_type": "code",
   "execution_count": 66,
   "metadata": {},
   "outputs": [
    {
     "data": {
      "text/plain": [
       "13"
      ]
     },
     "execution_count": 66,
     "metadata": {},
     "output_type": "execute_result"
    }
   ],
   "source": [
    "myfn(calc, 1, 2)"
   ]
  },
  {
   "cell_type": "markdown",
   "metadata": {},
   "source": [
    "## 상속, 오버라이딩"
   ]
  },
  {
   "cell_type": "code",
   "execution_count": 67,
   "metadata": {
    "collapsed": true
   },
   "outputs": [],
   "source": [
    "class Person:\n",
    "    def run(self):\n",
    "        print('뜁니다.')"
   ]
  },
  {
   "cell_type": "code",
   "execution_count": 68,
   "metadata": {},
   "outputs": [
    {
     "name": "stdout",
     "output_type": "stream",
     "text": [
      "발로 공을 드리블하며 뜁니다.\n"
     ]
    }
   ],
   "source": [
    "class SoccerPlayer(Person):\n",
    "    def run(self):\n",
    "        print('발로 공을 드리블하며 뜁니다.')\n",
    "\n",
    "player = SoccerPlayer()\n",
    "player.run()"
   ]
  },
  {
   "cell_type": "code",
   "execution_count": 69,
   "metadata": {},
   "outputs": [
    {
     "name": "stdout",
     "output_type": "stream",
     "text": [
      "뜁니다.\n"
     ]
    }
   ],
   "source": [
    "person = Person()\n",
    "person.run()"
   ]
  },
  {
   "cell_type": "code",
   "execution_count": 71,
   "metadata": {},
   "outputs": [
    {
     "name": "stdout",
     "output_type": "stream",
     "text": [
      "뜁니다.\n",
      "손으로 공을 드리블하며 뜁니다.\n"
     ]
    }
   ],
   "source": [
    "class BasketballPlayer(Person):\n",
    "    def run(self):\n",
    "        super().run()\n",
    "        print('손으로 공을 드리블하며 뜁니다.')\n",
    "\n",
    "player = BasketballPlayer()\n",
    "player.run()"
   ]
  },
  {
   "cell_type": "markdown",
   "metadata": {},
   "source": [
    "## 예외 (Exception)"
   ]
  },
  {
   "cell_type": "code",
   "execution_count": 72,
   "metadata": {},
   "outputs": [
    {
     "name": "stdout",
     "output_type": "stream",
     "text": [
      "line 1\n",
      "line 2\n"
     ]
    }
   ],
   "source": [
    "print(\"line 1\")\n",
    "print(\"line 2\")"
   ]
  },
  {
   "cell_type": "code",
   "execution_count": 73,
   "metadata": {},
   "outputs": [
    {
     "name": "stdout",
     "output_type": "stream",
     "text": [
      "line 1\n"
     ]
    },
    {
     "ename": "ValueError",
     "evalue": "invalid literal for int() with base 10: 'a'",
     "output_type": "error",
     "traceback": [
      "\u001b[0;31m--------------------------------------------------------------------------\u001b[0m",
      "\u001b[0;31mValueError\u001b[0m                               Traceback (most recent call last)",
      "\u001b[0;32m<ipython-input-73-d691c2d374f6>\u001b[0m in \u001b[0;36m<module>\u001b[0;34m()\u001b[0m\n\u001b[1;32m      1\u001b[0m \u001b[0mprint\u001b[0m\u001b[0;34m(\u001b[0m\u001b[0;34m\"line 1\"\u001b[0m\u001b[0;34m)\u001b[0m\u001b[0;34m\u001b[0m\u001b[0m\n\u001b[0;32m----> 2\u001b[0;31m \u001b[0mint\u001b[0m\u001b[0;34m(\u001b[0m\u001b[0;34m'a'\u001b[0m\u001b[0;34m)\u001b[0m\u001b[0;34m\u001b[0m\u001b[0m\n\u001b[0m\u001b[1;32m      3\u001b[0m \u001b[0mprint\u001b[0m\u001b[0;34m(\u001b[0m\u001b[0;34m\"line 2\"\u001b[0m\u001b[0;34m)\u001b[0m\u001b[0;34m\u001b[0m\u001b[0m\n",
      "\u001b[0;31mValueError\u001b[0m: invalid literal for int() with base 10: 'a'"
     ]
    }
   ],
   "source": [
    "print(\"line 1\")\n",
    "int('a')\n",
    "print(\"line 2\")"
   ]
  },
  {
   "cell_type": "code",
   "execution_count": 74,
   "metadata": {},
   "outputs": [
    {
     "name": "stdout",
     "output_type": "stream",
     "text": [
      "steve\n"
     ]
    },
    {
     "ename": "IndexError",
     "evalue": "list index out of range",
     "output_type": "error",
     "traceback": [
      "\u001b[0;31m--------------------------------------------------------------------------\u001b[0m",
      "\u001b[0;31mIndexError\u001b[0m                               Traceback (most recent call last)",
      "\u001b[0;32m<ipython-input-74-8c0566d3281e>\u001b[0m in \u001b[0;36m<module>\u001b[0;34m()\u001b[0m\n\u001b[1;32m      1\u001b[0m \u001b[0mnames\u001b[0m \u001b[0;34m=\u001b[0m \u001b[0;34m[\u001b[0m\u001b[0;34m'tom'\u001b[0m\u001b[0;34m,\u001b[0m \u001b[0;34m'steve'\u001b[0m\u001b[0;34m,\u001b[0m \u001b[0;34m'john'\u001b[0m\u001b[0;34m]\u001b[0m\u001b[0;34m\u001b[0m\u001b[0m\n\u001b[1;32m      2\u001b[0m \u001b[0mprint\u001b[0m\u001b[0;34m(\u001b[0m\u001b[0mnames\u001b[0m\u001b[0;34m[\u001b[0m\u001b[0;36m1\u001b[0m\u001b[0;34m]\u001b[0m\u001b[0;34m)\u001b[0m\u001b[0;34m\u001b[0m\u001b[0m\n\u001b[0;32m----> 3\u001b[0;31m \u001b[0mprint\u001b[0m\u001b[0;34m(\u001b[0m\u001b[0mnames\u001b[0m\u001b[0;34m[\u001b[0m\u001b[0;36m3\u001b[0m\u001b[0;34m]\u001b[0m\u001b[0;34m)\u001b[0m\u001b[0;34m\u001b[0m\u001b[0m\n\u001b[0m",
      "\u001b[0;31mIndexError\u001b[0m: list index out of range"
     ]
    }
   ],
   "source": [
    "names = ['tom', 'steve', 'john']\n",
    "print(names[1])\n",
    "print(names[3])"
   ]
  },
  {
   "cell_type": "code",
   "execution_count": 75,
   "metadata": {},
   "outputs": [
    {
     "name": "stdout",
     "output_type": "stream",
     "text": [
      "10\n"
     ]
    },
    {
     "ename": "KeyError",
     "evalue": "'kal'",
     "output_type": "error",
     "traceback": [
      "\u001b[0;31m--------------------------------------------------------------------------\u001b[0m",
      "\u001b[0;31mKeyError\u001b[0m                                 Traceback (most recent call last)",
      "\u001b[0;32m<ipython-input-75-f460611df9c6>\u001b[0m in \u001b[0;36m<module>\u001b[0;34m()\u001b[0m\n\u001b[1;32m      1\u001b[0m \u001b[0mpeople\u001b[0m \u001b[0;34m=\u001b[0m \u001b[0;34m{\u001b[0m \u001b[0;34m'john'\u001b[0m\u001b[0;34m:\u001b[0m \u001b[0;36m10\u001b[0m\u001b[0;34m,\u001b[0m \u001b[0;34m'steve'\u001b[0m\u001b[0;34m:\u001b[0m \u001b[0;36m8\u001b[0m\u001b[0;34m,\u001b[0m \u001b[0;34m'jane'\u001b[0m\u001b[0;34m:\u001b[0m \u001b[0;36m20\u001b[0m \u001b[0;34m}\u001b[0m\u001b[0;34m\u001b[0m\u001b[0m\n\u001b[1;32m      2\u001b[0m \u001b[0mprint\u001b[0m\u001b[0;34m(\u001b[0m\u001b[0mpeople\u001b[0m\u001b[0;34m[\u001b[0m\u001b[0;34m'john'\u001b[0m\u001b[0;34m]\u001b[0m\u001b[0;34m)\u001b[0m\u001b[0;34m\u001b[0m\u001b[0m\n\u001b[0;32m----> 3\u001b[0;31m \u001b[0mprint\u001b[0m\u001b[0;34m(\u001b[0m\u001b[0mpeople\u001b[0m\u001b[0;34m[\u001b[0m\u001b[0;34m'kal'\u001b[0m\u001b[0;34m]\u001b[0m\u001b[0;34m)\u001b[0m\u001b[0;34m\u001b[0m\u001b[0m\n\u001b[0m",
      "\u001b[0;31mKeyError\u001b[0m: 'kal'"
     ]
    }
   ],
   "source": [
    "people = { 'john': 10, 'steve': 8, 'jane': 20 }\n",
    "print(people['john'])\n",
    "print(people['kal'])"
   ]
  },
  {
   "cell_type": "code",
   "execution_count": 76,
   "metadata": {},
   "outputs": [
    {
     "name": "stdout",
     "output_type": "stream",
     "text": [
      "10\n",
      "KeyError 예외발생\n",
      "END\n"
     ]
    }
   ],
   "source": [
    "people = { 'john': 10, 'steve': 8, 'jane': 20 }\n",
    "try:\n",
    "    print(people['kal'])\n",
    "    print(people['john'])\n",
    "except KeyError:\n",
    "    print(\"KeyError 예외발생\")\n",
    "\n",
    "print(\"END\")"
   ]
  },
  {
   "cell_type": "code",
   "execution_count": 79,
   "metadata": {},
   "outputs": [
    {
     "name": "stdout",
     "output_type": "stream",
     "text": [
      "division by zero\n"
     ]
    }
   ],
   "source": [
    "# 정녕 예외를 무시하시겠습니까?\n",
    "\n",
    "try:\n",
    "    1 / 0\n",
    "except ZeroDivisionError as e:\n",
    "    print(e)"
   ]
  },
  {
   "cell_type": "code",
   "execution_count": 80,
   "metadata": {
    "collapsed": true
   },
   "outputs": [],
   "source": [
    "try:\n",
    "    1 / 0\n",
    "except:  # 모든 예외를 다 잡겠다. XXX\n",
    "    pass"
   ]
  },
  {
   "cell_type": "markdown",
   "metadata": {},
   "source": [
    "## 장식자"
   ]
  },
  {
   "cell_type": "code",
   "execution_count": 81,
   "metadata": {
    "collapsed": true
   },
   "outputs": [],
   "source": [
    "def base_10(fn):\n",
    "    def wrap(x, y):\n",
    "        return fn(x, y) + 10\n",
    "    return wrap"
   ]
  },
  {
   "cell_type": "code",
   "execution_count": 82,
   "metadata": {},
   "outputs": [
    {
     "data": {
      "text/plain": [
       "13"
      ]
     },
     "execution_count": 82,
     "metadata": {},
     "output_type": "execute_result"
    }
   ],
   "source": [
    "def mysum(x, y):\n",
    "    return x + y\n",
    "\n",
    "return_fn = base_10(mysum)\n",
    "return_fn(1, 2)"
   ]
  },
  {
   "cell_type": "code",
   "execution_count": 84,
   "metadata": {},
   "outputs": [
    {
     "name": "stdout",
     "output_type": "stream",
     "text": [
      "13\n",
      "12\n"
     ]
    }
   ],
   "source": [
    "def mysum(x, y):\n",
    "    return x + y\n",
    "\n",
    "def mymultiply(x, y):\n",
    "    return x * y\n",
    "\n",
    "print(base_10(mysum)(1, 2))\n",
    "print(base_10(mymultiply)(1, 2))"
   ]
  },
  {
   "cell_type": "code",
   "execution_count": 87,
   "metadata": {},
   "outputs": [
    {
     "data": {
      "text/plain": [
       "13"
      ]
     },
     "execution_count": 87,
     "metadata": {},
     "output_type": "execute_result"
    }
   ],
   "source": [
    "def mysum(x, y):\n",
    "    return x + y\n",
    "\n",
    "mysum = base_10(mysum)\n",
    "mysum(1, 2)"
   ]
  },
  {
   "cell_type": "code",
   "execution_count": 89,
   "metadata": {},
   "outputs": [
    {
     "name": "stdout",
     "output_type": "stream",
     "text": [
      "13\n",
      "12\n"
     ]
    }
   ],
   "source": [
    "@base_10\n",
    "def mysum(x, y):\n",
    "    return x + y\n",
    "\n",
    "@base_10\n",
    "def mymultiply(x, y):\n",
    "    return x * y\n",
    "\n",
    "print(mysum(1, 2))\n",
    "print(mymultiply(1, 2))"
   ]
  },
  {
   "cell_type": "markdown",
   "metadata": {},
   "source": [
    "## Quiz\n",
    "\n",
    "아래 함수에 `base_20` 장식자를 정의하세요.\n",
    "\n",
    "```python\n",
    "def base_20(fn):\n",
    "    def wrap(x, y):\n",
    "        return fn(x, y) + 20\n",
    "    return wrap\n",
    "\n",
    "@base_20\n",
    "def mypower(x, y):\n",
    "    return x ** y\n",
    "    \n",
    "print(mypower(2, 4))  # 출력결과는 36\n",
    "```"
   ]
  },
  {
   "cell_type": "code",
   "execution_count": 92,
   "metadata": {},
   "outputs": [
    {
     "data": {
      "text/plain": [
       "10"
      ]
     },
     "execution_count": 92,
     "metadata": {},
     "output_type": "execute_result"
    }
   ],
   "source": [
    "# 절대값\n",
    "abs(-10)"
   ]
  },
  {
   "cell_type": "code",
   "execution_count": 93,
   "metadata": {},
   "outputs": [
    {
     "name": "stdout",
     "output_type": "stream",
     "text": [
      "10\n"
     ]
    }
   ],
   "source": [
    "def myabs(fn):\n",
    "    def wrap(x, y):\n",
    "        return fn(abs(x), abs(y))\n",
    "    return wrap\n",
    "\n",
    "@myabs\n",
    "def mysum(x, y):\n",
    "    return x + y\n",
    "\n",
    "print(mysum(-1, 9))"
   ]
  },
  {
   "cell_type": "code",
   "execution_count": 96,
   "metadata": {},
   "outputs": [
    {
     "data": {
      "text/plain": [
       "33"
      ]
     },
     "execution_count": 96,
     "metadata": {},
     "output_type": "execute_result"
    }
   ],
   "source": [
    "def base(base_number):\n",
    "    def wrap(fn):\n",
    "        def inner(x, y):\n",
    "            return fn(x, y) + base_number\n",
    "        return inner\n",
    "    return wrap\n",
    "\n",
    "base_10 = base(10)\n",
    "base_20 = base(20)\n",
    "base_30 = base(30)\n",
    "base_100 = base(100)\n",
    "\n",
    "@base_30\n",
    "def mysum(x, y):\n",
    "    return x + y\n",
    "\n",
    "mysum(1, 2)"
   ]
  },
  {
   "cell_type": "code",
   "execution_count": 101,
   "metadata": {},
   "outputs": [
    {
     "name": "stdout",
     "output_type": "stream",
     "text": [
      "13\n",
      "102\n"
     ]
    }
   ],
   "source": [
    "def base(base_number):\n",
    "    def wrap(fn):\n",
    "        def inner(x, y):\n",
    "            return fn(x, y) + base_number\n",
    "        return inner\n",
    "    return wrap\n",
    "\n",
    "@base(10)\n",
    "def mysum(x, y):\n",
    "    return x + y\n",
    "\n",
    "@base(100)\n",
    "def mymultiply(x, y):\n",
    "    return x * y\n",
    "\n",
    "print(mysum(1, 2))\n",
    "print(mymultiply(1, 2))"
   ]
  },
  {
   "cell_type": "markdown",
   "metadata": {},
   "source": [
    "## Quiz\n",
    "\n",
    "숫자를 인자로 받는 함수의 각 인자에 +10 을 더해주는 장식자를 작성하고, 예시도 작성하세요."
   ]
  },
  {
   "cell_type": "markdown",
   "metadata": {},
   "source": [
    "### memoize 패턴"
   ]
  },
  {
   "cell_type": "code",
   "execution_count": 114,
   "metadata": {
    "collapsed": true
   },
   "outputs": [],
   "source": [
    "import time\n",
    "\n",
    "cached = {}\n",
    "cached2 = {}\n",
    "\n",
    "def mysum(x, y):\n",
    "    key = (x, y)\n",
    "    if key not in cached:  # cached사전에 키로서 등록이 되어있지 않느냐?\n",
    "        time.sleep(1)\n",
    "        cached[key] = x + y\n",
    "    \n",
    "    return cached[key]\n",
    "\n",
    "def mymultiply(x, y):\n",
    "    key = (x, y)\n",
    "    if key in cached2:  # cached사전에 키로서 등록이 되어있지 않느냐?\n",
    "        return cached2[key]\n",
    "\n",
    "    time.sleep(1)\n",
    "    cached2[key] = x + y\n",
    "    \n",
    "    return cached2[key]"
   ]
  },
  {
   "cell_type": "code",
   "execution_count": 115,
   "metadata": {},
   "outputs": [
    {
     "name": "stdout",
     "output_type": "stream",
     "text": [
      "3\n",
      "3\n",
      "3\n",
      "3\n",
      "3\n",
      "4\n",
      "4\n",
      "4\n",
      "4\n"
     ]
    }
   ],
   "source": [
    "print(mysum(1, 2))\n",
    "print(mysum(1, 2))\n",
    "print(mysum(1, 2))\n",
    "print(mysum(1, 2))\n",
    "print(mysum(1, 2))\n",
    "print(mysum(1, 3))\n",
    "\n",
    "print(mymultiply(1, 3))\n",
    "print(mymultiply(1, 3))\n",
    "print(mymultiply(1, 3))"
   ]
  },
  {
   "cell_type": "code",
   "execution_count": 119,
   "metadata": {},
   "outputs": [
    {
     "name": "stdout",
     "output_type": "stream",
     "text": [
      "3\n",
      "3\n",
      "3\n",
      "3\n",
      "3\n",
      "4\n",
      "4\n",
      "4\n",
      "4\n"
     ]
    }
   ],
   "source": [
    "import time\n",
    "\n",
    "def memoize(fn):\n",
    "    cached = {}\n",
    "    def wrap(x, y):\n",
    "        key = (x, y)\n",
    "        if key not in cached:\n",
    "            cached[key] = fn(x, y)\n",
    "        return cached[key]\n",
    "    return wrap\n",
    "\n",
    "@memoize\n",
    "def mysum(x, y):\n",
    "    time.sleep(1)\n",
    "    return x + y\n",
    "\n",
    "# mysum = memoize(mysum)\n",
    "\n",
    "\n",
    "@memoize\n",
    "def mymultiply(x, y):\n",
    "    time.sleep(1)\n",
    "    return x + y\n",
    "\n",
    "# mymultiply = memoize(mymultiply)\n",
    "\n",
    "\n",
    "print(mysum(1, 2))\n",
    "print(mysum(1, 2))\n",
    "print(mysum(1, 2))\n",
    "print(mysum(1, 2))\n",
    "print(mysum(1, 2))\n",
    "print(mysum(1, 3))\n",
    "\n",
    "print(mymultiply(1, 3))\n",
    "print(mymultiply(1, 3))\n",
    "print(mymultiply(1, 3))\n"
   ]
  },
  {
   "cell_type": "markdown",
   "metadata": {},
   "source": [
    "### 실제 장고/플라스크 웹개발에서는\n",
    "\n",
    "```python\n",
    "@login_required\n",
    "def post_list(request):\n",
    "    return render(request, 'blog/post_list.html')\n",
    "```"
   ]
  },
  {
   "cell_type": "markdown",
   "metadata": {},
   "source": [
    "## Quiz\n",
    "\n",
    "인자 3개를 받는 memoize3 장식자를 만들고, 예시도 작성하세요."
   ]
  },
  {
   "cell_type": "markdown",
   "metadata": {},
   "source": [
    "## 가변인자\n",
    "\n",
    "+ 위치 가변인자\n",
    "+ 키워드 가변인자"
   ]
  },
  {
   "cell_type": "code",
   "execution_count": 123,
   "metadata": {},
   "outputs": [
    {
     "name": "stdout",
     "output_type": "stream",
     "text": [
      "0\n",
      "3\n",
      "6\n",
      "10\n",
      "15\n",
      "55\n"
     ]
    }
   ],
   "source": [
    "def mysum(*args):  # packing\n",
    "    result = 0\n",
    "    for i in args:\n",
    "        result += i\n",
    "    return result\n",
    "\n",
    "print(mysum())\n",
    "print(mysum(1, 2))\n",
    "print(mysum(1, 2, 3))\n",
    "print(mysum(1, 2, 3, 4))\n",
    "print(mysum(1, 2, 3, 4, 5))\n",
    "print(mysum(1, 2, 3, 4, 5, 6, 7, 8, 9, 10))"
   ]
  },
  {
   "cell_type": "code",
   "execution_count": 126,
   "metadata": {},
   "outputs": [
    {
     "name": "stdout",
     "output_type": "stream",
     "text": [
      "3\n",
      "6\n",
      "10\n",
      "15\n",
      "55\n"
     ]
    }
   ],
   "source": [
    "# 인자를 최소 2개 받기\n",
    "def mysum(x, y, *args):  # packing\n",
    "    result = x + y\n",
    "    for i in args:\n",
    "        result += i\n",
    "    return result\n",
    "\n",
    "print(mysum(1, 2))           # x=1, y=2, args=()\n",
    "print(mysum(1, 2, 3))        # x=1, y=2, args=(3,)\n",
    "print(mysum(1, 2, 3, 4))     # x=1, y=2, args=(3, 4)\n",
    "print(mysum(1, 2, 3, 4, 5))  # x=1, y=2, args=(3, 4, 5)\n",
    "print(mysum(1, 2, 3, 4, 5, 6, 7, 8, 9, 10))"
   ]
  },
  {
   "cell_type": "code",
   "execution_count": 131,
   "metadata": {},
   "outputs": [
    {
     "name": "stdout",
     "output_type": "stream",
     "text": [
      "6\n",
      "15\n"
     ]
    }
   ],
   "source": [
    "# Unpacking\n",
    "def mysum3(x, y, z):\n",
    "    return x + y + z\n",
    "\n",
    "myparams = [1, 2, 3, 4, 5, 6]\n",
    "\n",
    "print(mysum3(myparams[0], myparams[1], myparams[2]))\n",
    "print(mysum3(*myparams[-3:]))  # unpacking"
   ]
  },
  {
   "cell_type": "markdown",
   "metadata": {},
   "source": [
    "#### packing 기법을 적용한 memoize"
   ]
  },
  {
   "cell_type": "code",
   "execution_count": 132,
   "metadata": {
    "collapsed": true
   },
   "outputs": [],
   "source": [
    "def memoize(fn):\n",
    "    cached = {}\n",
    "    def wrap(*args):\n",
    "        key = args\n",
    "        if key not in cached:\n",
    "            cached[key] = fn(*args)\n",
    "        return cached[key]\n",
    "    return wrap"
   ]
  },
  {
   "cell_type": "code",
   "execution_count": 133,
   "metadata": {},
   "outputs": [
    {
     "name": "stdout",
     "output_type": "stream",
     "text": [
      "3\n",
      "3\n",
      "3\n",
      "6\n",
      "6\n",
      "6\n",
      "10\n",
      "10\n",
      "10\n"
     ]
    }
   ],
   "source": [
    "import time\n",
    "\n",
    "@memoize\n",
    "def mysum2(x, y):\n",
    "    time.sleep(1)\n",
    "    return x + y\n",
    "\n",
    "@memoize\n",
    "def mysum3(x, y, z):\n",
    "    time.sleep(1)\n",
    "    return x + y + z\n",
    "\n",
    "@memoize\n",
    "def mysum4(x, y, z, a):\n",
    "    time.sleep(1)\n",
    "    return x + y + z + a\n",
    "\n",
    "print(mysum2(1, 2))\n",
    "print(mysum2(1, 2))\n",
    "print(mysum2(1, 2))\n",
    "print(mysum3(1, 2, 3))\n",
    "print(mysum3(1, 2, 3))\n",
    "print(mysum3(1, 2, 3))\n",
    "print(mysum4(1, 2, 3, 4))\n",
    "print(mysum4(1, 2, 3, 4))\n",
    "print(mysum4(1, 2, 3, 4))"
   ]
  },
  {
   "cell_type": "markdown",
   "metadata": {},
   "source": [
    "## 네이버 웹툰, 크롤링"
   ]
  },
  {
   "cell_type": "code",
   "execution_count": 136,
   "metadata": {
    "collapsed": true
   },
   "outputs": [],
   "source": [
    "from collections import OrderedDict\n",
    "from itertools import count\n",
    "from urllib.parse import urljoin\n",
    "import requests\n",
    "from bs4 import BeautifulSoup\n",
    "\n",
    "\n",
    "def get_list(title_id):\n",
    "    list_url = 'http://comic.naver.com/webtoon/list.nhn'\n",
    "    ep_dict = OrderedDict()\n",
    "\n",
    "    for page in count(1):\n",
    "        params = {'titleId': title_id, 'page': page}\n",
    "        print('try {}'.format(params))\n",
    "        list_html = requests.get(list_url, params=params).text\n",
    "        soup = BeautifulSoup(list_html, 'html.parser')\n",
    "        for tag in soup.select('.viewList tr td.title'):\n",
    "            tag_a = tag.find('a')\n",
    "            is_up = bool(tag.find('img'))\n",
    "            link = urljoin(list_url, tag_a['href'])\n",
    "            title = tag_a.text\n",
    "            print(title, is_up, link)\n",
    "            if link in ep_dict:\n",
    "                return ep_dict\n",
    "            ep = {\n",
    "                'title': title,\n",
    "                'is_up': is_up,\n",
    "                'link': link,\n",
    "            }\n",
    "            ep_dict[link] = ep"
   ]
  },
  {
   "cell_type": "code",
   "execution_count": 138,
   "metadata": {},
   "outputs": [
    {
     "name": "stdout",
     "output_type": "stream",
     "text": [
      "try {'titleId': '662774', 'page': 1}\n",
      "2부 4화 True http://comic.naver.com/webtoon/detail.nhn?titleId=662774&no=93&weekday=wed\n",
      "2부 3화 False http://comic.naver.com/webtoon/detail.nhn?titleId=662774&no=92&weekday=wed\n",
      "2부 2화 False http://comic.naver.com/webtoon/detail.nhn?titleId=662774&no=91&weekday=wed\n",
      "2부 1화 False http://comic.naver.com/webtoon/detail.nhn?titleId=662774&no=90&weekday=wed\n",
      "1부 후기 False http://comic.naver.com/webtoon/detail.nhn?titleId=662774&no=89&weekday=wed\n",
      "86화 - 귀영 (7화) False http://comic.naver.com/webtoon/detail.nhn?titleId=662774&no=88&weekday=wed\n",
      "85화 - 귀영 (6화) False http://comic.naver.com/webtoon/detail.nhn?titleId=662774&no=87&weekday=wed\n",
      "84화 - 귀영 (5화) False http://comic.naver.com/webtoon/detail.nhn?titleId=662774&no=86&weekday=wed\n",
      "83화 - 귀영 (4화) False http://comic.naver.com/webtoon/detail.nhn?titleId=662774&no=85&weekday=wed\n",
      "82화 - 귀영 (3화) False http://comic.naver.com/webtoon/detail.nhn?titleId=662774&no=84&weekday=wed\n",
      "try {'titleId': '662774', 'page': 2}\n",
      "81화 - 귀영 (2화) False http://comic.naver.com/webtoon/detail.nhn?titleId=662774&no=83&weekday=wed\n",
      "80화 - 귀영 (1화) False http://comic.naver.com/webtoon/detail.nhn?titleId=662774&no=82&weekday=wed\n",
      "79화 - 들개 무리(21화) False http://comic.naver.com/webtoon/detail.nhn?titleId=662774&no=81&weekday=wed\n",
      "78화 - 들개 무리(20화) False http://comic.naver.com/webtoon/detail.nhn?titleId=662774&no=80&weekday=wed\n",
      "77화 - 들개 무리(19화) False http://comic.naver.com/webtoon/detail.nhn?titleId=662774&no=79&weekday=wed\n",
      "76화 - 들개 무리(18화) False http://comic.naver.com/webtoon/detail.nhn?titleId=662774&no=78&weekday=wed\n",
      "75화 - 들개 무리(17화) False http://comic.naver.com/webtoon/detail.nhn?titleId=662774&no=77&weekday=wed\n",
      "74화 - 들개 무리(16화) False http://comic.naver.com/webtoon/detail.nhn?titleId=662774&no=76&weekday=wed\n",
      "73화 - 들개 무리(15화) False http://comic.naver.com/webtoon/detail.nhn?titleId=662774&no=75&weekday=wed\n",
      "72화 - 들개 무리(14화) False http://comic.naver.com/webtoon/detail.nhn?titleId=662774&no=74&weekday=wed\n",
      "try {'titleId': '662774', 'page': 3}\n",
      "71화 - 들개 무리(13화) False http://comic.naver.com/webtoon/detail.nhn?titleId=662774&no=73&weekday=wed\n",
      "70화 - 들개 무리(12화) False http://comic.naver.com/webtoon/detail.nhn?titleId=662774&no=72&weekday=wed\n",
      "69화 - 들개 무리(11화) False http://comic.naver.com/webtoon/detail.nhn?titleId=662774&no=71&weekday=wed\n",
      "68화 - 들개 무리(10화) False http://comic.naver.com/webtoon/detail.nhn?titleId=662774&no=70&weekday=wed\n",
      "67화 - 들개 무리(9화) False http://comic.naver.com/webtoon/detail.nhn?titleId=662774&no=69&weekday=wed\n",
      "66화 - 들개 무리(8화) False http://comic.naver.com/webtoon/detail.nhn?titleId=662774&no=68&weekday=wed\n",
      "65화 - 들개 무리(7화) False http://comic.naver.com/webtoon/detail.nhn?titleId=662774&no=67&weekday=wed\n",
      "64화 - 들개 무리(6화) False http://comic.naver.com/webtoon/detail.nhn?titleId=662774&no=66&weekday=wed\n",
      "63화 - 들개 무리(5화) False http://comic.naver.com/webtoon/detail.nhn?titleId=662774&no=65&weekday=wed\n",
      "62화 - 들개 무리(4화) False http://comic.naver.com/webtoon/detail.nhn?titleId=662774&no=64&weekday=wed\n",
      "try {'titleId': '662774', 'page': 4}\n",
      "61화 - 들개 무리(3화) False http://comic.naver.com/webtoon/detail.nhn?titleId=662774&no=63&weekday=wed\n",
      "60화 - 들개 무리(2화) False http://comic.naver.com/webtoon/detail.nhn?titleId=662774&no=62&weekday=wed\n",
      "59화 - 들개 무리(1화) False http://comic.naver.com/webtoon/detail.nhn?titleId=662774&no=61&weekday=wed\n",
      "58화 - 파문 (波紋) 4화 False http://comic.naver.com/webtoon/detail.nhn?titleId=662774&no=60&weekday=wed\n",
      "57화 - 파문 (波紋) 3화 False http://comic.naver.com/webtoon/detail.nhn?titleId=662774&no=59&weekday=wed\n",
      "56화 - 파문 (波紋) 2화 False http://comic.naver.com/webtoon/detail.nhn?titleId=662774&no=58&weekday=wed\n",
      "휴재공지 False http://comic.naver.com/webtoon/detail.nhn?titleId=662774&no=57&weekday=wed\n",
      "55화 - 파문 (波紋) False http://comic.naver.com/webtoon/detail.nhn?titleId=662774&no=56&weekday=wed\n",
      "54화 - 철사자 도겸(19) False http://comic.naver.com/webtoon/detail.nhn?titleId=662774&no=55&weekday=wed\n",
      "53화 - 철사자 도겸(18) False http://comic.naver.com/webtoon/detail.nhn?titleId=662774&no=54&weekday=wed\n",
      "try {'titleId': '662774', 'page': 5}\n",
      "52화 - 철사자 도겸(17) False http://comic.naver.com/webtoon/detail.nhn?titleId=662774&no=53&weekday=wed\n",
      "51화 - 철사자 도겸(16) False http://comic.naver.com/webtoon/detail.nhn?titleId=662774&no=52&weekday=wed\n",
      "50화 - 철사자 도겸(15) False http://comic.naver.com/webtoon/detail.nhn?titleId=662774&no=51&weekday=wed\n",
      "49화 - 철사자 도겸(14) False http://comic.naver.com/webtoon/detail.nhn?titleId=662774&no=50&weekday=wed\n",
      "48화 - 철사자 도겸(13) False http://comic.naver.com/webtoon/detail.nhn?titleId=662774&no=49&weekday=wed\n",
      "47화 - 철사자 도겸(12) False http://comic.naver.com/webtoon/detail.nhn?titleId=662774&no=48&weekday=wed\n",
      "46화 - 철사자 도겸(11) False http://comic.naver.com/webtoon/detail.nhn?titleId=662774&no=47&weekday=wed\n",
      "45화 - 철사자 도겸(10) False http://comic.naver.com/webtoon/detail.nhn?titleId=662774&no=46&weekday=wed\n",
      "44화 - 철사자 도겸(9) False http://comic.naver.com/webtoon/detail.nhn?titleId=662774&no=45&weekday=wed\n",
      "43화 - 철사자 도겸(8) False http://comic.naver.com/webtoon/detail.nhn?titleId=662774&no=44&weekday=wed\n",
      "try {'titleId': '662774', 'page': 6}\n",
      "42화 - 철사자 도겸(7) False http://comic.naver.com/webtoon/detail.nhn?titleId=662774&no=43&weekday=wed\n",
      "41화 - 철사자 도겸(6) False http://comic.naver.com/webtoon/detail.nhn?titleId=662774&no=42&weekday=wed\n",
      "40화 - 철사자 도겸(5) False http://comic.naver.com/webtoon/detail.nhn?titleId=662774&no=41&weekday=wed\n",
      "39화 - 철사자 도겸(4) False http://comic.naver.com/webtoon/detail.nhn?titleId=662774&no=40&weekday=wed\n",
      "38화 - 철사자 도겸(3) False http://comic.naver.com/webtoon/detail.nhn?titleId=662774&no=39&weekday=wed\n",
      "37화 - 철사자 도겸(2) False http://comic.naver.com/webtoon/detail.nhn?titleId=662774&no=38&weekday=wed\n",
      "36화 - 철사자 도겸(1) False http://comic.naver.com/webtoon/detail.nhn?titleId=662774&no=37&weekday=wed\n",
      "35화 - 백마곡(16) False http://comic.naver.com/webtoon/detail.nhn?titleId=662774&no=36&weekday=wed\n",
      "34화 - 백마곡(15) False http://comic.naver.com/webtoon/detail.nhn?titleId=662774&no=35&weekday=wed\n",
      "33화 - 백마곡(14) False http://comic.naver.com/webtoon/detail.nhn?titleId=662774&no=34&weekday=wed\n",
      "try {'titleId': '662774', 'page': 7}\n",
      "32화 - 백마곡(13) False http://comic.naver.com/webtoon/detail.nhn?titleId=662774&no=33&weekday=wed\n",
      "31화 - 백마곡(12) False http://comic.naver.com/webtoon/detail.nhn?titleId=662774&no=32&weekday=wed\n",
      "30화 - 백마곡(11) False http://comic.naver.com/webtoon/detail.nhn?titleId=662774&no=31&weekday=wed\n",
      "29화 - 백마곡(10) False http://comic.naver.com/webtoon/detail.nhn?titleId=662774&no=30&weekday=wed\n",
      "28화 - 백마곡(9) False http://comic.naver.com/webtoon/detail.nhn?titleId=662774&no=29&weekday=wed\n",
      "27화 - 백마곡(8) False http://comic.naver.com/webtoon/detail.nhn?titleId=662774&no=28&weekday=wed\n",
      "26화 - 백마곡(7) False http://comic.naver.com/webtoon/detail.nhn?titleId=662774&no=27&weekday=wed\n",
      "25화 - 백마곡(6) False http://comic.naver.com/webtoon/detail.nhn?titleId=662774&no=26&weekday=wed\n",
      "24화 - 백마곡(5) False http://comic.naver.com/webtoon/detail.nhn?titleId=662774&no=25&weekday=wed\n",
      "23화 - 백마곡(4) False http://comic.naver.com/webtoon/detail.nhn?titleId=662774&no=24&weekday=wed\n",
      "try {'titleId': '662774', 'page': 8}\n",
      "22화 - 백마곡(3) False http://comic.naver.com/webtoon/detail.nhn?titleId=662774&no=23&weekday=wed\n",
      "21화 - 백마곡(2) False http://comic.naver.com/webtoon/detail.nhn?titleId=662774&no=22&weekday=wed\n",
      "20화 - 백마곡(1) False http://comic.naver.com/webtoon/detail.nhn?titleId=662774&no=21&weekday=wed\n",
      "19화 - 홍안의 검귀 소 진홍(마지막회) False http://comic.naver.com/webtoon/detail.nhn?titleId=662774&no=20&weekday=wed\n",
      "18화 - 홍안의 검귀 소 진홍(8) False http://comic.naver.com/webtoon/detail.nhn?titleId=662774&no=19&weekday=wed\n",
      "17화 - 홍안의 검귀 소 진홍(7) False http://comic.naver.com/webtoon/detail.nhn?titleId=662774&no=18&weekday=wed\n",
      "16화 - 홍안의 검귀 소 진홍(6) False http://comic.naver.com/webtoon/detail.nhn?titleId=662774&no=17&weekday=wed\n",
      "15화 - 홍안의 검귀 소 진홍(5) False http://comic.naver.com/webtoon/detail.nhn?titleId=662774&no=16&weekday=wed\n",
      "14화 - 홍안의 검귀 소 진홍(4) False http://comic.naver.com/webtoon/detail.nhn?titleId=662774&no=15&weekday=wed\n",
      "13화 - 홍안의 검귀 소 진홍(3) False http://comic.naver.com/webtoon/detail.nhn?titleId=662774&no=14&weekday=wed\n",
      "try {'titleId': '662774', 'page': 9}\n",
      "12화 - 홍안의 검귀 소 진홍(2) False http://comic.naver.com/webtoon/detail.nhn?titleId=662774&no=13&weekday=wed\n",
      "11화 - 홍안의 검귀 소 진홍(1) False http://comic.naver.com/webtoon/detail.nhn?titleId=662774&no=12&weekday=wed\n",
      "10화 - 송예린(3) False http://comic.naver.com/webtoon/detail.nhn?titleId=662774&no=11&weekday=wed\n",
      "9화 - 송예린(2) False http://comic.naver.com/webtoon/detail.nhn?titleId=662774&no=10&weekday=wed\n",
      "8화 - 송예린(1) False http://comic.naver.com/webtoon/detail.nhn?titleId=662774&no=9&weekday=wed\n",
      "7화 - 가위 바위 보(4) False http://comic.naver.com/webtoon/detail.nhn?titleId=662774&no=8&weekday=wed\n",
      "6화 - 가위 바위 보(3) False http://comic.naver.com/webtoon/detail.nhn?titleId=662774&no=7&weekday=wed\n",
      "5화 - 가위 바위 보(2) False http://comic.naver.com/webtoon/detail.nhn?titleId=662774&no=6&weekday=wed\n",
      "4화 - 가위 바위 보(1) False http://comic.naver.com/webtoon/detail.nhn?titleId=662774&no=5&weekday=wed\n",
      "3화 - 요화단주 흑란 False http://comic.naver.com/webtoon/detail.nhn?titleId=662774&no=4&weekday=wed\n",
      "try {'titleId': '662774', 'page': 10}\n"
     ]
    },
    {
     "name": "stdout",
     "output_type": "stream",
     "text": [
      "2화 - 미녀 송초향 False http://comic.naver.com/webtoon/detail.nhn?titleId=662774&no=3&weekday=wed\n",
      "1화 - 1년 후... False http://comic.naver.com/webtoon/detail.nhn?titleId=662774&no=2&weekday=wed\n",
      "프롤로그 False http://comic.naver.com/webtoon/detail.nhn?titleId=662774&no=1&weekday=wed\n",
      "try {'titleId': '662774', 'page': 11}\n",
      "2화 - 미녀 송초향 False http://comic.naver.com/webtoon/detail.nhn?titleId=662774&no=3&weekday=wed\n"
     ]
    },
    {
     "data": {
      "text/plain": [
       "OrderedDict([('http://comic.naver.com/webtoon/detail.nhn?titleId=662774&no=93&weekday=wed',\n",
       "              {'is_up': True,\n",
       "               'link': 'http://comic.naver.com/webtoon/detail.nhn?titleId=662774&no=93&weekday=wed',\n",
       "               'title': '2부 4화'}),\n",
       "             ('http://comic.naver.com/webtoon/detail.nhn?titleId=662774&no=92&weekday=wed',\n",
       "              {'is_up': False,\n",
       "               'link': 'http://comic.naver.com/webtoon/detail.nhn?titleId=662774&no=92&weekday=wed',\n",
       "               'title': '2부 3화'}),\n",
       "             ('http://comic.naver.com/webtoon/detail.nhn?titleId=662774&no=91&weekday=wed',\n",
       "              {'is_up': False,\n",
       "               'link': 'http://comic.naver.com/webtoon/detail.nhn?titleId=662774&no=91&weekday=wed',\n",
       "               'title': '2부 2화'}),\n",
       "             ('http://comic.naver.com/webtoon/detail.nhn?titleId=662774&no=90&weekday=wed',\n",
       "              {'is_up': False,\n",
       "               'link': 'http://comic.naver.com/webtoon/detail.nhn?titleId=662774&no=90&weekday=wed',\n",
       "               'title': '2부 1화'}),\n",
       "             ('http://comic.naver.com/webtoon/detail.nhn?titleId=662774&no=89&weekday=wed',\n",
       "              {'is_up': False,\n",
       "               'link': 'http://comic.naver.com/webtoon/detail.nhn?titleId=662774&no=89&weekday=wed',\n",
       "               'title': '1부 후기'}),\n",
       "             ('http://comic.naver.com/webtoon/detail.nhn?titleId=662774&no=88&weekday=wed',\n",
       "              {'is_up': False,\n",
       "               'link': 'http://comic.naver.com/webtoon/detail.nhn?titleId=662774&no=88&weekday=wed',\n",
       "               'title': '86화 - 귀영 (7화)'}),\n",
       "             ('http://comic.naver.com/webtoon/detail.nhn?titleId=662774&no=87&weekday=wed',\n",
       "              {'is_up': False,\n",
       "               'link': 'http://comic.naver.com/webtoon/detail.nhn?titleId=662774&no=87&weekday=wed',\n",
       "               'title': '85화 - 귀영 (6화)'}),\n",
       "             ('http://comic.naver.com/webtoon/detail.nhn?titleId=662774&no=86&weekday=wed',\n",
       "              {'is_up': False,\n",
       "               'link': 'http://comic.naver.com/webtoon/detail.nhn?titleId=662774&no=86&weekday=wed',\n",
       "               'title': '84화 - 귀영 (5화)'}),\n",
       "             ('http://comic.naver.com/webtoon/detail.nhn?titleId=662774&no=85&weekday=wed',\n",
       "              {'is_up': False,\n",
       "               'link': 'http://comic.naver.com/webtoon/detail.nhn?titleId=662774&no=85&weekday=wed',\n",
       "               'title': '83화 - 귀영 (4화)'}),\n",
       "             ('http://comic.naver.com/webtoon/detail.nhn?titleId=662774&no=84&weekday=wed',\n",
       "              {'is_up': False,\n",
       "               'link': 'http://comic.naver.com/webtoon/detail.nhn?titleId=662774&no=84&weekday=wed',\n",
       "               'title': '82화 - 귀영 (3화)'}),\n",
       "             ('http://comic.naver.com/webtoon/detail.nhn?titleId=662774&no=83&weekday=wed',\n",
       "              {'is_up': False,\n",
       "               'link': 'http://comic.naver.com/webtoon/detail.nhn?titleId=662774&no=83&weekday=wed',\n",
       "               'title': '81화 - 귀영 (2화)'}),\n",
       "             ('http://comic.naver.com/webtoon/detail.nhn?titleId=662774&no=82&weekday=wed',\n",
       "              {'is_up': False,\n",
       "               'link': 'http://comic.naver.com/webtoon/detail.nhn?titleId=662774&no=82&weekday=wed',\n",
       "               'title': '80화 - 귀영 (1화)'}),\n",
       "             ('http://comic.naver.com/webtoon/detail.nhn?titleId=662774&no=81&weekday=wed',\n",
       "              {'is_up': False,\n",
       "               'link': 'http://comic.naver.com/webtoon/detail.nhn?titleId=662774&no=81&weekday=wed',\n",
       "               'title': '79화 - 들개 무리(21화)'}),\n",
       "             ('http://comic.naver.com/webtoon/detail.nhn?titleId=662774&no=80&weekday=wed',\n",
       "              {'is_up': False,\n",
       "               'link': 'http://comic.naver.com/webtoon/detail.nhn?titleId=662774&no=80&weekday=wed',\n",
       "               'title': '78화 - 들개 무리(20화)'}),\n",
       "             ('http://comic.naver.com/webtoon/detail.nhn?titleId=662774&no=79&weekday=wed',\n",
       "              {'is_up': False,\n",
       "               'link': 'http://comic.naver.com/webtoon/detail.nhn?titleId=662774&no=79&weekday=wed',\n",
       "               'title': '77화 - 들개 무리(19화)'}),\n",
       "             ('http://comic.naver.com/webtoon/detail.nhn?titleId=662774&no=78&weekday=wed',\n",
       "              {'is_up': False,\n",
       "               'link': 'http://comic.naver.com/webtoon/detail.nhn?titleId=662774&no=78&weekday=wed',\n",
       "               'title': '76화 - 들개 무리(18화)'}),\n",
       "             ('http://comic.naver.com/webtoon/detail.nhn?titleId=662774&no=77&weekday=wed',\n",
       "              {'is_up': False,\n",
       "               'link': 'http://comic.naver.com/webtoon/detail.nhn?titleId=662774&no=77&weekday=wed',\n",
       "               'title': '75화 - 들개 무리(17화)'}),\n",
       "             ('http://comic.naver.com/webtoon/detail.nhn?titleId=662774&no=76&weekday=wed',\n",
       "              {'is_up': False,\n",
       "               'link': 'http://comic.naver.com/webtoon/detail.nhn?titleId=662774&no=76&weekday=wed',\n",
       "               'title': '74화 - 들개 무리(16화)'}),\n",
       "             ('http://comic.naver.com/webtoon/detail.nhn?titleId=662774&no=75&weekday=wed',\n",
       "              {'is_up': False,\n",
       "               'link': 'http://comic.naver.com/webtoon/detail.nhn?titleId=662774&no=75&weekday=wed',\n",
       "               'title': '73화 - 들개 무리(15화)'}),\n",
       "             ('http://comic.naver.com/webtoon/detail.nhn?titleId=662774&no=74&weekday=wed',\n",
       "              {'is_up': False,\n",
       "               'link': 'http://comic.naver.com/webtoon/detail.nhn?titleId=662774&no=74&weekday=wed',\n",
       "               'title': '72화 - 들개 무리(14화)'}),\n",
       "             ('http://comic.naver.com/webtoon/detail.nhn?titleId=662774&no=73&weekday=wed',\n",
       "              {'is_up': False,\n",
       "               'link': 'http://comic.naver.com/webtoon/detail.nhn?titleId=662774&no=73&weekday=wed',\n",
       "               'title': '71화 - 들개 무리(13화)'}),\n",
       "             ('http://comic.naver.com/webtoon/detail.nhn?titleId=662774&no=72&weekday=wed',\n",
       "              {'is_up': False,\n",
       "               'link': 'http://comic.naver.com/webtoon/detail.nhn?titleId=662774&no=72&weekday=wed',\n",
       "               'title': '70화 - 들개 무리(12화)'}),\n",
       "             ('http://comic.naver.com/webtoon/detail.nhn?titleId=662774&no=71&weekday=wed',\n",
       "              {'is_up': False,\n",
       "               'link': 'http://comic.naver.com/webtoon/detail.nhn?titleId=662774&no=71&weekday=wed',\n",
       "               'title': '69화 - 들개 무리(11화)'}),\n",
       "             ('http://comic.naver.com/webtoon/detail.nhn?titleId=662774&no=70&weekday=wed',\n",
       "              {'is_up': False,\n",
       "               'link': 'http://comic.naver.com/webtoon/detail.nhn?titleId=662774&no=70&weekday=wed',\n",
       "               'title': '68화 - 들개 무리(10화)'}),\n",
       "             ('http://comic.naver.com/webtoon/detail.nhn?titleId=662774&no=69&weekday=wed',\n",
       "              {'is_up': False,\n",
       "               'link': 'http://comic.naver.com/webtoon/detail.nhn?titleId=662774&no=69&weekday=wed',\n",
       "               'title': '67화 - 들개 무리(9화)'}),\n",
       "             ('http://comic.naver.com/webtoon/detail.nhn?titleId=662774&no=68&weekday=wed',\n",
       "              {'is_up': False,\n",
       "               'link': 'http://comic.naver.com/webtoon/detail.nhn?titleId=662774&no=68&weekday=wed',\n",
       "               'title': '66화 - 들개 무리(8화)'}),\n",
       "             ('http://comic.naver.com/webtoon/detail.nhn?titleId=662774&no=67&weekday=wed',\n",
       "              {'is_up': False,\n",
       "               'link': 'http://comic.naver.com/webtoon/detail.nhn?titleId=662774&no=67&weekday=wed',\n",
       "               'title': '65화 - 들개 무리(7화)'}),\n",
       "             ('http://comic.naver.com/webtoon/detail.nhn?titleId=662774&no=66&weekday=wed',\n",
       "              {'is_up': False,\n",
       "               'link': 'http://comic.naver.com/webtoon/detail.nhn?titleId=662774&no=66&weekday=wed',\n",
       "               'title': '64화 - 들개 무리(6화)'}),\n",
       "             ('http://comic.naver.com/webtoon/detail.nhn?titleId=662774&no=65&weekday=wed',\n",
       "              {'is_up': False,\n",
       "               'link': 'http://comic.naver.com/webtoon/detail.nhn?titleId=662774&no=65&weekday=wed',\n",
       "               'title': '63화 - 들개 무리(5화)'}),\n",
       "             ('http://comic.naver.com/webtoon/detail.nhn?titleId=662774&no=64&weekday=wed',\n",
       "              {'is_up': False,\n",
       "               'link': 'http://comic.naver.com/webtoon/detail.nhn?titleId=662774&no=64&weekday=wed',\n",
       "               'title': '62화 - 들개 무리(4화)'}),\n",
       "             ('http://comic.naver.com/webtoon/detail.nhn?titleId=662774&no=63&weekday=wed',\n",
       "              {'is_up': False,\n",
       "               'link': 'http://comic.naver.com/webtoon/detail.nhn?titleId=662774&no=63&weekday=wed',\n",
       "               'title': '61화 - 들개 무리(3화)'}),\n",
       "             ('http://comic.naver.com/webtoon/detail.nhn?titleId=662774&no=62&weekday=wed',\n",
       "              {'is_up': False,\n",
       "               'link': 'http://comic.naver.com/webtoon/detail.nhn?titleId=662774&no=62&weekday=wed',\n",
       "               'title': '60화 - 들개 무리(2화)'}),\n",
       "             ('http://comic.naver.com/webtoon/detail.nhn?titleId=662774&no=61&weekday=wed',\n",
       "              {'is_up': False,\n",
       "               'link': 'http://comic.naver.com/webtoon/detail.nhn?titleId=662774&no=61&weekday=wed',\n",
       "               'title': '59화 - 들개 무리(1화)'}),\n",
       "             ('http://comic.naver.com/webtoon/detail.nhn?titleId=662774&no=60&weekday=wed',\n",
       "              {'is_up': False,\n",
       "               'link': 'http://comic.naver.com/webtoon/detail.nhn?titleId=662774&no=60&weekday=wed',\n",
       "               'title': '58화 - 파문 (波紋) 4화'}),\n",
       "             ('http://comic.naver.com/webtoon/detail.nhn?titleId=662774&no=59&weekday=wed',\n",
       "              {'is_up': False,\n",
       "               'link': 'http://comic.naver.com/webtoon/detail.nhn?titleId=662774&no=59&weekday=wed',\n",
       "               'title': '57화 - 파문 (波紋) 3화'}),\n",
       "             ('http://comic.naver.com/webtoon/detail.nhn?titleId=662774&no=58&weekday=wed',\n",
       "              {'is_up': False,\n",
       "               'link': 'http://comic.naver.com/webtoon/detail.nhn?titleId=662774&no=58&weekday=wed',\n",
       "               'title': '56화 - 파문 (波紋) 2화'}),\n",
       "             ('http://comic.naver.com/webtoon/detail.nhn?titleId=662774&no=57&weekday=wed',\n",
       "              {'is_up': False,\n",
       "               'link': 'http://comic.naver.com/webtoon/detail.nhn?titleId=662774&no=57&weekday=wed',\n",
       "               'title': '휴재공지'}),\n",
       "             ('http://comic.naver.com/webtoon/detail.nhn?titleId=662774&no=56&weekday=wed',\n",
       "              {'is_up': False,\n",
       "               'link': 'http://comic.naver.com/webtoon/detail.nhn?titleId=662774&no=56&weekday=wed',\n",
       "               'title': '55화 - 파문 (波紋)'}),\n",
       "             ('http://comic.naver.com/webtoon/detail.nhn?titleId=662774&no=55&weekday=wed',\n",
       "              {'is_up': False,\n",
       "               'link': 'http://comic.naver.com/webtoon/detail.nhn?titleId=662774&no=55&weekday=wed',\n",
       "               'title': '54화 - 철사자 도겸(19)'}),\n",
       "             ('http://comic.naver.com/webtoon/detail.nhn?titleId=662774&no=54&weekday=wed',\n",
       "              {'is_up': False,\n",
       "               'link': 'http://comic.naver.com/webtoon/detail.nhn?titleId=662774&no=54&weekday=wed',\n",
       "               'title': '53화 - 철사자 도겸(18)'}),\n",
       "             ('http://comic.naver.com/webtoon/detail.nhn?titleId=662774&no=53&weekday=wed',\n",
       "              {'is_up': False,\n",
       "               'link': 'http://comic.naver.com/webtoon/detail.nhn?titleId=662774&no=53&weekday=wed',\n",
       "               'title': '52화 - 철사자 도겸(17)'}),\n",
       "             ('http://comic.naver.com/webtoon/detail.nhn?titleId=662774&no=52&weekday=wed',\n",
       "              {'is_up': False,\n",
       "               'link': 'http://comic.naver.com/webtoon/detail.nhn?titleId=662774&no=52&weekday=wed',\n",
       "               'title': '51화 - 철사자 도겸(16)'}),\n",
       "             ('http://comic.naver.com/webtoon/detail.nhn?titleId=662774&no=51&weekday=wed',\n",
       "              {'is_up': False,\n",
       "               'link': 'http://comic.naver.com/webtoon/detail.nhn?titleId=662774&no=51&weekday=wed',\n",
       "               'title': '50화 - 철사자 도겸(15)'}),\n",
       "             ('http://comic.naver.com/webtoon/detail.nhn?titleId=662774&no=50&weekday=wed',\n",
       "              {'is_up': False,\n",
       "               'link': 'http://comic.naver.com/webtoon/detail.nhn?titleId=662774&no=50&weekday=wed',\n",
       "               'title': '49화 - 철사자 도겸(14)'}),\n",
       "             ('http://comic.naver.com/webtoon/detail.nhn?titleId=662774&no=49&weekday=wed',\n",
       "              {'is_up': False,\n",
       "               'link': 'http://comic.naver.com/webtoon/detail.nhn?titleId=662774&no=49&weekday=wed',\n",
       "               'title': '48화 - 철사자 도겸(13)'}),\n",
       "             ('http://comic.naver.com/webtoon/detail.nhn?titleId=662774&no=48&weekday=wed',\n",
       "              {'is_up': False,\n",
       "               'link': 'http://comic.naver.com/webtoon/detail.nhn?titleId=662774&no=48&weekday=wed',\n",
       "               'title': '47화 - 철사자 도겸(12)'}),\n",
       "             ('http://comic.naver.com/webtoon/detail.nhn?titleId=662774&no=47&weekday=wed',\n",
       "              {'is_up': False,\n",
       "               'link': 'http://comic.naver.com/webtoon/detail.nhn?titleId=662774&no=47&weekday=wed',\n",
       "               'title': '46화 - 철사자 도겸(11)'}),\n",
       "             ('http://comic.naver.com/webtoon/detail.nhn?titleId=662774&no=46&weekday=wed',\n",
       "              {'is_up': False,\n",
       "               'link': 'http://comic.naver.com/webtoon/detail.nhn?titleId=662774&no=46&weekday=wed',\n",
       "               'title': '45화 - 철사자 도겸(10)'}),\n",
       "             ('http://comic.naver.com/webtoon/detail.nhn?titleId=662774&no=45&weekday=wed',\n",
       "              {'is_up': False,\n",
       "               'link': 'http://comic.naver.com/webtoon/detail.nhn?titleId=662774&no=45&weekday=wed',\n",
       "               'title': '44화 - 철사자 도겸(9)'}),\n",
       "             ('http://comic.naver.com/webtoon/detail.nhn?titleId=662774&no=44&weekday=wed',\n",
       "              {'is_up': False,\n",
       "               'link': 'http://comic.naver.com/webtoon/detail.nhn?titleId=662774&no=44&weekday=wed',\n",
       "               'title': '43화 - 철사자 도겸(8)'}),\n",
       "             ('http://comic.naver.com/webtoon/detail.nhn?titleId=662774&no=43&weekday=wed',\n",
       "              {'is_up': False,\n",
       "               'link': 'http://comic.naver.com/webtoon/detail.nhn?titleId=662774&no=43&weekday=wed',\n",
       "               'title': '42화 - 철사자 도겸(7)'}),\n",
       "             ('http://comic.naver.com/webtoon/detail.nhn?titleId=662774&no=42&weekday=wed',\n",
       "              {'is_up': False,\n",
       "               'link': 'http://comic.naver.com/webtoon/detail.nhn?titleId=662774&no=42&weekday=wed',\n",
       "               'title': '41화 - 철사자 도겸(6)'}),\n",
       "             ('http://comic.naver.com/webtoon/detail.nhn?titleId=662774&no=41&weekday=wed',\n",
       "              {'is_up': False,\n",
       "               'link': 'http://comic.naver.com/webtoon/detail.nhn?titleId=662774&no=41&weekday=wed',\n",
       "               'title': '40화 - 철사자 도겸(5)'}),\n",
       "             ('http://comic.naver.com/webtoon/detail.nhn?titleId=662774&no=40&weekday=wed',\n",
       "              {'is_up': False,\n",
       "               'link': 'http://comic.naver.com/webtoon/detail.nhn?titleId=662774&no=40&weekday=wed',\n",
       "               'title': '39화 - 철사자 도겸(4)'}),\n",
       "             ('http://comic.naver.com/webtoon/detail.nhn?titleId=662774&no=39&weekday=wed',\n",
       "              {'is_up': False,\n",
       "               'link': 'http://comic.naver.com/webtoon/detail.nhn?titleId=662774&no=39&weekday=wed',\n",
       "               'title': '38화 - 철사자 도겸(3)'}),\n",
       "             ('http://comic.naver.com/webtoon/detail.nhn?titleId=662774&no=38&weekday=wed',\n",
       "              {'is_up': False,\n",
       "               'link': 'http://comic.naver.com/webtoon/detail.nhn?titleId=662774&no=38&weekday=wed',\n",
       "               'title': '37화 - 철사자 도겸(2)'}),\n",
       "             ('http://comic.naver.com/webtoon/detail.nhn?titleId=662774&no=37&weekday=wed',\n",
       "              {'is_up': False,\n",
       "               'link': 'http://comic.naver.com/webtoon/detail.nhn?titleId=662774&no=37&weekday=wed',\n",
       "               'title': '36화 - 철사자 도겸(1)'}),\n",
       "             ('http://comic.naver.com/webtoon/detail.nhn?titleId=662774&no=36&weekday=wed',\n",
       "              {'is_up': False,\n",
       "               'link': 'http://comic.naver.com/webtoon/detail.nhn?titleId=662774&no=36&weekday=wed',\n",
       "               'title': '35화 - 백마곡(16)'}),\n",
       "             ('http://comic.naver.com/webtoon/detail.nhn?titleId=662774&no=35&weekday=wed',\n",
       "              {'is_up': False,\n",
       "               'link': 'http://comic.naver.com/webtoon/detail.nhn?titleId=662774&no=35&weekday=wed',\n",
       "               'title': '34화 - 백마곡(15)'}),\n",
       "             ('http://comic.naver.com/webtoon/detail.nhn?titleId=662774&no=34&weekday=wed',\n",
       "              {'is_up': False,\n",
       "               'link': 'http://comic.naver.com/webtoon/detail.nhn?titleId=662774&no=34&weekday=wed',\n",
       "               'title': '33화 - 백마곡(14)'}),\n",
       "             ('http://comic.naver.com/webtoon/detail.nhn?titleId=662774&no=33&weekday=wed',\n",
       "              {'is_up': False,\n",
       "               'link': 'http://comic.naver.com/webtoon/detail.nhn?titleId=662774&no=33&weekday=wed',\n",
       "               'title': '32화 - 백마곡(13)'}),\n",
       "             ('http://comic.naver.com/webtoon/detail.nhn?titleId=662774&no=32&weekday=wed',\n",
       "              {'is_up': False,\n",
       "               'link': 'http://comic.naver.com/webtoon/detail.nhn?titleId=662774&no=32&weekday=wed',\n",
       "               'title': '31화 - 백마곡(12)'}),\n",
       "             ('http://comic.naver.com/webtoon/detail.nhn?titleId=662774&no=31&weekday=wed',\n",
       "              {'is_up': False,\n",
       "               'link': 'http://comic.naver.com/webtoon/detail.nhn?titleId=662774&no=31&weekday=wed',\n",
       "               'title': '30화 - 백마곡(11)'}),\n",
       "             ('http://comic.naver.com/webtoon/detail.nhn?titleId=662774&no=30&weekday=wed',\n",
       "              {'is_up': False,\n",
       "               'link': 'http://comic.naver.com/webtoon/detail.nhn?titleId=662774&no=30&weekday=wed',\n",
       "               'title': '29화 - 백마곡(10)'}),\n",
       "             ('http://comic.naver.com/webtoon/detail.nhn?titleId=662774&no=29&weekday=wed',\n",
       "              {'is_up': False,\n",
       "               'link': 'http://comic.naver.com/webtoon/detail.nhn?titleId=662774&no=29&weekday=wed',\n",
       "               'title': '28화 - 백마곡(9)'}),\n",
       "             ('http://comic.naver.com/webtoon/detail.nhn?titleId=662774&no=28&weekday=wed',\n",
       "              {'is_up': False,\n",
       "               'link': 'http://comic.naver.com/webtoon/detail.nhn?titleId=662774&no=28&weekday=wed',\n",
       "               'title': '27화 - 백마곡(8)'}),\n",
       "             ('http://comic.naver.com/webtoon/detail.nhn?titleId=662774&no=27&weekday=wed',\n",
       "              {'is_up': False,\n",
       "               'link': 'http://comic.naver.com/webtoon/detail.nhn?titleId=662774&no=27&weekday=wed',\n",
       "               'title': '26화 - 백마곡(7)'}),\n",
       "             ('http://comic.naver.com/webtoon/detail.nhn?titleId=662774&no=26&weekday=wed',\n",
       "              {'is_up': False,\n",
       "               'link': 'http://comic.naver.com/webtoon/detail.nhn?titleId=662774&no=26&weekday=wed',\n",
       "               'title': '25화 - 백마곡(6)'}),\n",
       "             ('http://comic.naver.com/webtoon/detail.nhn?titleId=662774&no=25&weekday=wed',\n",
       "              {'is_up': False,\n",
       "               'link': 'http://comic.naver.com/webtoon/detail.nhn?titleId=662774&no=25&weekday=wed',\n",
       "               'title': '24화 - 백마곡(5)'}),\n",
       "             ('http://comic.naver.com/webtoon/detail.nhn?titleId=662774&no=24&weekday=wed',\n",
       "              {'is_up': False,\n",
       "               'link': 'http://comic.naver.com/webtoon/detail.nhn?titleId=662774&no=24&weekday=wed',\n",
       "               'title': '23화 - 백마곡(4)'}),\n",
       "             ('http://comic.naver.com/webtoon/detail.nhn?titleId=662774&no=23&weekday=wed',\n",
       "              {'is_up': False,\n",
       "               'link': 'http://comic.naver.com/webtoon/detail.nhn?titleId=662774&no=23&weekday=wed',\n",
       "               'title': '22화 - 백마곡(3)'}),\n",
       "             ('http://comic.naver.com/webtoon/detail.nhn?titleId=662774&no=22&weekday=wed',\n",
       "              {'is_up': False,\n",
       "               'link': 'http://comic.naver.com/webtoon/detail.nhn?titleId=662774&no=22&weekday=wed',\n",
       "               'title': '21화 - 백마곡(2)'}),\n",
       "             ('http://comic.naver.com/webtoon/detail.nhn?titleId=662774&no=21&weekday=wed',\n",
       "              {'is_up': False,\n",
       "               'link': 'http://comic.naver.com/webtoon/detail.nhn?titleId=662774&no=21&weekday=wed',\n",
       "               'title': '20화 - 백마곡(1)'}),\n",
       "             ('http://comic.naver.com/webtoon/detail.nhn?titleId=662774&no=20&weekday=wed',\n",
       "              {'is_up': False,\n",
       "               'link': 'http://comic.naver.com/webtoon/detail.nhn?titleId=662774&no=20&weekday=wed',\n",
       "               'title': '19화 - 홍안의 검귀 소 진홍(마지막회)'}),\n",
       "             ('http://comic.naver.com/webtoon/detail.nhn?titleId=662774&no=19&weekday=wed',\n",
       "              {'is_up': False,\n",
       "               'link': 'http://comic.naver.com/webtoon/detail.nhn?titleId=662774&no=19&weekday=wed',\n",
       "               'title': '18화 - 홍안의 검귀 소 진홍(8)'}),\n",
       "             ('http://comic.naver.com/webtoon/detail.nhn?titleId=662774&no=18&weekday=wed',\n",
       "              {'is_up': False,\n",
       "               'link': 'http://comic.naver.com/webtoon/detail.nhn?titleId=662774&no=18&weekday=wed',\n",
       "               'title': '17화 - 홍안의 검귀 소 진홍(7)'}),\n",
       "             ('http://comic.naver.com/webtoon/detail.nhn?titleId=662774&no=17&weekday=wed',\n",
       "              {'is_up': False,\n",
       "               'link': 'http://comic.naver.com/webtoon/detail.nhn?titleId=662774&no=17&weekday=wed',\n",
       "               'title': '16화 - 홍안의 검귀 소 진홍(6)'}),\n",
       "             ('http://comic.naver.com/webtoon/detail.nhn?titleId=662774&no=16&weekday=wed',\n",
       "              {'is_up': False,\n",
       "               'link': 'http://comic.naver.com/webtoon/detail.nhn?titleId=662774&no=16&weekday=wed',\n",
       "               'title': '15화 - 홍안의 검귀 소 진홍(5)'}),\n",
       "             ('http://comic.naver.com/webtoon/detail.nhn?titleId=662774&no=15&weekday=wed',\n",
       "              {'is_up': False,\n",
       "               'link': 'http://comic.naver.com/webtoon/detail.nhn?titleId=662774&no=15&weekday=wed',\n",
       "               'title': '14화 - 홍안의 검귀 소 진홍(4)'}),\n",
       "             ('http://comic.naver.com/webtoon/detail.nhn?titleId=662774&no=14&weekday=wed',\n",
       "              {'is_up': False,\n",
       "               'link': 'http://comic.naver.com/webtoon/detail.nhn?titleId=662774&no=14&weekday=wed',\n",
       "               'title': '13화 - 홍안의 검귀 소 진홍(3)'}),\n",
       "             ('http://comic.naver.com/webtoon/detail.nhn?titleId=662774&no=13&weekday=wed',\n",
       "              {'is_up': False,\n",
       "               'link': 'http://comic.naver.com/webtoon/detail.nhn?titleId=662774&no=13&weekday=wed',\n",
       "               'title': '12화 - 홍안의 검귀 소 진홍(2)'}),\n",
       "             ('http://comic.naver.com/webtoon/detail.nhn?titleId=662774&no=12&weekday=wed',\n",
       "              {'is_up': False,\n",
       "               'link': 'http://comic.naver.com/webtoon/detail.nhn?titleId=662774&no=12&weekday=wed',\n",
       "               'title': '11화 - 홍안의 검귀 소 진홍(1)'}),\n",
       "             ('http://comic.naver.com/webtoon/detail.nhn?titleId=662774&no=11&weekday=wed',\n",
       "              {'is_up': False,\n",
       "               'link': 'http://comic.naver.com/webtoon/detail.nhn?titleId=662774&no=11&weekday=wed',\n",
       "               'title': '10화 - 송예린(3)'}),\n",
       "             ('http://comic.naver.com/webtoon/detail.nhn?titleId=662774&no=10&weekday=wed',\n",
       "              {'is_up': False,\n",
       "               'link': 'http://comic.naver.com/webtoon/detail.nhn?titleId=662774&no=10&weekday=wed',\n",
       "               'title': '9화 - 송예린(2)'}),\n",
       "             ('http://comic.naver.com/webtoon/detail.nhn?titleId=662774&no=9&weekday=wed',\n",
       "              {'is_up': False,\n",
       "               'link': 'http://comic.naver.com/webtoon/detail.nhn?titleId=662774&no=9&weekday=wed',\n",
       "               'title': '8화 - 송예린(1)'}),\n",
       "             ('http://comic.naver.com/webtoon/detail.nhn?titleId=662774&no=8&weekday=wed',\n",
       "              {'is_up': False,\n",
       "               'link': 'http://comic.naver.com/webtoon/detail.nhn?titleId=662774&no=8&weekday=wed',\n",
       "               'title': '7화 - 가위 바위 보(4)'}),\n",
       "             ('http://comic.naver.com/webtoon/detail.nhn?titleId=662774&no=7&weekday=wed',\n",
       "              {'is_up': False,\n",
       "               'link': 'http://comic.naver.com/webtoon/detail.nhn?titleId=662774&no=7&weekday=wed',\n",
       "               'title': '6화 - 가위 바위 보(3)'}),\n",
       "             ('http://comic.naver.com/webtoon/detail.nhn?titleId=662774&no=6&weekday=wed',\n",
       "              {'is_up': False,\n",
       "               'link': 'http://comic.naver.com/webtoon/detail.nhn?titleId=662774&no=6&weekday=wed',\n",
       "               'title': '5화 - 가위 바위 보(2)'}),\n",
       "             ('http://comic.naver.com/webtoon/detail.nhn?titleId=662774&no=5&weekday=wed',\n",
       "              {'is_up': False,\n",
       "               'link': 'http://comic.naver.com/webtoon/detail.nhn?titleId=662774&no=5&weekday=wed',\n",
       "               'title': '4화 - 가위 바위 보(1)'}),\n",
       "             ('http://comic.naver.com/webtoon/detail.nhn?titleId=662774&no=4&weekday=wed',\n",
       "              {'is_up': False,\n",
       "               'link': 'http://comic.naver.com/webtoon/detail.nhn?titleId=662774&no=4&weekday=wed',\n",
       "               'title': '3화 - 요화단주 흑란'}),\n",
       "             ('http://comic.naver.com/webtoon/detail.nhn?titleId=662774&no=3&weekday=wed',\n",
       "              {'is_up': False,\n",
       "               'link': 'http://comic.naver.com/webtoon/detail.nhn?titleId=662774&no=3&weekday=wed',\n",
       "               'title': '2화 - 미녀 송초향'}),\n",
       "             ('http://comic.naver.com/webtoon/detail.nhn?titleId=662774&no=2&weekday=wed',\n",
       "              {'is_up': False,\n",
       "               'link': 'http://comic.naver.com/webtoon/detail.nhn?titleId=662774&no=2&weekday=wed',\n",
       "               'title': '1화 - 1년 후...'}),\n",
       "             ('http://comic.naver.com/webtoon/detail.nhn?titleId=662774&no=1&weekday=wed',\n",
       "              {'is_up': False,\n",
       "               'link': 'http://comic.naver.com/webtoon/detail.nhn?titleId=662774&no=1&weekday=wed',\n",
       "               'title': '프롤로그'})])"
      ]
     },
     "execution_count": 138,
     "metadata": {},
     "output_type": "execute_result"
    }
   ],
   "source": [
    "get_list('662774')"
   ]
  },
  {
   "cell_type": "code",
   "execution_count": 147,
   "metadata": {},
   "outputs": [
    {
     "name": "stdout",
     "output_type": "stream",
     "text": [
      "http://imgcomic.naver.net/webtoon/662774/37/20160510150916_12adcfae4fca4e6f7265c76c85a13661_IMAG01_1.jpg\n",
      "20160510150916_12adcfae4fca4e6f7265c76c85a13661_IMAG01_1.jpg\n",
      "http://imgcomic.naver.net/webtoon/662774/37/20160510150916_12adcfae4fca4e6f7265c76c85a13661_IMAG01_2.jpg\n",
      "20160510150916_12adcfae4fca4e6f7265c76c85a13661_IMAG01_2.jpg\n",
      "http://imgcomic.naver.net/webtoon/662774/37/20160510150916_12adcfae4fca4e6f7265c76c85a13661_IMAG01_3.jpg\n",
      "20160510150916_12adcfae4fca4e6f7265c76c85a13661_IMAG01_3.jpg\n",
      "http://imgcomic.naver.net/webtoon/662774/37/20160510150916_12adcfae4fca4e6f7265c76c85a13661_IMAG01_4.jpg\n",
      "20160510150916_12adcfae4fca4e6f7265c76c85a13661_IMAG01_4.jpg\n",
      "http://imgcomic.naver.net/webtoon/662774/37/20160510150916_12adcfae4fca4e6f7265c76c85a13661_IMAG01_5.jpg\n",
      "20160510150916_12adcfae4fca4e6f7265c76c85a13661_IMAG01_5.jpg\n",
      "http://imgcomic.naver.net/webtoon/662774/37/20160510150916_12adcfae4fca4e6f7265c76c85a13661_IMAG01_6.jpg\n",
      "20160510150916_12adcfae4fca4e6f7265c76c85a13661_IMAG01_6.jpg\n",
      "http://imgcomic.naver.net/webtoon/662774/37/20160510150916_12adcfae4fca4e6f7265c76c85a13661_IMAG01_7.jpg\n",
      "20160510150916_12adcfae4fca4e6f7265c76c85a13661_IMAG01_7.jpg\n",
      "http://imgcomic.naver.net/webtoon/662774/37/20160510150916_12adcfae4fca4e6f7265c76c85a13661_IMAG01_8.jpg\n",
      "20160510150916_12adcfae4fca4e6f7265c76c85a13661_IMAG01_8.jpg\n",
      "http://imgcomic.naver.net/webtoon/662774/37/20160510150916_12adcfae4fca4e6f7265c76c85a13661_IMAG01_9.jpg\n",
      "20160510150916_12adcfae4fca4e6f7265c76c85a13661_IMAG01_9.jpg\n",
      "http://imgcomic.naver.net/webtoon/662774/37/20160510150916_12adcfae4fca4e6f7265c76c85a13661_IMAG01_10.jpg\n",
      "20160510150916_12adcfae4fca4e6f7265c76c85a13661_IMAG01_10.jpg\n",
      "http://imgcomic.naver.net/webtoon/662774/37/20160510150916_12adcfae4fca4e6f7265c76c85a13661_IMAG01_11.jpg\n",
      "20160510150916_12adcfae4fca4e6f7265c76c85a13661_IMAG01_11.jpg\n",
      "http://imgcomic.naver.net/webtoon/662774/37/20160510150916_12adcfae4fca4e6f7265c76c85a13661_IMAG01_12.jpg\n",
      "20160510150916_12adcfae4fca4e6f7265c76c85a13661_IMAG01_12.jpg\n",
      "http://imgcomic.naver.net/webtoon/662774/37/20160510150916_12adcfae4fca4e6f7265c76c85a13661_IMAG01_13.jpg\n",
      "20160510150916_12adcfae4fca4e6f7265c76c85a13661_IMAG01_13.jpg\n",
      "http://imgcomic.naver.net/webtoon/662774/37/20160510150916_12adcfae4fca4e6f7265c76c85a13661_IMAG01_14.jpg\n",
      "20160510150916_12adcfae4fca4e6f7265c76c85a13661_IMAG01_14.jpg\n",
      "http://imgcomic.naver.net/webtoon/662774/37/20160510150916_12adcfae4fca4e6f7265c76c85a13661_IMAG01_15.jpg\n",
      "20160510150916_12adcfae4fca4e6f7265c76c85a13661_IMAG01_15.jpg\n",
      "http://imgcomic.naver.net/webtoon/662774/37/20160510150916_12adcfae4fca4e6f7265c76c85a13661_IMAG01_16.jpg\n",
      "20160510150916_12adcfae4fca4e6f7265c76c85a13661_IMAG01_16.jpg\n",
      "http://imgcomic.naver.net/webtoon/662774/37/20160510150916_12adcfae4fca4e6f7265c76c85a13661_IMAG01_17.jpg\n",
      "20160510150916_12adcfae4fca4e6f7265c76c85a13661_IMAG01_17.jpg\n",
      "http://imgcomic.naver.net/webtoon/662774/37/20160510150916_12adcfae4fca4e6f7265c76c85a13661_IMAG01_18.jpg\n",
      "20160510150916_12adcfae4fca4e6f7265c76c85a13661_IMAG01_18.jpg\n",
      "http://imgcomic.naver.net/webtoon/662774/37/20160510150916_12adcfae4fca4e6f7265c76c85a13661_IMAG01_19.jpg\n",
      "20160510150916_12adcfae4fca4e6f7265c76c85a13661_IMAG01_19.jpg\n",
      "http://imgcomic.naver.net/webtoon/662774/37/20160510150916_12adcfae4fca4e6f7265c76c85a13661_IMAG01_20.jpg\n",
      "20160510150916_12adcfae4fca4e6f7265c76c85a13661_IMAG01_20.jpg\n",
      "http://imgcomic.naver.net/webtoon/662774/37/20160510150916_12adcfae4fca4e6f7265c76c85a13661_IMAG01_21.jpg\n",
      "20160510150916_12adcfae4fca4e6f7265c76c85a13661_IMAG01_21.jpg\n",
      "http://imgcomic.naver.net/webtoon/662774/37/20160510150916_12adcfae4fca4e6f7265c76c85a13661_IMAG01_22.jpg\n",
      "20160510150916_12adcfae4fca4e6f7265c76c85a13661_IMAG01_22.jpg\n",
      "http://imgcomic.naver.net/webtoon/662774/37/20160510150916_12adcfae4fca4e6f7265c76c85a13661_IMAG01_23.jpg\n",
      "20160510150916_12adcfae4fca4e6f7265c76c85a13661_IMAG01_23.jpg\n",
      "http://imgcomic.naver.net/webtoon/662774/37/20160510150916_12adcfae4fca4e6f7265c76c85a13661_IMAG01_24.jpg\n",
      "20160510150916_12adcfae4fca4e6f7265c76c85a13661_IMAG01_24.jpg\n",
      "http://imgcomic.naver.net/webtoon/662774/37/20160510150916_12adcfae4fca4e6f7265c76c85a13661_IMAG01_25.jpg\n",
      "20160510150916_12adcfae4fca4e6f7265c76c85a13661_IMAG01_25.jpg\n",
      "http://imgcomic.naver.net/webtoon/662774/37/20160510150916_12adcfae4fca4e6f7265c76c85a13661_IMAG01_26.jpg\n",
      "20160510150916_12adcfae4fca4e6f7265c76c85a13661_IMAG01_26.jpg\n",
      "http://imgcomic.naver.net/webtoon/662774/37/20160510150916_12adcfae4fca4e6f7265c76c85a13661_IMAG01_27.jpg\n",
      "20160510150916_12adcfae4fca4e6f7265c76c85a13661_IMAG01_27.jpg\n",
      "http://imgcomic.naver.net/webtoon/662774/37/20160510150916_12adcfae4fca4e6f7265c76c85a13661_IMAG01_28.jpg\n",
      "20160510150916_12adcfae4fca4e6f7265c76c85a13661_IMAG01_28.jpg\n",
      "http://imgcomic.naver.net/webtoon/662774/37/20160510150916_12adcfae4fca4e6f7265c76c85a13661_IMAG01_29.jpg\n",
      "20160510150916_12adcfae4fca4e6f7265c76c85a13661_IMAG01_29.jpg\n",
      "http://imgcomic.naver.net/webtoon/662774/37/20160510150916_12adcfae4fca4e6f7265c76c85a13661_IMAG01_30.jpg\n",
      "20160510150916_12adcfae4fca4e6f7265c76c85a13661_IMAG01_30.jpg\n",
      "http://imgcomic.naver.net/webtoon/662774/37/20160510150916_12adcfae4fca4e6f7265c76c85a13661_IMAG01_31.jpg\n",
      "20160510150916_12adcfae4fca4e6f7265c76c85a13661_IMAG01_31.jpg\n",
      "http://imgcomic.naver.net/webtoon/662774/37/20160510150916_12adcfae4fca4e6f7265c76c85a13661_IMAG01_32.jpg\n",
      "20160510150916_12adcfae4fca4e6f7265c76c85a13661_IMAG01_32.jpg\n",
      "http://imgcomic.naver.net/webtoon/662774/37/20160510150916_12adcfae4fca4e6f7265c76c85a13661_IMAG01_33.jpg\n",
      "20160510150916_12adcfae4fca4e6f7265c76c85a13661_IMAG01_33.jpg\n",
      "http://imgcomic.naver.net/webtoon/662774/37/20160510150916_12adcfae4fca4e6f7265c76c85a13661_IMAG01_34.jpg\n",
      "20160510150916_12adcfae4fca4e6f7265c76c85a13661_IMAG01_34.jpg\n",
      "http://imgcomic.naver.net/webtoon/662774/37/20160510150916_12adcfae4fca4e6f7265c76c85a13661_IMAG01_35.jpg\n",
      "20160510150916_12adcfae4fca4e6f7265c76c85a13661_IMAG01_35.jpg\n",
      "http://imgcomic.naver.net/webtoon/662774/37/20160510150916_12adcfae4fca4e6f7265c76c85a13661_IMAG01_36.jpg\n",
      "20160510150916_12adcfae4fca4e6f7265c76c85a13661_IMAG01_36.jpg\n",
      "http://imgcomic.naver.net/webtoon/662774/37/20160510150916_12adcfae4fca4e6f7265c76c85a13661_IMAG01_37.jpg\n",
      "20160510150916_12adcfae4fca4e6f7265c76c85a13661_IMAG01_37.jpg\n",
      "http://imgcomic.naver.net/webtoon/662774/37/20160510150916_12adcfae4fca4e6f7265c76c85a13661_IMAG01_38.jpg\n",
      "20160510150916_12adcfae4fca4e6f7265c76c85a13661_IMAG01_38.jpg\n",
      "http://imgcomic.naver.net/webtoon/662774/37/20160510150916_12adcfae4fca4e6f7265c76c85a13661_IMAG01_39.jpg\n",
      "20160510150916_12adcfae4fca4e6f7265c76c85a13661_IMAG01_39.jpg\n",
      "http://imgcomic.naver.net/webtoon/662774/37/20160510150916_12adcfae4fca4e6f7265c76c85a13661_IMAG01_40.jpg\n",
      "20160510150916_12adcfae4fca4e6f7265c76c85a13661_IMAG01_40.jpg\n"
     ]
    }
   ],
   "source": [
    "## 이미지 다운받기\n",
    "import os\n",
    "import requests               # pip install requests\n",
    "from bs4 import BeautifulSoup  # pip install beautifulsoup4\n",
    "from PIL import Image          # pip install pillow\n",
    "\n",
    "ep_url = \"http://comic.naver.com/webtoon/detail.nhn?titleId=662774&no=37&weekday=wed\"\n",
    "html = requests.get(ep_url).text\n",
    "soup = BeautifulSoup(html, 'html.parser')\n",
    "\n",
    "im_list = []\n",
    "\n",
    "for tag in soup.select('.wt_viewer img'):\n",
    "    img_url = tag['src']\n",
    "    headers = {\n",
    "        'Referer': ep_url,\n",
    "    }\n",
    "    img_data = requests.get(img_url, headers=headers).content\n",
    "    \n",
    "    print(img_url)\n",
    "    \n",
    "    # filename = img_url.split('/')[-1]\n",
    "    filename = os.path.basename(img_url)\n",
    "    print(filename)\n",
    "    \n",
    "    with open(filename, 'wb') as f:\n",
    "        f.write(img_data)\n",
    "\n",
    "    im = Image.open(filename)  # Image Instance\n",
    "    im_list.append(im)\n",
    "    \n"
   ]
  },
  {
   "cell_type": "code",
   "execution_count": 151,
   "metadata": {},
   "outputs": [
    {
     "name": "stdout",
     "output_type": "stream",
     "text": [
      "690\n",
      "2925\n"
     ]
    }
   ],
   "source": [
    "print(im_list[0].width)\n",
    "print(im_list[0].height)"
   ]
  },
  {
   "cell_type": "code",
   "execution_count": 152,
   "metadata": {},
   "outputs": [
    {
     "data": {
      "text/plain": [
       "690"
      ]
     },
     "execution_count": 152,
     "metadata": {},
     "output_type": "execute_result"
    }
   ],
   "source": [
    "canvas_width = None\n",
    "for im in im_list:\n",
    "    if canvas_width is None:\n",
    "        canvas_width = im.width\n",
    "    elif canvas_width < im.width:\n",
    "        canvas_width = im.width\n",
    "canvas_width"
   ]
  },
  {
   "cell_type": "code",
   "execution_count": 150,
   "metadata": {},
   "outputs": [
    {
     "data": {
      "text/plain": [
       "115191"
      ]
     },
     "execution_count": 150,
     "metadata": {},
     "output_type": "execute_result"
    }
   ],
   "source": [
    "canvas_height = 0\n",
    "for im in im_list:\n",
    "    canvas_height += im.height\n",
    "canvas_height"
   ]
  },
  {
   "cell_type": "code",
   "execution_count": 156,
   "metadata": {},
   "outputs": [
    {
     "data": {
      "text/plain": [
       "690"
      ]
     },
     "execution_count": 156,
     "metadata": {},
     "output_type": "execute_result"
    }
   ],
   "source": [
    "canvas_width = max(im.width for im in im_list)\n",
    "canvas_width"
   ]
  },
  {
   "cell_type": "code",
   "execution_count": 157,
   "metadata": {},
   "outputs": [
    {
     "data": {
      "text/plain": [
       "115191"
      ]
     },
     "execution_count": 157,
     "metadata": {},
     "output_type": "execute_result"
    }
   ],
   "source": [
    "canvas_height = sum(im.height for im in im_list)\n",
    "canvas_height"
   ]
  },
  {
   "cell_type": "code",
   "execution_count": 163,
   "metadata": {},
   "outputs": [
    {
     "name": "stdout",
     "output_type": "stream",
     "text": [
      "2925\n",
      "5700\n",
      "8277\n",
      "10887\n",
      "13803\n",
      "16698\n",
      "19698\n",
      "22536\n",
      "25536\n",
      "28536\n",
      "31536\n",
      "34536\n",
      "37536\n",
      "40314\n",
      "43314\n",
      "46182\n",
      "49182\n",
      "51996\n",
      "54996\n",
      "57996\n",
      "60996\n",
      "63600\n",
      "66600\n",
      "69507\n",
      "72387\n",
      "75300\n",
      "78300\n",
      "81300\n",
      "84300\n",
      "87300\n",
      "90300\n",
      "92961\n",
      "95961\n",
      "98757\n",
      "101757\n",
      "104556\n",
      "107328\n",
      "110154\n",
      "112704\n",
      "115191\n"
     ]
    }
   ],
   "source": [
    "with Image.new('RGB', (canvas_width, canvas_height)) as canvas:\n",
    "    left = 0\n",
    "    top = 0\n",
    "    for im in im_list:\n",
    "        canvas.paste(im, (left, top))\n",
    "        top += im.height\n",
    "        print(top)\n",
    "    canvas.save(\"merged.png\")"
   ]
  },
  {
   "cell_type": "code",
   "execution_count": null,
   "metadata": {
    "collapsed": true
   },
   "outputs": [],
   "source": []
  }
 ],
 "metadata": {
  "kernelspec": {
   "display_name": "Python 3",
   "language": "python",
   "name": "python3"
  },
  "language_info": {
   "codemirror_mode": {
    "name": "ipython",
    "version": 3
   },
   "file_extension": ".py",
   "mimetype": "text/x-python",
   "name": "python",
   "nbconvert_exporter": "python",
   "pygments_lexer": "ipython3",
   "version": "3.6.1"
  }
 },
 "nbformat": 4,
 "nbformat_minor": 2
}
