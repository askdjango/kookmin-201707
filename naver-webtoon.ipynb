{
 "cells": [
  {
   "cell_type": "markdown",
   "metadata": {},
   "source": [
    "## 네이버 웹툰, 특정 에피소드의 베댓 읽어오기"
   ]
  },
  {
   "cell_type": "code",
   "execution_count": 1,
   "metadata": {
    "collapsed": true
   },
   "outputs": [],
   "source": [
    "import json\n",
    "import re\n",
    "import requests\n",
    "\n",
    "def get_best_comment_list(webtoon_id, ep_id):\n",
    "    referer_url = 'http://comic.naver.com/webtoon/weekday.nhn'\n",
    "\n",
    "    url = 'http://apis.naver.com/commentBox/cbox/web_naver_list_jsonp.json'\n",
    "    params = {\n",
    "        'ticket': 'comic',\n",
    "        'templateId': 'webtoon',\n",
    "        'pool': 'cbox3',\n",
    "        '_callback': '_',\n",
    "        'lang': 'ko',\n",
    "        'country': 'KR',\n",
    "        'objectId': '{}_{}'.format(webtoon_id, ep_id),\n",
    "        'pageSize': 10,\n",
    "        'indexSize': 10,\n",
    "        'page': 1,\n",
    "        'sort': 'best',\n",
    "        'categoryId': '',\n",
    "        'listType': 'OBJECT',\n",
    "    }\n",
    "\n",
    "    jsonp_string = requests.get(url, params=params, headers={'Referer': referer_url}).text\n",
    "    json_string = jsonp_string.replace('_(', '').replace(');', '')\n",
    "    \n",
    "    resp = json.loads(json_string)\n",
    "    return resp['result']['commentList']"
   ]
  },
  {
   "cell_type": "code",
   "execution_count": 5,
   "metadata": {},
   "outputs": [
    {
     "name": "stdout",
     "output_type": "stream",
     "text": [
      "1 아피**** (+723, -13)\n",
      "붉은내복 이상하게 수그러들지 않고 계속 퍼진게 너 때문이었냐 ㅋㅋㅋㅋㅋㅋㅋ\n",
      "(at 2017-07-30T23:43:13+0900)\n",
      "\n",
      "2 ch**** (+646, -20)\n",
      "마튼 최강의 검이자 미친 개 페도 로리카 VS 세날 제2의 검이자 세날 최강의 삽 로이베드 듀란의 싸움인가...크로덴과 후안 황제의 빅매치가 끝난지 얼마나 됬다고 또 다시 두 거물들의 싸움이 펼쳐지네...\n",
      "(at 2017-07-30T23:23:17+0900)\n",
      "\n",
      "3 질풍**** (+554, -52)\n",
      "화웅을 죽인 관우도 당시엔 일개 마궁수였지ㅋㅋㅋ\n",
      "(at 2017-07-30T23:22:58+0900)\n",
      "\n",
      "4 문찬**** (+494, -12)\n",
      "아니 그보다 중간에 붉은 내복ㅋㅋㅋㅋㅋㅋㅋ 처음엔 그냥 벤이 자기 명예 지킬려고 윌리엄 사칭했는데 소문이 어쩌다 외전되서(하도 적의 피로 샤워하다보니 내복이 붉어 졌다는) 그리된 줄 알았더니 이제보니까 듀란이 퍼트린거였엌ㅋㅋㅋㅋㅋㅋㅋㅋㅋ 시대를 초월한 반전이닼ㅋㅋㅋㅋㅋㅋㅋㅋ 붉은 내복 무쌍전설의 진실이 여기섴ㅋㅋㅋㅋㅋㅋ\n",
      "(at 2017-07-30T23:40:57+0900)\n",
      "\n",
      "5 베르**** (+479, -9)\n",
      "리사이클도 범상치는 않은게... 자신의 창피했던 과거를 아무렇지 않게 담담히 부하에게 말해주고 있다. 저거.. 사실 쉽지 않은 일이에요. 내가 옛날에는 찌질했다는 걸 인정하는 거잖아요. 과거의 나 자신을 인정했다면... 지금은 과거의 나를 이미 넘어섰다는 이야기고 아무리 윌리엄이 강해도 예전처럼 당황하지 않는다는 이야깁니다.\n",
      "(at 2017-07-30T23:40:41+0900)\n",
      "\n",
      "6 il**** (+302, -13)\n",
      "창vs방패 기대됩니다\n",
      "(at 2017-07-30T23:23:18+0900)\n",
      "\n",
      "7 qk**** (+254, -5)\n",
      "전성기  아런은  대체  머하는  놈인가? 세날의  카튼도  이기고 거의  세날을  멸망 수준까지 압박하고  사막최강의  창  라딘도  이기고  루칸도 공격해서  거의  코마상태만들고 무슨  전쟁의신인가 그런양반이  윌리엄한테  팔잘리니까  귀신같이 머저리로  전직한게  진짜  참\n",
      "(at 2017-07-31T00:05:05+0900)\n",
      "\n",
      "8 ch**** (+254, -13)\n",
      "그건 그렇고 저 루칸의 제리 윈팅이라는 놈도 연합군에 도움이 되기는 커녕 발목만 잡는 인물이라는게 뻔히 보이는게...전시 상황에서 최고 사령관중 한명이라는 작자가 자기 맘에 안 든다고 1급 기밀정보에 해당하는 작전서를 무슨 휴지조각처럼 구겨서 바닥에 내팽개치는 것부터가 이미 자격미달이라는걸 보여주는 꼴이지...그나마 리싸이클이 타국의 인물인데다가 (원칙적으로는) 자기와 동등한 위치의 인물이니까 저렇게 주의를 주는 걸로 끝났지 만약에 리싸이클이나 후안 황제밑에서 저런 짓을 했다가는 최소한 태형으로 엄벌에 처해졌을거라 예상해봅니다\n",
      "(at 2017-07-30T23:30:50+0900)\n",
      "\n",
      "9 Jm**** (+185, -20)\n",
      "고블린때나 제국vs세날때 장면만 보면 전면전에선 윌리엄은 못이길거 같긴 한데...\n",
      "(at 2017-07-30T23:27:45+0900)\n",
      "\n",
      "10 Na**** (+136, -1)\n",
      "아런은 히메 세계관에서 멜런과 함께 지략으로 상대를 압도 했다고 묘사 되는 몇 안 되는 지장임 윌리엄에게 패하긴 했지만 그 개노답 왕족 데리고도 북쪽의 패왕 자리를 따낸 인물\n",
      "(at 2017-07-30T23:50:33+0900)\n",
      "\n"
     ]
    }
   ],
   "source": [
    "# 히어로메이커, 사람과 돌\n",
    "# http://comic.naver.com/webtoon/detail.nhn?titleId=21815&no=574&weekday=mon\n",
    "    \n",
    "best_comment_list = get_best_comment_list('21815', '574')\n",
    "\n",
    "for idx, comment in enumerate(best_comment_list, 1):\n",
    "    if comment['best']:\n",
    "        print(idx, '''{maskedUserName} (+{sympathyCount}, -{antipathyCount})\n",
    "{contents}\n",
    "(at {modTime})\n",
    "'''.format(**comment))"
   ]
  },
  {
   "cell_type": "code",
   "execution_count": null,
   "metadata": {
    "collapsed": true
   },
   "outputs": [],
   "source": []
  }
 ],
 "metadata": {
  "kernelspec": {
   "display_name": "Python 3",
   "language": "python",
   "name": "python3"
  },
  "language_info": {
   "codemirror_mode": {
    "name": "ipython",
    "version": 3
   },
   "file_extension": ".py",
   "mimetype": "text/x-python",
   "name": "python",
   "nbconvert_exporter": "python",
   "pygments_lexer": "ipython3",
   "version": "3.6.1"
  }
 },
 "nbformat": 4,
 "nbformat_minor": 2
}
