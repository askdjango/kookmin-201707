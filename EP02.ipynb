{
 "cells": [
  {
   "cell_type": "markdown",
   "metadata": {},
   "source": [
    "## 반복문"
   ]
  },
  {
   "cell_type": "markdown",
   "metadata": {},
   "source": [
    "```c\n",
    "# C언어에서의 루프\n",
    "for(int i=0; i<10; i++) {\n",
    "    print(\"%d\\n\", i);\n",
    "}\n",
    "\n",
    "```"
   ]
  },
  {
   "cell_type": "code",
   "execution_count": 1,
   "metadata": {},
   "outputs": [
    {
     "name": "stdout",
     "output_type": "stream",
     "text": [
      "0\n",
      "1\n",
      "2\n",
      "3\n",
      "4\n",
      "5\n",
      "6\n",
      "7\n",
      "8\n",
      "9\n"
     ]
    }
   ],
   "source": [
    "for i in range(10):\n",
    "    print(i)"
   ]
  },
  {
   "cell_type": "code",
   "execution_count": 2,
   "metadata": {},
   "outputs": [
    {
     "name": "stdout",
     "output_type": "stream",
     "text": [
      "h\n",
      "e\n",
      "l\n",
      "l\n",
      "o\n",
      " \n",
      "w\n",
      "o\n",
      "r\n",
      "l\n",
      "d\n"
     ]
    }
   ],
   "source": [
    "for ch in \"hello world\":\n",
    "    print(ch)"
   ]
  },
  {
   "cell_type": "code",
   "execution_count": 3,
   "metadata": {},
   "outputs": [
    {
     "name": "stdout",
     "output_type": "stream",
     "text": [
      "h\n",
      "e\n",
      "l\n",
      "l\n",
      "o\n"
     ]
    }
   ],
   "source": [
    "for ch in [\"h\", \"e\", \"l\", \"l\", \"o\"]:\n",
    "    print(ch)"
   ]
  },
  {
   "cell_type": "code",
   "execution_count": 4,
   "metadata": {},
   "outputs": [
    {
     "name": "stdout",
     "output_type": "stream",
     "text": [
      "o\n",
      "e\n",
      "l\n",
      "h\n"
     ]
    }
   ],
   "source": [
    "for ch in {\"h\", \"e\", \"l\", \"l\", \"o\"}:  # 집합\n",
    "    print(ch)"
   ]
  },
  {
   "cell_type": "code",
   "execution_count": 4,
   "metadata": {},
   "outputs": [
    {
     "name": "stdout",
     "output_type": "stream",
     "text": [
      "### 2 단 ###\n",
      "2 * 1 = 2\n",
      "2 * 2 = 4\n",
      "2 * 3 = 6\n",
      "2 * 4 = 8\n",
      "2 * 5 = 10\n",
      "2 * 6 = 12\n"
     ]
    }
   ],
   "source": [
    "number = 2\n",
    "\n",
    "print('### {} 단 ###'.format(number))\n",
    "for i in range(1, 10):  # 1이상 10미만의 수 범위, 1씩 증가\n",
    "    print('{} * {} = {}'.format(number, i, number*i))\n",
    "    if i > 5:\n",
    "        break"
   ]
  },
  {
   "cell_type": "code",
   "execution_count": 7,
   "metadata": {},
   "outputs": [
    {
     "name": "stdout",
     "output_type": "stream",
     "text": [
      "### 2 단 ###\n",
      "2 * 1 = 2\n",
      "\n",
      "### 3 단 ###\n",
      "3 * 1 = 3\n",
      "\n",
      "### 4 단 ###\n",
      "4 * 1 = 4\n",
      "\n",
      "### 5 단 ###\n",
      "5 * 1 = 5\n",
      "\n",
      "### 6 단 ###\n",
      "6 * 1 = 6\n",
      "\n",
      "### 7 단 ###\n",
      "7 * 1 = 7\n",
      "\n",
      "### 8 단 ###\n",
      "8 * 1 = 8\n",
      "\n",
      "### 9 단 ###\n",
      "9 * 1 = 9\n",
      "\n"
     ]
    }
   ],
   "source": [
    "# 중첩 반복문\n",
    "\n",
    "for number in range(2, 10):\n",
    "    print('### {} 단 ###'.format(number))\n",
    "    for i in range(1, 10):  # 1이상 10미만의 수 범위, 1씩 증가\n",
    "        print('{} * {} = {}'.format(number, i, number*i))\n",
    "        break\n",
    "    print()"
   ]
  },
  {
   "cell_type": "markdown",
   "metadata": {},
   "source": [
    "## 함수"
   ]
  },
  {
   "cell_type": "code",
   "execution_count": 11,
   "metadata": {},
   "outputs": [
    {
     "name": "stdout",
     "output_type": "stream",
     "text": [
      "### 2 단 ###\n",
      "- 2 * 1 = 2\n",
      "- 2 * 2 = 4\n",
      "- 2 * 3 = 6\n",
      "- 2 * 4 = 8\n",
      "- 2 * 5 = 10\n",
      "- 2 * 6 = 12\n",
      "- 2 * 7 = 14\n",
      "- 2 * 8 = 16\n",
      "- 2 * 9 = 18\n",
      "### 3 단 ###\n",
      "- 3 * 1 = 3\n",
      "- 3 * 2 = 6\n",
      "- 3 * 3 = 9\n",
      "- 3 * 4 = 12\n",
      "- 3 * 5 = 15\n",
      "- 3 * 6 = 18\n",
      "- 3 * 7 = 21\n",
      "- 3 * 8 = 24\n",
      "- 3 * 9 = 27\n"
     ]
    }
   ],
   "source": [
    "number = 2\n",
    "\n",
    "print('### {} 단 ###'.format(number))\n",
    "for i in range(1, 10):  # 1이상 10미만의 수 범위, 1씩 증가\n",
    "    print('- {} * {} = {}'.format(number, i, number*i))\n",
    "\n",
    "number = 3\n",
    "\n",
    "print('### {} 단 ###'.format(number))\n",
    "for i in range(1, 10):  # 1이상 10미만의 수 범위, 1씩 증가\n",
    "    print('- {} * {} = {}'.format(number, i, number*i))\n"
   ]
  },
  {
   "cell_type": "code",
   "execution_count": 16,
   "metadata": {
    "collapsed": true
   },
   "outputs": [],
   "source": [
    "def print_gugudan(number):\n",
    "    print('### {} 단 ###'.format(number))\n",
    "    for i in range(1, 10):  # 1이상 10미만의 수 범위, 1씩 증가\n",
    "        print('>>> {} * {} = {}'.format(number, i, number*i))"
   ]
  },
  {
   "cell_type": "code",
   "execution_count": 17,
   "metadata": {},
   "outputs": [
    {
     "name": "stdout",
     "output_type": "stream",
     "text": [
      "### 2 단 ###\n",
      ">>> 2 * 1 = 2\n",
      ">>> 2 * 2 = 4\n",
      ">>> 2 * 3 = 6\n",
      ">>> 2 * 4 = 8\n",
      ">>> 2 * 5 = 10\n",
      ">>> 2 * 6 = 12\n",
      ">>> 2 * 7 = 14\n",
      ">>> 2 * 8 = 16\n",
      ">>> 2 * 9 = 18\n",
      "### 3 단 ###\n",
      ">>> 3 * 1 = 3\n",
      ">>> 3 * 2 = 6\n",
      ">>> 3 * 3 = 9\n",
      ">>> 3 * 4 = 12\n",
      ">>> 3 * 5 = 15\n",
      ">>> 3 * 6 = 18\n",
      ">>> 3 * 7 = 21\n",
      ">>> 3 * 8 = 24\n",
      ">>> 3 * 9 = 27\n",
      "### 4 단 ###\n",
      ">>> 4 * 1 = 4\n",
      ">>> 4 * 2 = 8\n",
      ">>> 4 * 3 = 12\n",
      ">>> 4 * 4 = 16\n",
      ">>> 4 * 5 = 20\n",
      ">>> 4 * 6 = 24\n",
      ">>> 4 * 7 = 28\n",
      ">>> 4 * 8 = 32\n",
      ">>> 4 * 9 = 36\n"
     ]
    }
   ],
   "source": [
    "print_gugudan(2)\n",
    "print_gugudan(3)\n",
    "print_gugudan(4)"
   ]
  },
  {
   "cell_type": "markdown",
   "metadata": {},
   "source": [
    "### 타 언어에서의 함수"
   ]
  },
  {
   "cell_type": "markdown",
   "metadata": {},
   "source": [
    "```c\n",
    "/* C언어 */\n",
    "int mysum(int x, int y) {\n",
    "    return x + y;\n",
    "}\n",
    "```"
   ]
  },
  {
   "cell_type": "markdown",
   "metadata": {},
   "source": [
    "```javascript\n",
    "/* javascript */\n",
    "function mysum(x, y) {\n",
    "    return x + y;\n",
    "}\n",
    "```"
   ]
  },
  {
   "cell_type": "markdown",
   "metadata": {},
   "source": [
    "```python\n",
    "# python\n",
    "def mysum(x, y):\n",
    "    return x + y\n",
    "```"
   ]
  },
  {
   "cell_type": "markdown",
   "metadata": {},
   "source": [
    "```ruby\n",
    "# ruby\n",
    "def mysum(x, y)\n",
    "    x + y\n",
    "end\n",
    "```"
   ]
  },
  {
   "cell_type": "code",
   "execution_count": 18,
   "metadata": {},
   "outputs": [
    {
     "name": "stdout",
     "output_type": "stream",
     "text": [
      "hello\n",
      "hello\n",
      "hello\n"
     ]
    }
   ],
   "source": [
    "def print_hello():\n",
    "    print(\"hello\")\n",
    "    print(\"hello\")\n",
    "    print(\"hello\")\n",
    "\n",
    "print_hello()"
   ]
  },
  {
   "cell_type": "markdown",
   "metadata": {},
   "source": [
    "### 반환값이 없는 함수"
   ]
  },
  {
   "cell_type": "markdown",
   "metadata": {},
   "source": [
    "```java\n",
    "/* java */\n",
    "void print_hello() {\n",
    "    System.out.println(\"hello world\");\n",
    "}\n",
    "```"
   ]
  },
  {
   "cell_type": "code",
   "execution_count": 21,
   "metadata": {},
   "outputs": [
    {
     "name": "stdout",
     "output_type": "stream",
     "text": [
      "hello world\n",
      "None\n"
     ]
    }
   ],
   "source": [
    "def print_hello():\n",
    "    print(\"hello world\")\n",
    "\n",
    "print(print_hello())  # 파이썬에서는 리턴값이없음(void) 유형이 없어요 !!!"
   ]
  },
  {
   "cell_type": "markdown",
   "metadata": {},
   "source": [
    "## 실습"
   ]
  },
  {
   "cell_type": "code",
   "execution_count": 22,
   "metadata": {},
   "outputs": [
    {
     "data": {
      "text/plain": [
       "46"
      ]
     },
     "execution_count": 22,
     "metadata": {},
     "output_type": "execute_result"
    }
   ],
   "source": [
    "12 + 34"
   ]
  },
  {
   "cell_type": "code",
   "execution_count": 23,
   "metadata": {},
   "outputs": [
    {
     "data": {
      "text/plain": [
       "'abcdef'"
      ]
     },
     "execution_count": 23,
     "metadata": {},
     "output_type": "execute_result"
    }
   ],
   "source": [
    "'abc' + 'def'"
   ]
  },
  {
   "cell_type": "code",
   "execution_count": 24,
   "metadata": {},
   "outputs": [
    {
     "data": {
      "text/plain": [
       "36"
      ]
     },
     "execution_count": 24,
     "metadata": {},
     "output_type": "execute_result"
    }
   ],
   "source": [
    "12 * 3"
   ]
  },
  {
   "cell_type": "code",
   "execution_count": 25,
   "metadata": {},
   "outputs": [
    {
     "data": {
      "text/plain": [
       "'abcabcabc'"
      ]
     },
     "execution_count": 25,
     "metadata": {},
     "output_type": "execute_result"
    }
   ],
   "source": [
    "'abc' * 3"
   ]
  },
  {
   "cell_type": "code",
   "execution_count": 26,
   "metadata": {},
   "outputs": [
    {
     "data": {
      "text/plain": [
       "'**********'"
      ]
     },
     "execution_count": 26,
     "metadata": {},
     "output_type": "execute_result"
    }
   ],
   "source": [
    "'*' * 10"
   ]
  },
  {
   "cell_type": "code",
   "execution_count": 27,
   "metadata": {},
   "outputs": [
    {
     "data": {
      "text/plain": [
       "'*****'"
      ]
     },
     "execution_count": 27,
     "metadata": {},
     "output_type": "execute_result"
    }
   ],
   "source": [
    "'*' * 5"
   ]
  },
  {
   "cell_type": "code",
   "execution_count": 40,
   "metadata": {},
   "outputs": [
    {
     "name": "stdout",
     "output_type": "stream",
     "text": [
      "         *\n",
      "        **\n",
      "       ***\n",
      "      ****\n",
      "     *****\n",
      "    ******\n",
      "   *******\n",
      "  ********\n",
      " *********\n",
      "**********\n"
     ]
    }
   ],
   "source": [
    "number = 10\n",
    "\n",
    "for i in range(1, number+1):\n",
    "    print(' ' * (number-i), end='')\n",
    "    print('*' * i)"
   ]
  },
  {
   "cell_type": "code",
   "execution_count": 38,
   "metadata": {},
   "outputs": [
    {
     "name": "stdout",
     "output_type": "stream",
     "text": [
      "hello\n",
      "world\n"
     ]
    }
   ],
   "source": [
    "print(\"hello\")\n",
    "print(\"world\")"
   ]
  },
  {
   "cell_type": "code",
   "execution_count": 39,
   "metadata": {},
   "outputs": [
    {
     "name": "stdout",
     "output_type": "stream",
     "text": [
      "helloworld\n"
     ]
    }
   ],
   "source": [
    "print(\"hello\", end='')\n",
    "print(\"world\")"
   ]
  },
  {
   "cell_type": "code",
   "execution_count": 41,
   "metadata": {
    "collapsed": true
   },
   "outputs": [],
   "source": [
    "def print_star_rectangle(number, print_ch, space_ch):\n",
    "    for i in range(1, number+1):\n",
    "        print(space_ch * (number-i), end='')\n",
    "        print(print_ch * i)"
   ]
  },
  {
   "cell_type": "code",
   "execution_count": 47,
   "metadata": {},
   "outputs": [
    {
     "name": "stdout",
     "output_type": "stream",
     "text": [
      "-------------------A\n",
      "------------------AA\n",
      "-----------------AAA\n",
      "----------------AAAA\n",
      "---------------AAAAA\n",
      "--------------AAAAAA\n",
      "-------------AAAAAAA\n",
      "------------AAAAAAAA\n",
      "-----------AAAAAAAAA\n",
      "----------AAAAAAAAAA\n",
      "---------AAAAAAAAAAA\n",
      "--------AAAAAAAAAAAA\n",
      "-------AAAAAAAAAAAAA\n",
      "------AAAAAAAAAAAAAA\n",
      "-----AAAAAAAAAAAAAAA\n",
      "----AAAAAAAAAAAAAAAA\n",
      "---AAAAAAAAAAAAAAAAA\n",
      "--AAAAAAAAAAAAAAAAAA\n",
      "-AAAAAAAAAAAAAAAAAAA\n",
      "AAAAAAAAAAAAAAAAAAAA\n"
     ]
    }
   ],
   "source": [
    "print_star_rectangle(20, 'A', '-')"
   ]
  },
  {
   "cell_type": "markdown",
   "metadata": {},
   "source": [
    "## 위치에 기반한 인자, 이름에 기반한 인자"
   ]
  },
  {
   "cell_type": "code",
   "execution_count": 48,
   "metadata": {
    "collapsed": true
   },
   "outputs": [],
   "source": [
    "def mysum(x, y, z):\n",
    "    return x + y + z"
   ]
  },
  {
   "cell_type": "code",
   "execution_count": 51,
   "metadata": {},
   "outputs": [
    {
     "data": {
      "text/plain": [
       "6"
      ]
     },
     "execution_count": 51,
     "metadata": {},
     "output_type": "execute_result"
    }
   ],
   "source": [
    "mysum(1, 2, 3)  # 위치에 기반한 인자"
   ]
  },
  {
   "cell_type": "code",
   "execution_count": 52,
   "metadata": {},
   "outputs": [
    {
     "data": {
      "text/plain": [
       "6"
      ]
     },
     "execution_count": 52,
     "metadata": {},
     "output_type": "execute_result"
    }
   ],
   "source": [
    "mysum(x=1, y=2, z=3)  # 이름에 기반한 인자"
   ]
  },
  {
   "cell_type": "code",
   "execution_count": 53,
   "metadata": {},
   "outputs": [
    {
     "data": {
      "text/plain": [
       "6"
      ]
     },
     "execution_count": 53,
     "metadata": {},
     "output_type": "execute_result"
    }
   ],
   "source": [
    "mysum(z=3, y=2, x=1)"
   ]
  },
  {
   "cell_type": "code",
   "execution_count": 54,
   "metadata": {},
   "outputs": [
    {
     "data": {
      "text/plain": [
       "6"
      ]
     },
     "execution_count": 54,
     "metadata": {},
     "output_type": "execute_result"
    }
   ],
   "source": [
    "mysum(1, 2, z=3)"
   ]
  },
  {
   "cell_type": "code",
   "execution_count": 56,
   "metadata": {},
   "outputs": [
    {
     "ename": "SyntaxError",
     "evalue": "positional argument follows keyword argument (<ipython-input-56-e30518c31dc8>, line 1)",
     "output_type": "error",
     "traceback": [
      "\u001b[0;36m  File \u001b[0;32m\"<ipython-input-56-e30518c31dc8>\"\u001b[0;36m, line \u001b[0;32m1\u001b[0m\n\u001b[0;31m    mysum(z=3, 1, 2)  # 위치인자는 키워드인자보다 무조건 선행되어야 합니다.\u001b[0m\n\u001b[0m              ^\u001b[0m\n\u001b[0;31mSyntaxError\u001b[0m\u001b[0;31m:\u001b[0m positional argument follows keyword argument\n"
     ]
    }
   ],
   "source": [
    "mysum(z=3, 1, 2)  # 위치인자는 키워드인자보다 무조건 선행되어야 합니다."
   ]
  },
  {
   "cell_type": "code",
   "execution_count": 57,
   "metadata": {},
   "outputs": [
    {
     "ename": "TypeError",
     "evalue": "mysum() got an unexpected keyword argument 'a'",
     "output_type": "error",
     "traceback": [
      "\u001b[0;31m---------------------------------------------------------------------------\u001b[0m",
      "\u001b[0;31mTypeError\u001b[0m                                 Traceback (most recent call last)",
      "\u001b[0;32m<ipython-input-57-6c327628dd93>\u001b[0m in \u001b[0;36m<module>\u001b[0;34m()\u001b[0m\n\u001b[0;32m----> 1\u001b[0;31m \u001b[0mmysum\u001b[0m\u001b[0;34m(\u001b[0m\u001b[0;36m1\u001b[0m\u001b[0;34m,\u001b[0m \u001b[0;36m2\u001b[0m\u001b[0;34m,\u001b[0m \u001b[0;36m3\u001b[0m\u001b[0;34m,\u001b[0m \u001b[0ma\u001b[0m\u001b[0;34m=\u001b[0m\u001b[0;36m10\u001b[0m\u001b[0;34m)\u001b[0m\u001b[0;34m\u001b[0m\u001b[0m\n\u001b[0m",
      "\u001b[0;31mTypeError\u001b[0m: mysum() got an unexpected keyword argument 'a'"
     ]
    }
   ],
   "source": [
    "mysum(1, 2, 3, a=10)"
   ]
  },
  {
   "cell_type": "markdown",
   "metadata": {},
   "source": [
    "## 디폴트 인자"
   ]
  },
  {
   "cell_type": "code",
   "execution_count": 60,
   "metadata": {
    "collapsed": true
   },
   "outputs": [],
   "source": [
    "def say_hello(name, age=10):\n",
    "    print(\"안녕. 나는 {}야. {}살이지.\".format(name, age))"
   ]
  },
  {
   "cell_type": "code",
   "execution_count": 61,
   "metadata": {},
   "outputs": [
    {
     "name": "stdout",
     "output_type": "stream",
     "text": [
      "안녕. 나는 공유야. 37살이지.\n"
     ]
    }
   ],
   "source": [
    "say_hello(\"공유\", 37)"
   ]
  },
  {
   "cell_type": "code",
   "execution_count": 62,
   "metadata": {},
   "outputs": [
    {
     "name": "stdout",
     "output_type": "stream",
     "text": [
      "안녕. 나는 공유야. 10살이지.\n"
     ]
    }
   ],
   "source": [
    "say_hello(\"공유\")"
   ]
  },
  {
   "cell_type": "markdown",
   "metadata": {},
   "source": [
    "## 이메일 보내기"
   ]
  },
  {
   "cell_type": "code",
   "execution_count": 6,
   "metadata": {},
   "outputs": [
    {
     "name": "stdout",
     "output_type": "stream",
     "text": [
      "Enter Naver username : allieuslee\n"
     ]
    }
   ],
   "source": [
    "username = input(\"Enter Naver username : \")"
   ]
  },
  {
   "cell_type": "code",
   "execution_count": 7,
   "metadata": {},
   "outputs": [
    {
     "name": "stdout",
     "output_type": "stream",
     "text": [
      "Enter Naver password : ········\n"
     ]
    }
   ],
   "source": [
    "from getpass import getpass\n",
    "password = getpass(\"Enter Naver password : \")"
   ]
  },
  {
   "cell_type": "code",
   "execution_count": 3,
   "metadata": {},
   "outputs": [
    {
     "ename": "AssertionError",
     "evalue": "네이버 암호를 입력해주세요.",
     "output_type": "error",
     "traceback": [
      "\u001b[0;31m---------------------------------------------------------------------------\u001b[0m",
      "\u001b[0;31mAssertionError\u001b[0m                            Traceback (most recent call last)",
      "\u001b[0;32m<ipython-input-3-a67a8790c1f8>\u001b[0m in \u001b[0;36m<module>\u001b[0;34m()\u001b[0m\n\u001b[1;32m      6\u001b[0m \u001b[0;34m\u001b[0m\u001b[0m\n\u001b[1;32m      7\u001b[0m \u001b[0;32massert\u001b[0m \u001b[0;32mnot\u001b[0m \u001b[0mnaver_account_name\u001b[0m\u001b[0;34m,\u001b[0m \u001b[0;34m'네이버 계정명을 입력해주세요.'\u001b[0m\u001b[0;34m\u001b[0m\u001b[0m\n\u001b[0;32m----> 8\u001b[0;31m \u001b[0;32massert\u001b[0m \u001b[0;32mnot\u001b[0m \u001b[0mnaver_account_password\u001b[0m\u001b[0;34m,\u001b[0m \u001b[0;34m'네이버 암호를 입력해주세요.'\u001b[0m\u001b[0;34m\u001b[0m\u001b[0m\n\u001b[0m\u001b[1;32m      9\u001b[0m \u001b[0;34m\u001b[0m\u001b[0m\n\u001b[1;32m     10\u001b[0m \u001b[0mmessage\u001b[0m \u001b[0;34m=\u001b[0m \u001b[0mEmailMessage\u001b[0m\u001b[0;34m(\u001b[0m\u001b[0;34m)\u001b[0m\u001b[0;34m\u001b[0m\u001b[0m\n",
      "\u001b[0;31mAssertionError\u001b[0m: 네이버 암호를 입력해주세요."
     ]
    }
   ],
   "source": [
    "import smtplib\n",
    "from email.message import EmailMessage\n",
    "\n",
    "naver_account_name = username\n",
    "naver_account_password = password\n",
    "receivers = 'me@nomade.kr, allieuslee@naver.com'  # 수신자 이메일 다수 (구분자 : 콤마)\n",
    "\n",
    "message = EmailMessage()\n",
    "message['Subject'] = '국민대학교 파이썬 강의 테스트'\n",
    "message['From'] = '{}@naver.com'.format(naver_account_name)\n",
    "message['To'] = receivers\n",
    "\n",
    "message.set_content('''이메일 내용\n",
    "안녕하세요. AskDjango입니다.\n",
    "\n",
    "이 부분에는 이메일의 내용을 쓰실 수 있으며, HTML은 불가합니다. HTML을 쓰시면 태그가 그대로 노출됩니다.\n",
    "여러분의 파이썬/장고 페이스메이커가 되겠습니다.\n",
    "\n",
    "감사합니다. ;)''')\n",
    "\n",
    "with smtplib.SMTP_SSL('smtp.naver.com', 465) as server:\n",
    "    server.ehlo()\n",
    "    server.login(naver_account_name, naver_account_password)\n",
    "    server.send_message(message)"
   ]
  },
  {
   "cell_type": "code",
   "execution_count": 12,
   "metadata": {},
   "outputs": [],
   "source": [
    "import smtplib\n",
    "from email.message import EmailMessage\n",
    "\n",
    "naver_account_name = username\n",
    "naver_account_password = password\n",
    "receivers = 'me@nomade.kr, allieuslee@naver.com'  # 수신자 이메일 다수 (구분자 : 콤마)\n",
    "\n",
    "message = EmailMessage()\n",
    "message['Subject'] = '네이버 웹툰 업데이트 현황'\n",
    "message['From'] = '{}@naver.com'.format(naver_account_name)\n",
    "message['To'] = receivers\n",
    "\n",
    "# Plain Text\n",
    "message.set_content('''\n",
    "    안녕하세요. 반갑습니다. 오늘의 네이버 웹툰 업데이트 현황을 알려드립니다.\n",
    "\n",
    "    마음의 소리 : http://comic.naver.com/webtoon/list.nhn?titleId=20853&weekday=tue\n",
    "    고수 : http://comic.naver.com/webtoon/list.nhn?titleId=662774&weekday=wed\n",
    "    \n",
    "    내일 다시 메일 드리겠습니다.\n",
    "''')\n",
    "\n",
    "with smtplib.SMTP_SSL('smtp.naver.com', 465) as server:\n",
    "    server.ehlo()\n",
    "    server.login(naver_account_name, naver_account_password)\n",
    "    server.send_message(message)"
   ]
  },
  {
   "cell_type": "markdown",
   "metadata": {},
   "source": [
    "## SMS 보내기"
   ]
  },
  {
   "cell_type": "code",
   "execution_count": 16,
   "metadata": {
    "collapsed": true
   },
   "outputs": [],
   "source": [
    "user_id = '------------'                       # FIXME\n",
    "secure = '-------------------------------'  # FIXME"
   ]
  },
  {
   "cell_type": "code",
   "execution_count": 21,
   "metadata": {},
   "outputs": [
    {
     "name": "stdout",
     "output_type": "stream",
     "text": [
      "89\n"
     ]
    }
   ],
   "source": [
    "# 잔여건수 조회\n",
    "import requests\n",
    "from base64 import b64encode\n",
    "\n",
    "url = 'https://sslsms.cafe24.com/sms_remain.php'\n",
    "\n",
    "params = {\n",
    "    'user_id': b64encode(user_id.encode('euckr')),\n",
    "    'secure': b64encode(secure.encode('euckr')),\n",
    "    'mode': b64encode('1'.encode('euckr')),\n",
    "}\n",
    "\n",
    "response = requests.post(url, data=params)\n",
    "print(response.text)"
   ]
  },
  {
   "cell_type": "code",
   "execution_count": 19,
   "metadata": {},
   "outputs": [
    {
     "name": "stdout",
     "output_type": "stream",
     "text": [
      "success,92\n"
     ]
    }
   ],
   "source": [
    "# SMS 발송\n",
    "\n",
    "url = 'https://sslsms.cafe24.com/sms_sender.php'\n",
    "\n",
    "params = {\n",
    "    'user_id': user_id,\n",
    "    'secure': secure,\n",
    "    'mode': '1',\n",
    "    'sphone1': '010',\n",
    "    'sphone2': '----',\n",
    "    'sphone3': '----',\n",
    "    'rphone': '----------',  # FIXME : \n",
    "    'msg': '안녕하세요.',        # FIXME : \n",
    "}\n",
    "\n",
    "data = {}\n",
    "for key, value in params.items():\n",
    "    # 보낼 메세지. 최대 90바이트 # 송신자 앞 3자리\n",
    "    # 송신자 다음 4자리\n",
    "    # 송신자 마지막 4자리\n",
    "    # 수신자 전화번호 목록 : 구분자 콤마\n",
    "    if isinstance(value, str):\n",
    "        encoded = value.encode('euckr')[:90]\n",
    "        encoded = encoded.decode('euckr', 'ignore').encode('euckr')\n",
    "        value = b64encode(encoded)\n",
    "    data[key] = value\n",
    "\n",
    "print(requests.post(url, data=data).text)"
   ]
  },
  {
   "cell_type": "markdown",
   "metadata": {},
   "source": [
    "## 크롤링"
   ]
  },
  {
   "cell_type": "code",
   "execution_count": 22,
   "metadata": {},
   "outputs": [
    {
     "name": "stdout",
     "output_type": "stream",
     "text": [
      "개발환경 구축하기 https://nomade.kr/vod/setup/\n",
      "파이썬 차근차근 시작하기 https://nomade.kr/vod/python/\n",
      "크롤링 차근차근 시작하기 https://nomade.kr/vod/crawling/\n",
      "파이썬으로 업무 자동화 https://nomade.kr/vod/automation/\n",
      "장고 - 기본편 https://nomade.kr/vod/django/\n",
      "장고걸스 튜토리얼 https://nomade.kr/vod/djangogirls/\n",
      "장고 - Form/ModelForm 잘 알고 쓰기 https://nomade.kr/vod/form/\n",
      "장고 - 클래스 기반 뷰. 잘 알고 쓰기 https://nomade.kr/vod/cbv/\n",
      "장고 - 결제 시스템 연동 https://nomade.kr/vod/payment/\n",
      "장고 - 웹 프론트엔드 시작편 https://nomade.kr/vod/frontend/\n",
      "장고 - 다양한 위젯 만들기 https://nomade.kr/vod/widgets/\n",
      "장고 - API 서버 만들기 및 초간단 안드로이드 앱 만들기 https://nomade.kr/vod/apiserver/\n",
      "장고 - 하이브리드 앱 만들기 https://nomade.kr/vod/hybrid/\n",
      "장고 - 서비스 배포하기 https://nomade.kr/vod/deploy/\n",
      "장고 - 실전편 (Feat. 배달의 민족 St. 만들기) https://nomade.kr/vod/django-baemin/\n",
      "장고 - 실전편 (Feat. 인스타그램 St. 만들기) https://nomade.kr/vod/django-instagram/\n"
     ]
    }
   ],
   "source": [
    "# LV1 : HTML에 필요한 데이터가 모두 포함된 경우\n",
    "\n",
    "import requests\n",
    "from bs4 import BeautifulSoup\n",
    "\n",
    "html = requests.get('https://askdjango.github.io/lv1/').text\n",
    "soup = BeautifulSoup(html, 'html.parser')\n",
    "\n",
    "for tag in soup.select('#course_list > .course > a'):\n",
    "    print(tag.text, tag['href'])"
   ]
  },
  {
   "cell_type": "markdown",
   "metadata": {},
   "source": [
    "### 멜론 검색"
   ]
  },
  {
   "cell_type": "code",
   "execution_count": 25,
   "metadata": {},
   "outputs": [
    {
     "name": "stdout",
     "output_type": "stream",
     "text": [
      "_({\"STATUS\":\"0\",\"KEYWORD\":\"아이유\",\"ARTISTCONTENTS\":[{\"ARTISTID\":\"261143\",\"ARTISTNAME\":\"아이유\",\"ARTISTNAMEDP\":\"<b>아이유</b>\",\"ARITSTIMG\":\"http://cdnimg.melon.co.kr/cm/artistcrop/images/002/61/143/261143_500.jpg/melon/resize/40/quality/80/optimize\",\"NATIONALITYNAME\":\"대한민국\",\"SEX\":\"여성\",\"ACTTYPENAMES\":\"솔로\"},{\"ARTISTID\":\"560205\",\"ARTISTNAME\":\"IUV\",\"ARTISTNAMEDP\":\"IUV\",\"ARITSTIMG\":\"http://cdnimg.melon.co.kr/cm/artistcrop/images/005/60/205/560205_500.jpg/melon/resize/40/quality/80/optimize\",\"NATIONALITYNAME\":\"대한민국\",\"SEX\":\"여성\",\"ACTTYPENAMES\":\"그룹\"},{\"ARTISTID\":\"167076\",\"ARTISTNAME\":\"아이유악대\",\"ARTISTNAMEDP\":\"<b>아이유</b>악대\",\"ARITSTIMG\":\"\",\"NATIONALITYNAME\":\"중국\",\"SEX\":\"남성\",\"ACTTYPENAMES\":\"솔로\"}],\"SONGCONTENTS\":[{\"SONGID\":\"30314784\",\"SONGNAME\":\"밤편지\",\"SONGNAMEDP\":\"밤편지\",\"ALBUMIMG\":\"http://cdnimg.melon.co.kr/cm/album/images/100/47/890/10047890_500.jpg/melon/resize/40/quality/80/optimize\",\"ALBUMID\":\"10047890\",\"ALBUMNAME\":\"밤편지\",\"ARTISTNAME\":\"아이유\"},{\"SONGID\":\"30378156\",\"SONGNAME\":\"팔레트 (Feat. G-DRAGON)\",\"SONGNAMEDP\":\"팔레트 (Feat. G-DRAGON)\",\"ALBUMIMG\":\"http://cdnimg.melon.co.kr/cm/album/images/100/56/666/10056666_500.jpg/melon/resize/40/quality/80/optimize\",\"ALBUMID\":\"10056666\",\"ALBUMNAME\":\"Palette\",\"ARTISTNAME\":\"아이유\"},{\"SONGID\":\"5700639\",\"SONGNAME\":\"마음\",\"SONGNAMEDP\":\"마음\",\"ALBUMIMG\":\"http://cdnimg.melon.co.kr/cm/album/images/023/19/008/2319008_500.jpg/melon/resize/40/quality/80/optimize\",\"ALBUMID\":\"2319008\",\"ALBUMNAME\":\"마음\",\"ARTISTNAME\":\"아이유\"},{\"SONGID\":\"30378164\",\"SONGNAME\":\"이름에게\",\"SONGNAMEDP\":\"이름에게\",\"ALBUMIMG\":\"http://cdnimg.melon.co.kr/cm/album/images/100/56/666/10056666_500.jpg/melon/resize/40/quality/80/optimize\",\"ALBUMID\":\"10056666\",\"ALBUMNAME\":\"Palette\",\"ARTISTNAME\":\"아이유\"},{\"SONGID\":\"30349593\",\"SONGNAME\":\"사랑이 잘 (With 오혁)\",\"SONGNAMEDP\":\"사랑이 잘 (With 오혁)\",\"ALBUMIMG\":\"http://cdnimg.melon.co.kr/cm/album/images/100/52/968/10052968_500.jpg/melon/resize/40/quality/80/optimize\",\"ALBUMID\":\"10052968\",\"ALBUMNAME\":\"사랑이 잘\",\"ARTISTNAME\":\"아이유\"},{\"SONGID\":\"30378155\",\"SONGNAME\":\"이 지금\",\"SONGNAMEDP\":\"이 지금\",\"ALBUMIMG\":\"http://cdnimg.melon.co.kr/cm/album/images/100/56/666/10056666_500.jpg/melon/resize/40/quality/80/optimize\",\"ALBUMID\":\"10056666\",\"ALBUMNAME\":\"Palette\",\"ARTISTNAME\":\"아이유\"},{\"SONGID\":\"4369827\",\"SONGNAME\":\"금요일에 만나요 (Feat. 장이정 Of HISTORY)\",\"SONGNAMEDP\":\"금요일에 만나요 (Feat. 장이정 Of HISTORY)\",\"ALBUMIMG\":\"http://cdnimg.melon.co.kr/cm/album/images/022/22/587/2222587_500.jpg/melon/resize/40/quality/80/optimize\",\"ALBUMID\":\"2222587\",\"ALBUMNAME\":\"Modern Times - Epilogue\",\"ARTISTNAME\":\"아이유\"},{\"SONGID\":\"3795586\",\"SONGNAME\":\"하루 끝\",\"SONGNAMEDP\":\"하루 끝\",\"ALBUMIMG\":\"http://cdnimg.melon.co.kr/cm/album/images/021/21/646/2121646_500.jpg/melon/resize/40/quality/80/optimize\",\"ALBUMID\":\"2121646\",\"ALBUMNAME\":\"스무 살의 봄\",\"ARTISTNAME\":\"아이유\"},{\"SONGID\":\"4646573\",\"SONGNAME\":\"너의 의미 (Feat. 김창완)\",\"SONGNAMEDP\":\"너의 의미 (Feat. 김창완)\",\"ALBUMIMG\":\"http://cdnimg.melon.co.kr/cm/album/images/022/56/290/2256290_500.jpg/melon/resize/40/quality/80/optimize\",\"ALBUMID\":\"2256290\",\"ALBUMNAME\":\"꽃갈피\",\"ARTISTNAME\":\"아이유\"},{\"SONGID\":\"3625504\",\"SONGNAME\":\"너랑 나\",\"SONGNAMEDP\":\"너랑 나\",\"ALBUMIMG\":\"http://cdnimg.melon.co.kr/cm/album/images/020/40/666/2040666_500.jpg/melon/resize/40/quality/80/optimize\",\"ALBUMID\":\"2040666\",\"ALBUMNAME\":\"Last Fantasy\",\"ARTISTNAME\":\"아이유\"},{\"SONGID\":\"7896511\",\"SONGNAME\":\"무릎\",\"SONGNAMEDP\":\"무릎\",\"ALBUMIMG\":\"http://cdnimg.melon.co.kr/cm/album/images/026/46/282/2646282_500.jpg/melon/resize/40/quality/80/optimize\",\"ALBUMID\":\"2646282\",\"ALBUMNAME\":\"CHAT-SHIRE\",\"ARTISTNAME\":\"아이유\"},{\"SONGID\":\"3051244\",\"SONGNAME\":\"좋은 날\",\"SONGNAMEDP\":\"좋은 날\",\"ALBUMIMG\":\"http://cdnimg.melon.co.kr/cm/album/images/010/93/562/1093562_500.jpg/melon/resize/40/quality/80/optimize\",\"ALBUMID\":\"1093562\",\"ALBUMNAME\":\"Real\",\"ARTISTNAME\":\"아이유\"},{\"SONGID\":\"7896508\",\"SONGNAME\":\"스물셋\",\"SONGNAMEDP\":\"스물셋\",\"ALBUMIMG\":\"http://cdnimg.melon.co.kr/cm/album/images/026/46/282/2646282_500.jpg/melon/resize/40/quality/80/optimize\",\"ALBUMID\":\"2646282\",\"ALBUMNAME\":\"CHAT-SHIRE\",\"ARTISTNAME\":\"아이유\"},{\"SONGID\":\"30378157\",\"SONGNAME\":\"이런 엔딩\",\"SONGNAMEDP\":\"이런 엔딩\",\"ALBUMIMG\":\"http://cdnimg.melon.co.kr/cm/album/images/100/56/666/10056666_500.jpg/melon/resize/40/quality/80/optimize\",\"ALBUMID\":\"10056666\",\"ALBUMNAME\":\"Palette\",\"ARTISTNAME\":\"아이유\"},{\"SONGID\":\"2705411\",\"SONGNAME\":\"Rain Drop\",\"SONGNAMEDP\":\"Rain Drop\",\"ALBUMIMG\":\"http://cdnimg.melon.co.kr/cm/album/images/009/11/358/911358_500.jpg/melon/resize/40/quality/80/optimize\",\"ALBUMID\":\"911358\",\"ALBUMNAME\":\"잔소리\",\"ARTISTNAME\":\"아이유\"}],\"ALBUMCONTENTS\":[{\"ALBUMID\":\"10056666\",\"ALBUMNAME\":\"Palette\",\"ALBUMNAMEDP\":\"Palette\",\"ALBUMIMG\":\"http://cdnimg.melon.co.kr/cm/album/images/100/56/666/10056666_500.jpg/melon/resize/40/quality/80/optimize\",\"ARTISTNAME\":\"아이유\"},{\"ALBUMID\":\"10047890\",\"ALBUMNAME\":\"밤편지\",\"ALBUMNAMEDP\":\"밤편지\",\"ALBUMIMG\":\"http://cdnimg.melon.co.kr/cm/album/images/100/47/890/10047890_500.jpg/melon/resize/40/quality/80/optimize\",\"ARTISTNAME\":\"아이유\"},{\"ALBUMID\":\"2256290\",\"ALBUMNAME\":\"꽃갈피\",\"ALBUMNAMEDP\":\"꽃갈피\",\"ALBUMIMG\":\"http://cdnimg.melon.co.kr/cm/album/images/022/56/290/2256290_500.jpg/melon/resize/40/quality/80/optimize\",\"ARTISTNAME\":\"아이유\"},{\"ALBUMID\":\"2646282\",\"ALBUMNAME\":\"CHAT-SHIRE\",\"ALBUMNAMEDP\":\"CHAT-SHIRE\",\"ALBUMIMG\":\"http://cdnimg.melon.co.kr/cm/album/images/026/46/282/2646282_500.jpg/melon/resize/40/quality/80/optimize\",\"ARTISTNAME\":\"아이유\"},{\"ALBUMID\":\"2222587\",\"ALBUMNAME\":\"Modern Times - Epilogue\",\"ALBUMNAMEDP\":\"Modern Times - Epilogue\",\"ALBUMIMG\":\"http://cdnimg.melon.co.kr/cm/album/images/022/22/587/2222587_500.jpg/melon/resize/40/quality/80/optimize\",\"ARTISTNAME\":\"아이유\"},{\"ALBUMID\":\"2040666\",\"ALBUMNAME\":\"Last Fantasy\",\"ALBUMNAMEDP\":\"Last Fantasy\",\"ALBUMIMG\":\"http://cdnimg.melon.co.kr/cm/album/images/020/40/666/2040666_500.jpg/melon/resize/40/quality/80/optimize\",\"ARTISTNAME\":\"아이유\"},{\"ALBUMID\":\"10052968\",\"ALBUMNAME\":\"사랑이 잘\",\"ALBUMNAMEDP\":\"사랑이 잘\",\"ALBUMIMG\":\"http://cdnimg.melon.co.kr/cm/album/images/100/52/968/10052968_500.jpg/melon/resize/40/quality/80/optimize\",\"ARTISTNAME\":\"아이유\"},{\"ALBUMID\":\"1093562\",\"ALBUMNAME\":\"Real\",\"ALBUMNAMEDP\":\"Real\",\"ALBUMIMG\":\"http://cdnimg.melon.co.kr/cm/album/images/010/93/562/1093562_500.jpg/melon/resize/40/quality/80/optimize\",\"ARTISTNAME\":\"아이유\"},{\"ALBUMID\":\"2121646\",\"ALBUMNAME\":\"스무 살의 봄\",\"ALBUMNAMEDP\":\"스무 살의 봄\",\"ALBUMIMG\":\"http://cdnimg.melon.co.kr/cm/album/images/021/21/646/2121646_500.jpg/melon/resize/40/quality/80/optimize\",\"ARTISTNAME\":\"아이유\"},{\"ALBUMID\":\"2208448\",\"ALBUMNAME\":\"Modern Times\",\"ALBUMNAMEDP\":\"Modern Times\",\"ALBUMIMG\":\"http://cdnimg.melon.co.kr/cm/album/images/022/08/448/2208448_500.jpg/melon/resize/40/quality/80/optimize\",\"ARTISTNAME\":\"아이유\"},{\"ALBUMID\":\"2319008\",\"ALBUMNAME\":\"마음\",\"ALBUMNAMEDP\":\"마음\",\"ALBUMIMG\":\"http://cdnimg.melon.co.kr/cm/album/images/023/19/008/2319008_500.jpg/melon/resize/40/quality/80/optimize\",\"ARTISTNAME\":\"아이유\"},{\"ALBUMID\":\"1173161\",\"ALBUMNAME\":\"Real+\",\"ALBUMNAMEDP\":\"Real+\",\"ALBUMIMG\":\"http://cdnimg.melon.co.kr/cm/album/images/011/73/161/1173161_500.jpg/melon/resize/40/quality/80/optimize\",\"ARTISTNAME\":\"아이유\"},{\"ALBUMID\":\"718505\",\"ALBUMNAME\":\"IU...IM\",\"ALBUMNAMEDP\":\"IU...IM\",\"ALBUMIMG\":\"http://cdnimg.melon.co.kr/cm/album/images/007/18/505/718505_500.jpg/melon/resize/40/quality/80/optimize\",\"ARTISTNAME\":\"아이유\"},{\"ALBUMID\":\"546853\",\"ALBUMNAME\":\"Growing Up\",\"ALBUMNAMEDP\":\"Growing Up\",\"ALBUMIMG\":\"http://cdnimg.melon.co.kr/cm/album/images/005/46/853/546853_500.jpg/melon/resize/40/quality/80/optimize\",\"ARTISTNAME\":\"아이유\"},{\"ALBUMID\":\"398025\",\"ALBUMNAME\":\"Lost And Found\",\"ALBUMNAMEDP\":\"Lost And Found\",\"ALBUMIMG\":\"http://cdnimg.melon.co.kr/cm/album/images/003/98/025/398025_500.jpg/melon/resize/40/quality/80/optimize\",\"ARTISTNAME\":\"아이유\"}],\"KEYWORDCONTENTS\":[{\"KEYWORDDP\":\"<b>아이유</b>\",\"KEYWORD\":\"아이유\"},{\"KEYWORDDP\":\"<b>아이유</b> 푸르던\",\"KEYWORD\":\"아이유 푸르던\"},{\"KEYWORDDP\":\"<b>아이유</b> 무릎\",\"KEYWORD\":\"아이유 무릎\"},{\"KEYWORDDP\":\"<b>아이유</b> Rain Drop\",\"KEYWORD\":\"아이유 Rain Drop\"},{\"KEYWORDDP\":\"<b>아이유</b> 있잖아 (Feat. 마리오)\",\"KEYWORD\":\"아이유 있잖아 (Feat. 마리오)\"},{\"KEYWORDDP\":\"<b>아이유</b> 미아\",\"KEYWORD\":\"아이유 미아\"},{\"KEYWORDDP\":\"<b>아이유</b> 잔소리 (With 2AM 슬옹)\",\"KEYWORD\":\"아이유 잔소리 (With 2AM 슬옹)\"},{\"KEYWORDDP\":\"<b>아이유</b> 밤편지\",\"KEYWORD\":\"아이유 밤편지\"},{\"KEYWORDDP\":\"<b>아이유</b> 팔레트\",\"KEYWORD\":\"아이유 팔레트\"},{\"KEYWORDDP\":\"<b>아이유</b> 좋은 날\",\"KEYWORD\":\"아이유 좋은 날\"},{\"KEYWORDDP\":\"<b>아이유</b> 싸이 어땠을까\",\"KEYWORD\":\"아이유 싸이 어땠을까\"},{\"KEYWORDDP\":\"<b>아이유</b> Palette\",\"KEYWORD\":\"아이유 Palette\"},{\"KEYWORDDP\":\"<b>아이유</b> 천년의 신곡\",\"KEYWORD\":\"아이유 천년의 신곡\"},{\"KEYWORDDP\":\"<b>아이유</b> 너의 의미\",\"KEYWORD\":\"아이유 너의 의미\"},{\"KEYWORDDP\":\"<b>아이유</b> 이름에게\",\"KEYWORD\":\"아이유 이름에게\"}],\"httpDomain\":\"http://www.melon.com\",\"httpsDomain\":\"https://www.melon.com\",\"staticDomain\":\"https://static.melon.co.kr\"});\n"
     ]
    }
   ],
   "source": [
    "import requests\n",
    "\n",
    "search_url = \"http://www.melon.com/search/keyword/index.json\"\n",
    "params = {\n",
    "    \"jscallback\" : \"_\",\n",
    "    \"query\": \"아이유\",\n",
    "}\n",
    "jsonp_string = requests.get(search_url, params=params).text\n",
    "print(jsonp_string)"
   ]
  },
  {
   "cell_type": "code",
   "execution_count": 26,
   "metadata": {},
   "outputs": [
    {
     "data": {
      "text/plain": [
       "{'ALBUMCONTENTS': [{'ALBUMID': '10056666',\n",
       "   'ALBUMIMG': 'http://cdnimg.melon.co.kr/cm/album/images/100/56/666/10056666_500.jpg/melon/resize/40/quality/80/optimize',\n",
       "   'ALBUMNAME': 'Palette',\n",
       "   'ALBUMNAMEDP': 'Palette',\n",
       "   'ARTISTNAME': '아이유'},\n",
       "  {'ALBUMID': '10047890',\n",
       "   'ALBUMIMG': 'http://cdnimg.melon.co.kr/cm/album/images/100/47/890/10047890_500.jpg/melon/resize/40/quality/80/optimize',\n",
       "   'ALBUMNAME': '밤편지',\n",
       "   'ALBUMNAMEDP': '밤편지',\n",
       "   'ARTISTNAME': '아이유'},\n",
       "  {'ALBUMID': '2256290',\n",
       "   'ALBUMIMG': 'http://cdnimg.melon.co.kr/cm/album/images/022/56/290/2256290_500.jpg/melon/resize/40/quality/80/optimize',\n",
       "   'ALBUMNAME': '꽃갈피',\n",
       "   'ALBUMNAMEDP': '꽃갈피',\n",
       "   'ARTISTNAME': '아이유'},\n",
       "  {'ALBUMID': '2646282',\n",
       "   'ALBUMIMG': 'http://cdnimg.melon.co.kr/cm/album/images/026/46/282/2646282_500.jpg/melon/resize/40/quality/80/optimize',\n",
       "   'ALBUMNAME': 'CHAT-SHIRE',\n",
       "   'ALBUMNAMEDP': 'CHAT-SHIRE',\n",
       "   'ARTISTNAME': '아이유'},\n",
       "  {'ALBUMID': '2222587',\n",
       "   'ALBUMIMG': 'http://cdnimg.melon.co.kr/cm/album/images/022/22/587/2222587_500.jpg/melon/resize/40/quality/80/optimize',\n",
       "   'ALBUMNAME': 'Modern Times - Epilogue',\n",
       "   'ALBUMNAMEDP': 'Modern Times - Epilogue',\n",
       "   'ARTISTNAME': '아이유'},\n",
       "  {'ALBUMID': '2040666',\n",
       "   'ALBUMIMG': 'http://cdnimg.melon.co.kr/cm/album/images/020/40/666/2040666_500.jpg/melon/resize/40/quality/80/optimize',\n",
       "   'ALBUMNAME': 'Last Fantasy',\n",
       "   'ALBUMNAMEDP': 'Last Fantasy',\n",
       "   'ARTISTNAME': '아이유'},\n",
       "  {'ALBUMID': '10052968',\n",
       "   'ALBUMIMG': 'http://cdnimg.melon.co.kr/cm/album/images/100/52/968/10052968_500.jpg/melon/resize/40/quality/80/optimize',\n",
       "   'ALBUMNAME': '사랑이 잘',\n",
       "   'ALBUMNAMEDP': '사랑이 잘',\n",
       "   'ARTISTNAME': '아이유'},\n",
       "  {'ALBUMID': '1093562',\n",
       "   'ALBUMIMG': 'http://cdnimg.melon.co.kr/cm/album/images/010/93/562/1093562_500.jpg/melon/resize/40/quality/80/optimize',\n",
       "   'ALBUMNAME': 'Real',\n",
       "   'ALBUMNAMEDP': 'Real',\n",
       "   'ARTISTNAME': '아이유'},\n",
       "  {'ALBUMID': '2121646',\n",
       "   'ALBUMIMG': 'http://cdnimg.melon.co.kr/cm/album/images/021/21/646/2121646_500.jpg/melon/resize/40/quality/80/optimize',\n",
       "   'ALBUMNAME': '스무 살의 봄',\n",
       "   'ALBUMNAMEDP': '스무 살의 봄',\n",
       "   'ARTISTNAME': '아이유'},\n",
       "  {'ALBUMID': '2208448',\n",
       "   'ALBUMIMG': 'http://cdnimg.melon.co.kr/cm/album/images/022/08/448/2208448_500.jpg/melon/resize/40/quality/80/optimize',\n",
       "   'ALBUMNAME': 'Modern Times',\n",
       "   'ALBUMNAMEDP': 'Modern Times',\n",
       "   'ARTISTNAME': '아이유'},\n",
       "  {'ALBUMID': '2319008',\n",
       "   'ALBUMIMG': 'http://cdnimg.melon.co.kr/cm/album/images/023/19/008/2319008_500.jpg/melon/resize/40/quality/80/optimize',\n",
       "   'ALBUMNAME': '마음',\n",
       "   'ALBUMNAMEDP': '마음',\n",
       "   'ARTISTNAME': '아이유'},\n",
       "  {'ALBUMID': '1173161',\n",
       "   'ALBUMIMG': 'http://cdnimg.melon.co.kr/cm/album/images/011/73/161/1173161_500.jpg/melon/resize/40/quality/80/optimize',\n",
       "   'ALBUMNAME': 'Real+',\n",
       "   'ALBUMNAMEDP': 'Real+',\n",
       "   'ARTISTNAME': '아이유'},\n",
       "  {'ALBUMID': '718505',\n",
       "   'ALBUMIMG': 'http://cdnimg.melon.co.kr/cm/album/images/007/18/505/718505_500.jpg/melon/resize/40/quality/80/optimize',\n",
       "   'ALBUMNAME': 'IU...IM',\n",
       "   'ALBUMNAMEDP': 'IU...IM',\n",
       "   'ARTISTNAME': '아이유'},\n",
       "  {'ALBUMID': '546853',\n",
       "   'ALBUMIMG': 'http://cdnimg.melon.co.kr/cm/album/images/005/46/853/546853_500.jpg/melon/resize/40/quality/80/optimize',\n",
       "   'ALBUMNAME': 'Growing Up',\n",
       "   'ALBUMNAMEDP': 'Growing Up',\n",
       "   'ARTISTNAME': '아이유'},\n",
       "  {'ALBUMID': '398025',\n",
       "   'ALBUMIMG': 'http://cdnimg.melon.co.kr/cm/album/images/003/98/025/398025_500.jpg/melon/resize/40/quality/80/optimize',\n",
       "   'ALBUMNAME': 'Lost And Found',\n",
       "   'ALBUMNAMEDP': 'Lost And Found',\n",
       "   'ARTISTNAME': '아이유'}],\n",
       " 'ARTISTCONTENTS': [{'ACTTYPENAMES': '솔로',\n",
       "   'ARITSTIMG': 'http://cdnimg.melon.co.kr/cm/artistcrop/images/002/61/143/261143_500.jpg/melon/resize/40/quality/80/optimize',\n",
       "   'ARTISTID': '261143',\n",
       "   'ARTISTNAME': '아이유',\n",
       "   'ARTISTNAMEDP': '<b>아이유</b>',\n",
       "   'NATIONALITYNAME': '대한민국',\n",
       "   'SEX': '여성'},\n",
       "  {'ACTTYPENAMES': '그룹',\n",
       "   'ARITSTIMG': 'http://cdnimg.melon.co.kr/cm/artistcrop/images/005/60/205/560205_500.jpg/melon/resize/40/quality/80/optimize',\n",
       "   'ARTISTID': '560205',\n",
       "   'ARTISTNAME': 'IUV',\n",
       "   'ARTISTNAMEDP': 'IUV',\n",
       "   'NATIONALITYNAME': '대한민국',\n",
       "   'SEX': '여성'},\n",
       "  {'ACTTYPENAMES': '솔로',\n",
       "   'ARITSTIMG': '',\n",
       "   'ARTISTID': '167076',\n",
       "   'ARTISTNAME': '아이유악대',\n",
       "   'ARTISTNAMEDP': '<b>아이유</b>악대',\n",
       "   'NATIONALITYNAME': '중국',\n",
       "   'SEX': '남성'}],\n",
       " 'KEYWORD': '아이유',\n",
       " 'KEYWORDCONTENTS': [{'KEYWORD': '아이유', 'KEYWORDDP': '<b>아이유</b>'},\n",
       "  {'KEYWORD': '아이유 푸르던', 'KEYWORDDP': '<b>아이유</b> 푸르던'},\n",
       "  {'KEYWORD': '아이유 무릎', 'KEYWORDDP': '<b>아이유</b> 무릎'},\n",
       "  {'KEYWORD': '아이유 Rain Drop', 'KEYWORDDP': '<b>아이유</b> Rain Drop'},\n",
       "  {'KEYWORD': '아이유 있잖아 (Feat. 마리오)',\n",
       "   'KEYWORDDP': '<b>아이유</b> 있잖아 (Feat. 마리오)'},\n",
       "  {'KEYWORD': '아이유 미아', 'KEYWORDDP': '<b>아이유</b> 미아'},\n",
       "  {'KEYWORD': '아이유 잔소리 (With 2AM 슬옹)',\n",
       "   'KEYWORDDP': '<b>아이유</b> 잔소리 (With 2AM 슬옹)'},\n",
       "  {'KEYWORD': '아이유 밤편지', 'KEYWORDDP': '<b>아이유</b> 밤편지'},\n",
       "  {'KEYWORD': '아이유 팔레트', 'KEYWORDDP': '<b>아이유</b> 팔레트'},\n",
       "  {'KEYWORD': '아이유 좋은 날', 'KEYWORDDP': '<b>아이유</b> 좋은 날'},\n",
       "  {'KEYWORD': '아이유 싸이 어땠을까', 'KEYWORDDP': '<b>아이유</b> 싸이 어땠을까'},\n",
       "  {'KEYWORD': '아이유 Palette', 'KEYWORDDP': '<b>아이유</b> Palette'},\n",
       "  {'KEYWORD': '아이유 천년의 신곡', 'KEYWORDDP': '<b>아이유</b> 천년의 신곡'},\n",
       "  {'KEYWORD': '아이유 너의 의미', 'KEYWORDDP': '<b>아이유</b> 너의 의미'},\n",
       "  {'KEYWORD': '아이유 이름에게', 'KEYWORDDP': '<b>아이유</b> 이름에게'}],\n",
       " 'SONGCONTENTS': [{'ALBUMID': '10047890',\n",
       "   'ALBUMIMG': 'http://cdnimg.melon.co.kr/cm/album/images/100/47/890/10047890_500.jpg/melon/resize/40/quality/80/optimize',\n",
       "   'ALBUMNAME': '밤편지',\n",
       "   'ARTISTNAME': '아이유',\n",
       "   'SONGID': '30314784',\n",
       "   'SONGNAME': '밤편지',\n",
       "   'SONGNAMEDP': '밤편지'},\n",
       "  {'ALBUMID': '10056666',\n",
       "   'ALBUMIMG': 'http://cdnimg.melon.co.kr/cm/album/images/100/56/666/10056666_500.jpg/melon/resize/40/quality/80/optimize',\n",
       "   'ALBUMNAME': 'Palette',\n",
       "   'ARTISTNAME': '아이유',\n",
       "   'SONGID': '30378156',\n",
       "   'SONGNAME': '팔레트 (Feat. G-DRAGON)',\n",
       "   'SONGNAMEDP': '팔레트 (Feat. G-DRAGON)'},\n",
       "  {'ALBUMID': '2319008',\n",
       "   'ALBUMIMG': 'http://cdnimg.melon.co.kr/cm/album/images/023/19/008/2319008_500.jpg/melon/resize/40/quality/80/optimize',\n",
       "   'ALBUMNAME': '마음',\n",
       "   'ARTISTNAME': '아이유',\n",
       "   'SONGID': '5700639',\n",
       "   'SONGNAME': '마음',\n",
       "   'SONGNAMEDP': '마음'},\n",
       "  {'ALBUMID': '10056666',\n",
       "   'ALBUMIMG': 'http://cdnimg.melon.co.kr/cm/album/images/100/56/666/10056666_500.jpg/melon/resize/40/quality/80/optimize',\n",
       "   'ALBUMNAME': 'Palette',\n",
       "   'ARTISTNAME': '아이유',\n",
       "   'SONGID': '30378164',\n",
       "   'SONGNAME': '이름에게',\n",
       "   'SONGNAMEDP': '이름에게'},\n",
       "  {'ALBUMID': '10052968',\n",
       "   'ALBUMIMG': 'http://cdnimg.melon.co.kr/cm/album/images/100/52/968/10052968_500.jpg/melon/resize/40/quality/80/optimize',\n",
       "   'ALBUMNAME': '사랑이 잘',\n",
       "   'ARTISTNAME': '아이유',\n",
       "   'SONGID': '30349593',\n",
       "   'SONGNAME': '사랑이 잘 (With 오혁)',\n",
       "   'SONGNAMEDP': '사랑이 잘 (With 오혁)'},\n",
       "  {'ALBUMID': '10056666',\n",
       "   'ALBUMIMG': 'http://cdnimg.melon.co.kr/cm/album/images/100/56/666/10056666_500.jpg/melon/resize/40/quality/80/optimize',\n",
       "   'ALBUMNAME': 'Palette',\n",
       "   'ARTISTNAME': '아이유',\n",
       "   'SONGID': '30378155',\n",
       "   'SONGNAME': '이 지금',\n",
       "   'SONGNAMEDP': '이 지금'},\n",
       "  {'ALBUMID': '2222587',\n",
       "   'ALBUMIMG': 'http://cdnimg.melon.co.kr/cm/album/images/022/22/587/2222587_500.jpg/melon/resize/40/quality/80/optimize',\n",
       "   'ALBUMNAME': 'Modern Times - Epilogue',\n",
       "   'ARTISTNAME': '아이유',\n",
       "   'SONGID': '4369827',\n",
       "   'SONGNAME': '금요일에 만나요 (Feat. 장이정 Of HISTORY)',\n",
       "   'SONGNAMEDP': '금요일에 만나요 (Feat. 장이정 Of HISTORY)'},\n",
       "  {'ALBUMID': '2121646',\n",
       "   'ALBUMIMG': 'http://cdnimg.melon.co.kr/cm/album/images/021/21/646/2121646_500.jpg/melon/resize/40/quality/80/optimize',\n",
       "   'ALBUMNAME': '스무 살의 봄',\n",
       "   'ARTISTNAME': '아이유',\n",
       "   'SONGID': '3795586',\n",
       "   'SONGNAME': '하루 끝',\n",
       "   'SONGNAMEDP': '하루 끝'},\n",
       "  {'ALBUMID': '2256290',\n",
       "   'ALBUMIMG': 'http://cdnimg.melon.co.kr/cm/album/images/022/56/290/2256290_500.jpg/melon/resize/40/quality/80/optimize',\n",
       "   'ALBUMNAME': '꽃갈피',\n",
       "   'ARTISTNAME': '아이유',\n",
       "   'SONGID': '4646573',\n",
       "   'SONGNAME': '너의 의미 (Feat. 김창완)',\n",
       "   'SONGNAMEDP': '너의 의미 (Feat. 김창완)'},\n",
       "  {'ALBUMID': '2040666',\n",
       "   'ALBUMIMG': 'http://cdnimg.melon.co.kr/cm/album/images/020/40/666/2040666_500.jpg/melon/resize/40/quality/80/optimize',\n",
       "   'ALBUMNAME': 'Last Fantasy',\n",
       "   'ARTISTNAME': '아이유',\n",
       "   'SONGID': '3625504',\n",
       "   'SONGNAME': '너랑 나',\n",
       "   'SONGNAMEDP': '너랑 나'},\n",
       "  {'ALBUMID': '2646282',\n",
       "   'ALBUMIMG': 'http://cdnimg.melon.co.kr/cm/album/images/026/46/282/2646282_500.jpg/melon/resize/40/quality/80/optimize',\n",
       "   'ALBUMNAME': 'CHAT-SHIRE',\n",
       "   'ARTISTNAME': '아이유',\n",
       "   'SONGID': '7896511',\n",
       "   'SONGNAME': '무릎',\n",
       "   'SONGNAMEDP': '무릎'},\n",
       "  {'ALBUMID': '1093562',\n",
       "   'ALBUMIMG': 'http://cdnimg.melon.co.kr/cm/album/images/010/93/562/1093562_500.jpg/melon/resize/40/quality/80/optimize',\n",
       "   'ALBUMNAME': 'Real',\n",
       "   'ARTISTNAME': '아이유',\n",
       "   'SONGID': '3051244',\n",
       "   'SONGNAME': '좋은 날',\n",
       "   'SONGNAMEDP': '좋은 날'},\n",
       "  {'ALBUMID': '2646282',\n",
       "   'ALBUMIMG': 'http://cdnimg.melon.co.kr/cm/album/images/026/46/282/2646282_500.jpg/melon/resize/40/quality/80/optimize',\n",
       "   'ALBUMNAME': 'CHAT-SHIRE',\n",
       "   'ARTISTNAME': '아이유',\n",
       "   'SONGID': '7896508',\n",
       "   'SONGNAME': '스물셋',\n",
       "   'SONGNAMEDP': '스물셋'},\n",
       "  {'ALBUMID': '10056666',\n",
       "   'ALBUMIMG': 'http://cdnimg.melon.co.kr/cm/album/images/100/56/666/10056666_500.jpg/melon/resize/40/quality/80/optimize',\n",
       "   'ALBUMNAME': 'Palette',\n",
       "   'ARTISTNAME': '아이유',\n",
       "   'SONGID': '30378157',\n",
       "   'SONGNAME': '이런 엔딩',\n",
       "   'SONGNAMEDP': '이런 엔딩'},\n",
       "  {'ALBUMID': '911358',\n",
       "   'ALBUMIMG': 'http://cdnimg.melon.co.kr/cm/album/images/009/11/358/911358_500.jpg/melon/resize/40/quality/80/optimize',\n",
       "   'ALBUMNAME': '잔소리',\n",
       "   'ARTISTNAME': '아이유',\n",
       "   'SONGID': '2705411',\n",
       "   'SONGNAME': 'Rain Drop',\n",
       "   'SONGNAMEDP': 'Rain Drop'}],\n",
       " 'STATUS': '0',\n",
       " 'httpDomain': 'http://www.melon.com',\n",
       " 'httpsDomain': 'https://www.melon.com',\n",
       " 'staticDomain': 'https://static.melon.co.kr'}"
      ]
     },
     "execution_count": 26,
     "metadata": {},
     "output_type": "execute_result"
    }
   ],
   "source": [
    "import json\n",
    "\n",
    "json_string = jsonp_string.replace('_(', '').replace(');', '')\n",
    "search_result = json.loads(json_string)\n",
    "search_result"
   ]
  },
  {
   "cell_type": "code",
   "execution_count": 27,
   "metadata": {},
   "outputs": [
    {
     "data": {
      "text/plain": [
       "dict_keys(['STATUS', 'KEYWORD', 'ARTISTCONTENTS', 'SONGCONTENTS', 'ALBUMCONTENTS', 'KEYWORDCONTENTS', 'httpDomain', 'httpsDomain', 'staticDomain'])"
      ]
     },
     "execution_count": 27,
     "metadata": {},
     "output_type": "execute_result"
    }
   ],
   "source": [
    "search_result.keys()"
   ]
  },
  {
   "cell_type": "code",
   "execution_count": 33,
   "metadata": {},
   "outputs": [
    {
     "data": {
      "text/html": [
       "<img src=\"http://cdnimg.melon.co.kr/cm/album/images/100/47/890/10047890_500.jpg/melon/resize/40/quality/80/optimize\"/>"
      ],
      "text/plain": [
       "<IPython.core.display.Image object>"
      ]
     },
     "metadata": {},
     "output_type": "display_data"
    },
    {
     "name": "stdout",
     "output_type": "stream",
     "text": [
      "[밤편지] 밤편지 - 아이유\n"
     ]
    },
    {
     "data": {
      "text/html": [
       "<img src=\"http://cdnimg.melon.co.kr/cm/album/images/100/56/666/10056666_500.jpg/melon/resize/40/quality/80/optimize\"/>"
      ],
      "text/plain": [
       "<IPython.core.display.Image object>"
      ]
     },
     "metadata": {},
     "output_type": "display_data"
    },
    {
     "name": "stdout",
     "output_type": "stream",
     "text": [
      "[Palette] 팔레트 (Feat. G-DRAGON) - 아이유\n"
     ]
    },
    {
     "data": {
      "text/html": [
       "<img src=\"http://cdnimg.melon.co.kr/cm/album/images/023/19/008/2319008_500.jpg/melon/resize/40/quality/80/optimize\"/>"
      ],
      "text/plain": [
       "<IPython.core.display.Image object>"
      ]
     },
     "metadata": {},
     "output_type": "display_data"
    },
    {
     "name": "stdout",
     "output_type": "stream",
     "text": [
      "[마음] 마음 - 아이유\n"
     ]
    },
    {
     "data": {
      "text/html": [
       "<img src=\"http://cdnimg.melon.co.kr/cm/album/images/100/56/666/10056666_500.jpg/melon/resize/40/quality/80/optimize\"/>"
      ],
      "text/plain": [
       "<IPython.core.display.Image object>"
      ]
     },
     "metadata": {},
     "output_type": "display_data"
    },
    {
     "name": "stdout",
     "output_type": "stream",
     "text": [
      "[Palette] 이름에게 - 아이유\n"
     ]
    },
    {
     "data": {
      "text/html": [
       "<img src=\"http://cdnimg.melon.co.kr/cm/album/images/100/52/968/10052968_500.jpg/melon/resize/40/quality/80/optimize\"/>"
      ],
      "text/plain": [
       "<IPython.core.display.Image object>"
      ]
     },
     "metadata": {},
     "output_type": "display_data"
    },
    {
     "name": "stdout",
     "output_type": "stream",
     "text": [
      "[사랑이 잘] 사랑이 잘 (With 오혁) - 아이유\n"
     ]
    },
    {
     "data": {
      "text/html": [
       "<img src=\"http://cdnimg.melon.co.kr/cm/album/images/100/56/666/10056666_500.jpg/melon/resize/40/quality/80/optimize\"/>"
      ],
      "text/plain": [
       "<IPython.core.display.Image object>"
      ]
     },
     "metadata": {},
     "output_type": "display_data"
    },
    {
     "name": "stdout",
     "output_type": "stream",
     "text": [
      "[Palette] 이 지금 - 아이유\n"
     ]
    },
    {
     "data": {
      "text/html": [
       "<img src=\"http://cdnimg.melon.co.kr/cm/album/images/022/22/587/2222587_500.jpg/melon/resize/40/quality/80/optimize\"/>"
      ],
      "text/plain": [
       "<IPython.core.display.Image object>"
      ]
     },
     "metadata": {},
     "output_type": "display_data"
    },
    {
     "name": "stdout",
     "output_type": "stream",
     "text": [
      "[Modern Times - Epilogue] 금요일에 만나요 (Feat. 장이정 Of HISTORY) - 아이유\n"
     ]
    },
    {
     "data": {
      "text/html": [
       "<img src=\"http://cdnimg.melon.co.kr/cm/album/images/021/21/646/2121646_500.jpg/melon/resize/40/quality/80/optimize\"/>"
      ],
      "text/plain": [
       "<IPython.core.display.Image object>"
      ]
     },
     "metadata": {},
     "output_type": "display_data"
    },
    {
     "name": "stdout",
     "output_type": "stream",
     "text": [
      "[스무 살의 봄] 하루 끝 - 아이유\n"
     ]
    },
    {
     "data": {
      "text/html": [
       "<img src=\"http://cdnimg.melon.co.kr/cm/album/images/022/56/290/2256290_500.jpg/melon/resize/40/quality/80/optimize\"/>"
      ],
      "text/plain": [
       "<IPython.core.display.Image object>"
      ]
     },
     "metadata": {},
     "output_type": "display_data"
    },
    {
     "name": "stdout",
     "output_type": "stream",
     "text": [
      "[꽃갈피] 너의 의미 (Feat. 김창완) - 아이유\n"
     ]
    },
    {
     "data": {
      "text/html": [
       "<img src=\"http://cdnimg.melon.co.kr/cm/album/images/020/40/666/2040666_500.jpg/melon/resize/40/quality/80/optimize\"/>"
      ],
      "text/plain": [
       "<IPython.core.display.Image object>"
      ]
     },
     "metadata": {},
     "output_type": "display_data"
    },
    {
     "name": "stdout",
     "output_type": "stream",
     "text": [
      "[Last Fantasy] 너랑 나 - 아이유\n"
     ]
    },
    {
     "data": {
      "text/html": [
       "<img src=\"http://cdnimg.melon.co.kr/cm/album/images/026/46/282/2646282_500.jpg/melon/resize/40/quality/80/optimize\"/>"
      ],
      "text/plain": [
       "<IPython.core.display.Image object>"
      ]
     },
     "metadata": {},
     "output_type": "display_data"
    },
    {
     "name": "stdout",
     "output_type": "stream",
     "text": [
      "[CHAT-SHIRE] 무릎 - 아이유\n"
     ]
    },
    {
     "data": {
      "text/html": [
       "<img src=\"http://cdnimg.melon.co.kr/cm/album/images/010/93/562/1093562_500.jpg/melon/resize/40/quality/80/optimize\"/>"
      ],
      "text/plain": [
       "<IPython.core.display.Image object>"
      ]
     },
     "metadata": {},
     "output_type": "display_data"
    },
    {
     "name": "stdout",
     "output_type": "stream",
     "text": [
      "[Real] 좋은 날 - 아이유\n"
     ]
    },
    {
     "data": {
      "text/html": [
       "<img src=\"http://cdnimg.melon.co.kr/cm/album/images/026/46/282/2646282_500.jpg/melon/resize/40/quality/80/optimize\"/>"
      ],
      "text/plain": [
       "<IPython.core.display.Image object>"
      ]
     },
     "metadata": {},
     "output_type": "display_data"
    },
    {
     "name": "stdout",
     "output_type": "stream",
     "text": [
      "[CHAT-SHIRE] 스물셋 - 아이유\n"
     ]
    },
    {
     "data": {
      "text/html": [
       "<img src=\"http://cdnimg.melon.co.kr/cm/album/images/100/56/666/10056666_500.jpg/melon/resize/40/quality/80/optimize\"/>"
      ],
      "text/plain": [
       "<IPython.core.display.Image object>"
      ]
     },
     "metadata": {},
     "output_type": "display_data"
    },
    {
     "name": "stdout",
     "output_type": "stream",
     "text": [
      "[Palette] 이런 엔딩 - 아이유\n"
     ]
    },
    {
     "data": {
      "text/html": [
       "<img src=\"http://cdnimg.melon.co.kr/cm/album/images/009/11/358/911358_500.jpg/melon/resize/40/quality/80/optimize\"/>"
      ],
      "text/plain": [
       "<IPython.core.display.Image object>"
      ]
     },
     "metadata": {},
     "output_type": "display_data"
    },
    {
     "name": "stdout",
     "output_type": "stream",
     "text": [
      "[잔소리] Rain Drop - 아이유\n"
     ]
    }
   ],
   "source": [
    "from IPython.display import Image, display\n",
    "\n",
    "for song in search_result['SONGCONTENTS']:\n",
    "    display(Image(url=song['ALBUMIMG']))\n",
    "    # print(song['SONGNAME'])\n",
    "    print(\"[{ALBUMNAME}] {SONGNAME} - {ARTISTNAME}\".format(**song))\n",
    "    # print(song)"
   ]
  },
  {
   "cell_type": "code",
   "execution_count": 43,
   "metadata": {
    "collapsed": true
   },
   "outputs": [],
   "source": [
    "import json\n",
    "import requests\n",
    "from IPython.display import Image, display\n",
    "\n",
    "\n",
    "def melon_search(query):\n",
    "    search_url = \"http://www.melon.com/search/keyword/index.json\"\n",
    "    params = {\n",
    "        \"jscallback\" : \"_\",\n",
    "        \"query\": query,\n",
    "    }\n",
    "    jsonp_string = requests.get(search_url, params=params).text\n",
    "    json_string = jsonp_string.replace('_(', '').replace(');', '')\n",
    "    search_result = json.loads(json_string)\n",
    "    \n",
    "    print(\"## ALBUM ##\")\n",
    "    \n",
    "    for album in search_result['ALBUMCONTENTS']:\n",
    "        display(Image(url=album['ALBUMIMG']))\n",
    "        print('{ALBUMNAME} - ARTISTNAME'.format(**album))\n",
    "        print('http://www.melon.com/album/detail.htm?albumId={ALBUMID}'.format(**album))\n",
    "    \n",
    "    print()\n",
    "    print(\"## SONG ##\")\n",
    "        \n",
    "    for song in search_result['SONGCONTENTS']:\n",
    "        display(Image(url=song['ALBUMIMG']))\n",
    "        # print(song['SONGNAME'])\n",
    "        print(\"[{ALBUMNAME}] {SONGNAME} - {ARTISTNAME}\".format(**song))\n",
    "        print(\"http://www.melon.com/song/detail.htm?songId={SONGID}\".format(**song))\n",
    "        # print(song)"
   ]
  },
  {
   "cell_type": "code",
   "execution_count": 44,
   "metadata": {},
   "outputs": [
    {
     "name": "stdout",
     "output_type": "stream",
     "text": [
      "## ALBUM ##\n"
     ]
    },
    {
     "data": {
      "text/html": [
       "<img src=\"http://cdnimg.melon.co.kr/cm/album/images/100/80/589/10080589_500.jpg/melon/resize/40/quality/80/optimize\"/>"
      ],
      "text/plain": [
       "<IPython.core.display.Image object>"
      ]
     },
     "metadata": {},
     "output_type": "display_data"
    },
    {
     "name": "stdout",
     "output_type": "stream",
     "text": [
      "THE WAR - The 4th Album - ARTISTNAME\n",
      "http://www.melon.com/album/detail.htm?albumId=10080589\n"
     ]
    },
    {
     "data": {
      "text/html": [
       "<img src=\"http://cdnimg.melon.co.kr/cm/album/images/026/89/855/2689855_500.jpg/melon/resize/40/quality/80/optimize\"/>"
      ],
      "text/plain": [
       "<IPython.core.display.Image object>"
      ]
     },
     "metadata": {},
     "output_type": "display_data"
    },
    {
     "name": "stdout",
     "output_type": "stream",
     "text": [
      "EX`ACT - The 3rd Album - ARTISTNAME\n",
      "http://www.melon.com/album/detail.htm?albumId=2689855\n"
     ]
    },
    {
     "data": {
      "text/html": [
       "<img src=\"http://cdnimg.melon.co.kr/cm/album/images/100/24/125/10024125_500.jpg/melon/resize/40/quality/80/optimize\"/>"
      ],
      "text/plain": [
       "<IPython.core.display.Image object>"
      ]
     },
     "metadata": {},
     "output_type": "display_data"
    },
    {
     "name": "stdout",
     "output_type": "stream",
     "text": [
      "For Life - 겨울 스페셜 앨범, 2016 - ARTISTNAME\n",
      "http://www.melon.com/album/detail.htm?albumId=10024125\n"
     ]
    },
    {
     "data": {
      "text/html": [
       "<img src=\"http://cdnimg.melon.co.kr/cm/album/images/023/11/397/2311397_500.jpg/melon/resize/40/quality/80/optimize\"/>"
      ],
      "text/plain": [
       "<IPython.core.display.Image object>"
      ]
     },
     "metadata": {},
     "output_type": "display_data"
    },
    {
     "name": "stdout",
     "output_type": "stream",
     "text": [
      "The 2nd Album `EXODUS` - ARTISTNAME\n",
      "http://www.melon.com/album/detail.htm?albumId=2311397\n"
     ]
    },
    {
     "data": {
      "text/html": [
       "<img src=\"http://cdnimg.melon.co.kr/cm/album/images/027/04/940/2704940_500.jpg/melon/resize/40/quality/80/optimize\"/>"
      ],
      "text/plain": [
       "<IPython.core.display.Image object>"
      ]
     },
     "metadata": {},
     "output_type": "display_data"
    },
    {
     "name": "stdout",
     "output_type": "stream",
     "text": [
      "LOTTO - The 3rd Album Repackage - ARTISTNAME\n",
      "http://www.melon.com/album/detail.htm?albumId=2704940\n"
     ]
    },
    {
     "data": {
      "text/html": [
       "<img src=\"http://cdnimg.melon.co.kr/cm/album/images/021/95/303/2195303_500.jpg/melon/resize/40/quality/80/optimize\"/>"
      ],
      "text/plain": [
       "<IPython.core.display.Image object>"
      ]
     },
     "metadata": {},
     "output_type": "display_data"
    },
    {
     "name": "stdout",
     "output_type": "stream",
     "text": [
      "The 1st Album `XOXO` Repackage - ARTISTNAME\n",
      "http://www.melon.com/album/detail.htm?albumId=2195303\n"
     ]
    },
    {
     "data": {
      "text/html": [
       "<img src=\"http://cdnimg.melon.co.kr/cm/album/images/023/21/827/2321827_500.jpg/melon/resize/40/quality/80/optimize\"/>"
      ],
      "text/plain": [
       "<IPython.core.display.Image object>"
      ]
     },
     "metadata": {},
     "output_type": "display_data"
    },
    {
     "name": "stdout",
     "output_type": "stream",
     "text": [
      "LOVE ME RIGHT - The 2nd Album Repackage - ARTISTNAME\n",
      "http://www.melon.com/album/detail.htm?albumId=2321827\n"
     ]
    },
    {
     "data": {
      "text/html": [
       "<img src=\"http://cdnimg.melon.co.kr/cm/album/images/100/70/481/10070481_500.jpg/melon/resize/40/quality/80/optimize\"/>"
      ],
      "text/plain": [
       "<IPython.core.display.Image object>"
      ]
     },
     "metadata": {},
     "output_type": "display_data"
    },
    {
     "name": "stdout",
     "output_type": "stream",
     "text": [
      "GIRLS - ARTISTNAME\n",
      "http://www.melon.com/album/detail.htm?albumId=10070481\n"
     ]
    },
    {
     "data": {
      "text/html": [
       "<img src=\"http://cdnimg.melon.co.kr/cm/album/images/100/28/274/10028274_500.jpg/melon/resize/40/quality/80/optimize\"/>"
      ],
      "text/plain": [
       "<IPython.core.display.Image object>"
      ]
     },
     "metadata": {},
     "output_type": "display_data"
    },
    {
     "name": "stdout",
     "output_type": "stream",
     "text": [
      "Coming Over - ARTISTNAME\n",
      "http://www.melon.com/album/detail.htm?albumId=10028274\n"
     ]
    },
    {
     "data": {
      "text/html": [
       "<img src=\"http://cdnimg.melon.co.kr/cm/album/images/021/87/253/2187253_500.jpg/melon/resize/40/quality/80/optimize\"/>"
      ],
      "text/plain": [
       "<IPython.core.display.Image object>"
      ]
     },
     "metadata": {},
     "output_type": "display_data"
    },
    {
     "name": "stdout",
     "output_type": "stream",
     "text": [
      "The 1st Album XOXO (KISS＆HUG) - ARTISTNAME\n",
      "http://www.melon.com/album/detail.htm?albumId=2187253\n"
     ]
    },
    {
     "data": {
      "text/html": [
       "<img src=\"http://cdnimg.melon.co.kr/cm/album/images/022/19/671/2219671_500.jpg/melon/resize/40/quality/80/optimize\"/>"
      ],
      "text/plain": [
       "<IPython.core.display.Image object>"
      ]
     },
     "metadata": {},
     "output_type": "display_data"
    },
    {
     "name": "stdout",
     "output_type": "stream",
     "text": [
      "겨울 스페셜 앨범 `12월의 기적 (Miracles In December)` - ARTISTNAME\n",
      "http://www.melon.com/album/detail.htm?albumId=2219671\n"
     ]
    },
    {
     "data": {
      "text/html": [
       "<img src=\"http://cdnimg.melon.co.kr/cm/album/images/026/55/828/2655828_500.jpg/melon/resize/40/quality/80/optimize\"/>"
      ],
      "text/plain": [
       "<IPython.core.display.Image object>"
      ]
     },
     "metadata": {},
     "output_type": "display_data"
    },
    {
     "name": "stdout",
     "output_type": "stream",
     "text": [
      "SING FOR YOU - 겨울 스페셜 앨범, 2015 - ARTISTNAME\n",
      "http://www.melon.com/album/detail.htm?albumId=2655828\n"
     ]
    },
    {
     "data": {
      "text/html": [
       "<img src=\"http://cdnimg.melon.co.kr/cm/album/images/022/96/229/2296229_500.jpg/melon/resize/40/quality/80/optimize\"/>"
      ],
      "text/plain": [
       "<IPython.core.display.Image object>"
      ]
     },
     "metadata": {},
     "output_type": "display_data"
    },
    {
     "name": "stdout",
     "output_type": "stream",
     "text": [
      "EXOLOGY CHAPTER 1: THE LOST PLANET - ARTISTNAME\n",
      "http://www.melon.com/album/detail.htm?albumId=2296229\n"
     ]
    },
    {
     "data": {
      "text/html": [
       "<img src=\"http://cdnimg.melon.co.kr/cm/album/images/021/08/026/2108026_2_500.jpg/melon/resize/40/quality/80/optimize\"/>"
      ],
      "text/plain": [
       "<IPython.core.display.Image object>"
      ]
     },
     "metadata": {},
     "output_type": "display_data"
    },
    {
     "name": "stdout",
     "output_type": "stream",
     "text": [
      "`MAMA` EXO-K The 1st Mini Album - ARTISTNAME\n",
      "http://www.melon.com/album/detail.htm?albumId=2108026\n"
     ]
    },
    {
     "data": {
      "text/html": [
       "<img src=\"http://cdnimg.melon.co.kr/cm/album/images/100/83/681/10083681_500.jpg/melon/resize/40/quality/80/optimize\"/>"
      ],
      "text/plain": [
       "<IPython.core.display.Image object>"
      ]
     },
     "metadata": {},
     "output_type": "display_data"
    },
    {
     "name": "stdout",
     "output_type": "stream",
     "text": [
      "It`s Running Time! - ARTISTNAME\n",
      "http://www.melon.com/album/detail.htm?albumId=10083681\n",
      "\n",
      "## SONG ##\n"
     ]
    },
    {
     "data": {
      "text/html": [
       "<img src=\"http://cdnimg.melon.co.kr/cm/album/images/100/80/589/10080589_500.jpg/melon/resize/40/quality/80/optimize\"/>"
      ],
      "text/plain": [
       "<IPython.core.display.Image object>"
      ]
     },
     "metadata": {},
     "output_type": "display_data"
    },
    {
     "name": "stdout",
     "output_type": "stream",
     "text": [
      "[THE WAR - The 4th Album] Ko Ko Bop - EXO\n",
      "http://www.melon.com/song/detail.htm?songId=30529996\n"
     ]
    },
    {
     "data": {
      "text/html": [
       "<img src=\"http://cdnimg.melon.co.kr/cm/album/images/100/80/589/10080589_500.jpg/melon/resize/40/quality/80/optimize\"/>"
      ],
      "text/plain": [
       "<IPython.core.display.Image object>"
      ]
     },
     "metadata": {},
     "output_type": "display_data"
    },
    {
     "name": "stdout",
     "output_type": "stream",
     "text": [
      "[THE WAR - The 4th Album] 전야 (前夜) (The Eve) - EXO\n",
      "http://www.melon.com/song/detail.htm?songId=30529995\n"
     ]
    },
    {
     "data": {
      "text/html": [
       "<img src=\"http://cdnimg.melon.co.kr/cm/album/images/021/95/303/2195303_500.jpg/melon/resize/40/quality/80/optimize\"/>"
      ],
      "text/plain": [
       "<IPython.core.display.Image object>"
      ]
     },
     "metadata": {},
     "output_type": "display_data"
    },
    {
     "name": "stdout",
     "output_type": "stream",
     "text": [
      "[The 1st Album `XOXO` Repackage] 으르렁 (Growl) - EXO\n",
      "http://www.melon.com/song/detail.htm?songId=4193337\n"
     ]
    },
    {
     "data": {
      "text/html": [
       "<img src=\"http://cdnimg.melon.co.kr/cm/album/images/026/89/855/2689855_500.jpg/melon/resize/40/quality/80/optimize\"/>"
      ],
      "text/plain": [
       "<IPython.core.display.Image object>"
      ]
     },
     "metadata": {},
     "output_type": "display_data"
    },
    {
     "name": "stdout",
     "output_type": "stream",
     "text": [
      "[EX`ACT - The 3rd Album] Monster - EXO\n",
      "http://www.melon.com/song/detail.htm?songId=8217164\n"
     ]
    },
    {
     "data": {
      "text/html": [
       "<img src=\"http://cdnimg.melon.co.kr/cm/album/images/100/80/589/10080589_500.jpg/melon/resize/40/quality/80/optimize\"/>"
      ],
      "text/plain": [
       "<IPython.core.display.Image object>"
      ]
     },
     "metadata": {},
     "output_type": "display_data"
    },
    {
     "name": "stdout",
     "output_type": "stream",
     "text": [
      "[THE WAR - The 4th Album] 소름 (Chill) - EXO\n",
      "http://www.melon.com/song/detail.htm?songId=30530001\n"
     ]
    },
    {
     "data": {
      "text/html": [
       "<img src=\"http://cdnimg.melon.co.kr/cm/album/images/023/21/827/2321827_500.jpg/melon/resize/40/quality/80/optimize\"/>"
      ],
      "text/plain": [
       "<IPython.core.display.Image object>"
      ]
     },
     "metadata": {},
     "output_type": "display_data"
    },
    {
     "name": "stdout",
     "output_type": "stream",
     "text": [
      "[LOVE ME RIGHT - The 2nd Album Repackage] LOVE ME RIGHT - EXO\n",
      "http://www.melon.com/song/detail.htm?songId=5721440\n"
     ]
    },
    {
     "data": {
      "text/html": [
       "<img src=\"http://cdnimg.melon.co.kr/cm/album/images/023/11/397/2311397_500.jpg/melon/resize/40/quality/80/optimize\"/>"
      ],
      "text/plain": [
       "<IPython.core.display.Image object>"
      ]
     },
     "metadata": {},
     "output_type": "display_data"
    },
    {
     "name": "stdout",
     "output_type": "stream",
     "text": [
      "[The 2nd Album `EXODUS`] CALL ME BABY - EXO\n",
      "http://www.melon.com/song/detail.htm?songId=5644620\n"
     ]
    },
    {
     "data": {
      "text/html": [
       "<img src=\"http://cdnimg.melon.co.kr/cm/album/images/100/80/589/10080589_500.jpg/melon/resize/40/quality/80/optimize\"/>"
      ],
      "text/plain": [
       "<IPython.core.display.Image object>"
      ]
     },
     "metadata": {},
     "output_type": "display_data"
    },
    {
     "name": "stdout",
     "output_type": "stream",
     "text": [
      "[THE WAR - The 4th Album] What U do? - EXO\n",
      "http://www.melon.com/song/detail.htm?songId=30529997\n"
     ]
    },
    {
     "data": {
      "text/html": [
       "<img src=\"http://cdnimg.melon.co.kr/cm/album/images/100/80/589/10080589_500.jpg/melon/resize/40/quality/80/optimize\"/>"
      ],
      "text/plain": [
       "<IPython.core.display.Image object>"
      ]
     },
     "metadata": {},
     "output_type": "display_data"
    },
    {
     "name": "stdout",
     "output_type": "stream",
     "text": [
      "[THE WAR - The 4th Album] 기억을 걷는 밤 (Walk On Memories) - EXO\n",
      "http://www.melon.com/song/detail.htm?songId=30530002\n"
     ]
    },
    {
     "data": {
      "text/html": [
       "<img src=\"http://cdnimg.melon.co.kr/cm/album/images/022/96/229/2296229_500.jpg/melon/resize/40/quality/80/optimize\"/>"
      ],
      "text/plain": [
       "<IPython.core.display.Image object>"
      ]
     },
     "metadata": {},
     "output_type": "display_data"
    },
    {
     "name": "stdout",
     "output_type": "stream",
     "text": [
      "[EXOLOGY CHAPTER 1: THE LOST PLANET] 중독 (Overdose) - EXO\n",
      "http://www.melon.com/song/detail.htm?songId=5515381\n"
     ]
    },
    {
     "data": {
      "text/html": [
       "<img src=\"http://cdnimg.melon.co.kr/cm/album/images/100/80/589/10080589_500.jpg/melon/resize/40/quality/80/optimize\"/>"
      ],
      "text/plain": [
       "<IPython.core.display.Image object>"
      ]
     },
     "metadata": {},
     "output_type": "display_data"
    },
    {
     "name": "stdout",
     "output_type": "stream",
     "text": [
      "[THE WAR - The 4th Album] 다이아몬드 (Diamond) - EXO\n",
      "http://www.melon.com/song/detail.htm?songId=30529999\n"
     ]
    },
    {
     "data": {
      "text/html": [
       "<img src=\"http://cdnimg.melon.co.kr/cm/album/images/100/24/125/10024125_500.jpg/melon/resize/40/quality/80/optimize\"/>"
      ],
      "text/plain": [
       "<IPython.core.display.Image object>"
      ]
     },
     "metadata": {},
     "output_type": "display_data"
    },
    {
     "name": "stdout",
     "output_type": "stream",
     "text": [
      "[For Life - 겨울 스페셜 앨범, 2016] For Life - EXO\n",
      "http://www.melon.com/song/detail.htm?songId=30157820\n"
     ]
    },
    {
     "data": {
      "text/html": [
       "<img src=\"http://cdnimg.melon.co.kr/cm/album/images/100/80/589/10080589_500.jpg/melon/resize/40/quality/80/optimize\"/>"
      ],
      "text/plain": [
       "<IPython.core.display.Image object>"
      ]
     },
     "metadata": {},
     "output_type": "display_data"
    },
    {
     "name": "stdout",
     "output_type": "stream",
     "text": [
      "[THE WAR - The 4th Album] Forever - EXO\n",
      "http://www.melon.com/song/detail.htm?songId=30529998\n"
     ]
    },
    {
     "data": {
      "text/html": [
       "<img src=\"http://cdnimg.melon.co.kr/cm/album/images/027/04/940/2704940_500.jpg/melon/resize/40/quality/80/optimize\"/>"
      ],
      "text/plain": [
       "<IPython.core.display.Image object>"
      ]
     },
     "metadata": {},
     "output_type": "display_data"
    },
    {
     "name": "stdout",
     "output_type": "stream",
     "text": [
      "[LOTTO - The 3rd Album Repackage] Lotto - EXO\n",
      "http://www.melon.com/song/detail.htm?songId=9606657\n"
     ]
    },
    {
     "data": {
      "text/html": [
       "<img src=\"http://cdnimg.melon.co.kr/cm/album/images/027/11/209/2711209_500.jpg/melon/resize/40/quality/80/optimize\"/>"
      ],
      "text/plain": [
       "<IPython.core.display.Image object>"
      ]
     },
     "metadata": {},
     "output_type": "display_data"
    },
    {
     "name": "stdout",
     "output_type": "stream",
     "text": [
      "[Dancing King - SM STATION] Dancing King - 유재석, EXO\n",
      "http://www.melon.com/song/detail.htm?songId=9647324\n"
     ]
    }
   ],
   "source": [
    "melon_search('EXO')"
   ]
  },
  {
   "cell_type": "markdown",
   "metadata": {},
   "source": [
    "## CSV"
   ]
  },
  {
   "cell_type": "code",
   "execution_count": 45,
   "metadata": {
    "collapsed": true
   },
   "outputs": [],
   "source": [
    "lines = '''월요웹툰,화요웹툰,수요웹툰,목요웹툰,금요웹툰,토요웹툰,일요웹툰\n",
    "신의 탑,마음의소리,고수,기기괴괴,덴마,호랑이형님,열럽전사\n",
    "귀전구담,노블레스,퍼미스미션,하루 3컷,테러맨,부활남,다이스\n",
    "히어로메이커,하이브,DEY 호러채널,마술사,오즈랜드,유미의세포들,조선왕조실톡'''\n",
    "\n",
    "with open('webtoon.csv', 'wt', encoding='utf8') as f:\n",
    "    f.write(lines)"
   ]
  },
  {
   "cell_type": "code",
   "execution_count": 46,
   "metadata": {
    "collapsed": true
   },
   "outputs": [],
   "source": [
    "rows = [\n",
    "    ['월요웹툰', '화요웹툰', '수요웹툰', '목요웹툰', '금요웹툰', '토요웹툰', '일요웹툰'],\n",
    "    ['신의 탑', '마음의소리', '고수', '기기괴괴', '덴마', '호랑이형님', '열럽전사'],\n",
    "    ['귀전구담', '노블레스', '퍼미스미션', '하루 3컷', '테러맨', '부활남', '다이스'], ['히어로메이커', '하이브', 'DEY 호러채널', '마술사', '오즈랜드', '유미의세포들', '조선왕조실톡'],\n",
    "]\n",
    "lines = '\\r\\n'.join(','.join(row) for row in rows)\n",
    "\n",
    "with open('webtoon.csv', 'wt', encoding='utf8') as f:\n",
    "    f.write(lines)"
   ]
  },
  {
   "cell_type": "code",
   "execution_count": 49,
   "metadata": {
    "collapsed": true
   },
   "outputs": [],
   "source": [
    "import csv\n",
    "\n",
    "rows = [\n",
    "    ['월요웹툰', '화요웹툰', '수요웹툰', '목요웹툰', '금요웹툰', '토요웹툰', '일요웹툰'],\n",
    "    ['신의 탑', '마음의소리', '고수', '기기괴괴', '덴마', '호랑이형님', '열럽전사'],\n",
    "    ['귀전구담', '노블레스', '퍼미스미션', '하루 3컷', '테러맨', '부활남', '다이스'], ['히어로메이커', '하이브', 'DEY 호러채널', '마술사', '오즈랜드', '유미의세포들', '조선왕조실톡'],\n",
    "]\n",
    "\n",
    "with open('webtoon.csv', 'wt', encoding='utf8') as f:\n",
    "    writer = csv.writer(f)\n",
    "\n",
    "    # writer.writerows(rows)\n",
    "    \n",
    "    for row in rows:\n",
    "        writer.writerow(row)\n",
    "    "
   ]
  },
  {
   "cell_type": "code",
   "execution_count": 59,
   "metadata": {
    "collapsed": true
   },
   "outputs": [],
   "source": [
    "import csv\n",
    "import json\n",
    "import requests\n",
    "from IPython.display import Image, display\n",
    "\n",
    "\n",
    "def melon_search_export_csv(query):\n",
    "    search_url = \"http://www.melon.com/search/keyword/index.json\"\n",
    "    params = {\n",
    "        \"jscallback\" : \"_\",\n",
    "        \"query\": query,\n",
    "    }\n",
    "    jsonp_string = requests.get(search_url, params=params).text\n",
    "    json_string = jsonp_string.replace('_(', '').replace(');', '')\n",
    "    search_result = json.loads(json_string)\n",
    "    \n",
    "    csv_filename = 'melon_search_{}.csv'.format(query)\n",
    "    \n",
    "    with open(csv_filename, 'wt', encoding='utf8') as f:  # 한글이 깨진것처럼 보여진다면? cp949로 해보세요.\n",
    "#     with open(csv_filename, 'wt', encoding='cp949') as f:\n",
    "        writer = csv.writer(f)\n",
    "        \n",
    "        row = ['앨범명', '곡명', '가수', 'URL']\n",
    "        writer.writerow(row)\n",
    "\n",
    "        for song in search_result['SONGCONTENTS']:\n",
    "            song_url = \"http://www.melon.com/song/detail.htm?songId={SONGID}\".format(**song)\n",
    "            row = [\n",
    "                song['ALBUMNAME'],\n",
    "                song['SONGNAME'],\n",
    "                song['ARTISTNAME'],\n",
    "                song_url,\n",
    "            ]\n",
    "            writer.writerow(row)"
   ]
  },
  {
   "cell_type": "code",
   "execution_count": 60,
   "metadata": {
    "collapsed": true
   },
   "outputs": [],
   "source": [
    "melon_search_export_csv(\"아이유\")"
   ]
  },
  {
   "cell_type": "code",
   "execution_count": null,
   "metadata": {
    "collapsed": true
   },
   "outputs": [],
   "source": []
  }
 ],
 "metadata": {
  "kernelspec": {
   "display_name": "Python 3",
   "language": "python",
   "name": "python3"
  },
  "language_info": {
   "codemirror_mode": {
    "name": "ipython",
    "version": 3
   },
   "file_extension": ".py",
   "mimetype": "text/x-python",
   "name": "python",
   "nbconvert_exporter": "python",
   "pygments_lexer": "ipython3",
   "version": "3.6.1"
  }
 },
 "nbformat": 4,
 "nbformat_minor": 2
}
