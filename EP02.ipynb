{
 "cells": [
  {
   "cell_type": "markdown",
   "metadata": {},
   "source": [
    "## 반복문"
   ]
  },
  {
   "cell_type": "markdown",
   "metadata": {},
   "source": [
    "```c\n",
    "# C언어에서의 루프\n",
    "for(int i=0; i<10; i++) {\n",
    "    print(\"%d\\n\", i);\n",
    "}\n",
    "\n",
    "```"
   ]
  },
  {
   "cell_type": "code",
   "execution_count": 1,
   "metadata": {},
   "outputs": [
    {
     "name": "stdout",
     "output_type": "stream",
     "text": [
      "0\n",
      "1\n",
      "2\n",
      "3\n",
      "4\n",
      "5\n",
      "6\n",
      "7\n",
      "8\n",
      "9\n"
     ]
    }
   ],
   "source": [
    "for i in range(10):\n",
    "    print(i)"
   ]
  },
  {
   "cell_type": "code",
   "execution_count": 2,
   "metadata": {},
   "outputs": [
    {
     "name": "stdout",
     "output_type": "stream",
     "text": [
      "h\n",
      "e\n",
      "l\n",
      "l\n",
      "o\n",
      " \n",
      "w\n",
      "o\n",
      "r\n",
      "l\n",
      "d\n"
     ]
    }
   ],
   "source": [
    "for ch in \"hello world\":\n",
    "    print(ch)"
   ]
  },
  {
   "cell_type": "code",
   "execution_count": 3,
   "metadata": {},
   "outputs": [
    {
     "name": "stdout",
     "output_type": "stream",
     "text": [
      "h\n",
      "e\n",
      "l\n",
      "l\n",
      "o\n"
     ]
    }
   ],
   "source": [
    "for ch in [\"h\", \"e\", \"l\", \"l\", \"o\"]:\n",
    "    print(ch)"
   ]
  },
  {
   "cell_type": "code",
   "execution_count": 4,
   "metadata": {},
   "outputs": [
    {
     "name": "stdout",
     "output_type": "stream",
     "text": [
      "o\n",
      "e\n",
      "l\n",
      "h\n"
     ]
    }
   ],
   "source": [
    "for ch in {\"h\", \"e\", \"l\", \"l\", \"o\"}:  # 집합\n",
    "    print(ch)"
   ]
  },
  {
   "cell_type": "code",
   "execution_count": 4,
   "metadata": {},
   "outputs": [
    {
     "name": "stdout",
     "output_type": "stream",
     "text": [
      "### 2 단 ###\n",
      "2 * 1 = 2\n",
      "2 * 2 = 4\n",
      "2 * 3 = 6\n",
      "2 * 4 = 8\n",
      "2 * 5 = 10\n",
      "2 * 6 = 12\n"
     ]
    }
   ],
   "source": [
    "number = 2\n",
    "\n",
    "print('### {} 단 ###'.format(number))\n",
    "for i in range(1, 10):  # 1이상 10미만의 수 범위, 1씩 증가\n",
    "    print('{} * {} = {}'.format(number, i, number*i))\n",
    "    if i > 5:\n",
    "        break"
   ]
  },
  {
   "cell_type": "code",
   "execution_count": 7,
   "metadata": {},
   "outputs": [
    {
     "name": "stdout",
     "output_type": "stream",
     "text": [
      "### 2 단 ###\n",
      "2 * 1 = 2\n",
      "\n",
      "### 3 단 ###\n",
      "3 * 1 = 3\n",
      "\n",
      "### 4 단 ###\n",
      "4 * 1 = 4\n",
      "\n",
      "### 5 단 ###\n",
      "5 * 1 = 5\n",
      "\n",
      "### 6 단 ###\n",
      "6 * 1 = 6\n",
      "\n",
      "### 7 단 ###\n",
      "7 * 1 = 7\n",
      "\n",
      "### 8 단 ###\n",
      "8 * 1 = 8\n",
      "\n",
      "### 9 단 ###\n",
      "9 * 1 = 9\n",
      "\n"
     ]
    }
   ],
   "source": [
    "# 중첩 반복문\n",
    "\n",
    "for number in range(2, 10):\n",
    "    print('### {} 단 ###'.format(number))\n",
    "    for i in range(1, 10):  # 1이상 10미만의 수 범위, 1씩 증가\n",
    "        print('{} * {} = {}'.format(number, i, number*i))\n",
    "        break\n",
    "    print()"
   ]
  },
  {
   "cell_type": "markdown",
   "metadata": {},
   "source": [
    "## 함수"
   ]
  },
  {
   "cell_type": "code",
   "execution_count": 11,
   "metadata": {},
   "outputs": [
    {
     "name": "stdout",
     "output_type": "stream",
     "text": [
      "### 2 단 ###\n",
      "- 2 * 1 = 2\n",
      "- 2 * 2 = 4\n",
      "- 2 * 3 = 6\n",
      "- 2 * 4 = 8\n",
      "- 2 * 5 = 10\n",
      "- 2 * 6 = 12\n",
      "- 2 * 7 = 14\n",
      "- 2 * 8 = 16\n",
      "- 2 * 9 = 18\n",
      "### 3 단 ###\n",
      "- 3 * 1 = 3\n",
      "- 3 * 2 = 6\n",
      "- 3 * 3 = 9\n",
      "- 3 * 4 = 12\n",
      "- 3 * 5 = 15\n",
      "- 3 * 6 = 18\n",
      "- 3 * 7 = 21\n",
      "- 3 * 8 = 24\n",
      "- 3 * 9 = 27\n"
     ]
    }
   ],
   "source": [
    "number = 2\n",
    "\n",
    "print('### {} 단 ###'.format(number))\n",
    "for i in range(1, 10):  # 1이상 10미만의 수 범위, 1씩 증가\n",
    "    print('- {} * {} = {}'.format(number, i, number*i))\n",
    "\n",
    "number = 3\n",
    "\n",
    "print('### {} 단 ###'.format(number))\n",
    "for i in range(1, 10):  # 1이상 10미만의 수 범위, 1씩 증가\n",
    "    print('- {} * {} = {}'.format(number, i, number*i))\n"
   ]
  },
  {
   "cell_type": "code",
   "execution_count": 16,
   "metadata": {
    "collapsed": true
   },
   "outputs": [],
   "source": [
    "def print_gugudan(number):\n",
    "    print('### {} 단 ###'.format(number))\n",
    "    for i in range(1, 10):  # 1이상 10미만의 수 범위, 1씩 증가\n",
    "        print('>>> {} * {} = {}'.format(number, i, number*i))"
   ]
  },
  {
   "cell_type": "code",
   "execution_count": 17,
   "metadata": {},
   "outputs": [
    {
     "name": "stdout",
     "output_type": "stream",
     "text": [
      "### 2 단 ###\n",
      ">>> 2 * 1 = 2\n",
      ">>> 2 * 2 = 4\n",
      ">>> 2 * 3 = 6\n",
      ">>> 2 * 4 = 8\n",
      ">>> 2 * 5 = 10\n",
      ">>> 2 * 6 = 12\n",
      ">>> 2 * 7 = 14\n",
      ">>> 2 * 8 = 16\n",
      ">>> 2 * 9 = 18\n",
      "### 3 단 ###\n",
      ">>> 3 * 1 = 3\n",
      ">>> 3 * 2 = 6\n",
      ">>> 3 * 3 = 9\n",
      ">>> 3 * 4 = 12\n",
      ">>> 3 * 5 = 15\n",
      ">>> 3 * 6 = 18\n",
      ">>> 3 * 7 = 21\n",
      ">>> 3 * 8 = 24\n",
      ">>> 3 * 9 = 27\n",
      "### 4 단 ###\n",
      ">>> 4 * 1 = 4\n",
      ">>> 4 * 2 = 8\n",
      ">>> 4 * 3 = 12\n",
      ">>> 4 * 4 = 16\n",
      ">>> 4 * 5 = 20\n",
      ">>> 4 * 6 = 24\n",
      ">>> 4 * 7 = 28\n",
      ">>> 4 * 8 = 32\n",
      ">>> 4 * 9 = 36\n"
     ]
    }
   ],
   "source": [
    "print_gugudan(2)\n",
    "print_gugudan(3)\n",
    "print_gugudan(4)"
   ]
  },
  {
   "cell_type": "markdown",
   "metadata": {},
   "source": [
    "### 타 언어에서의 함수"
   ]
  },
  {
   "cell_type": "markdown",
   "metadata": {},
   "source": [
    "```c\n",
    "/* C언어 */\n",
    "int mysum(int x, int y) {\n",
    "    return x + y;\n",
    "}\n",
    "```"
   ]
  },
  {
   "cell_type": "markdown",
   "metadata": {},
   "source": [
    "```javascript\n",
    "/* javascript */\n",
    "function mysum(x, y) {\n",
    "    return x + y;\n",
    "}\n",
    "```"
   ]
  },
  {
   "cell_type": "markdown",
   "metadata": {},
   "source": [
    "```python\n",
    "# python\n",
    "def mysum(x, y):\n",
    "    return x + y\n",
    "```"
   ]
  },
  {
   "cell_type": "markdown",
   "metadata": {},
   "source": [
    "```ruby\n",
    "# ruby\n",
    "def mysum(x, y)\n",
    "    x + y\n",
    "end\n",
    "```"
   ]
  },
  {
   "cell_type": "code",
   "execution_count": 18,
   "metadata": {},
   "outputs": [
    {
     "name": "stdout",
     "output_type": "stream",
     "text": [
      "hello\n",
      "hello\n",
      "hello\n"
     ]
    }
   ],
   "source": [
    "def print_hello():\n",
    "    print(\"hello\")\n",
    "    print(\"hello\")\n",
    "    print(\"hello\")\n",
    "\n",
    "print_hello()"
   ]
  },
  {
   "cell_type": "markdown",
   "metadata": {},
   "source": [
    "### 반환값이 없는 함수"
   ]
  },
  {
   "cell_type": "markdown",
   "metadata": {},
   "source": [
    "```java\n",
    "/* java */\n",
    "void print_hello() {\n",
    "    System.out.println(\"hello world\");\n",
    "}\n",
    "```"
   ]
  },
  {
   "cell_type": "code",
   "execution_count": 21,
   "metadata": {},
   "outputs": [
    {
     "name": "stdout",
     "output_type": "stream",
     "text": [
      "hello world\n",
      "None\n"
     ]
    }
   ],
   "source": [
    "def print_hello():\n",
    "    print(\"hello world\")\n",
    "\n",
    "print(print_hello())  # 파이썬에서는 리턴값이없음(void) 유형이 없어요 !!!"
   ]
  },
  {
   "cell_type": "markdown",
   "metadata": {},
   "source": [
    "## 실습"
   ]
  },
  {
   "cell_type": "code",
   "execution_count": 22,
   "metadata": {},
   "outputs": [
    {
     "data": {
      "text/plain": [
       "46"
      ]
     },
     "execution_count": 22,
     "metadata": {},
     "output_type": "execute_result"
    }
   ],
   "source": [
    "12 + 34"
   ]
  },
  {
   "cell_type": "code",
   "execution_count": 23,
   "metadata": {},
   "outputs": [
    {
     "data": {
      "text/plain": [
       "'abcdef'"
      ]
     },
     "execution_count": 23,
     "metadata": {},
     "output_type": "execute_result"
    }
   ],
   "source": [
    "'abc' + 'def'"
   ]
  },
  {
   "cell_type": "code",
   "execution_count": 24,
   "metadata": {},
   "outputs": [
    {
     "data": {
      "text/plain": [
       "36"
      ]
     },
     "execution_count": 24,
     "metadata": {},
     "output_type": "execute_result"
    }
   ],
   "source": [
    "12 * 3"
   ]
  },
  {
   "cell_type": "code",
   "execution_count": 25,
   "metadata": {},
   "outputs": [
    {
     "data": {
      "text/plain": [
       "'abcabcabc'"
      ]
     },
     "execution_count": 25,
     "metadata": {},
     "output_type": "execute_result"
    }
   ],
   "source": [
    "'abc' * 3"
   ]
  },
  {
   "cell_type": "code",
   "execution_count": 26,
   "metadata": {},
   "outputs": [
    {
     "data": {
      "text/plain": [
       "'**********'"
      ]
     },
     "execution_count": 26,
     "metadata": {},
     "output_type": "execute_result"
    }
   ],
   "source": [
    "'*' * 10"
   ]
  },
  {
   "cell_type": "code",
   "execution_count": 27,
   "metadata": {},
   "outputs": [
    {
     "data": {
      "text/plain": [
       "'*****'"
      ]
     },
     "execution_count": 27,
     "metadata": {},
     "output_type": "execute_result"
    }
   ],
   "source": [
    "'*' * 5"
   ]
  },
  {
   "cell_type": "code",
   "execution_count": 40,
   "metadata": {},
   "outputs": [
    {
     "name": "stdout",
     "output_type": "stream",
     "text": [
      "         *\n",
      "        **\n",
      "       ***\n",
      "      ****\n",
      "     *****\n",
      "    ******\n",
      "   *******\n",
      "  ********\n",
      " *********\n",
      "**********\n"
     ]
    }
   ],
   "source": [
    "number = 10\n",
    "\n",
    "for i in range(1, number+1):\n",
    "    print(' ' * (number-i), end='')\n",
    "    print('*' * i)"
   ]
  },
  {
   "cell_type": "code",
   "execution_count": 38,
   "metadata": {},
   "outputs": [
    {
     "name": "stdout",
     "output_type": "stream",
     "text": [
      "hello\n",
      "world\n"
     ]
    }
   ],
   "source": [
    "print(\"hello\")\n",
    "print(\"world\")"
   ]
  },
  {
   "cell_type": "code",
   "execution_count": 39,
   "metadata": {},
   "outputs": [
    {
     "name": "stdout",
     "output_type": "stream",
     "text": [
      "helloworld\n"
     ]
    }
   ],
   "source": [
    "print(\"hello\", end='')\n",
    "print(\"world\")"
   ]
  },
  {
   "cell_type": "code",
   "execution_count": 41,
   "metadata": {
    "collapsed": true
   },
   "outputs": [],
   "source": [
    "def print_star_rectangle(number, print_ch, space_ch):\n",
    "    for i in range(1, number+1):\n",
    "        print(space_ch * (number-i), end='')\n",
    "        print(print_ch * i)"
   ]
  },
  {
   "cell_type": "code",
   "execution_count": 47,
   "metadata": {},
   "outputs": [
    {
     "name": "stdout",
     "output_type": "stream",
     "text": [
      "-------------------A\n",
      "------------------AA\n",
      "-----------------AAA\n",
      "----------------AAAA\n",
      "---------------AAAAA\n",
      "--------------AAAAAA\n",
      "-------------AAAAAAA\n",
      "------------AAAAAAAA\n",
      "-----------AAAAAAAAA\n",
      "----------AAAAAAAAAA\n",
      "---------AAAAAAAAAAA\n",
      "--------AAAAAAAAAAAA\n",
      "-------AAAAAAAAAAAAA\n",
      "------AAAAAAAAAAAAAA\n",
      "-----AAAAAAAAAAAAAAA\n",
      "----AAAAAAAAAAAAAAAA\n",
      "---AAAAAAAAAAAAAAAAA\n",
      "--AAAAAAAAAAAAAAAAAA\n",
      "-AAAAAAAAAAAAAAAAAAA\n",
      "AAAAAAAAAAAAAAAAAAAA\n"
     ]
    }
   ],
   "source": [
    "print_star_rectangle(20, 'A', '-')"
   ]
  },
  {
   "cell_type": "markdown",
   "metadata": {},
   "source": [
    "## 위치에 기반한 인자, 이름에 기반한 인자"
   ]
  },
  {
   "cell_type": "code",
   "execution_count": 48,
   "metadata": {
    "collapsed": true
   },
   "outputs": [],
   "source": [
    "def mysum(x, y, z):\n",
    "    return x + y + z"
   ]
  },
  {
   "cell_type": "code",
   "execution_count": 51,
   "metadata": {},
   "outputs": [
    {
     "data": {
      "text/plain": [
       "6"
      ]
     },
     "execution_count": 51,
     "metadata": {},
     "output_type": "execute_result"
    }
   ],
   "source": [
    "mysum(1, 2, 3)  # 위치에 기반한 인자"
   ]
  },
  {
   "cell_type": "code",
   "execution_count": 52,
   "metadata": {},
   "outputs": [
    {
     "data": {
      "text/plain": [
       "6"
      ]
     },
     "execution_count": 52,
     "metadata": {},
     "output_type": "execute_result"
    }
   ],
   "source": [
    "mysum(x=1, y=2, z=3)  # 이름에 기반한 인자"
   ]
  },
  {
   "cell_type": "code",
   "execution_count": 53,
   "metadata": {},
   "outputs": [
    {
     "data": {
      "text/plain": [
       "6"
      ]
     },
     "execution_count": 53,
     "metadata": {},
     "output_type": "execute_result"
    }
   ],
   "source": [
    "mysum(z=3, y=2, x=1)"
   ]
  },
  {
   "cell_type": "code",
   "execution_count": 54,
   "metadata": {},
   "outputs": [
    {
     "data": {
      "text/plain": [
       "6"
      ]
     },
     "execution_count": 54,
     "metadata": {},
     "output_type": "execute_result"
    }
   ],
   "source": [
    "mysum(1, 2, z=3)"
   ]
  },
  {
   "cell_type": "code",
   "execution_count": 56,
   "metadata": {},
   "outputs": [
    {
     "ename": "SyntaxError",
     "evalue": "positional argument follows keyword argument (<ipython-input-56-e30518c31dc8>, line 1)",
     "output_type": "error",
     "traceback": [
      "\u001b[0;36m  File \u001b[0;32m\"<ipython-input-56-e30518c31dc8>\"\u001b[0;36m, line \u001b[0;32m1\u001b[0m\n\u001b[0;31m    mysum(z=3, 1, 2)  # 위치인자는 키워드인자보다 무조건 선행되어야 합니다.\u001b[0m\n\u001b[0m              ^\u001b[0m\n\u001b[0;31mSyntaxError\u001b[0m\u001b[0;31m:\u001b[0m positional argument follows keyword argument\n"
     ]
    }
   ],
   "source": [
    "mysum(z=3, 1, 2)  # 위치인자는 키워드인자보다 무조건 선행되어야 합니다."
   ]
  },
  {
   "cell_type": "code",
   "execution_count": 57,
   "metadata": {},
   "outputs": [
    {
     "ename": "TypeError",
     "evalue": "mysum() got an unexpected keyword argument 'a'",
     "output_type": "error",
     "traceback": [
      "\u001b[0;31m---------------------------------------------------------------------------\u001b[0m",
      "\u001b[0;31mTypeError\u001b[0m                                 Traceback (most recent call last)",
      "\u001b[0;32m<ipython-input-57-6c327628dd93>\u001b[0m in \u001b[0;36m<module>\u001b[0;34m()\u001b[0m\n\u001b[0;32m----> 1\u001b[0;31m \u001b[0mmysum\u001b[0m\u001b[0;34m(\u001b[0m\u001b[0;36m1\u001b[0m\u001b[0;34m,\u001b[0m \u001b[0;36m2\u001b[0m\u001b[0;34m,\u001b[0m \u001b[0;36m3\u001b[0m\u001b[0;34m,\u001b[0m \u001b[0ma\u001b[0m\u001b[0;34m=\u001b[0m\u001b[0;36m10\u001b[0m\u001b[0;34m)\u001b[0m\u001b[0;34m\u001b[0m\u001b[0m\n\u001b[0m",
      "\u001b[0;31mTypeError\u001b[0m: mysum() got an unexpected keyword argument 'a'"
     ]
    }
   ],
   "source": [
    "mysum(1, 2, 3, a=10)"
   ]
  },
  {
   "cell_type": "markdown",
   "metadata": {},
   "source": [
    "## 디폴트 인자"
   ]
  },
  {
   "cell_type": "code",
   "execution_count": 60,
   "metadata": {
    "collapsed": true
   },
   "outputs": [],
   "source": [
    "def say_hello(name, age=10):\n",
    "    print(\"안녕. 나는 {}야. {}살이지.\".format(name, age))"
   ]
  },
  {
   "cell_type": "code",
   "execution_count": 61,
   "metadata": {},
   "outputs": [
    {
     "name": "stdout",
     "output_type": "stream",
     "text": [
      "안녕. 나는 공유야. 37살이지.\n"
     ]
    }
   ],
   "source": [
    "say_hello(\"공유\", 37)"
   ]
  },
  {
   "cell_type": "code",
   "execution_count": 62,
   "metadata": {},
   "outputs": [
    {
     "name": "stdout",
     "output_type": "stream",
     "text": [
      "안녕. 나는 공유야. 10살이지.\n"
     ]
    }
   ],
   "source": [
    "say_hello(\"공유\")"
   ]
  },
  {
   "cell_type": "markdown",
   "metadata": {},
   "source": [
    "## 이메일 보내기"
   ]
  },
  {
   "cell_type": "code",
   "execution_count": 6,
   "metadata": {},
   "outputs": [
    {
     "name": "stdout",
     "output_type": "stream",
     "text": [
      "Enter Naver username : allieuslee\n"
     ]
    }
   ],
   "source": [
    "username = input(\"Enter Naver username : \")"
   ]
  },
  {
   "cell_type": "code",
   "execution_count": 7,
   "metadata": {},
   "outputs": [
    {
     "name": "stdout",
     "output_type": "stream",
     "text": [
      "Enter Naver password : ········\n"
     ]
    }
   ],
   "source": [
    "from getpass import getpass\n",
    "password = getpass(\"Enter Naver password : \")"
   ]
  },
  {
   "cell_type": "code",
   "execution_count": 3,
   "metadata": {},
   "outputs": [
    {
     "ename": "AssertionError",
     "evalue": "네이버 암호를 입력해주세요.",
     "output_type": "error",
     "traceback": [
      "\u001b[0;31m---------------------------------------------------------------------------\u001b[0m",
      "\u001b[0;31mAssertionError\u001b[0m                            Traceback (most recent call last)",
      "\u001b[0;32m<ipython-input-3-a67a8790c1f8>\u001b[0m in \u001b[0;36m<module>\u001b[0;34m()\u001b[0m\n\u001b[1;32m      6\u001b[0m \u001b[0;34m\u001b[0m\u001b[0m\n\u001b[1;32m      7\u001b[0m \u001b[0;32massert\u001b[0m \u001b[0;32mnot\u001b[0m \u001b[0mnaver_account_name\u001b[0m\u001b[0;34m,\u001b[0m \u001b[0;34m'네이버 계정명을 입력해주세요.'\u001b[0m\u001b[0;34m\u001b[0m\u001b[0m\n\u001b[0;32m----> 8\u001b[0;31m \u001b[0;32massert\u001b[0m \u001b[0;32mnot\u001b[0m \u001b[0mnaver_account_password\u001b[0m\u001b[0;34m,\u001b[0m \u001b[0;34m'네이버 암호를 입력해주세요.'\u001b[0m\u001b[0;34m\u001b[0m\u001b[0m\n\u001b[0m\u001b[1;32m      9\u001b[0m \u001b[0;34m\u001b[0m\u001b[0m\n\u001b[1;32m     10\u001b[0m \u001b[0mmessage\u001b[0m \u001b[0;34m=\u001b[0m \u001b[0mEmailMessage\u001b[0m\u001b[0;34m(\u001b[0m\u001b[0;34m)\u001b[0m\u001b[0;34m\u001b[0m\u001b[0m\n",
      "\u001b[0;31mAssertionError\u001b[0m: 네이버 암호를 입력해주세요."
     ]
    }
   ],
   "source": [
    "import smtplib\n",
    "from email.message import EmailMessage\n",
    "\n",
    "naver_account_name = username\n",
    "naver_account_password = password\n",
    "receivers = 'me@nomade.kr, allieuslee@naver.com'  # 수신자 이메일 다수 (구분자 : 콤마)\n",
    "\n",
    "assert not naver_account_name, '네이버 계정명을 입력해주세요.'\n",
    "assert not naver_account_password, '네이버 암호를 입력해주세요.'\n",
    "\n",
    "message = EmailMessage()\n",
    "message['Subject'] = '국민대학교 파이썬 강의 테스트'\n",
    "message['From'] = '{}@naver.com'.format(naver_account_name)\n",
    "message['To'] = receivers\n",
    "\n",
    "message.set_content('''이메일 내용\n",
    "안녕하세요. AskDjango입니다.\n",
    "\n",
    "이 부분에는 이메일의 내용을 쓰실 수 있으며, HTML은 불가합니다. HTML을 쓰시면 태그가 그대로 노출됩니다.\n",
    "여러분의 파이썬/장고 페이스메이커가 되겠습니다.\n",
    "\n",
    "감사합니다. ;)''')\n",
    "\n",
    "with smtplib.SMTP_SSL('smtp.naver.com', 465) as server:\n",
    "    server.ehlo()\n",
    "    server.login(naver_account_name, naver_account_password)\n",
    "    server.send_message(message)"
   ]
  },
  {
   "cell_type": "code",
   "execution_count": 11,
   "metadata": {},
   "outputs": [],
   "source": [
    "import smtplib\n",
    "from email.message import EmailMessage\n",
    "\n",
    "naver_account_name = username\n",
    "naver_account_password = password\n",
    "receivers = 'me@nomade.kr, allieuslee@naver.com'  # 수신자 이메일 다수 (구분자 : 콤마)\n",
    "\n",
    "message = EmailMessage()\n",
    "message['Subject'] = '네이버 웹툰 업데이트 현황'\n",
    "message['From'] = '{}@naver.com'.format(naver_account_name)\n",
    "message['To'] = receivers\n",
    "\n",
    "# Plain Text\n",
    "message.set_content('''\n",
    "    안녕하세요. 반갑습니다. 오늘의 네이버 웹툰 업데이트 현황을 알려드립니다.\n",
    "\n",
    "    마음의 소리 : http://comic.naver.com/webtoon/list.nhn?titleId=20853&weekday=tue\n",
    "    고수 : http://comic.naver.com/webtoon/list.nhn?titleId=662774&weekday=wed\n",
    "    \n",
    "    내일 다시 메일 드리겠습니다.\n",
    "''')\n",
    "\n",
    "# HTML 메세지 추가\n",
    "message.add_alternative('''\n",
    "    <h1>Ask Django</h1>\n",
    "    \n",
    "    <p>안녕하세요. 반갑습니다. 오늘의 네이버 웹툰 업데이트 현황을 알려드립니다.</p>\n",
    "    \n",
    "    <ul>\n",
    "        <li><a href=\"http://comic.naver.com/webtoon/list.nhn?titleId=20853&weekday=tue\">마음의 소리</a></li>\n",
    "        <li><a href=\"http://comic.naver.com/webtoon/list.nhn?titleId=662774&weekday=wed\">고수</a></li>\n",
    "    </ul>\n",
    "    \n",
    "    <p>내일 다시 메일 드리겠습니다.</p>\n",
    "''', subtype='html')\n",
    "\n",
    "with smtplib.SMTP_SSL('smtp.naver.com', 465) as server:\n",
    "    server.ehlo()\n",
    "    server.login(naver_account_name, naver_account_password)\n",
    "    server.send_message(message)"
   ]
  },
  {
   "cell_type": "code",
   "execution_count": null,
   "metadata": {
    "collapsed": true
   },
   "outputs": [],
   "source": []
  }
 ],
 "metadata": {
  "kernelspec": {
   "display_name": "Python 3",
   "language": "python",
   "name": "python3"
  },
  "language_info": {
   "codemirror_mode": {
    "name": "ipython",
    "version": 3
   },
   "file_extension": ".py",
   "mimetype": "text/x-python",
   "name": "python",
   "nbconvert_exporter": "python",
   "pygments_lexer": "ipython3",
   "version": "3.6.1"
  }
 },
 "nbformat": 4,
 "nbformat_minor": 2
}
