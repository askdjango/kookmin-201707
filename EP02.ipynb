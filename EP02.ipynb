{
 "cells": [
  {
   "cell_type": "markdown",
   "metadata": {},
   "source": [
    "## 반복문"
   ]
  },
  {
   "cell_type": "markdown",
   "metadata": {},
   "source": [
    "```c\n",
    "# C언어에서의 루프\n",
    "for(int i=0; i<10; i++) {\n",
    "    print(\"%d\\n\", i);\n",
    "}\n",
    "\n",
    "```"
   ]
  },
  {
   "cell_type": "code",
   "execution_count": 1,
   "metadata": {},
   "outputs": [
    {
     "name": "stdout",
     "output_type": "stream",
     "text": [
      "0\n",
      "1\n",
      "2\n",
      "3\n",
      "4\n",
      "5\n",
      "6\n",
      "7\n",
      "8\n",
      "9\n"
     ]
    }
   ],
   "source": [
    "for i in range(10):\n",
    "    print(i)"
   ]
  },
  {
   "cell_type": "code",
   "execution_count": 2,
   "metadata": {},
   "outputs": [
    {
     "name": "stdout",
     "output_type": "stream",
     "text": [
      "h\n",
      "e\n",
      "l\n",
      "l\n",
      "o\n",
      " \n",
      "w\n",
      "o\n",
      "r\n",
      "l\n",
      "d\n"
     ]
    }
   ],
   "source": [
    "for ch in \"hello world\":\n",
    "    print(ch)"
   ]
  },
  {
   "cell_type": "code",
   "execution_count": 3,
   "metadata": {},
   "outputs": [
    {
     "name": "stdout",
     "output_type": "stream",
     "text": [
      "h\n",
      "e\n",
      "l\n",
      "l\n",
      "o\n"
     ]
    }
   ],
   "source": [
    "for ch in [\"h\", \"e\", \"l\", \"l\", \"o\"]:\n",
    "    print(ch)"
   ]
  },
  {
   "cell_type": "code",
   "execution_count": 4,
   "metadata": {},
   "outputs": [
    {
     "name": "stdout",
     "output_type": "stream",
     "text": [
      "o\n",
      "e\n",
      "l\n",
      "h\n"
     ]
    }
   ],
   "source": [
    "for ch in {\"h\", \"e\", \"l\", \"l\", \"o\"}:  # 집합\n",
    "    print(ch)"
   ]
  },
  {
   "cell_type": "code",
   "execution_count": 4,
   "metadata": {},
   "outputs": [
    {
     "name": "stdout",
     "output_type": "stream",
     "text": [
      "### 2 단 ###\n",
      "2 * 1 = 2\n",
      "2 * 2 = 4\n",
      "2 * 3 = 6\n",
      "2 * 4 = 8\n",
      "2 * 5 = 10\n",
      "2 * 6 = 12\n"
     ]
    }
   ],
   "source": [
    "number = 2\n",
    "\n",
    "print('### {} 단 ###'.format(number))\n",
    "for i in range(1, 10):  # 1이상 10미만의 수 범위, 1씩 증가\n",
    "    print('{} * {} = {}'.format(number, i, number*i))\n",
    "    if i > 5:\n",
    "        break"
   ]
  },
  {
   "cell_type": "code",
   "execution_count": 7,
   "metadata": {},
   "outputs": [
    {
     "name": "stdout",
     "output_type": "stream",
     "text": [
      "### 2 단 ###\n",
      "2 * 1 = 2\n",
      "\n",
      "### 3 단 ###\n",
      "3 * 1 = 3\n",
      "\n",
      "### 4 단 ###\n",
      "4 * 1 = 4\n",
      "\n",
      "### 5 단 ###\n",
      "5 * 1 = 5\n",
      "\n",
      "### 6 단 ###\n",
      "6 * 1 = 6\n",
      "\n",
      "### 7 단 ###\n",
      "7 * 1 = 7\n",
      "\n",
      "### 8 단 ###\n",
      "8 * 1 = 8\n",
      "\n",
      "### 9 단 ###\n",
      "9 * 1 = 9\n",
      "\n"
     ]
    }
   ],
   "source": [
    "# 중첩 반복문\n",
    "\n",
    "for number in range(2, 10):\n",
    "    print('### {} 단 ###'.format(number))\n",
    "    for i in range(1, 10):  # 1이상 10미만의 수 범위, 1씩 증가\n",
    "        print('{} * {} = {}'.format(number, i, number*i))\n",
    "        break\n",
    "    print()"
   ]
  },
  {
   "cell_type": "code",
   "execution_count": null,
   "metadata": {
    "collapsed": true
   },
   "outputs": [],
   "source": []
  }
 ],
 "metadata": {
  "kernelspec": {
   "display_name": "Python 3",
   "language": "python",
   "name": "python3"
  },
  "language_info": {
   "codemirror_mode": {
    "name": "ipython",
    "version": 3
   },
   "file_extension": ".py",
   "mimetype": "text/x-python",
   "name": "python",
   "nbconvert_exporter": "python",
   "pygments_lexer": "ipython3",
   "version": "3.6.1"
  }
 },
 "nbformat": 4,
 "nbformat_minor": 2
}
